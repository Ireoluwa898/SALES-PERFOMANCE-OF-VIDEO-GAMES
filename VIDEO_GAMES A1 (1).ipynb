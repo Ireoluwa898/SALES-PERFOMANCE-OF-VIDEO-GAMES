{
 "cells": [
  {
   "cell_type": "code",
   "execution_count": null,
   "id": "70d80622",
   "metadata": {
    "id": "70d80622"
   },
   "outputs": [],
   "source": [
    "import pandas as pd\n",
    "import statistics\n",
    "import numpy as np\n",
    "import matplotlib.pyplot as plt\n",
    "import seaborn as sns\n",
    "from sklearn.model_selection import train_test_split # sci-kit learn library to split tr\n",
    "from sklearn.preprocessing import StandardScaler # to rescale the numerical data (Anothe\n",
    "\n",
    "from sklearn.ensemble import RandomForestRegressor\n",
    "from sklearn.neighbors import KNeighborsRegressor\n",
    "from sklearn.ensemble import GradientBoostingRegressor\n",
    "from sklearn.linear_model import Lasso\n",
    "from sklearn.svm import SVR\n",
    "from sklearn.preprocessing import StandardScaler\n",
    "from sklearn.model_selection import train_test_split\n",
    "from sklearn.metrics import r2_score, mean_squared_error, mean_absolute_error\n"
   ]
  },
  {
   "cell_type": "code",
   "execution_count": null,
   "id": "YoslFySTf5px",
   "metadata": {
    "colab": {
     "base_uri": "https://localhost:8080/"
    },
    "executionInfo": {
     "elapsed": 203,
     "status": "ok",
     "timestamp": 1684266294424,
     "user": {
      "displayName": "Timilehin Osinuga",
      "userId": "02674228651306861961"
     },
     "user_tz": -60
    },
    "id": "YoslFySTf5px",
    "outputId": "e23ad40b-8477-48a9-fa6c-f254774c63bb"
   },
   "outputs": [
    {
     "name": "stdout",
     "output_type": "stream",
     "text": [
      "                       Name Platform  Year_of_Release         Genre Publisher  \\\n",
      "0                Wii Sports      Wii           2006.0        Sports  Nintendo   \n",
      "1         Super Mario Bros.      NES           1985.0      Platform  Nintendo   \n",
      "2            Mario Kart Wii      Wii           2008.0        Racing  Nintendo   \n",
      "3         Wii Sports Resort      Wii           2009.0        Sports  Nintendo   \n",
      "4  Pokemon Red/Pokemon Blue       GB           1996.0  Role-Playing  Nintendo   \n",
      "\n",
      "   NA_Sales  EU_Sales  JP_Sales  Other_Sales  Global_Sales  Critic_Score  \\\n",
      "0     41.36     28.96      3.77         8.45         82.53          76.0   \n",
      "1     29.08      3.58      6.81         0.77         40.24           NaN   \n",
      "2     15.68     12.76      3.79         3.29         35.52          82.0   \n",
      "3     15.61     10.93      3.28         2.95         32.77          80.0   \n",
      "4     11.27      8.89     10.22         1.00         31.37           NaN   \n",
      "\n",
      "   Critic_Count User_Score  User_Count Developer Rating  \n",
      "0          51.0          8       322.0  Nintendo      E  \n",
      "1           NaN        NaN         NaN       NaN    NaN  \n",
      "2          73.0        8.3       709.0  Nintendo      E  \n",
      "3          73.0          8       192.0  Nintendo      E  \n",
      "4           NaN        NaN         NaN       NaN    NaN  \n"
     ]
    }
   ],
   "source": [
    "data = pd.read_csv(\"Video_Games.csv\")\n",
    "print(data.head())"
   ]
  },
  {
   "cell_type": "code",
   "execution_count": null,
   "id": "2513cd52",
   "metadata": {
    "colab": {
     "base_uri": "https://localhost:8080/"
    },
    "executionInfo": {
     "elapsed": 226,
     "status": "ok",
     "timestamp": 1684266298801,
     "user": {
      "displayName": "Timilehin Osinuga",
      "userId": "02674228651306861961"
     },
     "user_tz": -60
    },
    "id": "2513cd52",
    "outputId": "1a5bac1b-df8c-4561-c9f1-2859793513db"
   },
   "outputs": [
    {
     "data": {
      "text/plain": [
       "<bound method NDFrame.describe of                                 Name Platform  Year_of_Release         Genre  \\\n",
       "0                         Wii Sports      Wii           2006.0        Sports   \n",
       "1                  Super Mario Bros.      NES           1985.0      Platform   \n",
       "2                     Mario Kart Wii      Wii           2008.0        Racing   \n",
       "3                  Wii Sports Resort      Wii           2009.0        Sports   \n",
       "4           Pokemon Red/Pokemon Blue       GB           1996.0  Role-Playing   \n",
       "...                              ...      ...              ...           ...   \n",
       "16714  Samurai Warriors: Sanada Maru      PS3           2016.0        Action   \n",
       "16715               LMA Manager 2007     X360           2006.0        Sports   \n",
       "16716        Haitaka no Psychedelica      PSV           2016.0     Adventure   \n",
       "16717               Spirits & Spells      GBA           2003.0      Platform   \n",
       "16718            Winning Post 8 2016      PSV           2016.0    Simulation   \n",
       "\n",
       "          Publisher  NA_Sales  EU_Sales  JP_Sales  Other_Sales  Global_Sales  \\\n",
       "0          Nintendo     41.36     28.96      3.77         8.45         82.53   \n",
       "1          Nintendo     29.08      3.58      6.81         0.77         40.24   \n",
       "2          Nintendo     15.68     12.76      3.79         3.29         35.52   \n",
       "3          Nintendo     15.61     10.93      3.28         2.95         32.77   \n",
       "4          Nintendo     11.27      8.89     10.22         1.00         31.37   \n",
       "...             ...       ...       ...       ...          ...           ...   \n",
       "16714    Tecmo Koei      0.00      0.00      0.01         0.00          0.01   \n",
       "16715   Codemasters      0.00      0.01      0.00         0.00          0.01   \n",
       "16716  Idea Factory      0.00      0.00      0.01         0.00          0.01   \n",
       "16717       Wanadoo      0.01      0.00      0.00         0.00          0.01   \n",
       "16718    Tecmo Koei      0.00      0.00      0.01         0.00          0.01   \n",
       "\n",
       "       Critic_Score  Critic_Count User_Score  User_Count Developer Rating  \n",
       "0              76.0          51.0          8       322.0  Nintendo      E  \n",
       "1               NaN           NaN        NaN         NaN       NaN    NaN  \n",
       "2              82.0          73.0        8.3       709.0  Nintendo      E  \n",
       "3              80.0          73.0          8       192.0  Nintendo      E  \n",
       "4               NaN           NaN        NaN         NaN       NaN    NaN  \n",
       "...             ...           ...        ...         ...       ...    ...  \n",
       "16714           NaN           NaN        NaN         NaN       NaN    NaN  \n",
       "16715           NaN           NaN        NaN         NaN       NaN    NaN  \n",
       "16716           NaN           NaN        NaN         NaN       NaN    NaN  \n",
       "16717           NaN           NaN        NaN         NaN       NaN    NaN  \n",
       "16718           NaN           NaN        NaN         NaN       NaN    NaN  \n",
       "\n",
       "[16719 rows x 16 columns]>"
      ]
     },
     "execution_count": 6,
     "metadata": {},
     "output_type": "execute_result"
    }
   ],
   "source": [
    "data.describe"
   ]
  },
  {
   "cell_type": "code",
   "execution_count": null,
   "id": "0510c488",
   "metadata": {
    "colab": {
     "base_uri": "https://localhost:8080/"
    },
    "executionInfo": {
     "elapsed": 201,
     "status": "ok",
     "timestamp": 1684266304176,
     "user": {
      "displayName": "Timilehin Osinuga",
      "userId": "02674228651306861961"
     },
     "user_tz": -60
    },
    "id": "0510c488",
    "outputId": "6f546eb4-ba71-492e-ad30-03fe20023085"
   },
   "outputs": [
    {
     "name": "stdout",
     "output_type": "stream",
     "text": [
      "<class 'pandas.core.frame.DataFrame'>\n",
      "RangeIndex: 16719 entries, 0 to 16718\n",
      "Data columns (total 16 columns):\n",
      " #   Column           Non-Null Count  Dtype  \n",
      "---  ------           --------------  -----  \n",
      " 0   Name             16717 non-null  object \n",
      " 1   Platform         16719 non-null  object \n",
      " 2   Year_of_Release  16450 non-null  float64\n",
      " 3   Genre            16717 non-null  object \n",
      " 4   Publisher        16665 non-null  object \n",
      " 5   NA_Sales         16719 non-null  float64\n",
      " 6   EU_Sales         16719 non-null  float64\n",
      " 7   JP_Sales         16719 non-null  float64\n",
      " 8   Other_Sales      16719 non-null  float64\n",
      " 9   Global_Sales     16719 non-null  float64\n",
      " 10  Critic_Score     8137 non-null   float64\n",
      " 11  Critic_Count     8137 non-null   float64\n",
      " 12  User_Score       10015 non-null  object \n",
      " 13  User_Count       7590 non-null   float64\n",
      " 14  Developer        10096 non-null  object \n",
      " 15  Rating           9950 non-null   object \n",
      "dtypes: float64(9), object(7)\n",
      "memory usage: 2.0+ MB\n"
     ]
    }
   ],
   "source": [
    "data.info()"
   ]
  },
  {
   "cell_type": "code",
   "execution_count": null,
   "id": "9787c2bf",
   "metadata": {
    "colab": {
     "base_uri": "https://localhost:8080/"
    },
    "executionInfo": {
     "elapsed": 203,
     "status": "ok",
     "timestamp": 1684266308771,
     "user": {
      "displayName": "Timilehin Osinuga",
      "userId": "02674228651306861961"
     },
     "user_tz": -60
    },
    "id": "9787c2bf",
    "outputId": "cd35c7af-4789-4c08-a7b0-a94228948a0e"
   },
   "outputs": [
    {
     "name": "stdout",
     "output_type": "stream",
     "text": [
      "Name                  2\n",
      "Platform              0\n",
      "Year_of_Release     269\n",
      "Genre                 2\n",
      "Publisher            54\n",
      "NA_Sales              0\n",
      "EU_Sales              0\n",
      "JP_Sales              0\n",
      "Other_Sales           0\n",
      "Global_Sales          0\n",
      "Critic_Score       8582\n",
      "Critic_Count       8582\n",
      "User_Score         6704\n",
      "User_Count         9129\n",
      "Developer          6623\n",
      "Rating             6769\n",
      "dtype: int64\n"
     ]
    }
   ],
   "source": [
    "print(data.isnull().sum())"
   ]
  },
  {
   "cell_type": "code",
   "execution_count": null,
   "id": "349c4f6c",
   "metadata": {
    "colab": {
     "base_uri": "https://localhost:8080/"
    },
    "executionInfo": {
     "elapsed": 282,
     "status": "ok",
     "timestamp": 1684266313193,
     "user": {
      "displayName": "Timilehin Osinuga",
      "userId": "02674228651306861961"
     },
     "user_tz": -60
    },
    "id": "349c4f6c",
    "outputId": "bea3b08a-9546-4abe-bc43-fb3d60185177"
   },
   "outputs": [
    {
     "data": {
      "text/plain": [
       "(16719, 16)"
      ]
     },
     "execution_count": 9,
     "metadata": {},
     "output_type": "execute_result"
    }
   ],
   "source": [
    "data.shape"
   ]
  },
  {
   "cell_type": "code",
   "execution_count": null,
   "id": "43f995f4",
   "metadata": {
    "colab": {
     "base_uri": "https://localhost:8080/",
     "height": 112
    },
    "executionInfo": {
     "elapsed": 231,
     "status": "ok",
     "timestamp": 1684266315466,
     "user": {
      "displayName": "Timilehin Osinuga",
      "userId": "02674228651306861961"
     },
     "user_tz": -60
    },
    "id": "43f995f4",
    "outputId": "848624d3-0c3c-4e59-ca59-55780bc965b7"
   },
   "outputs": [
    {
     "data": {
      "text/html": [
       "\n",
       "  <div id=\"df-c2476dc0-a7fb-4a87-9c12-44bafc3b8b6b\">\n",
       "    <div class=\"colab-df-container\">\n",
       "      <div>\n",
       "<style scoped>\n",
       "    .dataframe tbody tr th:only-of-type {\n",
       "        vertical-align: middle;\n",
       "    }\n",
       "\n",
       "    .dataframe tbody tr th {\n",
       "        vertical-align: top;\n",
       "    }\n",
       "\n",
       "    .dataframe thead th {\n",
       "        text-align: right;\n",
       "    }\n",
       "</style>\n",
       "<table border=\"1\" class=\"dataframe\">\n",
       "  <thead>\n",
       "    <tr style=\"text-align: right;\">\n",
       "      <th></th>\n",
       "      <th>Name</th>\n",
       "      <th>Platform</th>\n",
       "      <th>Year_of_Release</th>\n",
       "      <th>Genre</th>\n",
       "      <th>Publisher</th>\n",
       "      <th>NA_Sales</th>\n",
       "      <th>EU_Sales</th>\n",
       "      <th>JP_Sales</th>\n",
       "      <th>Other_Sales</th>\n",
       "      <th>Global_Sales</th>\n",
       "      <th>Critic_Score</th>\n",
       "      <th>Critic_Count</th>\n",
       "      <th>User_Score</th>\n",
       "      <th>User_Count</th>\n",
       "      <th>Developer</th>\n",
       "      <th>Rating</th>\n",
       "    </tr>\n",
       "  </thead>\n",
       "  <tbody>\n",
       "    <tr>\n",
       "      <th>659</th>\n",
       "      <td>NaN</td>\n",
       "      <td>GEN</td>\n",
       "      <td>1993.0</td>\n",
       "      <td>NaN</td>\n",
       "      <td>Acclaim Entertainment</td>\n",
       "      <td>1.78</td>\n",
       "      <td>0.53</td>\n",
       "      <td>0.00</td>\n",
       "      <td>0.08</td>\n",
       "      <td>2.39</td>\n",
       "      <td>NaN</td>\n",
       "      <td>NaN</td>\n",
       "      <td>NaN</td>\n",
       "      <td>NaN</td>\n",
       "      <td>NaN</td>\n",
       "      <td>NaN</td>\n",
       "    </tr>\n",
       "    <tr>\n",
       "      <th>14246</th>\n",
       "      <td>NaN</td>\n",
       "      <td>GEN</td>\n",
       "      <td>1993.0</td>\n",
       "      <td>NaN</td>\n",
       "      <td>Acclaim Entertainment</td>\n",
       "      <td>0.00</td>\n",
       "      <td>0.00</td>\n",
       "      <td>0.03</td>\n",
       "      <td>0.00</td>\n",
       "      <td>0.03</td>\n",
       "      <td>NaN</td>\n",
       "      <td>NaN</td>\n",
       "      <td>NaN</td>\n",
       "      <td>NaN</td>\n",
       "      <td>NaN</td>\n",
       "      <td>NaN</td>\n",
       "    </tr>\n",
       "  </tbody>\n",
       "</table>\n",
       "</div>\n",
       "      <button class=\"colab-df-convert\" onclick=\"convertToInteractive('df-c2476dc0-a7fb-4a87-9c12-44bafc3b8b6b')\"\n",
       "              title=\"Convert this dataframe to an interactive table.\"\n",
       "              style=\"display:none;\">\n",
       "        \n",
       "  <svg xmlns=\"http://www.w3.org/2000/svg\" height=\"24px\"viewBox=\"0 0 24 24\"\n",
       "       width=\"24px\">\n",
       "    <path d=\"M0 0h24v24H0V0z\" fill=\"none\"/>\n",
       "    <path d=\"M18.56 5.44l.94 2.06.94-2.06 2.06-.94-2.06-.94-.94-2.06-.94 2.06-2.06.94zm-11 1L8.5 8.5l.94-2.06 2.06-.94-2.06-.94L8.5 2.5l-.94 2.06-2.06.94zm10 10l.94 2.06.94-2.06 2.06-.94-2.06-.94-.94-2.06-.94 2.06-2.06.94z\"/><path d=\"M17.41 7.96l-1.37-1.37c-.4-.4-.92-.59-1.43-.59-.52 0-1.04.2-1.43.59L10.3 9.45l-7.72 7.72c-.78.78-.78 2.05 0 2.83L4 21.41c.39.39.9.59 1.41.59.51 0 1.02-.2 1.41-.59l7.78-7.78 2.81-2.81c.8-.78.8-2.07 0-2.86zM5.41 20L4 18.59l7.72-7.72 1.47 1.35L5.41 20z\"/>\n",
       "  </svg>\n",
       "      </button>\n",
       "      \n",
       "  <style>\n",
       "    .colab-df-container {\n",
       "      display:flex;\n",
       "      flex-wrap:wrap;\n",
       "      gap: 12px;\n",
       "    }\n",
       "\n",
       "    .colab-df-convert {\n",
       "      background-color: #E8F0FE;\n",
       "      border: none;\n",
       "      border-radius: 50%;\n",
       "      cursor: pointer;\n",
       "      display: none;\n",
       "      fill: #1967D2;\n",
       "      height: 32px;\n",
       "      padding: 0 0 0 0;\n",
       "      width: 32px;\n",
       "    }\n",
       "\n",
       "    .colab-df-convert:hover {\n",
       "      background-color: #E2EBFA;\n",
       "      box-shadow: 0px 1px 2px rgba(60, 64, 67, 0.3), 0px 1px 3px 1px rgba(60, 64, 67, 0.15);\n",
       "      fill: #174EA6;\n",
       "    }\n",
       "\n",
       "    [theme=dark] .colab-df-convert {\n",
       "      background-color: #3B4455;\n",
       "      fill: #D2E3FC;\n",
       "    }\n",
       "\n",
       "    [theme=dark] .colab-df-convert:hover {\n",
       "      background-color: #434B5C;\n",
       "      box-shadow: 0px 1px 3px 1px rgba(0, 0, 0, 0.15);\n",
       "      filter: drop-shadow(0px 1px 2px rgba(0, 0, 0, 0.3));\n",
       "      fill: #FFFFFF;\n",
       "    }\n",
       "  </style>\n",
       "\n",
       "      <script>\n",
       "        const buttonEl =\n",
       "          document.querySelector('#df-c2476dc0-a7fb-4a87-9c12-44bafc3b8b6b button.colab-df-convert');\n",
       "        buttonEl.style.display =\n",
       "          google.colab.kernel.accessAllowed ? 'block' : 'none';\n",
       "\n",
       "        async function convertToInteractive(key) {\n",
       "          const element = document.querySelector('#df-c2476dc0-a7fb-4a87-9c12-44bafc3b8b6b');\n",
       "          const dataTable =\n",
       "            await google.colab.kernel.invokeFunction('convertToInteractive',\n",
       "                                                     [key], {});\n",
       "          if (!dataTable) return;\n",
       "\n",
       "          const docLinkHtml = 'Like what you see? Visit the ' +\n",
       "            '<a target=\"_blank\" href=https://colab.research.google.com/notebooks/data_table.ipynb>data table notebook</a>'\n",
       "            + ' to learn more about interactive tables.';\n",
       "          element.innerHTML = '';\n",
       "          dataTable['output_type'] = 'display_data';\n",
       "          await google.colab.output.renderOutput(dataTable, element);\n",
       "          const docLink = document.createElement('div');\n",
       "          docLink.innerHTML = docLinkHtml;\n",
       "          element.appendChild(docLink);\n",
       "        }\n",
       "      </script>\n",
       "    </div>\n",
       "  </div>\n",
       "  "
      ],
      "text/plain": [
       "      Name Platform  Year_of_Release Genre              Publisher  NA_Sales  \\\n",
       "659    NaN      GEN           1993.0   NaN  Acclaim Entertainment      1.78   \n",
       "14246  NaN      GEN           1993.0   NaN  Acclaim Entertainment      0.00   \n",
       "\n",
       "       EU_Sales  JP_Sales  Other_Sales  Global_Sales  Critic_Score  \\\n",
       "659        0.53      0.00         0.08          2.39           NaN   \n",
       "14246      0.00      0.03         0.00          0.03           NaN   \n",
       "\n",
       "       Critic_Count User_Score  User_Count Developer Rating  \n",
       "659             NaN        NaN         NaN       NaN    NaN  \n",
       "14246           NaN        NaN         NaN       NaN    NaN  "
      ]
     },
     "execution_count": 10,
     "metadata": {},
     "output_type": "execute_result"
    }
   ],
   "source": [
    "#checking for the null values for the name column\n",
    "data.loc[data[\"Name\"].isna()]"
   ]
  },
  {
   "cell_type": "code",
   "execution_count": null,
   "id": "db2af601",
   "metadata": {
    "id": "db2af601"
   },
   "outputs": [],
   "source": [
    "#using mode to replace the null values\n",
    "Name_mode=mode_genre=data['Name'].mode()"
   ]
  },
  {
   "cell_type": "code",
   "execution_count": null,
   "id": "dc40b2b1",
   "metadata": {
    "colab": {
     "base_uri": "https://localhost:8080/"
    },
    "executionInfo": {
     "elapsed": 5,
     "status": "ok",
     "timestamp": 1684266321044,
     "user": {
      "displayName": "Timilehin Osinuga",
      "userId": "02674228651306861961"
     },
     "user_tz": -60
    },
    "id": "dc40b2b1",
    "outputId": "4dc22bf2-2566-4a38-ac43-3ce871d5471e"
   },
   "outputs": [
    {
     "data": {
      "text/plain": [
       "0    Need for Speed: Most Wanted\n",
       "Name: Name, dtype: object"
      ]
     },
     "execution_count": 12,
     "metadata": {},
     "output_type": "execute_result"
    }
   ],
   "source": [
    "Name_mode"
   ]
  },
  {
   "cell_type": "code",
   "execution_count": null,
   "id": "648377e4",
   "metadata": {
    "id": "648377e4"
   },
   "outputs": [],
   "source": [
    "#filing the 'NA' with 'mode'\n",
    "data[\"Name\"] = data[\"Name\"].fillna('Need for Speed: Most Wanted')"
   ]
  },
  {
   "cell_type": "code",
   "execution_count": null,
   "id": "b74c7b8b",
   "metadata": {
    "colab": {
     "base_uri": "https://localhost:8080/",
     "height": 537
    },
    "executionInfo": {
     "elapsed": 219,
     "status": "ok",
     "timestamp": 1684266325794,
     "user": {
      "displayName": "Timilehin Osinuga",
      "userId": "02674228651306861961"
     },
     "user_tz": -60
    },
    "id": "b74c7b8b",
    "outputId": "19923a09-6f03-4c59-cc7e-b309e234c3e5"
   },
   "outputs": [
    {
     "data": {
      "text/html": [
       "\n",
       "  <div id=\"df-1359ed02-f80a-4b28-975e-67107a847ff7\">\n",
       "    <div class=\"colab-df-container\">\n",
       "      <div>\n",
       "<style scoped>\n",
       "    .dataframe tbody tr th:only-of-type {\n",
       "        vertical-align: middle;\n",
       "    }\n",
       "\n",
       "    .dataframe tbody tr th {\n",
       "        vertical-align: top;\n",
       "    }\n",
       "\n",
       "    .dataframe thead th {\n",
       "        text-align: right;\n",
       "    }\n",
       "</style>\n",
       "<table border=\"1\" class=\"dataframe\">\n",
       "  <thead>\n",
       "    <tr style=\"text-align: right;\">\n",
       "      <th></th>\n",
       "      <th>Name</th>\n",
       "      <th>Platform</th>\n",
       "      <th>Year_of_Release</th>\n",
       "      <th>Genre</th>\n",
       "      <th>Publisher</th>\n",
       "      <th>NA_Sales</th>\n",
       "      <th>EU_Sales</th>\n",
       "      <th>JP_Sales</th>\n",
       "      <th>Other_Sales</th>\n",
       "      <th>Global_Sales</th>\n",
       "      <th>Critic_Score</th>\n",
       "      <th>Critic_Count</th>\n",
       "      <th>User_Score</th>\n",
       "      <th>User_Count</th>\n",
       "      <th>Developer</th>\n",
       "      <th>Rating</th>\n",
       "    </tr>\n",
       "  </thead>\n",
       "  <tbody>\n",
       "    <tr>\n",
       "      <th>183</th>\n",
       "      <td>Madden NFL 2004</td>\n",
       "      <td>PS2</td>\n",
       "      <td>NaN</td>\n",
       "      <td>Sports</td>\n",
       "      <td>Electronic Arts</td>\n",
       "      <td>4.26</td>\n",
       "      <td>0.26</td>\n",
       "      <td>0.01</td>\n",
       "      <td>0.71</td>\n",
       "      <td>5.23</td>\n",
       "      <td>94.0</td>\n",
       "      <td>29.0</td>\n",
       "      <td>8.5</td>\n",
       "      <td>140.0</td>\n",
       "      <td>EA Tiburon</td>\n",
       "      <td>E</td>\n",
       "    </tr>\n",
       "    <tr>\n",
       "      <th>377</th>\n",
       "      <td>FIFA Soccer 2004</td>\n",
       "      <td>PS2</td>\n",
       "      <td>NaN</td>\n",
       "      <td>Sports</td>\n",
       "      <td>Electronic Arts</td>\n",
       "      <td>0.59</td>\n",
       "      <td>2.36</td>\n",
       "      <td>0.04</td>\n",
       "      <td>0.51</td>\n",
       "      <td>3.49</td>\n",
       "      <td>84.0</td>\n",
       "      <td>20.0</td>\n",
       "      <td>6.4</td>\n",
       "      <td>76.0</td>\n",
       "      <td>EA Canada</td>\n",
       "      <td>E</td>\n",
       "    </tr>\n",
       "    <tr>\n",
       "      <th>456</th>\n",
       "      <td>LEGO Batman: The Videogame</td>\n",
       "      <td>Wii</td>\n",
       "      <td>NaN</td>\n",
       "      <td>Action</td>\n",
       "      <td>Warner Bros. Interactive Entertainment</td>\n",
       "      <td>1.80</td>\n",
       "      <td>0.97</td>\n",
       "      <td>0.00</td>\n",
       "      <td>0.29</td>\n",
       "      <td>3.06</td>\n",
       "      <td>74.0</td>\n",
       "      <td>17.0</td>\n",
       "      <td>7.9</td>\n",
       "      <td>22.0</td>\n",
       "      <td>Traveller's Tales</td>\n",
       "      <td>E10+</td>\n",
       "    </tr>\n",
       "    <tr>\n",
       "      <th>475</th>\n",
       "      <td>wwe Smackdown vs. Raw 2006</td>\n",
       "      <td>PS2</td>\n",
       "      <td>NaN</td>\n",
       "      <td>Fighting</td>\n",
       "      <td>NaN</td>\n",
       "      <td>1.57</td>\n",
       "      <td>1.02</td>\n",
       "      <td>0.00</td>\n",
       "      <td>0.41</td>\n",
       "      <td>3.00</td>\n",
       "      <td>NaN</td>\n",
       "      <td>NaN</td>\n",
       "      <td>NaN</td>\n",
       "      <td>NaN</td>\n",
       "      <td>NaN</td>\n",
       "      <td>NaN</td>\n",
       "    </tr>\n",
       "    <tr>\n",
       "      <th>609</th>\n",
       "      <td>Space Invaders</td>\n",
       "      <td>2600</td>\n",
       "      <td>NaN</td>\n",
       "      <td>Shooter</td>\n",
       "      <td>Atari</td>\n",
       "      <td>2.36</td>\n",
       "      <td>0.14</td>\n",
       "      <td>0.00</td>\n",
       "      <td>0.03</td>\n",
       "      <td>2.53</td>\n",
       "      <td>NaN</td>\n",
       "      <td>NaN</td>\n",
       "      <td>NaN</td>\n",
       "      <td>NaN</td>\n",
       "      <td>NaN</td>\n",
       "      <td>NaN</td>\n",
       "    </tr>\n",
       "    <tr>\n",
       "      <th>...</th>\n",
       "      <td>...</td>\n",
       "      <td>...</td>\n",
       "      <td>...</td>\n",
       "      <td>...</td>\n",
       "      <td>...</td>\n",
       "      <td>...</td>\n",
       "      <td>...</td>\n",
       "      <td>...</td>\n",
       "      <td>...</td>\n",
       "      <td>...</td>\n",
       "      <td>...</td>\n",
       "      <td>...</td>\n",
       "      <td>...</td>\n",
       "      <td>...</td>\n",
       "      <td>...</td>\n",
       "      <td>...</td>\n",
       "    </tr>\n",
       "    <tr>\n",
       "      <th>16376</th>\n",
       "      <td>PDC World Championship Darts 2008</td>\n",
       "      <td>PSP</td>\n",
       "      <td>NaN</td>\n",
       "      <td>Sports</td>\n",
       "      <td>Oxygen Interactive</td>\n",
       "      <td>0.01</td>\n",
       "      <td>0.00</td>\n",
       "      <td>0.00</td>\n",
       "      <td>0.00</td>\n",
       "      <td>0.01</td>\n",
       "      <td>43.0</td>\n",
       "      <td>7.0</td>\n",
       "      <td>tbd</td>\n",
       "      <td>NaN</td>\n",
       "      <td>Oxygen Interactive</td>\n",
       "      <td>E10+</td>\n",
       "    </tr>\n",
       "    <tr>\n",
       "      <th>16409</th>\n",
       "      <td>Freaky Flyers</td>\n",
       "      <td>GC</td>\n",
       "      <td>NaN</td>\n",
       "      <td>Racing</td>\n",
       "      <td>Unknown</td>\n",
       "      <td>0.01</td>\n",
       "      <td>0.00</td>\n",
       "      <td>0.00</td>\n",
       "      <td>0.00</td>\n",
       "      <td>0.01</td>\n",
       "      <td>69.0</td>\n",
       "      <td>14.0</td>\n",
       "      <td>6.5</td>\n",
       "      <td>6.0</td>\n",
       "      <td>Midway</td>\n",
       "      <td>T</td>\n",
       "    </tr>\n",
       "    <tr>\n",
       "      <th>16452</th>\n",
       "      <td>Inversion</td>\n",
       "      <td>PC</td>\n",
       "      <td>NaN</td>\n",
       "      <td>Shooter</td>\n",
       "      <td>Namco Bandai Games</td>\n",
       "      <td>0.01</td>\n",
       "      <td>0.00</td>\n",
       "      <td>0.00</td>\n",
       "      <td>0.00</td>\n",
       "      <td>0.01</td>\n",
       "      <td>59.0</td>\n",
       "      <td>6.0</td>\n",
       "      <td>6.7</td>\n",
       "      <td>107.0</td>\n",
       "      <td>Saber Interactive</td>\n",
       "      <td>M</td>\n",
       "    </tr>\n",
       "    <tr>\n",
       "      <th>16462</th>\n",
       "      <td>Hakuouki: Shinsengumi Kitan</td>\n",
       "      <td>PS3</td>\n",
       "      <td>NaN</td>\n",
       "      <td>Adventure</td>\n",
       "      <td>Unknown</td>\n",
       "      <td>0.01</td>\n",
       "      <td>0.00</td>\n",
       "      <td>0.00</td>\n",
       "      <td>0.00</td>\n",
       "      <td>0.01</td>\n",
       "      <td>NaN</td>\n",
       "      <td>NaN</td>\n",
       "      <td>NaN</td>\n",
       "      <td>NaN</td>\n",
       "      <td>NaN</td>\n",
       "      <td>NaN</td>\n",
       "    </tr>\n",
       "    <tr>\n",
       "      <th>16526</th>\n",
       "      <td>Virtua Quest</td>\n",
       "      <td>GC</td>\n",
       "      <td>NaN</td>\n",
       "      <td>Role-Playing</td>\n",
       "      <td>Unknown</td>\n",
       "      <td>0.01</td>\n",
       "      <td>0.00</td>\n",
       "      <td>0.00</td>\n",
       "      <td>0.00</td>\n",
       "      <td>0.01</td>\n",
       "      <td>55.0</td>\n",
       "      <td>19.0</td>\n",
       "      <td>5.5</td>\n",
       "      <td>12.0</td>\n",
       "      <td>Artificial Mind and Movement</td>\n",
       "      <td>T</td>\n",
       "    </tr>\n",
       "  </tbody>\n",
       "</table>\n",
       "<p>269 rows × 16 columns</p>\n",
       "</div>\n",
       "      <button class=\"colab-df-convert\" onclick=\"convertToInteractive('df-1359ed02-f80a-4b28-975e-67107a847ff7')\"\n",
       "              title=\"Convert this dataframe to an interactive table.\"\n",
       "              style=\"display:none;\">\n",
       "        \n",
       "  <svg xmlns=\"http://www.w3.org/2000/svg\" height=\"24px\"viewBox=\"0 0 24 24\"\n",
       "       width=\"24px\">\n",
       "    <path d=\"M0 0h24v24H0V0z\" fill=\"none\"/>\n",
       "    <path d=\"M18.56 5.44l.94 2.06.94-2.06 2.06-.94-2.06-.94-.94-2.06-.94 2.06-2.06.94zm-11 1L8.5 8.5l.94-2.06 2.06-.94-2.06-.94L8.5 2.5l-.94 2.06-2.06.94zm10 10l.94 2.06.94-2.06 2.06-.94-2.06-.94-.94-2.06-.94 2.06-2.06.94z\"/><path d=\"M17.41 7.96l-1.37-1.37c-.4-.4-.92-.59-1.43-.59-.52 0-1.04.2-1.43.59L10.3 9.45l-7.72 7.72c-.78.78-.78 2.05 0 2.83L4 21.41c.39.39.9.59 1.41.59.51 0 1.02-.2 1.41-.59l7.78-7.78 2.81-2.81c.8-.78.8-2.07 0-2.86zM5.41 20L4 18.59l7.72-7.72 1.47 1.35L5.41 20z\"/>\n",
       "  </svg>\n",
       "      </button>\n",
       "      \n",
       "  <style>\n",
       "    .colab-df-container {\n",
       "      display:flex;\n",
       "      flex-wrap:wrap;\n",
       "      gap: 12px;\n",
       "    }\n",
       "\n",
       "    .colab-df-convert {\n",
       "      background-color: #E8F0FE;\n",
       "      border: none;\n",
       "      border-radius: 50%;\n",
       "      cursor: pointer;\n",
       "      display: none;\n",
       "      fill: #1967D2;\n",
       "      height: 32px;\n",
       "      padding: 0 0 0 0;\n",
       "      width: 32px;\n",
       "    }\n",
       "\n",
       "    .colab-df-convert:hover {\n",
       "      background-color: #E2EBFA;\n",
       "      box-shadow: 0px 1px 2px rgba(60, 64, 67, 0.3), 0px 1px 3px 1px rgba(60, 64, 67, 0.15);\n",
       "      fill: #174EA6;\n",
       "    }\n",
       "\n",
       "    [theme=dark] .colab-df-convert {\n",
       "      background-color: #3B4455;\n",
       "      fill: #D2E3FC;\n",
       "    }\n",
       "\n",
       "    [theme=dark] .colab-df-convert:hover {\n",
       "      background-color: #434B5C;\n",
       "      box-shadow: 0px 1px 3px 1px rgba(0, 0, 0, 0.15);\n",
       "      filter: drop-shadow(0px 1px 2px rgba(0, 0, 0, 0.3));\n",
       "      fill: #FFFFFF;\n",
       "    }\n",
       "  </style>\n",
       "\n",
       "      <script>\n",
       "        const buttonEl =\n",
       "          document.querySelector('#df-1359ed02-f80a-4b28-975e-67107a847ff7 button.colab-df-convert');\n",
       "        buttonEl.style.display =\n",
       "          google.colab.kernel.accessAllowed ? 'block' : 'none';\n",
       "\n",
       "        async function convertToInteractive(key) {\n",
       "          const element = document.querySelector('#df-1359ed02-f80a-4b28-975e-67107a847ff7');\n",
       "          const dataTable =\n",
       "            await google.colab.kernel.invokeFunction('convertToInteractive',\n",
       "                                                     [key], {});\n",
       "          if (!dataTable) return;\n",
       "\n",
       "          const docLinkHtml = 'Like what you see? Visit the ' +\n",
       "            '<a target=\"_blank\" href=https://colab.research.google.com/notebooks/data_table.ipynb>data table notebook</a>'\n",
       "            + ' to learn more about interactive tables.';\n",
       "          element.innerHTML = '';\n",
       "          dataTable['output_type'] = 'display_data';\n",
       "          await google.colab.output.renderOutput(dataTable, element);\n",
       "          const docLink = document.createElement('div');\n",
       "          docLink.innerHTML = docLinkHtml;\n",
       "          element.appendChild(docLink);\n",
       "        }\n",
       "      </script>\n",
       "    </div>\n",
       "  </div>\n",
       "  "
      ],
      "text/plain": [
       "                                    Name Platform  Year_of_Release  \\\n",
       "183                      Madden NFL 2004      PS2              NaN   \n",
       "377                     FIFA Soccer 2004      PS2              NaN   \n",
       "456           LEGO Batman: The Videogame      Wii              NaN   \n",
       "475           wwe Smackdown vs. Raw 2006      PS2              NaN   \n",
       "609                       Space Invaders     2600              NaN   \n",
       "...                                  ...      ...              ...   \n",
       "16376  PDC World Championship Darts 2008      PSP              NaN   \n",
       "16409                      Freaky Flyers       GC              NaN   \n",
       "16452                          Inversion       PC              NaN   \n",
       "16462        Hakuouki: Shinsengumi Kitan      PS3              NaN   \n",
       "16526                       Virtua Quest       GC              NaN   \n",
       "\n",
       "              Genre                               Publisher  NA_Sales  \\\n",
       "183          Sports                         Electronic Arts      4.26   \n",
       "377          Sports                         Electronic Arts      0.59   \n",
       "456          Action  Warner Bros. Interactive Entertainment      1.80   \n",
       "475        Fighting                                     NaN      1.57   \n",
       "609         Shooter                                   Atari      2.36   \n",
       "...             ...                                     ...       ...   \n",
       "16376        Sports                      Oxygen Interactive      0.01   \n",
       "16409        Racing                                 Unknown      0.01   \n",
       "16452       Shooter                      Namco Bandai Games      0.01   \n",
       "16462     Adventure                                 Unknown      0.01   \n",
       "16526  Role-Playing                                 Unknown      0.01   \n",
       "\n",
       "       EU_Sales  JP_Sales  Other_Sales  Global_Sales  Critic_Score  \\\n",
       "183        0.26      0.01         0.71          5.23          94.0   \n",
       "377        2.36      0.04         0.51          3.49          84.0   \n",
       "456        0.97      0.00         0.29          3.06          74.0   \n",
       "475        1.02      0.00         0.41          3.00           NaN   \n",
       "609        0.14      0.00         0.03          2.53           NaN   \n",
       "...         ...       ...          ...           ...           ...   \n",
       "16376      0.00      0.00         0.00          0.01          43.0   \n",
       "16409      0.00      0.00         0.00          0.01          69.0   \n",
       "16452      0.00      0.00         0.00          0.01          59.0   \n",
       "16462      0.00      0.00         0.00          0.01           NaN   \n",
       "16526      0.00      0.00         0.00          0.01          55.0   \n",
       "\n",
       "       Critic_Count User_Score  User_Count                     Developer  \\\n",
       "183            29.0        8.5       140.0                    EA Tiburon   \n",
       "377            20.0        6.4        76.0                     EA Canada   \n",
       "456            17.0        7.9        22.0             Traveller's Tales   \n",
       "475             NaN        NaN         NaN                           NaN   \n",
       "609             NaN        NaN         NaN                           NaN   \n",
       "...             ...        ...         ...                           ...   \n",
       "16376           7.0        tbd         NaN            Oxygen Interactive   \n",
       "16409          14.0        6.5         6.0                        Midway   \n",
       "16452           6.0        6.7       107.0             Saber Interactive   \n",
       "16462           NaN        NaN         NaN                           NaN   \n",
       "16526          19.0        5.5        12.0  Artificial Mind and Movement   \n",
       "\n",
       "      Rating  \n",
       "183        E  \n",
       "377        E  \n",
       "456     E10+  \n",
       "475      NaN  \n",
       "609      NaN  \n",
       "...      ...  \n",
       "16376   E10+  \n",
       "16409      T  \n",
       "16452      M  \n",
       "16462    NaN  \n",
       "16526      T  \n",
       "\n",
       "[269 rows x 16 columns]"
      ]
     },
     "execution_count": 14,
     "metadata": {},
     "output_type": "execute_result"
    }
   ],
   "source": [
    "data.loc[data[\"Year_of_Release\"].isna()]"
   ]
  },
  {
   "cell_type": "code",
   "execution_count": null,
   "id": "847a787e",
   "metadata": {
    "colab": {
     "base_uri": "https://localhost:8080/"
    },
    "executionInfo": {
     "elapsed": 305,
     "status": "ok",
     "timestamp": 1684266330612,
     "user": {
      "displayName": "Timilehin Osinuga",
      "userId": "02674228651306861961"
     },
     "user_tz": -60
    },
    "id": "847a787e",
    "outputId": "a420d1f0-fb46-4aa4-dad9-98c843adf7fb"
   },
   "outputs": [
    {
     "data": {
      "text/plain": [
       "2008.0"
      ]
     },
     "execution_count": 15,
     "metadata": {},
     "output_type": "execute_result"
    }
   ],
   "source": [
    "#using mode to replace the null values for year of release\n",
    "mode_year =statistics.mode (data['Year_of_Release'])\n",
    "mode_year"
   ]
  },
  {
   "cell_type": "code",
   "execution_count": null,
   "id": "8a8791b6",
   "metadata": {
    "id": "8a8791b6"
   },
   "outputs": [],
   "source": [
    "#filing the null values with the mode\n",
    "data['Year_of_Release'] = data[\"Year_of_Release\"].fillna(mode_year)"
   ]
  },
  {
   "cell_type": "code",
   "execution_count": null,
   "id": "20128bfc",
   "metadata": {
    "colab": {
     "base_uri": "https://localhost:8080/"
    },
    "executionInfo": {
     "elapsed": 236,
     "status": "ok",
     "timestamp": 1684266337809,
     "user": {
      "displayName": "Timilehin Osinuga",
      "userId": "02674228651306861961"
     },
     "user_tz": -60
    },
    "id": "20128bfc",
    "outputId": "6512e90e-9893-4097-8042-f906addb7afc"
   },
   "outputs": [
    {
     "data": {
      "text/plain": [
       "0    Action\n",
       "Name: Genre, dtype: object"
      ]
     },
     "execution_count": 17,
     "metadata": {},
     "output_type": "execute_result"
    }
   ],
   "source": [
    "# using mode to replace with Null values\n",
    "mode_genre=data['Genre'].mode()\n",
    "mode_genre"
   ]
  },
  {
   "cell_type": "code",
   "execution_count": null,
   "id": "fa323197",
   "metadata": {
    "id": "fa323197"
   },
   "outputs": [],
   "source": [
    "#filing the null values with mode\n",
    "data['Genre'] = data['Genre'].fillna('Action')"
   ]
  },
  {
   "cell_type": "code",
   "execution_count": null,
   "id": "9e58ab91",
   "metadata": {
    "colab": {
     "base_uri": "https://localhost:8080/"
    },
    "executionInfo": {
     "elapsed": 4,
     "status": "ok",
     "timestamp": 1684266344087,
     "user": {
      "displayName": "Timilehin Osinuga",
      "userId": "02674228651306861961"
     },
     "user_tz": -60
    },
    "id": "9e58ab91",
    "outputId": "262f7efd-b622-4ad9-9803-c10e37b5589e"
   },
   "outputs": [
    {
     "data": {
      "text/plain": [
       "0"
      ]
     },
     "execution_count": 19,
     "metadata": {},
     "output_type": "execute_result"
    }
   ],
   "source": [
    "data['Genre'].isna().sum()"
   ]
  },
  {
   "cell_type": "code",
   "execution_count": null,
   "id": "f0f03b00",
   "metadata": {
    "colab": {
     "base_uri": "https://localhost:8080/"
    },
    "executionInfo": {
     "elapsed": 229,
     "status": "ok",
     "timestamp": 1684266346735,
     "user": {
      "displayName": "Timilehin Osinuga",
      "userId": "02674228651306861961"
     },
     "user_tz": -60
    },
    "id": "f0f03b00",
    "outputId": "9b8c1167-2a1b-4f40-983d-6117151eed9b"
   },
   "outputs": [
    {
     "data": {
      "text/plain": [
       "0    Electronic Arts\n",
       "Name: Publisher, dtype: object"
      ]
     },
     "execution_count": 20,
     "metadata": {},
     "output_type": "execute_result"
    }
   ],
   "source": [
    "data['Publisher'].mode()"
   ]
  },
  {
   "cell_type": "code",
   "execution_count": null,
   "id": "6fd2639c",
   "metadata": {
    "id": "6fd2639c"
   },
   "outputs": [],
   "source": [
    "#filing the na with the mode\n",
    "data['Publisher'] = data['Publisher'].fillna('Electronic Arts')"
   ]
  },
  {
   "cell_type": "code",
   "execution_count": null,
   "id": "c9e4e686",
   "metadata": {
    "colab": {
     "base_uri": "https://localhost:8080/"
    },
    "executionInfo": {
     "elapsed": 206,
     "status": "ok",
     "timestamp": 1684266353550,
     "user": {
      "displayName": "Timilehin Osinuga",
      "userId": "02674228651306861961"
     },
     "user_tz": -60
    },
    "id": "c9e4e686",
    "outputId": "ee50c17d-1862-49c6-b22d-831c98209bb5"
   },
   "outputs": [
    {
     "data": {
      "text/plain": [
       "70.0"
      ]
     },
     "execution_count": 22,
     "metadata": {},
     "output_type": "execute_result"
    }
   ],
   "source": [
    "mode_criticS =statistics.mode(data['Critic_Score'])\n",
    "mode_criticS"
   ]
  },
  {
   "cell_type": "code",
   "execution_count": null,
   "id": "f10dde32",
   "metadata": {
    "id": "f10dde32"
   },
   "outputs": [],
   "source": [
    "data['Critic_Score'] = data['Critic_Score'].fillna(mode_criticS)"
   ]
  },
  {
   "cell_type": "code",
   "execution_count": null,
   "id": "1299679e",
   "metadata": {
    "colab": {
     "base_uri": "https://localhost:8080/"
    },
    "executionInfo": {
     "elapsed": 644,
     "status": "ok",
     "timestamp": 1684266358728,
     "user": {
      "displayName": "Timilehin Osinuga",
      "userId": "02674228651306861961"
     },
     "user_tz": -60
    },
    "id": "1299679e",
    "outputId": "e7be39a3-5e8e-4f5c-9785-b0b97589cd96"
   },
   "outputs": [
    {
     "data": {
      "text/plain": [
       "4.0"
      ]
     },
     "execution_count": 24,
     "metadata": {},
     "output_type": "execute_result"
    }
   ],
   "source": [
    "mode_criticC =statistics.mode(data['Critic_Count'])\n",
    "mode_criticC"
   ]
  },
  {
   "cell_type": "code",
   "execution_count": null,
   "id": "cfb9a455",
   "metadata": {
    "id": "cfb9a455"
   },
   "outputs": [],
   "source": [
    "data['Critic_Count'] = data['Critic_Count'].fillna(mode_criticC)"
   ]
  },
  {
   "cell_type": "code",
   "execution_count": null,
   "id": "87608d73",
   "metadata": {
    "colab": {
     "base_uri": "https://localhost:8080/"
    },
    "executionInfo": {
     "elapsed": 210,
     "status": "ok",
     "timestamp": 1684266365318,
     "user": {
      "displayName": "Timilehin Osinuga",
      "userId": "02674228651306861961"
     },
     "user_tz": -60
    },
    "id": "87608d73",
    "outputId": "2a27cbdc-5acf-4d0a-dde0-b7a3001a13e9"
   },
   "outputs": [
    {
     "data": {
      "text/plain": [
       "4.0"
      ]
     },
     "execution_count": 26,
     "metadata": {},
     "output_type": "execute_result"
    }
   ],
   "source": [
    "mode_userC =statistics.mode(data['User_Count'])\n",
    "mode_userC"
   ]
  },
  {
   "cell_type": "code",
   "execution_count": null,
   "id": "dd454bc5",
   "metadata": {
    "id": "dd454bc5"
   },
   "outputs": [],
   "source": [
    "data['User_Count'] = data['User_Count'].fillna(mode_userC)"
   ]
  },
  {
   "cell_type": "code",
   "execution_count": null,
   "id": "0459c43f",
   "metadata": {
    "colab": {
     "base_uri": "https://localhost:8080/"
    },
    "executionInfo": {
     "elapsed": 196,
     "status": "ok",
     "timestamp": 1684266372789,
     "user": {
      "displayName": "Timilehin Osinuga",
      "userId": "02674228651306861961"
     },
     "user_tz": -60
    },
    "id": "0459c43f",
    "outputId": "f0a4d31e-0b69-4bbf-92c8-4d7cfa7a8a49"
   },
   "outputs": [
    {
     "data": {
      "text/plain": [
       "Name                  0\n",
       "Platform              0\n",
       "Year_of_Release       0\n",
       "Genre                 0\n",
       "Publisher             0\n",
       "NA_Sales              0\n",
       "EU_Sales              0\n",
       "JP_Sales              0\n",
       "Other_Sales           0\n",
       "Global_Sales          0\n",
       "Critic_Score          0\n",
       "Critic_Count          0\n",
       "User_Score         6704\n",
       "User_Count            0\n",
       "Developer          6623\n",
       "Rating             6769\n",
       "dtype: int64"
      ]
     },
     "execution_count": 28,
     "metadata": {},
     "output_type": "execute_result"
    }
   ],
   "source": [
    "data.isna().sum()"
   ]
  },
  {
   "cell_type": "code",
   "execution_count": null,
   "id": "4a848723",
   "metadata": {
    "id": "4a848723"
   },
   "outputs": [],
   "source": [
    "data[\"User_Score\"] = data[\"User_Score\"].replace('tbd', 0)"
   ]
  },
  {
   "cell_type": "code",
   "execution_count": null,
   "id": "5d035a85",
   "metadata": {
    "id": "5d035a85"
   },
   "outputs": [],
   "source": [
    "data[\"User_Score\"] = data[\"User_Score\"].astype(float)"
   ]
  },
  {
   "cell_type": "code",
   "execution_count": null,
   "id": "ac39c9ee",
   "metadata": {
    "colab": {
     "base_uri": "https://localhost:8080/"
    },
    "executionInfo": {
     "elapsed": 222,
     "status": "ok",
     "timestamp": 1684266381075,
     "user": {
      "displayName": "Timilehin Osinuga",
      "userId": "02674228651306861961"
     },
     "user_tz": -60
    },
    "id": "ac39c9ee",
    "outputId": "df65c4ec-d446-4c22-d3db-206af5898bac"
   },
   "outputs": [
    {
     "data": {
      "text/plain": [
       "count    10015.000000\n",
       "mean         5.399810\n",
       "std          3.319944\n",
       "min          0.000000\n",
       "25%          2.400000\n",
       "50%          6.900000\n",
       "75%          8.000000\n",
       "max          9.700000\n",
       "Name: User_Score, dtype: float64"
      ]
     },
     "execution_count": 31,
     "metadata": {},
     "output_type": "execute_result"
    }
   ],
   "source": [
    "data[\"User_Score\"].describe()"
   ]
  },
  {
   "cell_type": "code",
   "execution_count": null,
   "id": "e1f683c6",
   "metadata": {
    "id": "e1f683c6"
   },
   "outputs": [],
   "source": [
    "#since 75% of data for user score is 8.0 so i replaced the null values with 8.0\n",
    "data['User_Score'] = data['User_Score'].fillna(8.0)"
   ]
  },
  {
   "cell_type": "code",
   "execution_count": null,
   "id": "bb1274f6",
   "metadata": {
    "colab": {
     "base_uri": "https://localhost:8080/"
    },
    "executionInfo": {
     "elapsed": 223,
     "status": "ok",
     "timestamp": 1684266388343,
     "user": {
      "displayName": "Timilehin Osinuga",
      "userId": "02674228651306861961"
     },
     "user_tz": -60
    },
    "id": "bb1274f6",
    "outputId": "7d5a82f0-ccb0-4703-80c5-fa608f394fab"
   },
   "outputs": [
    {
     "data": {
      "text/plain": [
       "0    Ubisoft\n",
       "Name: Developer, dtype: object"
      ]
     },
     "execution_count": 33,
     "metadata": {},
     "output_type": "execute_result"
    }
   ],
   "source": [
    "# finding the mode for the developer\n",
    "mode_Developer=data['Developer'].mode()\n",
    "mode_Developer\n"
   ]
  },
  {
   "cell_type": "code",
   "execution_count": null,
   "id": "b5b6633d",
   "metadata": {
    "id": "b5b6633d"
   },
   "outputs": [],
   "source": [
    "# filling the na value with mode\n",
    "data['Developer'] = data['Developer'].fillna('Ubisoft')"
   ]
  },
  {
   "cell_type": "code",
   "execution_count": null,
   "id": "8cd85660",
   "metadata": {
    "colab": {
     "base_uri": "https://localhost:8080/"
    },
    "executionInfo": {
     "elapsed": 398,
     "status": "ok",
     "timestamp": 1684266420022,
     "user": {
      "displayName": "Timilehin Osinuga",
      "userId": "02674228651306861961"
     },
     "user_tz": -60
    },
    "id": "8cd85660",
    "outputId": "911cc3e9-b481-4f9e-b763-2f2692b58f9f"
   },
   "outputs": [
    {
     "data": {
      "text/plain": [
       "0    E\n",
       "Name: Rating, dtype: object"
      ]
     },
     "execution_count": 37,
     "metadata": {},
     "output_type": "execute_result"
    }
   ],
   "source": [
    "# finding the mode for rating\n",
    "mode_Rating=data['Rating'].mode()\n",
    "mode_Rating"
   ]
  },
  {
   "cell_type": "code",
   "execution_count": null,
   "id": "5c7e280e",
   "metadata": {
    "id": "5c7e280e"
   },
   "outputs": [],
   "source": [
    "#filing the na value with the mode\n",
    "data['Rating'] = data['Rating'].fillna('E')"
   ]
  },
  {
   "cell_type": "code",
   "execution_count": null,
   "id": "fc2193dc",
   "metadata": {
    "colab": {
     "base_uri": "https://localhost:8080/"
    },
    "executionInfo": {
     "elapsed": 218,
     "status": "ok",
     "timestamp": 1684266424696,
     "user": {
      "displayName": "Timilehin Osinuga",
      "userId": "02674228651306861961"
     },
     "user_tz": -60
    },
    "id": "fc2193dc",
    "outputId": "281d5f51-6a31-4c32-b444-958a8fae0fa5"
   },
   "outputs": [
    {
     "data": {
      "text/plain": [
       "Name               0\n",
       "Platform           0\n",
       "Year_of_Release    0\n",
       "Genre              0\n",
       "Publisher          0\n",
       "NA_Sales           0\n",
       "EU_Sales           0\n",
       "JP_Sales           0\n",
       "Other_Sales        0\n",
       "Global_Sales       0\n",
       "Critic_Score       0\n",
       "Critic_Count       0\n",
       "User_Score         0\n",
       "User_Count         0\n",
       "Developer          0\n",
       "Rating             0\n",
       "dtype: int64"
      ]
     },
     "execution_count": 39,
     "metadata": {},
     "output_type": "execute_result"
    }
   ],
   "source": [
    "data.isna().sum()"
   ]
  },
  {
   "cell_type": "code",
   "execution_count": null,
   "id": "518679ec",
   "metadata": {
    "colab": {
     "base_uri": "https://localhost:8080/",
     "height": 418
    },
    "executionInfo": {
     "elapsed": 208,
     "status": "ok",
     "timestamp": 1684266433850,
     "user": {
      "displayName": "Timilehin Osinuga",
      "userId": "02674228651306861961"
     },
     "user_tz": -60
    },
    "id": "518679ec",
    "outputId": "38c58090-0593-48c6-8288-65782d3c2237"
   },
   "outputs": [
    {
     "name": "stderr",
     "output_type": "stream",
     "text": [
      "<ipython-input-40-0421f6a99cec>:2: FutureWarning: The default value of numeric_only in DataFrame.corr is deprecated. In a future version, it will default to False. Select only valid columns or specify the value of numeric_only to silence this warning.\n",
      "  data.corr()\n"
     ]
    },
    {
     "data": {
      "text/html": [
       "\n",
       "  <div id=\"df-0e9801fd-ef32-4457-9494-0343c0378698\">\n",
       "    <div class=\"colab-df-container\">\n",
       "      <div>\n",
       "<style scoped>\n",
       "    .dataframe tbody tr th:only-of-type {\n",
       "        vertical-align: middle;\n",
       "    }\n",
       "\n",
       "    .dataframe tbody tr th {\n",
       "        vertical-align: top;\n",
       "    }\n",
       "\n",
       "    .dataframe thead th {\n",
       "        text-align: right;\n",
       "    }\n",
       "</style>\n",
       "<table border=\"1\" class=\"dataframe\">\n",
       "  <thead>\n",
       "    <tr style=\"text-align: right;\">\n",
       "      <th></th>\n",
       "      <th>Year_of_Release</th>\n",
       "      <th>NA_Sales</th>\n",
       "      <th>EU_Sales</th>\n",
       "      <th>JP_Sales</th>\n",
       "      <th>Other_Sales</th>\n",
       "      <th>Global_Sales</th>\n",
       "      <th>Critic_Score</th>\n",
       "      <th>Critic_Count</th>\n",
       "      <th>User_Score</th>\n",
       "      <th>User_Count</th>\n",
       "    </tr>\n",
       "  </thead>\n",
       "  <tbody>\n",
       "    <tr>\n",
       "      <th>Year_of_Release</th>\n",
       "      <td>1.000000</td>\n",
       "      <td>-0.092531</td>\n",
       "      <td>0.003386</td>\n",
       "      <td>-0.168853</td>\n",
       "      <td>0.037286</td>\n",
       "      <td>-0.076736</td>\n",
       "      <td>-0.000747</td>\n",
       "      <td>0.158675</td>\n",
       "      <td>-0.140254</td>\n",
       "      <td>0.121691</td>\n",
       "    </tr>\n",
       "    <tr>\n",
       "      <th>NA_Sales</th>\n",
       "      <td>-0.092531</td>\n",
       "      <td>1.000000</td>\n",
       "      <td>0.765336</td>\n",
       "      <td>0.449598</td>\n",
       "      <td>0.638654</td>\n",
       "      <td>0.941010</td>\n",
       "      <td>0.179135</td>\n",
       "      <td>0.242758</td>\n",
       "      <td>0.072387</td>\n",
       "      <td>0.210717</td>\n",
       "    </tr>\n",
       "    <tr>\n",
       "      <th>EU_Sales</th>\n",
       "      <td>0.003386</td>\n",
       "      <td>0.765336</td>\n",
       "      <td>1.000000</td>\n",
       "      <td>0.435068</td>\n",
       "      <td>0.722796</td>\n",
       "      <td>0.901239</td>\n",
       "      <td>0.187731</td>\n",
       "      <td>0.265835</td>\n",
       "      <td>0.076817</td>\n",
       "      <td>0.273933</td>\n",
       "    </tr>\n",
       "    <tr>\n",
       "      <th>JP_Sales</th>\n",
       "      <td>-0.168853</td>\n",
       "      <td>0.449598</td>\n",
       "      <td>0.435068</td>\n",
       "      <td>1.000000</td>\n",
       "      <td>0.291096</td>\n",
       "      <td>0.612300</td>\n",
       "      <td>0.095016</td>\n",
       "      <td>0.036550</td>\n",
       "      <td>0.132853</td>\n",
       "      <td>0.033114</td>\n",
       "    </tr>\n",
       "    <tr>\n",
       "      <th>Other_Sales</th>\n",
       "      <td>0.037286</td>\n",
       "      <td>0.638654</td>\n",
       "      <td>0.722796</td>\n",
       "      <td>0.291096</td>\n",
       "      <td>1.000000</td>\n",
       "      <td>0.749242</td>\n",
       "      <td>0.177677</td>\n",
       "      <td>0.263492</td>\n",
       "      <td>0.063187</td>\n",
       "      <td>0.250196</td>\n",
       "    </tr>\n",
       "    <tr>\n",
       "      <th>Global_Sales</th>\n",
       "      <td>-0.076736</td>\n",
       "      <td>0.941010</td>\n",
       "      <td>0.901239</td>\n",
       "      <td>0.612300</td>\n",
       "      <td>0.749242</td>\n",
       "      <td>1.000000</td>\n",
       "      <td>0.195510</td>\n",
       "      <td>0.253021</td>\n",
       "      <td>0.097079</td>\n",
       "      <td>0.236535</td>\n",
       "    </tr>\n",
       "    <tr>\n",
       "      <th>Critic_Score</th>\n",
       "      <td>-0.000747</td>\n",
       "      <td>0.179135</td>\n",
       "      <td>0.187731</td>\n",
       "      <td>0.095016</td>\n",
       "      <td>0.177677</td>\n",
       "      <td>0.195510</td>\n",
       "      <td>1.000000</td>\n",
       "      <td>0.290514</td>\n",
       "      <td>0.315737</td>\n",
       "      <td>0.252610</td>\n",
       "    </tr>\n",
       "    <tr>\n",
       "      <th>Critic_Count</th>\n",
       "      <td>0.158675</td>\n",
       "      <td>0.242758</td>\n",
       "      <td>0.265835</td>\n",
       "      <td>0.036550</td>\n",
       "      <td>0.263492</td>\n",
       "      <td>0.253021</td>\n",
       "      <td>0.290514</td>\n",
       "      <td>1.000000</td>\n",
       "      <td>0.140508</td>\n",
       "      <td>0.399931</td>\n",
       "    </tr>\n",
       "    <tr>\n",
       "      <th>User_Score</th>\n",
       "      <td>-0.140254</td>\n",
       "      <td>0.072387</td>\n",
       "      <td>0.076817</td>\n",
       "      <td>0.132853</td>\n",
       "      <td>0.063187</td>\n",
       "      <td>0.097079</td>\n",
       "      <td>0.315737</td>\n",
       "      <td>0.140508</td>\n",
       "      <td>1.000000</td>\n",
       "      <td>0.053589</td>\n",
       "    </tr>\n",
       "    <tr>\n",
       "      <th>User_Count</th>\n",
       "      <td>0.121691</td>\n",
       "      <td>0.210717</td>\n",
       "      <td>0.273933</td>\n",
       "      <td>0.033114</td>\n",
       "      <td>0.250196</td>\n",
       "      <td>0.236535</td>\n",
       "      <td>0.252610</td>\n",
       "      <td>0.399931</td>\n",
       "      <td>0.053589</td>\n",
       "      <td>1.000000</td>\n",
       "    </tr>\n",
       "  </tbody>\n",
       "</table>\n",
       "</div>\n",
       "      <button class=\"colab-df-convert\" onclick=\"convertToInteractive('df-0e9801fd-ef32-4457-9494-0343c0378698')\"\n",
       "              title=\"Convert this dataframe to an interactive table.\"\n",
       "              style=\"display:none;\">\n",
       "        \n",
       "  <svg xmlns=\"http://www.w3.org/2000/svg\" height=\"24px\"viewBox=\"0 0 24 24\"\n",
       "       width=\"24px\">\n",
       "    <path d=\"M0 0h24v24H0V0z\" fill=\"none\"/>\n",
       "    <path d=\"M18.56 5.44l.94 2.06.94-2.06 2.06-.94-2.06-.94-.94-2.06-.94 2.06-2.06.94zm-11 1L8.5 8.5l.94-2.06 2.06-.94-2.06-.94L8.5 2.5l-.94 2.06-2.06.94zm10 10l.94 2.06.94-2.06 2.06-.94-2.06-.94-.94-2.06-.94 2.06-2.06.94z\"/><path d=\"M17.41 7.96l-1.37-1.37c-.4-.4-.92-.59-1.43-.59-.52 0-1.04.2-1.43.59L10.3 9.45l-7.72 7.72c-.78.78-.78 2.05 0 2.83L4 21.41c.39.39.9.59 1.41.59.51 0 1.02-.2 1.41-.59l7.78-7.78 2.81-2.81c.8-.78.8-2.07 0-2.86zM5.41 20L4 18.59l7.72-7.72 1.47 1.35L5.41 20z\"/>\n",
       "  </svg>\n",
       "      </button>\n",
       "      \n",
       "  <style>\n",
       "    .colab-df-container {\n",
       "      display:flex;\n",
       "      flex-wrap:wrap;\n",
       "      gap: 12px;\n",
       "    }\n",
       "\n",
       "    .colab-df-convert {\n",
       "      background-color: #E8F0FE;\n",
       "      border: none;\n",
       "      border-radius: 50%;\n",
       "      cursor: pointer;\n",
       "      display: none;\n",
       "      fill: #1967D2;\n",
       "      height: 32px;\n",
       "      padding: 0 0 0 0;\n",
       "      width: 32px;\n",
       "    }\n",
       "\n",
       "    .colab-df-convert:hover {\n",
       "      background-color: #E2EBFA;\n",
       "      box-shadow: 0px 1px 2px rgba(60, 64, 67, 0.3), 0px 1px 3px 1px rgba(60, 64, 67, 0.15);\n",
       "      fill: #174EA6;\n",
       "    }\n",
       "\n",
       "    [theme=dark] .colab-df-convert {\n",
       "      background-color: #3B4455;\n",
       "      fill: #D2E3FC;\n",
       "    }\n",
       "\n",
       "    [theme=dark] .colab-df-convert:hover {\n",
       "      background-color: #434B5C;\n",
       "      box-shadow: 0px 1px 3px 1px rgba(0, 0, 0, 0.15);\n",
       "      filter: drop-shadow(0px 1px 2px rgba(0, 0, 0, 0.3));\n",
       "      fill: #FFFFFF;\n",
       "    }\n",
       "  </style>\n",
       "\n",
       "      <script>\n",
       "        const buttonEl =\n",
       "          document.querySelector('#df-0e9801fd-ef32-4457-9494-0343c0378698 button.colab-df-convert');\n",
       "        buttonEl.style.display =\n",
       "          google.colab.kernel.accessAllowed ? 'block' : 'none';\n",
       "\n",
       "        async function convertToInteractive(key) {\n",
       "          const element = document.querySelector('#df-0e9801fd-ef32-4457-9494-0343c0378698');\n",
       "          const dataTable =\n",
       "            await google.colab.kernel.invokeFunction('convertToInteractive',\n",
       "                                                     [key], {});\n",
       "          if (!dataTable) return;\n",
       "\n",
       "          const docLinkHtml = 'Like what you see? Visit the ' +\n",
       "            '<a target=\"_blank\" href=https://colab.research.google.com/notebooks/data_table.ipynb>data table notebook</a>'\n",
       "            + ' to learn more about interactive tables.';\n",
       "          element.innerHTML = '';\n",
       "          dataTable['output_type'] = 'display_data';\n",
       "          await google.colab.output.renderOutput(dataTable, element);\n",
       "          const docLink = document.createElement('div');\n",
       "          docLink.innerHTML = docLinkHtml;\n",
       "          element.appendChild(docLink);\n",
       "        }\n",
       "      </script>\n",
       "    </div>\n",
       "  </div>\n",
       "  "
      ],
      "text/plain": [
       "                 Year_of_Release  NA_Sales  EU_Sales  JP_Sales  Other_Sales  \\\n",
       "Year_of_Release         1.000000 -0.092531  0.003386 -0.168853     0.037286   \n",
       "NA_Sales               -0.092531  1.000000  0.765336  0.449598     0.638654   \n",
       "EU_Sales                0.003386  0.765336  1.000000  0.435068     0.722796   \n",
       "JP_Sales               -0.168853  0.449598  0.435068  1.000000     0.291096   \n",
       "Other_Sales             0.037286  0.638654  0.722796  0.291096     1.000000   \n",
       "Global_Sales           -0.076736  0.941010  0.901239  0.612300     0.749242   \n",
       "Critic_Score           -0.000747  0.179135  0.187731  0.095016     0.177677   \n",
       "Critic_Count            0.158675  0.242758  0.265835  0.036550     0.263492   \n",
       "User_Score             -0.140254  0.072387  0.076817  0.132853     0.063187   \n",
       "User_Count              0.121691  0.210717  0.273933  0.033114     0.250196   \n",
       "\n",
       "                 Global_Sales  Critic_Score  Critic_Count  User_Score  \\\n",
       "Year_of_Release     -0.076736     -0.000747      0.158675   -0.140254   \n",
       "NA_Sales             0.941010      0.179135      0.242758    0.072387   \n",
       "EU_Sales             0.901239      0.187731      0.265835    0.076817   \n",
       "JP_Sales             0.612300      0.095016      0.036550    0.132853   \n",
       "Other_Sales          0.749242      0.177677      0.263492    0.063187   \n",
       "Global_Sales         1.000000      0.195510      0.253021    0.097079   \n",
       "Critic_Score         0.195510      1.000000      0.290514    0.315737   \n",
       "Critic_Count         0.253021      0.290514      1.000000    0.140508   \n",
       "User_Score           0.097079      0.315737      0.140508    1.000000   \n",
       "User_Count           0.236535      0.252610      0.399931    0.053589   \n",
       "\n",
       "                 User_Count  \n",
       "Year_of_Release    0.121691  \n",
       "NA_Sales           0.210717  \n",
       "EU_Sales           0.273933  \n",
       "JP_Sales           0.033114  \n",
       "Other_Sales        0.250196  \n",
       "Global_Sales       0.236535  \n",
       "Critic_Score       0.252610  \n",
       "Critic_Count       0.399931  \n",
       "User_Score         0.053589  \n",
       "User_Count         1.000000  "
      ]
     },
     "execution_count": 40,
     "metadata": {},
     "output_type": "execute_result"
    }
   ],
   "source": [
    "#finding the correlation\n",
    "data.corr()"
   ]
  },
  {
   "cell_type": "code",
   "execution_count": null,
   "id": "bca6d3af",
   "metadata": {
    "colab": {
     "base_uri": "https://localhost:8080/",
     "height": 587
    },
    "executionInfo": {
     "elapsed": 1415,
     "status": "ok",
     "timestamp": 1684266442499,
     "user": {
      "displayName": "Timilehin Osinuga",
      "userId": "02674228651306861961"
     },
     "user_tz": -60
    },
    "id": "bca6d3af",
    "outputId": "aa95f7e8-6bd2-4d7a-873b-3910ff24fdf0"
   },
   "outputs": [
    {
     "name": "stderr",
     "output_type": "stream",
     "text": [
      "<ipython-input-41-d061c747a44c>:2: FutureWarning: The default value of numeric_only in DataFrame.corr is deprecated. In a future version, it will default to False. Select only valid columns or specify the value of numeric_only to silence this warning.\n",
      "  sns.heatmap(data.corr(), annot=True, cmap='Spectral', vmin=-1, vmax= 1)\n"
     ]
    },
    {
     "data": {
      "image/png": "[encoded data removed]",
      "text/plain": [
       "<Figure size 640x480 with 2 Axes>"
      ]
     },
     "metadata": {},
     "output_type": "display_data"
    }
   ],
   "source": [
    "#I created a heatmap showing the correlation matrix visualize the relationship between the variables\n",
    "sns.heatmap(data.corr(), annot=True, cmap='Spectral', vmin=-1, vmax= 1)\n",
    "plt.show()"
   ]
  },
  {
   "cell_type": "code",
   "execution_count": null,
   "id": "d7b47ce7",
   "metadata": {
    "id": "d7b47ce7"
   },
   "outputs": [],
   "source": [
    "# split data into input and output variables\n",
    "X= data[['NA_Sales', 'EU_Sales', 'JP_Sales', 'Other_Sales','Critic_Score', 'User_Score','Critic_Count','User_Count']]\n",
    "y= data[\"Global_Sales\"]"
   ]
  },
  {
   "cell_type": "code",
   "execution_count": null,
   "id": "7a0129ca",
   "metadata": {
    "id": "7a0129ca"
   },
   "outputs": [],
   "source": [
    "# split data into training and testing sets\n",
    "X_train, X_test, y_train, y_test = train_test_split(X, y, test_size=0.2, random_state=42)"
   ]
  },
  {
   "cell_type": "code",
   "execution_count": null,
   "id": "3e1ee05b",
   "metadata": {
    "id": "3e1ee05b"
   },
   "outputs": [],
   "source": [
    "# scaling the dataset\n",
    "# to use regularization, you can apply standard scaler\n",
    "scale_train = StandardScaler()\n",
    "scale_train.fit(X_train)\n",
    "X_train = scale_train.transform(X_train)\n",
    "X_test = scale_train.transform(X_test)"
   ]
  },
  {
   "cell_type": "code",
   "execution_count": null,
   "id": "ba120418",
   "metadata": {
    "id": "ba120418"
   },
   "outputs": [],
   "source": [
    "#importing the linear egression library\n",
    "from sklearn.linear_model import LinearRegression\n",
    "mlr = LinearRegression()\n",
    "mlr.fit(X_train, y_train)\n",
    "mlr_pred = mlr.predict(X_test)"
   ]
  },
  {
   "cell_type": "code",
   "execution_count": null,
   "id": "c2669b13",
   "metadata": {
    "colab": {
     "base_uri": "https://localhost:8080/"
    },
    "executionInfo": {
     "elapsed": 200,
     "status": "ok",
     "timestamp": 1684266462464,
     "user": {
      "displayName": "Timilehin Osinuga",
      "userId": "02674228651306861961"
     },
     "user_tz": -60
    },
    "id": "c2669b13",
    "outputId": "e74417ee-8461-422f-e734-6374556c76c2"
   },
   "outputs": [
    {
     "name": "stdout",
     "output_type": "stream",
     "text": [
      "Coefficients: [ 7.54513063e-01  4.41863469e-01  3.08071596e-01  1.80867589e-01\n",
      " -9.89409289e-06 -6.79430732e-05 -5.50430044e-05 -1.05053474e-04]\n",
      "Intercept: 0.5255543925233646\n",
      "The result of the mean squared error for the linear regression is : 2.7834846961324935e-05\n",
      "The coefficient of determination for the linear regression is: 0.9999932569888903\n"
     ]
    }
   ],
   "source": [
    "print('Coefficients:', mlr.coef_)\n",
    "print('Intercept:', mlr.intercept_)\n",
    "mean_squared = mean_squared_error(y_test,mlr_pred)\n",
    "print(f\"The result of the mean squared error for the linear regression is : {mean_squared}\")\n",
    "print(f\"The coefficient of determination for the linear regression is: {r2_score(y_test,mlr_pred)}\")"
   ]
  },
  {
   "cell_type": "code",
   "execution_count": null,
   "id": "617d213f",
   "metadata": {
    "colab": {
     "base_uri": "https://localhost:8080/"
    },
    "executionInfo": {
     "elapsed": 260,
     "status": "ok",
     "timestamp": 1684266465901,
     "user": {
      "displayName": "Timilehin Osinuga",
      "userId": "02674228651306861961"
     },
     "user_tz": -60
    },
    "id": "617d213f",
    "outputId": "5f629ea8-8b2d-4e45-806b-8ea4bc7a670d"
   },
   "outputs": [
    {
     "name": "stdout",
     "output_type": "stream",
     "text": [
      "       Variable  Coefficient\n",
      "0      NA_Sales     0.754513\n",
      "1      EU_Sales     0.441863\n",
      "2      JP_Sales     0.308072\n",
      "3   Other_Sales     0.180868\n",
      "4  Critic_Score    -0.000010\n",
      "6  Critic_Count    -0.000055\n",
      "5    User_Score    -0.000068\n",
      "7    User_Count    -0.000105\n"
     ]
    }
   ],
   "source": [
    "# Print the coefficients for each variable\n",
    "coefficients = pd.DataFrame({'Variable': X.columns, 'Coefficient': mlr.coef_})\n",
    "coefficients.sort_values(by='Coefficient', ascending=False, inplace=True)\n",
    "print(coefficients)"
   ]
  },
  {
   "cell_type": "code",
   "execution_count": null,
   "id": "8bb80a98",
   "metadata": {
    "colab": {
     "base_uri": "https://localhost:8080/"
    },
    "executionInfo": {
     "elapsed": 5346,
     "status": "ok",
     "timestamp": 1684266473717,
     "user": {
      "displayName": "Timilehin Osinuga",
      "userId": "02674228651306861961"
     },
     "user_tz": -60
    },
    "id": "8bb80a98",
    "outputId": "8acaca10-a4f0-48f1-81c4-ca6180da0905"
   },
   "outputs": [
    {
     "name": "stdout",
     "output_type": "stream",
     "text": [
      "The result of the mean squared error for Random Forest is : 0.7303005363192598\n",
      "The coefficient of determination for Random Forest Regression is: 0.8230841852069443\n"
     ]
    }
   ],
   "source": [
    "# Random Forest Regression\n",
    "rf = RandomForestRegressor(n_estimators=100, random_state=42)\n",
    "rf.fit(X_train, y_train)\n",
    "rf_pred= rf.predict(X_test)\n",
    "mean_squared = mean_squared_error(y_test,rf_pred)\n",
    "print(f\"The result of the mean squared error for Random Forest is : {mean_squared}\")\n",
    "print(f\"The coefficient of determination for Random Forest Regression is: {r2_score(y_test,rf_pred)}\")"
   ]
  },
  {
   "cell_type": "code",
   "execution_count": null,
   "id": "ccb5d23f",
   "metadata": {
    "colab": {
     "base_uri": "https://localhost:8080/"
    },
    "executionInfo": {
     "elapsed": 287,
     "status": "ok",
     "timestamp": 1684266486018,
     "user": {
      "displayName": "Timilehin Osinuga",
      "userId": "02674228651306861961"
     },
     "user_tz": -60
    },
    "id": "ccb5d23f",
    "outputId": "872b214d-fa17-4d34-e93b-2ca77054bcd0"
   },
   "outputs": [
    {
     "data": {
      "text/plain": [
       "array([8.47199799e-01, 1.00299404e-01, 3.26921598e-02, 1.57522664e-02,\n",
       "       7.02542146e-04, 1.27808491e-03, 6.98521615e-04, 1.37722162e-03])"
      ]
     },
     "execution_count": 49,
     "metadata": {},
     "output_type": "execute_result"
    }
   ],
   "source": [
    "#checking the imprtances\n",
    "rf.feature_importances_"
   ]
  },
  {
   "cell_type": "code",
   "execution_count": null,
   "id": "0d6f69d6",
   "metadata": {
    "colab": {
     "base_uri": "https://localhost:8080/"
    },
    "executionInfo": {
     "elapsed": 202,
     "status": "ok",
     "timestamp": 1684266489590,
     "user": {
      "displayName": "Timilehin Osinuga",
      "userId": "02674228651306861961"
     },
     "user_tz": -60
    },
    "id": "0d6f69d6",
    "outputId": "e4474fe4-7f39-4da9-f273-62c01830c96a"
   },
   "outputs": [
    {
     "name": "stdout",
     "output_type": "stream",
     "text": [
      "[8.47199799e-01 1.00299404e-01 3.26921598e-02 1.57522664e-02\n",
      " 7.02542146e-04 1.27808491e-03 6.98521615e-04 1.37722162e-03]\n"
     ]
    }
   ],
   "source": [
    "print(rf.feature_importances_)"
   ]
  },
  {
   "cell_type": "code",
   "execution_count": null,
   "id": "bac4690d",
   "metadata": {
    "colab": {
     "base_uri": "https://localhost:8080/"
    },
    "executionInfo": {
     "elapsed": 213,
     "status": "ok",
     "timestamp": 1684266494314,
     "user": {
      "displayName": "Timilehin Osinuga",
      "userId": "02674228651306861961"
     },
     "user_tz": -60
    },
    "id": "bac4690d",
    "outputId": "7efa14cb-7908-43e0-8a17-c260becb5595"
   },
   "outputs": [
    {
     "name": "stdout",
     "output_type": "stream",
     "text": [
      "        Feature  Importance\n",
      "0      NA_Sales    0.847200\n",
      "1      EU_Sales    0.100299\n",
      "2      JP_Sales    0.032692\n",
      "3   Other_Sales    0.015752\n",
      "4    User_Count    0.001377\n",
      "5    User_Score    0.001278\n",
      "6  Critic_Score    0.000703\n",
      "7  Critic_Count    0.000699\n"
     ]
    }
   ],
   "source": [
    "#checking the importance\n",
    "importances = pd.DataFrame({'Feature': X.columns, 'Importance': rf.feature_importances_})\n",
    "importances = importances.sort_values('Importance', ascending=False).reset_index(drop=True)\n",
    "print(importances.head(10))"
   ]
  },
  {
   "cell_type": "code",
   "execution_count": null,
   "id": "8eaa327d",
   "metadata": {
    "colab": {
     "base_uri": "https://localhost:8080/"
    },
    "executionInfo": {
     "elapsed": 1409,
     "status": "ok",
     "timestamp": 1684266498787,
     "user": {
      "displayName": "Timilehin Osinuga",
      "userId": "02674228651306861961"
     },
     "user_tz": -60
    },
    "id": "8eaa327d",
    "outputId": "351d9443-5bb8-4f02-e71f-8e5ef9feb185"
   },
   "outputs": [
    {
     "name": "stdout",
     "output_type": "stream",
     "text": [
      "The result of the mean squared error is : 0.5964742505551635\n",
      "The coefficient of determination is: 0.855503696366023\n"
     ]
    }
   ],
   "source": [
    "# Gradient Boosting Regression\n",
    "gb = GradientBoostingRegressor(n_estimators=100, random_state=42)\n",
    "gb.fit(X_train, y_train)\n",
    "y_pred_gb = gb.predict(X_test)\n",
    "mean_squared = mean_squared_error(y_test,y_pred_gb)\n",
    "print(f\"The result of the mean squared error is : {mean_squared}\")\n",
    "print(f\"The coefficient of determination is: {r2_score(y_test,y_pred_gb)}\")"
   ]
  },
  {
   "cell_type": "code",
   "execution_count": null,
   "id": "9d252744",
   "metadata": {
    "colab": {
     "base_uri": "https://localhost:8080/"
    },
    "executionInfo": {
     "elapsed": 198,
     "status": "ok",
     "timestamp": 1684266502395,
     "user": {
      "displayName": "Timilehin Osinuga",
      "userId": "02674228651306861961"
     },
     "user_tz": -60
    },
    "id": "9d252744",
    "outputId": "e0e16165-8ff7-4c7e-fb16-83feddad21b2"
   },
   "outputs": [
    {
     "name": "stdout",
     "output_type": "stream",
     "text": [
      "[7.61222666e-01 1.58302299e-01 5.13008775e-02 2.90217975e-02\n",
      " 2.47928699e-05 1.63566779e-05 4.86167729e-05 6.25938202e-05]\n"
     ]
    }
   ],
   "source": [
    "print(gb.feature_importances_)"
   ]
  },
  {
   "cell_type": "code",
   "execution_count": null,
   "id": "b81b0475",
   "metadata": {
    "colab": {
     "base_uri": "https://localhost:8080/"
    },
    "executionInfo": {
     "elapsed": 201,
     "status": "ok",
     "timestamp": 1684266506170,
     "user": {
      "displayName": "Timilehin Osinuga",
      "userId": "02674228651306861961"
     },
     "user_tz": -60
    },
    "id": "b81b0475",
    "outputId": "16ba8a08-6174-4ac8-c805-858b16654fd6"
   },
   "outputs": [
    {
     "name": "stdout",
     "output_type": "stream",
     "text": [
      "        Feature  Importance\n",
      "0      NA_Sales    0.761223\n",
      "1      EU_Sales    0.158302\n",
      "2      JP_Sales    0.051301\n",
      "3   Other_Sales    0.029022\n",
      "4    User_Count    0.000063\n",
      "5  Critic_Count    0.000049\n",
      "6  Critic_Score    0.000025\n",
      "7    User_Score    0.000016\n"
     ]
    }
   ],
   "source": [
    "importances = pd.DataFrame({'Feature': X.columns, 'Importance': gb.feature_importances_})\n",
    "importances = importances.sort_values('Importance', ascending=False).reset_index(drop=True)\n",
    "print(importances.head(10))"
   ]
  },
  {
   "cell_type": "code",
   "execution_count": null,
   "id": "e6bcad99",
   "metadata": {
    "colab": {
     "base_uri": "https://localhost:8080/"
    },
    "executionInfo": {
     "elapsed": 211,
     "status": "ok",
     "timestamp": 1684266519055,
     "user": {
      "displayName": "Timilehin Osinuga",
      "userId": "02674228651306861961"
     },
     "user_tz": -60
    },
    "id": "e6bcad99",
    "outputId": "1a225774-e29b-446d-a036-50480dba67f0"
   },
   "outputs": [
    {
     "name": "stdout",
     "output_type": "stream",
     "text": [
      "Coefficients: [0.7260019  0.42723184 0.24245814 0.1224739  0.         0.\n",
      " 0.         0.        ]\n",
      "Intercept: 0.5255543925233646\n",
      "The result of the mean squared error is : 0.0273979806833162\n",
      "The coefficient of determination is: 0.9933628200511765\n"
     ]
    }
   ],
   "source": [
    "# Lasso Regression\n",
    "lasso = Lasso(alpha=0.1)\n",
    "lasso.fit(X_train, y_train)\n",
    "y_pred_lasso = lasso.predict(X_test)\n",
    "#print(\"Lasso Regression MSE:\", mean_squared_error(y_test, y_pred_lasso))\n",
    "print(\"Coefficients:\", lasso.coef_)\n",
    "print(\"Intercept:\", lasso.intercept_)\n",
    "mean_squared = mean_squared_error(y_test,y_pred_lasso)\n",
    "print(f\"The result of the mean squared error is : {mean_squared}\")\n",
    "print(f\"The coefficient of determination is: {r2_score(y_test,y_pred_lasso)}\")"
   ]
  },
  {
   "cell_type": "code",
   "execution_count": null,
   "id": "91f663ad",
   "metadata": {
    "colab": {
     "base_uri": "https://localhost:8080/"
    },
    "executionInfo": {
     "elapsed": 218,
     "status": "ok",
     "timestamp": 1684266526051,
     "user": {
      "displayName": "Timilehin Osinuga",
      "userId": "02674228651306861961"
     },
     "user_tz": -60
    },
    "id": "91f663ad",
    "outputId": "efa06302-ae10-42d5-e1e0-187b1270e45e"
   },
   "outputs": [
    {
     "name": "stdout",
     "output_type": "stream",
     "text": [
      "       Variable  Coefficient\n",
      "0      NA_Sales     0.726002\n",
      "1      EU_Sales     0.427232\n",
      "2      JP_Sales     0.242458\n",
      "3   Other_Sales     0.122474\n",
      "4  Critic_Score     0.000000\n",
      "5    User_Score     0.000000\n",
      "6  Critic_Count     0.000000\n",
      "7    User_Count     0.000000\n"
     ]
    }
   ],
   "source": [
    "# Print the coefficients for each variable\n",
    "coefficients = pd.DataFrame({'Variable': X.columns, 'Coefficient': lasso.coef_})\n",
    "coefficients.sort_values(by='Coefficient', ascending=False, inplace=True)\n",
    "print(coefficients)"
   ]
  },
  {
   "cell_type": "code",
   "execution_count": null,
   "id": "45320328",
   "metadata": {
    "colab": {
     "base_uri": "https://localhost:8080/"
    },
    "executionInfo": {
     "elapsed": 275,
     "status": "ok",
     "timestamp": 1684266530186,
     "user": {
      "displayName": "Timilehin Osinuga",
      "userId": "02674228651306861961"
     },
     "user_tz": -60
    },
    "id": "45320328",
    "outputId": "1dc73dbc-c452-482c-86cc-e895b0f80715"
   },
   "outputs": [
    {
     "name": "stdout",
     "output_type": "stream",
     "text": [
      "Coefficients: [ 7.54477136e-01  4.41860571e-01  3.08074266e-01  1.80878657e-01\n",
      " -7.05437682e-06 -6.77296659e-05 -5.07533973e-05 -1.01165761e-04]\n",
      "Intercept: 0.5255543925233646\n",
      "The result of the mean squared error for ridge regression is : 2.7819147401899672e-05\n",
      "The coefficient of determination for ridge regression is: 0.9999932607921196\n"
     ]
    }
   ],
   "source": [
    "from sklearn.linear_model import Ridge\n",
    "# Ridge Regression\n",
    "ridge = Ridge(alpha=0.5)\n",
    "ridge.fit(X_train, y_train)\n",
    "y_pred_ridge = ridge.predict(X_test)\n",
    "#print(\"Lasso Regression MSE:\", mean_squared_error(y_test, y_pred_lasso))\n",
    "print(\"Coefficients:\", ridge.coef_)\n",
    "print(\"Intercept:\", ridge.intercept_)\n",
    "mean_squared = mean_squared_error(y_test,y_pred_ridge)\n",
    "print(f\"The result of the mean squared error for ridge regression is : {mean_squared}\")\n",
    "print(f\"The coefficient of determination for ridge regression is: {r2_score(y_test,y_pred_ridge)}\")"
   ]
  },
  {
   "cell_type": "code",
   "execution_count": null,
   "id": "e1f79dfc",
   "metadata": {
    "colab": {
     "base_uri": "https://localhost:8080/"
    },
    "executionInfo": {
     "elapsed": 201,
     "status": "ok",
     "timestamp": 1684266534318,
     "user": {
      "displayName": "Timilehin Osinuga",
      "userId": "02674228651306861961"
     },
     "user_tz": -60
    },
    "id": "e1f79dfc",
    "outputId": "44a03ff6-c4f3-4a49-a2b6-a574b7d95222"
   },
   "outputs": [
    {
     "name": "stdout",
     "output_type": "stream",
     "text": [
      "       Variable  Coefficient\n",
      "0      NA_Sales     0.754477\n",
      "1      EU_Sales     0.441861\n",
      "2      JP_Sales     0.308074\n",
      "3   Other_Sales     0.180879\n",
      "4  Critic_Score    -0.000007\n",
      "6  Critic_Count    -0.000051\n",
      "5    User_Score    -0.000068\n",
      "7    User_Count    -0.000101\n"
     ]
    }
   ],
   "source": [
    "# Print the coefficients for each variable\n",
    "coefficients = pd.DataFrame({'Variable': X.columns, 'Coefficient': ridge.coef_})\n",
    "coefficients.sort_values(by='Coefficient', ascending=False, inplace=True)\n",
    "print(coefficients)"
   ]
  },
  {
   "cell_type": "code",
   "execution_count": null,
   "id": "edfc301e",
   "metadata": {
    "colab": {
     "base_uri": "https://localhost:8080/"
    },
    "executionInfo": {
     "elapsed": 198,
     "status": "ok",
     "timestamp": 1684266538271,
     "user": {
      "displayName": "Timilehin Osinuga",
      "userId": "02674228651306861961"
     },
     "user_tz": -60
    },
    "id": "edfc301e",
    "outputId": "ce80a70c-4142-44ff-a566-0db29cf54b98"
   },
   "outputs": [
    {
     "name": "stdout",
     "output_type": "stream",
     "text": [
      "Support Vector Regression MSE: 0.005977788737775397\n",
      "Coefficients: [[ 0.75047819  0.43755661  0.30844844  0.18189074 -0.00222653  0.00464231\n",
      "   0.00192165  0.0007604 ]]\n",
      "Intercept: [0.60202856]\n",
      "The result of the mean squared error is : 0.005977788737775397\n",
      "The coefficient of determination is: 0.9985518765047956\n"
     ]
    }
   ],
   "source": [
    "# Support Vector Regression\n",
    "svr = SVR(kernel='linear')\n",
    "svr.fit(X_train, y_train)\n",
    "y_pred_svr = svr.predict(X_test)\n",
    "print(\"Support Vector Regression MSE:\", mean_squared_error(y_test, y_pred_svr))\n",
    "print(\"Coefficients:\", svr.coef_)\n",
    "print(\"Intercept:\", svr.intercept_)\n",
    "mean_squared = mean_squared_error(y_test,y_pred_svr)\n",
    "print(f\"The result of the mean squared error is : {mean_squared}\")\n",
    "print(f\"The coefficient of determination is: {r2_score(y_test,y_pred_svr)}\")"
   ]
  },
  {
   "cell_type": "code",
   "execution_count": null,
   "id": "5e7296b8",
   "metadata": {
    "colab": {
     "base_uri": "https://localhost:8080/"
    },
    "executionInfo": {
     "elapsed": 522,
     "status": "ok",
     "timestamp": 1684266542497,
     "user": {
      "displayName": "Timilehin Osinuga",
      "userId": "02674228651306861961"
     },
     "user_tz": -60
    },
    "id": "5e7296b8",
    "outputId": "09693c5e-6e46-41b9-f9cf-9a51bfdf878b"
   },
   "outputs": [
    {
     "name": "stdout",
     "output_type": "stream",
     "text": [
      "The result of the mean squared error is : 0.9251125424432489\n",
      "The coefficient of determination is: 0.7758908407126328\n"
     ]
    }
   ],
   "source": [
    "# K Neighbors Regression\n",
    "kn = KNeighborsRegressor(n_neighbors=5, weights='distance')\n",
    "kn.fit(X_train, y_train)\n",
    "y_pred_kn = kn.predict(X_test)\n",
    "mean_squared = mean_squared_error(y_test,y_pred_kn)\n",
    "print(f\"The result of the mean squared error is : {mean_squared}\")\n",
    "print(f\"The coefficient of determination is: {r2_score(y_test,y_pred_kn)}\")"
   ]
  },
  {
   "cell_type": "code",
   "execution_count": null,
   "id": "80b1592f",
   "metadata": {
    "colab": {
     "base_uri": "https://localhost:8080/"
    },
    "executionInfo": {
     "elapsed": 409,
     "status": "ok",
     "timestamp": 1684266545939,
     "user": {
      "displayName": "Timilehin Osinuga",
      "userId": "02674228651306861961"
     },
     "user_tz": -60
    },
    "id": "80b1592f",
    "outputId": "080c5a4e-1450-49c7-f8e1-e55f7da1f49e"
   },
   "outputs": [
    {
     "name": "stdout",
     "output_type": "stream",
     "text": [
      "The result of the mean squared error for decision tree regressor is : 0.6068986036952043\n",
      "The coefficient of determination for decision tree regressor is: 0.8529783895399375\n"
     ]
    }
   ],
   "source": [
    "# fit decision tree regression model\n",
    "from sklearn.tree import DecisionTreeRegressor\n",
    "dt = DecisionTreeRegressor(random_state=42)\n",
    "dt.fit(X_train, y_train)\n",
    "y_pred_dt = dt.predict(X_test)\n",
    "mse_dt = mean_squared_error(y_test, y_pred_dt)\n",
    "r2_dt = r2_score(y_test, y_pred_dt)\n",
    "print(f\"The result of the mean squared error for decision tree regressor is : {mse_dt}\")\n",
    "print(f\"The coefficient of determination for decision tree regressor is: {r2_score(y_test,y_pred_dt)}\")"
   ]
  },
  {
   "cell_type": "code",
   "execution_count": null,
   "id": "2ec0b5b8",
   "metadata": {
    "colab": {
     "base_uri": "https://localhost:8080/"
    },
    "executionInfo": {
     "elapsed": 376,
     "status": "ok",
     "timestamp": 1684266550169,
     "user": {
      "displayName": "Timilehin Osinuga",
      "userId": "02674228651306861961"
     },
     "user_tz": -60
    },
    "id": "2ec0b5b8",
    "outputId": "322fc562-17d6-42e8-edbd-ef2f1f4cae67"
   },
   "outputs": [
    {
     "name": "stdout",
     "output_type": "stream",
     "text": [
      "[8.50569057e-01 1.08908158e-01 2.70927498e-02 1.05574426e-02\n",
      " 8.07320068e-04 2.81465393e-04 1.03740447e-03 7.46402658e-04]\n"
     ]
    }
   ],
   "source": [
    "print(dt.feature_importances_)"
   ]
  },
  {
   "cell_type": "code",
   "execution_count": null,
   "id": "caf5f350",
   "metadata": {
    "colab": {
     "base_uri": "https://localhost:8080/"
    },
    "executionInfo": {
     "elapsed": 212,
     "status": "ok",
     "timestamp": 1684266554764,
     "user": {
      "displayName": "Timilehin Osinuga",
      "userId": "02674228651306861961"
     },
     "user_tz": -60
    },
    "id": "caf5f350",
    "outputId": "fb1b884f-9955-4900-8945-f557e26c29bd"
   },
   "outputs": [
    {
     "name": "stdout",
     "output_type": "stream",
     "text": [
      "        Feature  Importance\n",
      "0      NA_Sales    0.850569\n",
      "1      EU_Sales    0.108908\n",
      "2      JP_Sales    0.027093\n",
      "3   Other_Sales    0.010557\n",
      "4  Critic_Count    0.001037\n",
      "5  Critic_Score    0.000807\n",
      "6    User_Count    0.000746\n",
      "7    User_Score    0.000281\n"
     ]
    }
   ],
   "source": [
    "importances = pd.DataFrame({'Feature': X.columns, 'Importance': dt.feature_importances_})\n",
    "importances = importances.sort_values('Importance', ascending=False).reset_index(drop=True)\n",
    "print(importances.head(10))"
   ]
  },
  {
   "cell_type": "code",
   "execution_count": null,
   "id": "715e817d",
   "metadata": {
    "colab": {
     "base_uri": "https://localhost:8080/"
    },
    "executionInfo": {
     "elapsed": 231,
     "status": "ok",
     "timestamp": 1684266558195,
     "user": {
      "displayName": "Timilehin Osinuga",
      "userId": "02674228651306861961"
     },
     "user_tz": -60
    },
    "id": "715e817d",
    "outputId": "c4f04e70-a118-4aef-8a52-ca3fc23ada68"
   },
   "outputs": [
    {
     "name": "stdout",
     "output_type": "stream",
     "text": [
      "North America Sales:\n",
      "Critic_Count: 0.007747731649554954\n",
      "User_Count: 0.0002517133338773034\n",
      "Critic_Score: 0.008118862694803173\n",
      "User_Score: 0.0034354610547349855\n",
      "------------------------\n",
      "EU Sales:\n",
      "Critic_Count: 0.004759198362315893\n",
      "User_Count: 0.00024135085589988144\n",
      "Critic_Score: 0.004563215024855755\n",
      "User_Score: 0.0028062101301835406\n",
      "------------------------\n",
      "Japan Sales:\n",
      "Critic_Count: -1.9421629402395517e-05\n",
      "User_Count: 1.0648128822329076e-05\n",
      "Critic_Score: 0.00176837493193132\n",
      "User_Score: 0.01234862028947768\n"
     ]
    }
   ],
   "source": [
    "from sklearn.linear_model import LinearRegression\n",
    "\n",
    "#  a new dataframe with the relevant variables\n",
    "data_reg = data[['NA_Sales', 'EU_Sales', 'JP_Sales', 'Critic_Count', 'User_Count', 'Critic_Score', 'User_Score']]\n",
    "\n",
    "#  a linear regression model for each region\n",
    "reg_na = LinearRegression().fit(data_reg[['Critic_Count', 'User_Count', 'Critic_Score', 'User_Score']], data_reg['NA_Sales'])\n",
    "reg_eu = LinearRegression().fit(data_reg[['Critic_Count', 'User_Count', 'Critic_Score', 'User_Score']], data_reg['EU_Sales'])\n",
    "reg_jp = LinearRegression().fit(data_reg[['Critic_Count', 'User_Count', 'Critic_Score', 'User_Score']], data_reg['JP_Sales'])\n",
    "\n",
    "\n",
    "#print(reg_na.feature_importances_)\n",
    "# Print the coefficients for each region\n",
    "print('North America Sales:')\n",
    "print('Critic_Count:', reg_na.coef_[0])\n",
    "print('User_Count:', reg_na.coef_[1])\n",
    "print('Critic_Score:', reg_na.coef_[2])\n",
    "print('User_Score:', reg_na.coef_[3])\n",
    "print('------------------------')\n",
    "print('EU Sales:')\n",
    "print('Critic_Count:', reg_eu.coef_[0])\n",
    "print('User_Count:', reg_eu.coef_[1])\n",
    "print('Critic_Score:', reg_eu.coef_[2])\n",
    "print('User_Score:', reg_eu.coef_[3])\n",
    "print('------------------------')\n",
    "print('Japan Sales:')\n",
    "print('Critic_Count:', reg_jp.coef_[0])\n",
    "print('User_Count:', reg_jp.coef_[1])\n",
    "print('Critic_Score:', reg_jp.coef_[2])\n",
    "print('User_Score:', reg_jp.coef_[3])\n"
   ]
  },
  {
   "cell_type": "markdown",
   "id": "d0328a96",
   "metadata": {
    "id": "d0328a96"
   },
   "source": [
    "CLASSIFICATION ANALYSIS"
   ]
  },
  {
   "cell_type": "code",
   "execution_count": null,
   "id": "1665f097",
   "metadata": {
    "id": "1665f097"
   },
   "outputs": [],
   "source": [
    "#import libraries\n",
    "import pandas as pd\n",
    "from sklearn.model_selection import train_test_split\n",
    "from sklearn.preprocessing import LabelEncoder\n",
    "from sklearn.tree import DecisionTreeClassifier\n",
    "from sklearn.neighbors import KNeighborsClassifier\n",
    "from sklearn.naive_bayes import GaussianNB\n",
    "from sklearn.ensemble import RandomForestClassifier\n",
    "from sklearn.linear_model import LogisticRegression\n",
    "from sklearn.metrics import accuracy_score\n",
    "from sklearn.preprocessing import MinMaxScaler\n",
    "from sklearn.metrics import confusion_matrix, classification_report\n",
    "from sklearn.linear_model import LogisticRegression"
   ]
  },
  {
   "cell_type": "code",
   "execution_count": null,
   "id": "56592eea",
   "metadata": {
    "id": "56592eea"
   },
   "outputs": [],
   "source": [
    "data_reg = data[['NA_Sales', 'EU_Sales', 'JP_Sales', 'Critic_Count', 'User_Count', 'Critic_Score', 'User_Score', 'Global_Sales','Genre','Rating','Publisher','Developer','Platform','Year_of_Release']]"
   ]
  },
  {
   "cell_type": "code",
   "execution_count": null,
   "id": "998a60eb",
   "metadata": {
    "colab": {
     "base_uri": "https://localhost:8080/"
    },
    "executionInfo": {
     "elapsed": 247,
     "status": "ok",
     "timestamp": 1684266569798,
     "user": {
      "displayName": "Timilehin Osinuga",
      "userId": "02674228651306861961"
     },
     "user_tz": -60
    },
    "id": "998a60eb",
    "outputId": "cc0b852a-39da-41e1-9be3-0bccd090fe2f"
   },
   "outputs": [
    {
     "name": "stderr",
     "output_type": "stream",
     "text": [
      "<ipython-input-68-078461a1b690>:4: SettingWithCopyWarning: \n",
      "A value is trying to be set on a copy of a slice from a DataFrame.\n",
      "Try using .loc[row_indexer,col_indexer] = value instead\n",
      "\n",
      "See the caveats in the documentation: https://pandas.pydata.org/pandas-docs/stable/user_guide/indexing.html#returning-a-view-versus-a-copy\n",
      "  data_reg['Platform'] = le.fit_transform(data_reg['Platform'])\n",
      "<ipython-input-68-078461a1b690>:5: SettingWithCopyWarning: \n",
      "A value is trying to be set on a copy of a slice from a DataFrame.\n",
      "Try using .loc[row_indexer,col_indexer] = value instead\n",
      "\n",
      "See the caveats in the documentation: https://pandas.pydata.org/pandas-docs/stable/user_guide/indexing.html#returning-a-view-versus-a-copy\n",
      "  data_reg['Genre'] = le.fit_transform(data_reg['Genre'])\n",
      "<ipython-input-68-078461a1b690>:6: SettingWithCopyWarning: \n",
      "A value is trying to be set on a copy of a slice from a DataFrame.\n",
      "Try using .loc[row_indexer,col_indexer] = value instead\n",
      "\n",
      "See the caveats in the documentation: https://pandas.pydata.org/pandas-docs/stable/user_guide/indexing.html#returning-a-view-versus-a-copy\n",
      "  data_reg['Publisher'] = le.fit_transform(data_reg['Publisher'])\n",
      "<ipython-input-68-078461a1b690>:7: SettingWithCopyWarning: \n",
      "A value is trying to be set on a copy of a slice from a DataFrame.\n",
      "Try using .loc[row_indexer,col_indexer] = value instead\n",
      "\n",
      "See the caveats in the documentation: https://pandas.pydata.org/pandas-docs/stable/user_guide/indexing.html#returning-a-view-versus-a-copy\n",
      "  data_reg['Developer'] = le.fit_transform(data_reg['Developer'])\n",
      "<ipython-input-68-078461a1b690>:8: SettingWithCopyWarning: \n",
      "A value is trying to be set on a copy of a slice from a DataFrame.\n",
      "Try using .loc[row_indexer,col_indexer] = value instead\n",
      "\n",
      "See the caveats in the documentation: https://pandas.pydata.org/pandas-docs/stable/user_guide/indexing.html#returning-a-view-versus-a-copy\n",
      "  data_reg['Rating'] = le.fit_transform(data_reg['Rating'])\n"
     ]
    }
   ],
   "source": [
    "#convert target variable to numerical using label encoding\n",
    "le = LabelEncoder()\n",
    "\n",
    "data_reg['Platform'] = le.fit_transform(data_reg['Platform'])\n",
    "data_reg['Genre'] = le.fit_transform(data_reg['Genre'])\n",
    "data_reg['Publisher'] = le.fit_transform(data_reg['Publisher'])\n",
    "data_reg['Developer'] = le.fit_transform(data_reg['Developer'])\n",
    "data_reg['Rating'] = le.fit_transform(data_reg['Rating'])\n"
   ]
  },
  {
   "cell_type": "markdown",
   "id": "dc957c4d",
   "metadata": {
    "id": "dc957c4d"
   },
   "source": [
    "Rating"
   ]
  },
  {
   "cell_type": "code",
   "execution_count": null,
   "id": "5334a70a",
   "metadata": {
    "id": "5334a70a"
   },
   "outputs": [],
   "source": [
    "X = data_reg.drop(['Rating'], axis=1)\n",
    "y = data['Rating']"
   ]
  },
  {
   "cell_type": "code",
   "execution_count": null,
   "id": "3186b10b",
   "metadata": {
    "id": "3186b10b"
   },
   "outputs": [],
   "source": [
    "X_train, X_test, y_train, y_test = train_test_split(X, y, test_size=0.2, random_state=42)"
   ]
  },
  {
   "cell_type": "code",
   "execution_count": null,
   "id": "72d36c18",
   "metadata": {
    "colab": {
     "base_uri": "https://localhost:8080/"
    },
    "executionInfo": {
     "elapsed": 3463,
     "status": "ok",
     "timestamp": 1684266602483,
     "user": {
      "displayName": "Timilehin Osinuga",
      "userId": "02674228651306861961"
     },
     "user_tz": -60
    },
    "id": "72d36c18",
    "outputId": "ba21e7be-844c-461b-d7b1-4af386bbec2d"
   },
   "outputs": [
    {
     "data": {
      "text/plain": [
       "0.9999252336448599"
      ]
     },
     "execution_count": 71,
     "metadata": {},
     "output_type": "execute_result"
    }
   ],
   "source": [
    "#train the random forest classifier\n",
    "rfc = RandomForestClassifier()\n",
    "rfc.fit(X_train, y_train)\n",
    "y_pred_rfc = rfc.predict(X_test)\n",
    "y_train_pred = rfc.predict(X_train)\n",
    "#train accuracy \n",
    "train_accuracy = accuracy_score (y_train, y_train_pred)\n",
    "train_accuracy\n"
   ]
  },
  {
   "cell_type": "code",
   "execution_count": null,
   "id": "Oh-tAQCQdqk6",
   "metadata": {
    "colab": {
     "base_uri": "https://localhost:8080/"
    },
    "executionInfo": {
     "elapsed": 205,
     "status": "ok",
     "timestamp": 1684266605389,
     "user": {
      "displayName": "Timilehin Osinuga",
      "userId": "02674228651306861961"
     },
     "user_tz": -60
    },
    "id": "Oh-tAQCQdqk6",
    "outputId": "34782eb4-56fe-4c9e-e895-ff2f35536e49"
   },
   "outputs": [
    {
     "data": {
      "text/plain": [
       "0.8008373205741627"
      ]
     },
     "execution_count": 72,
     "metadata": {},
     "output_type": "execute_result"
    }
   ],
   "source": [
    "#test accuracy for random forest classifier\n",
    "y_test_pred = rfc.predict(X_test)\n",
    "test_accuracy = accuracy_score (y_test, y_test_pred)\n",
    "test_accuracy\n"
   ]
  },
  {
   "cell_type": "code",
   "execution_count": null,
   "id": "3176b9a8",
   "metadata": {
    "colab": {
     "base_uri": "https://localhost:8080/"
    },
    "executionInfo": {
     "elapsed": 607,
     "status": "ok",
     "timestamp": 1684266613378,
     "user": {
      "displayName": "Timilehin Osinuga",
      "userId": "02674228651306861961"
     },
     "user_tz": -60
    },
    "id": "3176b9a8",
    "outputId": "6e7759fd-295b-4d82-d26c-59c44e131824"
   },
   "outputs": [
    {
     "data": {
      "text/plain": [
       "0.9999252336448599"
      ]
     },
     "execution_count": 73,
     "metadata": {},
     "output_type": "execute_result"
    }
   ],
   "source": [
    "#train the decision tree classifier\n",
    "dt = DecisionTreeClassifier(random_state=42)\n",
    "dt.fit(X_train, y_train)\n",
    "y_pred_dt = dt.predict(X_test)\n",
    "y_train_pred = dt.predict(X_train)\n",
    "#train accuracy\n",
    "train_accuracy = accuracy_score (y_train, y_train_pred)\n",
    "train_accuracy\n"
   ]
  },
  {
   "cell_type": "code",
   "execution_count": null,
   "id": "jOMxftlKe5gf",
   "metadata": {
    "colab": {
     "base_uri": "https://localhost:8080/"
    },
    "executionInfo": {
     "elapsed": 931,
     "status": "ok",
     "timestamp": 1684266619080,
     "user": {
      "displayName": "Timilehin Osinuga",
      "userId": "02674228651306861961"
     },
     "user_tz": -60
    },
    "id": "jOMxftlKe5gf",
    "outputId": "3f0f54d9-6273-47b5-add3-92cb5e4f5514"
   },
   "outputs": [
    {
     "data": {
      "text/plain": [
       "0.7547846889952153"
      ]
     },
     "execution_count": 74,
     "metadata": {},
     "output_type": "execute_result"
    }
   ],
   "source": [
    "#test accuracy for decision tree classifier\n",
    "y_test_pred = dt.predict(X_test)\n",
    "test_accuracy = accuracy_score (y_test, y_test_pred)\n",
    "test_accuracy"
   ]
  },
  {
   "cell_type": "code",
   "execution_count": null,
   "id": "8d09dd8c",
   "metadata": {
    "colab": {
     "base_uri": "https://localhost:8080/"
    },
    "executionInfo": {
     "elapsed": 739,
     "status": "ok",
     "timestamp": 1684266634611,
     "user": {
      "displayName": "Timilehin Osinuga",
      "userId": "02674228651306861961"
     },
     "user_tz": -60
    },
    "id": "8d09dd8c",
    "outputId": "a8e0007b-a473-4590-8862-f6b19434f18e"
   },
   "outputs": [
    {
     "name": "stderr",
     "output_type": "stream",
     "text": [
      "/usr/local/lib/python3.10/dist-packages/sklearn/linear_model/_logistic.py:458: ConvergenceWarning: lbfgs failed to converge (status=1):\n",
      "STOP: TOTAL NO. of ITERATIONS REACHED LIMIT.\n",
      "\n",
      "Increase the number of iterations (max_iter) or scale the data as shown in:\n",
      "    https://scikit-learn.org/stable/modules/preprocessing.html\n",
      "Please also refer to the documentation for alternative solver options:\n",
      "    https://scikit-learn.org/stable/modules/linear_model.html#logistic-regression\n",
      "  n_iter_i = _check_optimize_result(\n"
     ]
    },
    {
     "data": {
      "text/plain": [
       "0.6870280373831775"
      ]
     },
     "execution_count": 75,
     "metadata": {},
     "output_type": "execute_result"
    }
   ],
   "source": [
    "#train the logistic regression\n",
    "lr = LogisticRegression()\n",
    "lr.fit(X_train, y_train)\n",
    "y_pred_lr = lr.predict(X_test)\n",
    "y_train_pred = lr.predict(X_train)\n",
    "#train_accuracy\n",
    "train_accuracy = accuracy_score (y_train, y_train_pred)\n",
    "train_accuracy\n"
   ]
  },
  {
   "cell_type": "code",
   "execution_count": null,
   "id": "OsXz3oBFfoZO",
   "metadata": {
    "colab": {
     "base_uri": "https://localhost:8080/"
    },
    "executionInfo": {
     "elapsed": 483,
     "status": "ok",
     "timestamp": 1684266640059,
     "user": {
      "displayName": "Timilehin Osinuga",
      "userId": "02674228651306861961"
     },
     "user_tz": -60
    },
    "id": "OsXz3oBFfoZO",
    "outputId": "146be2d2-4346-4182-c32c-13384af06502"
   },
   "outputs": [
    {
     "data": {
      "text/plain": [
       "0.6863038277511961"
      ]
     },
     "execution_count": 76,
     "metadata": {},
     "output_type": "execute_result"
    }
   ],
   "source": [
    "#test accuracy for logistic regression\n",
    "y_test_pred = lr.predict(X_test)\n",
    "test_accuracy = accuracy_score (y_test, y_test_pred)\n",
    "test_accuracy"
   ]
  },
  {
   "cell_type": "code",
   "execution_count": null,
   "id": "2abbad91",
   "metadata": {
    "colab": {
     "base_uri": "https://localhost:8080/"
    },
    "executionInfo": {
     "elapsed": 225,
     "status": "ok",
     "timestamp": 1684266650558,
     "user": {
      "displayName": "Timilehin Osinuga",
      "userId": "02674228651306861961"
     },
     "user_tz": -60
    },
    "id": "2abbad91",
    "outputId": "65911a08-2c02-405a-ca0b-d2587619fdac"
   },
   "outputs": [
    {
     "data": {
      "text/plain": [
       "0.41226168224299065"
      ]
     },
     "execution_count": 77,
     "metadata": {},
     "output_type": "execute_result"
    }
   ],
   "source": [
    "# Train the Naive Bayes Classifier\n",
    "gnb = GaussianNB()\n",
    "gnb.fit(X_train, y_train)\n",
    "y_pred_gnb = gnb.predict(X_test)\n",
    "y_train_pred = gnb.predict(X_train)\n",
    "#train accuracy\n",
    "train_accuracy = accuracy_score (y_train, y_train_pred)\n",
    "train_accuracy\n"
   ]
  },
  {
   "cell_type": "code",
   "execution_count": null,
   "id": "KglVnOc5gcn4",
   "metadata": {
    "colab": {
     "base_uri": "https://localhost:8080/"
    },
    "executionInfo": {
     "elapsed": 224,
     "status": "ok",
     "timestamp": 1684266654588,
     "user": {
      "displayName": "Timilehin Osinuga",
      "userId": "02674228651306861961"
     },
     "user_tz": -60
    },
    "id": "KglVnOc5gcn4",
    "outputId": "c8b311e3-1fcb-46e6-fbf3-eb97dbd9d232"
   },
   "outputs": [
    {
     "data": {
      "text/plain": [
       "0.41985645933014354"
      ]
     },
     "execution_count": 78,
     "metadata": {},
     "output_type": "execute_result"
    }
   ],
   "source": [
    "#test accuracy for Naive Bayes classifier\n",
    "y_test_pred = gnb.predict(X_test)\n",
    "test_accuracy = accuracy_score (y_test, y_test_pred)\n",
    "test_accuracy"
   ]
  },
  {
   "cell_type": "code",
   "execution_count": null,
   "id": "995a35c3",
   "metadata": {
    "colab": {
     "base_uri": "https://localhost:8080/"
    },
    "executionInfo": {
     "elapsed": 220,
     "status": "ok",
     "timestamp": 1684266662484,
     "user": {
      "displayName": "Timilehin Osinuga",
      "userId": "02674228651306861961"
     },
     "user_tz": -60
    },
    "id": "995a35c3",
    "outputId": "c628ca1d-e43c-48bc-8d7a-2d056e6b9e16"
   },
   "outputs": [
    {
     "name": "stdout",
     "output_type": "stream",
     "text": [
      "Classification Report:\n",
      "              precision    recall  f1-score   support\n",
      "\n",
      "          AO       0.00      0.00      0.00         1\n",
      "           E       0.88      0.94      0.91      2136\n",
      "        E10+       0.66      0.33      0.44       298\n",
      "          EC       1.00      1.00      1.00         1\n",
      "         K-A       0.00      0.00      0.00         1\n",
      "           M       0.69      0.56      0.62       327\n",
      "           T       0.59      0.66      0.62       580\n",
      "\n",
      "    accuracy                           0.80      3344\n",
      "   macro avg       0.55      0.50      0.51      3344\n",
      "weighted avg       0.79      0.80      0.79      3344\n",
      "\n",
      "Confusion Matrix:\n",
      "[[   0    0    0    0    0    1    0]\n",
      " [   0 2015   23    0    0   12   86]\n",
      " [   0  131   99    0    0    7   61]\n",
      " [   0    0    0    1    0    0    0]\n",
      " [   0    1    0    0    0    0    0]\n",
      " [   0   23    7    0    0  183  114]\n",
      " [   0  118   21    0    0   61  380]]\n"
     ]
    },
    {
     "name": "stderr",
     "output_type": "stream",
     "text": [
      "/usr/local/lib/python3.10/dist-packages/sklearn/metrics/_classification.py:1344: UndefinedMetricWarning: Precision and F-score are ill-defined and being set to 0.0 in labels with no predicted samples. Use `zero_division` parameter to control this behavior.\n",
      "  _warn_prf(average, modifier, msg_start, len(result))\n",
      "/usr/local/lib/python3.10/dist-packages/sklearn/metrics/_classification.py:1344: UndefinedMetricWarning: Precision and F-score are ill-defined and being set to 0.0 in labels with no predicted samples. Use `zero_division` parameter to control this behavior.\n",
      "  _warn_prf(average, modifier, msg_start, len(result))\n",
      "/usr/local/lib/python3.10/dist-packages/sklearn/metrics/_classification.py:1344: UndefinedMetricWarning: Precision and F-score are ill-defined and being set to 0.0 in labels with no predicted samples. Use `zero_division` parameter to control this behavior.\n",
      "  _warn_prf(average, modifier, msg_start, len(result))\n"
     ]
    }
   ],
   "source": [
    "#classification report for random forest classifier\n",
    "print('Classification Report:')\n",
    "print(classification_report(y_test,y_pred_rfc))\n",
    "print('Confusion Matrix:')\n",
    "print(confusion_matrix(y_test, y_pred_rfc))"
   ]
  },
  {
   "cell_type": "code",
   "execution_count": null,
   "id": "b237dd98",
   "metadata": {
    "colab": {
     "base_uri": "https://localhost:8080/"
    },
    "executionInfo": {
     "elapsed": 932,
     "status": "ok",
     "timestamp": 1684266766674,
     "user": {
      "displayName": "Timilehin Osinuga",
      "userId": "02674228651306861961"
     },
     "user_tz": -60
    },
    "id": "b237dd98",
    "outputId": "1f584c68-d4d3-41a6-fe9e-0bbf0e2289a5"
   },
   "outputs": [
    {
     "name": "stdout",
     "output_type": "stream",
     "text": [
      "Classification Report:\n",
      "              precision    recall  f1-score   support\n",
      "\n",
      "          AO       0.00      0.00      0.00         1\n",
      "           E       0.89      0.90      0.89      2136\n",
      "        E10+       0.45      0.40      0.42       298\n",
      "          EC       0.33      1.00      0.50         1\n",
      "         K-A       0.00      0.00      0.00         1\n",
      "           M       0.56      0.55      0.55       327\n",
      "          RP       0.00      0.00      0.00         0\n",
      "           T       0.52      0.54      0.53       580\n",
      "\n",
      "    accuracy                           0.75      3344\n",
      "   macro avg       0.34      0.42      0.36      3344\n",
      "weighted avg       0.75      0.75      0.75      3344\n",
      "\n",
      "Confusion Matrix:\n",
      "[[   0    0    0    0    0    1    0    0]\n",
      " [   0 1914   74    0    0   22    0  126]\n",
      " [   0  101  118    0    0   17    1   61]\n",
      " [   0    0    0    1    0    0    0    0]\n",
      " [   0    1    0    0    0    0    0    0]\n",
      " [   0   30   20    0    0  180    0   97]\n",
      " [   0    0    0    0    0    0    0    0]\n",
      " [   0  111   53    2    0  103    0  311]]\n"
     ]
    },
    {
     "name": "stderr",
     "output_type": "stream",
     "text": [
      "/usr/local/lib/python3.10/dist-packages/sklearn/metrics/_classification.py:1344: UndefinedMetricWarning: Precision and F-score are ill-defined and being set to 0.0 in labels with no predicted samples. Use `zero_division` parameter to control this behavior.\n",
      "  _warn_prf(average, modifier, msg_start, len(result))\n",
      "/usr/local/lib/python3.10/dist-packages/sklearn/metrics/_classification.py:1344: UndefinedMetricWarning: Recall and F-score are ill-defined and being set to 0.0 in labels with no true samples. Use `zero_division` parameter to control this behavior.\n",
      "  _warn_prf(average, modifier, msg_start, len(result))\n",
      "/usr/local/lib/python3.10/dist-packages/sklearn/metrics/_classification.py:1344: UndefinedMetricWarning: Precision and F-score are ill-defined and being set to 0.0 in labels with no predicted samples. Use `zero_division` parameter to control this behavior.\n",
      "  _warn_prf(average, modifier, msg_start, len(result))\n",
      "/usr/local/lib/python3.10/dist-packages/sklearn/metrics/_classification.py:1344: UndefinedMetricWarning: Recall and F-score are ill-defined and being set to 0.0 in labels with no true samples. Use `zero_division` parameter to control this behavior.\n",
      "  _warn_prf(average, modifier, msg_start, len(result))\n",
      "/usr/local/lib/python3.10/dist-packages/sklearn/metrics/_classification.py:1344: UndefinedMetricWarning: Precision and F-score are ill-defined and being set to 0.0 in labels with no predicted samples. Use `zero_division` parameter to control this behavior.\n",
      "  _warn_prf(average, modifier, msg_start, len(result))\n",
      "/usr/local/lib/python3.10/dist-packages/sklearn/metrics/_classification.py:1344: UndefinedMetricWarning: Recall and F-score are ill-defined and being set to 0.0 in labels with no true samples. Use `zero_division` parameter to control this behavior.\n",
      "  _warn_prf(average, modifier, msg_start, len(result))\n"
     ]
    }
   ],
   "source": [
    "#classification report for decision tree\n",
    "print('Classification Report:')\n",
    "print(classification_report(y_test,y_pred_dt))\n",
    "print('Confusion Matrix:')\n",
    "print(confusion_matrix(y_test, y_pred_dt))"
   ]
  },
  {
   "cell_type": "code",
   "execution_count": null,
   "id": "5e402d6d",
   "metadata": {
    "colab": {
     "base_uri": "https://localhost:8080/"
    },
    "executionInfo": {
     "elapsed": 221,
     "status": "ok",
     "timestamp": 1684266781186,
     "user": {
      "displayName": "Timilehin Osinuga",
      "userId": "02674228651306861961"
     },
     "user_tz": -60
    },
    "id": "5e402d6d",
    "outputId": "b314302d-ec0d-4bc8-8eb8-e716c3716c1e"
   },
   "outputs": [
    {
     "name": "stdout",
     "output_type": "stream",
     "text": [
      "Classification Report:\n",
      "              precision    recall  f1-score   support\n",
      "\n",
      "          AO       0.00      0.00      0.00         1\n",
      "           E       0.75      0.94      0.83      2136\n",
      "        E10+       0.00      0.00      0.00       298\n",
      "          EC       0.00      0.00      0.00         1\n",
      "         K-A       0.00      0.00      0.00         1\n",
      "           M       0.69      0.21      0.33       327\n",
      "           T       0.39      0.37      0.38       580\n",
      "\n",
      "    accuracy                           0.69      3344\n",
      "   macro avg       0.26      0.22      0.22      3344\n",
      "weighted avg       0.61      0.69      0.63      3344\n",
      "\n",
      "Confusion Matrix:\n",
      "[[   0    0    0    0    0    0    1]\n",
      " [   0 2009    0    0    0    5  122]\n",
      " [   0  220    0    0    0    6   72]\n",
      " [   0    1    0    0    0    0    0]\n",
      " [   0    1    0    0    0    0    0]\n",
      " [   0  108    0    0    0   70  149]\n",
      " [   0  344    0    0    0   20  216]]\n"
     ]
    },
    {
     "name": "stderr",
     "output_type": "stream",
     "text": [
      "/usr/local/lib/python3.10/dist-packages/sklearn/metrics/_classification.py:1344: UndefinedMetricWarning: Precision and F-score are ill-defined and being set to 0.0 in labels with no predicted samples. Use `zero_division` parameter to control this behavior.\n",
      "  _warn_prf(average, modifier, msg_start, len(result))\n",
      "/usr/local/lib/python3.10/dist-packages/sklearn/metrics/_classification.py:1344: UndefinedMetricWarning: Precision and F-score are ill-defined and being set to 0.0 in labels with no predicted samples. Use `zero_division` parameter to control this behavior.\n",
      "  _warn_prf(average, modifier, msg_start, len(result))\n",
      "/usr/local/lib/python3.10/dist-packages/sklearn/metrics/_classification.py:1344: UndefinedMetricWarning: Precision and F-score are ill-defined and being set to 0.0 in labels with no predicted samples. Use `zero_division` parameter to control this behavior.\n",
      "  _warn_prf(average, modifier, msg_start, len(result))\n"
     ]
    }
   ],
   "source": [
    "print('Classification Report:')\n",
    "print(classification_report(y_test,y_pred_lr))\n",
    "print('Confusion Matrix:')\n",
    "print(confusion_matrix(y_test, y_pred_lr))"
   ]
  },
  {
   "cell_type": "code",
   "execution_count": null,
   "id": "6ee0cfc1",
   "metadata": {
    "colab": {
     "base_uri": "https://localhost:8080/"
    },
    "executionInfo": {
     "elapsed": 206,
     "status": "ok",
     "timestamp": 1684266787110,
     "user": {
      "displayName": "Timilehin Osinuga",
      "userId": "02674228651306861961"
     },
     "user_tz": -60
    },
    "id": "6ee0cfc1",
    "outputId": "27a62a0a-62b5-4f08-98bf-3c2f3457efba"
   },
   "outputs": [
    {
     "name": "stdout",
     "output_type": "stream",
     "text": [
      "Classification Report:\n",
      "              precision    recall  f1-score   support\n",
      "\n",
      "          AO       0.00      0.00      0.00         1\n",
      "           E       0.74      0.48      0.58      2136\n",
      "        E10+       0.23      0.18      0.20       298\n",
      "          EC       0.00      1.00      0.00         1\n",
      "         K-A       0.00      0.00      0.00         1\n",
      "           M       0.48      0.22      0.30       327\n",
      "          RP       0.00      0.00      0.00         0\n",
      "           T       0.37      0.43      0.40       580\n",
      "\n",
      "    accuracy                           0.42      3344\n",
      "   macro avg       0.23      0.29      0.19      3344\n",
      "weighted avg       0.61      0.42      0.49      3344\n",
      "\n",
      "Confusion Matrix:\n",
      "[[   0    0    0    0    0    1    0    0]\n",
      " [   0 1027  101  791    0   33   11  173]\n",
      " [   0  107   54   44    0    9    2   82]\n",
      " [   0    0    0    1    0    0    0    0]\n",
      " [   0    1    0    0    0    0    0    0]\n",
      " [   0   47   23    7    0   72    3  175]\n",
      " [   0    0    0    0    0    0    0    0]\n",
      " [   0  199   60   30    0   36    5  250]]\n"
     ]
    },
    {
     "name": "stderr",
     "output_type": "stream",
     "text": [
      "/usr/local/lib/python3.10/dist-packages/sklearn/metrics/_classification.py:1344: UndefinedMetricWarning: Precision and F-score are ill-defined and being set to 0.0 in labels with no predicted samples. Use `zero_division` parameter to control this behavior.\n",
      "  _warn_prf(average, modifier, msg_start, len(result))\n",
      "/usr/local/lib/python3.10/dist-packages/sklearn/metrics/_classification.py:1344: UndefinedMetricWarning: Recall and F-score are ill-defined and being set to 0.0 in labels with no true samples. Use `zero_division` parameter to control this behavior.\n",
      "  _warn_prf(average, modifier, msg_start, len(result))\n",
      "/usr/local/lib/python3.10/dist-packages/sklearn/metrics/_classification.py:1344: UndefinedMetricWarning: Precision and F-score are ill-defined and being set to 0.0 in labels with no predicted samples. Use `zero_division` parameter to control this behavior.\n",
      "  _warn_prf(average, modifier, msg_start, len(result))\n",
      "/usr/local/lib/python3.10/dist-packages/sklearn/metrics/_classification.py:1344: UndefinedMetricWarning: Recall and F-score are ill-defined and being set to 0.0 in labels with no true samples. Use `zero_division` parameter to control this behavior.\n",
      "  _warn_prf(average, modifier, msg_start, len(result))\n",
      "/usr/local/lib/python3.10/dist-packages/sklearn/metrics/_classification.py:1344: UndefinedMetricWarning: Precision and F-score are ill-defined and being set to 0.0 in labels with no predicted samples. Use `zero_division` parameter to control this behavior.\n",
      "  _warn_prf(average, modifier, msg_start, len(result))\n",
      "/usr/local/lib/python3.10/dist-packages/sklearn/metrics/_classification.py:1344: UndefinedMetricWarning: Recall and F-score are ill-defined and being set to 0.0 in labels with no true samples. Use `zero_division` parameter to control this behavior.\n",
      "  _warn_prf(average, modifier, msg_start, len(result))\n"
     ]
    }
   ],
   "source": [
    "print('Classification Report:')\n",
    "print(classification_report(y_test,y_pred_gnb))\n",
    "print('Confusion Matrix:')\n",
    "print(confusion_matrix(y_test, y_pred_gnb))"
   ]
  },
  {
   "cell_type": "code",
   "execution_count": null,
   "id": "fa935405",
   "metadata": {
    "colab": {
     "base_uri": "https://localhost:8080/"
    },
    "executionInfo": {
     "elapsed": 1192,
     "status": "ok",
     "timestamp": 1684266794187,
     "user": {
      "displayName": "Timilehin Osinuga",
      "userId": "02674228651306861961"
     },
     "user_tz": -60
    },
    "id": "fa935405",
    "outputId": "89880af2-86f5-4119-9e72-fde84f774c0a"
   },
   "outputs": [
    {
     "name": "stderr",
     "output_type": "stream",
     "text": [
      "/usr/local/lib/python3.10/dist-packages/sklearn/model_selection/_split.py:700: UserWarning: The least populated class in y has only 2 members, which is less than n_splits=10.\n",
      "  warnings.warn(\n"
     ]
    },
    {
     "name": "stdout",
     "output_type": "stream",
     "text": [
      "Decision Tree Classifier:\n",
      "Cross-validation scores: [0.77727952 0.74663677 0.74887892 0.77503737 0.74887892 0.76813762\n",
      " 0.73074046 0.77038145 0.73223635 0.73597607]\n",
      "Mean score: 0.7534183461847631\n",
      "Standard deviation: 0.01701628858540001\n"
     ]
    }
   ],
   "source": [
    "#Train and evaluate the Decision Tree Classifier using cross-validation\n",
    "from sklearn.model_selection import cross_val_score\n",
    "dtc = DecisionTreeClassifier(random_state=42)\n",
    "scores = cross_val_score(dtc, X_train, y_train, cv=10)\n",
    "print(\"Decision Tree Classifier:\")\n",
    "print(\"Cross-validation scores:\", scores)\n",
    "print(\"Mean score:\", scores.mean())\n",
    "print('Standard deviation:', scores.std())"
   ]
  },
  {
   "cell_type": "markdown",
   "id": "d914a852",
   "metadata": {
    "id": "d914a852"
   },
   "source": [
    "GENRE"
   ]
  },
  {
   "cell_type": "code",
   "execution_count": null,
   "id": "b58eb3f2",
   "metadata": {
    "id": "b58eb3f2"
   },
   "outputs": [],
   "source": [
    "X = data_reg.drop(['Genre'], axis=1)\n",
    "y = data['Genre']"
   ]
  },
  {
   "cell_type": "code",
   "execution_count": null,
   "id": "10c62dc3",
   "metadata": {
    "id": "10c62dc3"
   },
   "outputs": [],
   "source": [
    "X_train, X_test, y_train, y_test = train_test_split(X, y, test_size=0.2, random_state=42)"
   ]
  },
  {
   "cell_type": "code",
   "execution_count": null,
   "id": "8ab20105",
   "metadata": {
    "colab": {
     "base_uri": "https://localhost:8080/"
    },
    "executionInfo": {
     "elapsed": 3925,
     "status": "ok",
     "timestamp": 1684266812194,
     "user": {
      "displayName": "Timilehin Osinuga",
      "userId": "02674228651306861961"
     },
     "user_tz": -60
    },
    "id": "8ab20105",
    "outputId": "240a3577-9ff7-42b9-d01b-18fa405cc7c3"
   },
   "outputs": [
    {
     "data": {
      "text/plain": [
       "0.9866168224299066"
      ]
     },
     "execution_count": 87,
     "metadata": {},
     "output_type": "execute_result"
    }
   ],
   "source": [
    "#train the random forest classifier\n",
    "rfc = RandomForestClassifier()\n",
    "rfc.fit(X_train, y_train)\n",
    "y_pred_rfc = rfc.predict(X_test)\n",
    "y_train_pred = rfc.predict(X_train)\n",
    "#train accuracy\n",
    "train_accuracy = accuracy_score(y_train, y_train_pred)\n",
    "train_accuracy\n"
   ]
  },
  {
   "cell_type": "code",
   "execution_count": null,
   "id": "T-1w7rfdkDae",
   "metadata": {
    "colab": {
     "base_uri": "https://localhost:8080/"
    },
    "executionInfo": {
     "elapsed": 309,
     "status": "ok",
     "timestamp": 1684266815929,
     "user": {
      "displayName": "Timilehin Osinuga",
      "userId": "02674228651306861961"
     },
     "user_tz": -60
    },
    "id": "T-1w7rfdkDae",
    "outputId": "159b772c-98ed-45e0-c4a4-08b3c6c20032"
   },
   "outputs": [
    {
     "data": {
      "text/plain": [
       "0.4144736842105263"
      ]
     },
     "execution_count": 88,
     "metadata": {},
     "output_type": "execute_result"
    }
   ],
   "source": [
    "#test accuracy for random forest classifier\n",
    "y_test_pred = rfc.predict(X_test)\n",
    "test_accuracy = accuracy_score(y_test, y_test_pred)\n",
    "test_accuracy"
   ]
  },
  {
   "cell_type": "code",
   "execution_count": null,
   "id": "494bb5fa",
   "metadata": {
    "colab": {
     "base_uri": "https://localhost:8080/"
    },
    "executionInfo": {
     "elapsed": 226,
     "status": "ok",
     "timestamp": 1684266822544,
     "user": {
      "displayName": "Timilehin Osinuga",
      "userId": "02674228651306861961"
     },
     "user_tz": -60
    },
    "id": "494bb5fa",
    "outputId": "d6c5947f-14c6-4c6c-cf7f-c18d799f5b4b"
   },
   "outputs": [
    {
     "data": {
      "text/plain": [
       "0.9866168224299066"
      ]
     },
     "execution_count": 89,
     "metadata": {},
     "output_type": "execute_result"
    }
   ],
   "source": [
    "#train the decision tree classifier\n",
    "dt = DecisionTreeClassifier()\n",
    "dt.fit(X_train, y_train)\n",
    "y_pred_dt = dt.predict(X_test)\n",
    "y_train_pred = dt.predict(X_train)\n",
    "#train accuracy\n",
    "train_accuracy = accuracy_score(y_train, y_train_pred)\n",
    "train_accuracy"
   ]
  },
  {
   "cell_type": "code",
   "execution_count": null,
   "id": "Yk-gqiNtlGzs",
   "metadata": {
    "colab": {
     "base_uri": "https://localhost:8080/"
    },
    "executionInfo": {
     "elapsed": 214,
     "status": "ok",
     "timestamp": 1684266826233,
     "user": {
      "displayName": "Timilehin Osinuga",
      "userId": "02674228651306861961"
     },
     "user_tz": -60
    },
    "id": "Yk-gqiNtlGzs",
    "outputId": "43eb227a-c824-4a06-dab4-08a7e1615b4c"
   },
   "outputs": [
    {
     "data": {
      "text/plain": [
       "0.36483253588516745"
      ]
     },
     "execution_count": 90,
     "metadata": {},
     "output_type": "execute_result"
    }
   ],
   "source": [
    "#test accuracy for decision tree classifier\n",
    "y_test_pred = dt.predict(X_test)\n",
    "test_accuracy = accuracy_score(y_test, y_test_pred)\n",
    "test_accuracy"
   ]
  },
  {
   "cell_type": "code",
   "execution_count": null,
   "id": "1d4cbd10",
   "metadata": {
    "colab": {
     "base_uri": "https://localhost:8080/"
    },
    "executionInfo": {
     "elapsed": 2150,
     "status": "ok",
     "timestamp": 1684266837466,
     "user": {
      "displayName": "Timilehin Osinuga",
      "userId": "02674228651306861961"
     },
     "user_tz": -60
    },
    "id": "1d4cbd10",
    "outputId": "14b45938-ee6c-4034-88f1-3cc630f02c30"
   },
   "outputs": [
    {
     "name": "stderr",
     "output_type": "stream",
     "text": [
      "/usr/local/lib/python3.10/dist-packages/sklearn/linear_model/_logistic.py:458: ConvergenceWarning: lbfgs failed to converge (status=1):\n",
      "STOP: TOTAL NO. of ITERATIONS REACHED LIMIT.\n",
      "\n",
      "Increase the number of iterations (max_iter) or scale the data as shown in:\n",
      "    https://scikit-learn.org/stable/modules/preprocessing.html\n",
      "Please also refer to the documentation for alternative solver options:\n",
      "    https://scikit-learn.org/stable/modules/linear_model.html#logistic-regression\n",
      "  n_iter_i = _check_optimize_result(\n"
     ]
    },
    {
     "data": {
      "text/plain": [
       "0.2188411214953271"
      ]
     },
     "execution_count": 91,
     "metadata": {},
     "output_type": "execute_result"
    }
   ],
   "source": [
    "#train the logistic regression\n",
    "lr = LogisticRegression()\n",
    "lr.fit(X_train, y_train)\n",
    "y_pred_lr = lr.predict(X_test)\n",
    "y_train_pred = lr.predict(X_train)\n",
    "#train accuracy\n",
    "train_accuracy = accuracy_score(y_train, y_train_pred)\n",
    "train_accuracy"
   ]
  },
  {
   "cell_type": "code",
   "execution_count": null,
   "id": "i7xUgH4Pl1KZ",
   "metadata": {
    "colab": {
     "base_uri": "https://localhost:8080/"
    },
    "executionInfo": {
     "elapsed": 225,
     "status": "ok",
     "timestamp": 1684266844785,
     "user": {
      "displayName": "Timilehin Osinuga",
      "userId": "02674228651306861961"
     },
     "user_tz": -60
    },
    "id": "i7xUgH4Pl1KZ",
    "outputId": "a872b3b8-070c-4265-f508-6db8542090fd"
   },
   "outputs": [
    {
     "data": {
      "text/plain": [
       "0.222188995215311"
      ]
     },
     "execution_count": 92,
     "metadata": {},
     "output_type": "execute_result"
    }
   ],
   "source": [
    "#test accuracy for logistic regression\n",
    "y_test_pred = lr.predict(X_test)\n",
    "test_accuracy = accuracy_score(y_test, y_test_pred)\n",
    "test_accuracy"
   ]
  },
  {
   "cell_type": "code",
   "execution_count": null,
   "id": "e6d3ed1f",
   "metadata": {
    "colab": {
     "base_uri": "https://localhost:8080/"
    },
    "executionInfo": {
     "elapsed": 303,
     "status": "ok",
     "timestamp": 1684266858957,
     "user": {
      "displayName": "Timilehin Osinuga",
      "userId": "02674228651306861961"
     },
     "user_tz": -60
    },
    "id": "e6d3ed1f",
    "outputId": "44491356-cf9e-4967-ba0e-a2b7d5c56ba4"
   },
   "outputs": [
    {
     "data": {
      "text/plain": [
       "0.17689719626168224"
      ]
     },
     "execution_count": 93,
     "metadata": {},
     "output_type": "execute_result"
    }
   ],
   "source": [
    "# Train the Naive Bayes Classifier\n",
    "gnb = GaussianNB()\n",
    "gnb.fit(X_train, y_train)\n",
    "y_pred_gnb = gnb.predict(X_test)\n",
    "y_train_pred = gnb.predict(X_train)\n",
    "#train accuracy\n",
    "train_accuracy = accuracy_score(y_train, y_train_pred)\n",
    "train_accuracy"
   ]
  },
  {
   "cell_type": "code",
   "execution_count": null,
   "id": "cO4XrKLMmzZx",
   "metadata": {
    "colab": {
     "base_uri": "https://localhost:8080/"
    },
    "executionInfo": {
     "elapsed": 234,
     "status": "ok",
     "timestamp": 1684266861635,
     "user": {
      "displayName": "Timilehin Osinuga",
      "userId": "02674228651306861961"
     },
     "user_tz": -60
    },
    "id": "cO4XrKLMmzZx",
    "outputId": "5b71ae98-6042-4e64-dbfb-97390040a0ea"
   },
   "outputs": [
    {
     "data": {
      "text/plain": [
       "0.17583732057416268"
      ]
     },
     "execution_count": 94,
     "metadata": {},
     "output_type": "execute_result"
    }
   ],
   "source": [
    "#test accuracy for Naive Bayes Classifier\n",
    "y_test_pred = gnb.predict(X_test)\n",
    "test_accuracy = accuracy_score(y_test, y_test_pred)\n",
    "test_accuracy"
   ]
  },
  {
   "cell_type": "code",
   "execution_count": null,
   "id": "f63b44d9",
   "metadata": {
    "colab": {
     "base_uri": "https://localhost:8080/"
    },
    "executionInfo": {
     "elapsed": 439,
     "status": "ok",
     "timestamp": 1684266869677,
     "user": {
      "displayName": "Timilehin Osinuga",
      "userId": "02674228651306861961"
     },
     "user_tz": -60
    },
    "id": "f63b44d9",
    "outputId": "d1e3f2ee-739b-46a1-976f-8c1b618b22ed"
   },
   "outputs": [
    {
     "name": "stdout",
     "output_type": "stream",
     "text": [
      "Classification Report:\n",
      "              precision    recall  f1-score   support\n",
      "\n",
      "      Action       0.45      0.45      0.45       704\n",
      "   Adventure       0.32      0.35      0.34       248\n",
      "    Fighting       0.26      0.30      0.28       161\n",
      "        Misc       0.33      0.33      0.33       324\n",
      "    Platform       0.23      0.24      0.23       170\n",
      "      Puzzle       0.25      0.22      0.24       116\n",
      "      Racing       0.32      0.33      0.32       243\n",
      "Role-Playing       0.37      0.34      0.36       306\n",
      "     Shooter       0.37      0.40      0.38       258\n",
      "  Simulation       0.26      0.24      0.25       199\n",
      "      Sports       0.47      0.51      0.49       465\n",
      "    Strategy       0.26      0.19      0.22       150\n",
      "\n",
      "    accuracy                           0.36      3344\n",
      "   macro avg       0.33      0.32      0.32      3344\n",
      "weighted avg       0.36      0.36      0.36      3344\n",
      "\n",
      "Confusion Matrix:\n",
      "[[316  49  26  41  38  21  31  46  45  24  54  13]\n",
      " [ 35  87  11  18  12   5  13  17  20  12  14   4]\n",
      " [ 24   8  48   4   3   1   7  13  23   8  12  10]\n",
      " [ 46  29  12 106  11  13  12  26  10  18  36   5]\n",
      " [ 31   3   9  19  40   7  16   6  12   9  15   3]\n",
      " [ 12   5   8  13  10  26   6   8   4  10  14   0]\n",
      " [ 35  12   8  16  14   5  79   3  16   7  43   5]\n",
      " [ 53  15  22  23   9   8  13 104  15  16  16  12]\n",
      " [ 52  16  13  13   6   6  11  11 102   7  16   5]\n",
      " [ 34  12   6  21   6   3  13  10   5  47  29  13]\n",
      " [ 45  23  18  34  13   7  36  13  11  17 236  12]\n",
      " [ 26  11   4  13   9   1   8  21  11   5  12  29]]\n"
     ]
    }
   ],
   "source": [
    "print('Classification Report:')\n",
    "print(classification_report(y_test,y_pred_dt))\n",
    "print('Confusion Matrix:')\n",
    "print(confusion_matrix(y_test, y_pred_dt))"
   ]
  },
  {
   "cell_type": "code",
   "execution_count": null,
   "id": "2b15b015",
   "metadata": {
    "colab": {
     "base_uri": "https://localhost:8080/"
    },
    "executionInfo": {
     "elapsed": 237,
     "status": "ok",
     "timestamp": 1684266875140,
     "user": {
      "displayName": "Timilehin Osinuga",
      "userId": "02674228651306861961"
     },
     "user_tz": -60
    },
    "id": "2b15b015",
    "outputId": "852d5d2b-aa23-4391-f72a-7b0688766b78"
   },
   "outputs": [
    {
     "name": "stdout",
     "output_type": "stream",
     "text": [
      "Classification Report:\n",
      "              precision    recall  f1-score   support\n",
      "\n",
      "      Action       0.44      0.58      0.50       704\n",
      "   Adventure       0.39      0.28      0.33       248\n",
      "    Fighting       0.33      0.26      0.29       161\n",
      "        Misc       0.34      0.36      0.35       324\n",
      "    Platform       0.33      0.26      0.29       170\n",
      "      Puzzle       0.32      0.22      0.26       116\n",
      "      Racing       0.39      0.30      0.34       243\n",
      "Role-Playing       0.42      0.43      0.43       306\n",
      "     Shooter       0.40      0.41      0.41       258\n",
      "  Simulation       0.35      0.18      0.24       199\n",
      "      Sports       0.50      0.65      0.56       465\n",
      "    Strategy       0.35      0.19      0.25       150\n",
      "\n",
      "    accuracy                           0.41      3344\n",
      "   macro avg       0.38      0.34      0.35      3344\n",
      "weighted avg       0.40      0.41      0.40      3344\n",
      "\n",
      "Confusion Matrix:\n",
      "[[410  20  18  39  20  12  23  40  55   6  56   5]\n",
      " [ 58  70   7  22   7  11   7  21  17   6  17   5]\n",
      " [ 46   5  42   9   1   1   5  22  16   1   9   4]\n",
      " [ 56  20   8 116   5   7  13  24   9  20  42   4]\n",
      " [ 48   4   2  17  44   7  17   6   5   1  18   1]\n",
      " [ 18   4   3  12   9  26   7   5   3  11  17   1]\n",
      " [ 36   5   7  22  10   4  74   5   7   6  64   3]\n",
      " [ 65  13   8  15  11   2   6 133  19   5  13  16]\n",
      " [ 81   6   9  15   6   2   5   7 106   2  14   5]\n",
      " [ 42  10   5  22   4   5  11  16   7  36  35   6]\n",
      " [ 46  14  12  33   6   4  18  17   5   5 300   5]\n",
      " [ 25   7   6  16   9   1   5  21  13   3  15  29]]\n"
     ]
    }
   ],
   "source": [
    "print('Classification Report:')\n",
    "print(classification_report(y_test,y_pred_rfc))\n",
    "print('Confusion Matrix:')\n",
    "print(confusion_matrix(y_test, y_pred_rfc))"
   ]
  },
  {
   "cell_type": "code",
   "execution_count": null,
   "id": "ccff45c6",
   "metadata": {
    "colab": {
     "base_uri": "https://localhost:8080/"
    },
    "executionInfo": {
     "elapsed": 249,
     "status": "ok",
     "timestamp": 1684266880855,
     "user": {
      "displayName": "Timilehin Osinuga",
      "userId": "02674228651306861961"
     },
     "user_tz": -60
    },
    "id": "ccff45c6",
    "outputId": "967fe0f1-b729-4d54-a0e8-ce8c6e65de10"
   },
   "outputs": [
    {
     "name": "stdout",
     "output_type": "stream",
     "text": [
      "Classification Report:\n",
      "              precision    recall  f1-score   support\n",
      "\n",
      "      Action       0.22      0.78      0.34       704\n",
      "   Adventure       0.00      0.00      0.00       248\n",
      "    Fighting       0.00      0.00      0.00       161\n",
      "        Misc       0.09      0.00      0.01       324\n",
      "    Platform       0.00      0.00      0.00       170\n",
      "      Puzzle       0.00      0.00      0.00       116\n",
      "      Racing       0.00      0.00      0.00       243\n",
      "Role-Playing       0.29      0.01      0.01       306\n",
      "     Shooter       0.31      0.05      0.08       258\n",
      "  Simulation       0.00      0.00      0.00       199\n",
      "      Sports       0.22      0.38      0.28       465\n",
      "    Strategy       0.00      0.00      0.00       150\n",
      "\n",
      "    accuracy                           0.22      3344\n",
      "   macro avg       0.09      0.10      0.06      3344\n",
      "weighted avg       0.14      0.22      0.12      3344\n",
      "\n",
      "Confusion Matrix:\n",
      "[[552   0   0   1   0   0   0   2   8   0 141   0]\n",
      " [188   0   0   0   0   0   0   0   1   0  59   0]\n",
      " [130   0   0   0   0   0   0   0   0   0  31   0]\n",
      " [250   0   0   1   0   0   0   0   0   0  73   0]\n",
      " [128   0   0   1   0   0   0   0   3   0  38   0]\n",
      " [ 85   0   0   3   0   0   0   0   0   0  28   0]\n",
      " [161   0   0   2   0   0   0   0   2   0  78   0]\n",
      " [264   0   0   0   0   0   0   2   8   0  32   0]\n",
      " [191   0   0   0   0   0   0   3  12   0  52   0]\n",
      " [140   0   0   0   0   0   0   0   1   0  58   0]\n",
      " [287   0   0   1   0   0   0   0   1   0 176   0]\n",
      " [122   0   0   2   0   0   0   0   3   0  23   0]]\n"
     ]
    },
    {
     "name": "stderr",
     "output_type": "stream",
     "text": [
      "/usr/local/lib/python3.10/dist-packages/sklearn/metrics/_classification.py:1344: UndefinedMetricWarning: Precision and F-score are ill-defined and being set to 0.0 in labels with no predicted samples. Use `zero_division` parameter to control this behavior.\n",
      "  _warn_prf(average, modifier, msg_start, len(result))\n",
      "/usr/local/lib/python3.10/dist-packages/sklearn/metrics/_classification.py:1344: UndefinedMetricWarning: Precision and F-score are ill-defined and being set to 0.0 in labels with no predicted samples. Use `zero_division` parameter to control this behavior.\n",
      "  _warn_prf(average, modifier, msg_start, len(result))\n",
      "/usr/local/lib/python3.10/dist-packages/sklearn/metrics/_classification.py:1344: UndefinedMetricWarning: Precision and F-score are ill-defined and being set to 0.0 in labels with no predicted samples. Use `zero_division` parameter to control this behavior.\n",
      "  _warn_prf(average, modifier, msg_start, len(result))\n"
     ]
    }
   ],
   "source": [
    "print('Classification Report:')\n",
    "print(classification_report(y_test,y_pred_lr))\n",
    "print('Confusion Matrix:')\n",
    "print(confusion_matrix(y_test, y_pred_lr))"
   ]
  },
  {
   "cell_type": "code",
   "execution_count": null,
   "id": "3d544ed7",
   "metadata": {
    "colab": {
     "base_uri": "https://localhost:8080/"
    },
    "executionInfo": {
     "elapsed": 212,
     "status": "ok",
     "timestamp": 1684266904953,
     "user": {
      "displayName": "Timilehin Osinuga",
      "userId": "02674228651306861961"
     },
     "user_tz": -60
    },
    "id": "3d544ed7",
    "outputId": "565a1721-b43c-4fb9-8ad3-b8132c3603f8"
   },
   "outputs": [
    {
     "name": "stdout",
     "output_type": "stream",
     "text": [
      "Classification Report:\n",
      "              precision    recall  f1-score   support\n",
      "\n",
      "      Action       0.34      0.09      0.14       704\n",
      "   Adventure       0.12      0.72      0.20       248\n",
      "    Fighting       0.15      0.14      0.15       161\n",
      "        Misc       0.19      0.31      0.23       324\n",
      "    Platform       0.12      0.04      0.06       170\n",
      "      Puzzle       0.09      0.07      0.08       116\n",
      "      Racing       0.10      0.00      0.01       243\n",
      "Role-Playing       0.47      0.05      0.09       306\n",
      "     Shooter       0.32      0.17      0.23       258\n",
      "  Simulation       0.00      0.00      0.00       199\n",
      "      Sports       0.35      0.26      0.30       465\n",
      "    Strategy       0.08      0.17      0.11       150\n",
      "\n",
      "    accuracy                           0.18      3344\n",
      "   macro avg       0.20      0.17      0.13      3344\n",
      "weighted avg       0.24      0.18      0.15      3344\n",
      "\n",
      "Confusion Matrix:\n",
      "[[ 62 309  30 104   6  16   0   4  42   0  53  78]\n",
      " [  7 178   6  31   1   2   1   0   1   0  12   9]\n",
      " [ 14  60  22  12   3   3   1   2   8   0   7  29]\n",
      " [  5 165   4 101   9   8   2   2   3   0  16   9]\n",
      " [  7  67   8  26   7   9   0   3   3   0  29  11]\n",
      " [  1  53   0  35   3   8   0   3   0   0   9   4]\n",
      " [  8  89   7  46   6   7   1   0   6   0  56  17]\n",
      " [ 17 137  16  19   3  15   0  16  17   0   9  57]\n",
      " [ 44  68  20  17   5   4   0   0  45   0  11  44]\n",
      " [  5  98   8  44   4   2   0   3   4   0  13  18]\n",
      " [  3 199  16  81   7  10   5   1   6   0 122  15]\n",
      " [  7  66   5  22   3   4   0   0   6   0  11  26]]\n"
     ]
    },
    {
     "name": "stderr",
     "output_type": "stream",
     "text": [
      "/usr/local/lib/python3.10/dist-packages/sklearn/metrics/_classification.py:1344: UndefinedMetricWarning: Precision and F-score are ill-defined and being set to 0.0 in labels with no predicted samples. Use `zero_division` parameter to control this behavior.\n",
      "  _warn_prf(average, modifier, msg_start, len(result))\n",
      "/usr/local/lib/python3.10/dist-packages/sklearn/metrics/_classification.py:1344: UndefinedMetricWarning: Precision and F-score are ill-defined and being set to 0.0 in labels with no predicted samples. Use `zero_division` parameter to control this behavior.\n",
      "  _warn_prf(average, modifier, msg_start, len(result))\n",
      "/usr/local/lib/python3.10/dist-packages/sklearn/metrics/_classification.py:1344: UndefinedMetricWarning: Precision and F-score are ill-defined and being set to 0.0 in labels with no predicted samples. Use `zero_division` parameter to control this behavior.\n",
      "  _warn_prf(average, modifier, msg_start, len(result))\n"
     ]
    }
   ],
   "source": [
    "print('Classification Report:')\n",
    "print(classification_report(y_test,y_pred_gnb))\n",
    "print('Confusion Matrix:')\n",
    "print(confusion_matrix(y_test, y_pred_gnb))"
   ]
  },
  {
   "cell_type": "code",
   "execution_count": null,
   "id": "4cab0895",
   "metadata": {
    "colab": {
     "base_uri": "https://localhost:8080/"
    },
    "executionInfo": {
     "elapsed": 1591,
     "status": "ok",
     "timestamp": 1684266912266,
     "user": {
      "displayName": "Timilehin Osinuga",
      "userId": "02674228651306861961"
     },
     "user_tz": -60
    },
    "id": "4cab0895",
    "outputId": "d9b806b1-9014-4fe1-f322-abd914d82279"
   },
   "outputs": [
    {
     "name": "stdout",
     "output_type": "stream",
     "text": [
      "Decision Tree Classifier:\n",
      "Cross-validation scores: [0.34828102 0.33707025 0.34753363 0.35874439 0.37443946 0.35153328\n",
      " 0.33582648 0.35377711 0.33208676 0.33133882]\n",
      "Mean score: 0.34706312125958544\n",
      "Standard deviation: 0.012846577289202316\n"
     ]
    }
   ],
   "source": [
    "#Train and evaluate the Decision Tree Classifier using cross-validation\n",
    "from sklearn.model_selection import cross_val_score\n",
    "dtc = DecisionTreeClassifier(random_state=42)\n",
    "scores = cross_val_score(dtc, X_train, y_train, cv=10)\n",
    "print(\"Decision Tree Classifier:\")\n",
    "print(\"Cross-validation scores:\", scores)\n",
    "print(\"Mean score:\", scores.mean())\n",
    "print('Standard deviation:', scores.std())"
   ]
  },
  {
   "cell_type": "markdown",
   "id": "96af2056",
   "metadata": {
    "id": "96af2056"
   },
   "source": [
    "Publisher"
   ]
  },
  {
   "cell_type": "code",
   "execution_count": null,
   "id": "a5834443",
   "metadata": {
    "id": "a5834443"
   },
   "outputs": [],
   "source": [
    "X = data_reg.drop(['Publisher'], axis=1)\n",
    "y = data['Publisher']"
   ]
  },
  {
   "cell_type": "code",
   "execution_count": null,
   "id": "e1234565",
   "metadata": {
    "id": "e1234565"
   },
   "outputs": [],
   "source": [
    "X_train, X_test, y_train, y_test = train_test_split(X, y, test_size=0.2, random_state=42)"
   ]
  },
  {
   "cell_type": "code",
   "execution_count": null,
   "id": "92908525",
   "metadata": {
    "colab": {
     "base_uri": "https://localhost:8080/"
    },
    "executionInfo": {
     "elapsed": 36911,
     "status": "ok",
     "timestamp": 1684266964811,
     "user": {
      "displayName": "Timilehin Osinuga",
      "userId": "02674228651306861961"
     },
     "user_tz": -60
    },
    "id": "92908525",
    "outputId": "0144336c-ba71-4cbb-8d6e-8624539269f0"
   },
   "outputs": [
    {
     "data": {
      "text/plain": [
       "0.961196261682243"
      ]
     },
     "execution_count": 103,
     "metadata": {},
     "output_type": "execute_result"
    }
   ],
   "source": [
    "#train the random forest classifier\n",
    "rfc = RandomForestClassifier()\n",
    "rfc.fit(X_train, y_train)\n",
    "y_pred_rfc = rfc.predict(X_test)\n",
    "y_train_pred = rfc.predict(X_train)\n",
    "#train accuracy\n",
    "train_accuracy = accuracy_score(y_train,y_train_pred)\n",
    "train_accuracy"
   ]
  },
  {
   "cell_type": "code",
   "execution_count": null,
   "id": "H03gbr-3ovOR",
   "metadata": {
    "colab": {
     "base_uri": "https://localhost:8080/"
    },
    "executionInfo": {
     "elapsed": 3494,
     "status": "ok",
     "timestamp": 1684267037979,
     "user": {
      "displayName": "Timilehin Osinuga",
      "userId": "02674228651306861961"
     },
     "user_tz": -60
    },
    "id": "H03gbr-3ovOR",
    "outputId": "7bdf5a97-a286-4ce6-b0ef-e62d33456b13"
   },
   "outputs": [
    {
     "data": {
      "text/plain": [
       "0.37799043062200954"
      ]
     },
     "execution_count": 105,
     "metadata": {},
     "output_type": "execute_result"
    }
   ],
   "source": [
    "#test accuracy for random forest classifier\n",
    "y_test_pred = rfc.predict(X_test)\n",
    "test_accuracy = accuracy_score(y_test,y_test_pred)\n",
    "test_accuracy"
   ]
  },
  {
   "cell_type": "code",
   "execution_count": null,
   "id": "5252e2ad",
   "metadata": {
    "colab": {
     "base_uri": "https://localhost:8080/"
    },
    "executionInfo": {
     "elapsed": 1270,
     "status": "ok",
     "timestamp": 1684267046734,
     "user": {
      "displayName": "Timilehin Osinuga",
      "userId": "02674228651306861961"
     },
     "user_tz": -60
    },
    "id": "5252e2ad",
    "outputId": "c026800d-9d8f-413d-bab4-b35285c8d993"
   },
   "outputs": [
    {
     "data": {
      "text/plain": [
       "0.961196261682243"
      ]
     },
     "execution_count": 106,
     "metadata": {},
     "output_type": "execute_result"
    }
   ],
   "source": [
    "#train the decision tree classifier\n",
    "dt = DecisionTreeClassifier()\n",
    "dt.fit(X_train, y_train)\n",
    "y_pred_dt = dt.predict(X_test)\n",
    "y_train_pred = dt.predict(X_train)\n",
    "#train accuracy\n",
    "train_accuracy = accuracy_score(y_train,y_train_pred)\n",
    "train_accuracy\n"
   ]
  },
  {
   "cell_type": "code",
   "execution_count": null,
   "id": "4953132a",
   "metadata": {
    "colab": {
     "base_uri": "https://localhost:8080/"
    },
    "executionInfo": {
     "elapsed": 477,
     "status": "ok",
     "timestamp": 1684267065013,
     "user": {
      "displayName": "Timilehin Osinuga",
      "userId": "02674228651306861961"
     },
     "user_tz": -60
    },
    "id": "4953132a",
    "outputId": "d349da6a-fc4d-497e-9f13-c616ebc7c891"
   },
   "outputs": [
    {
     "data": {
      "text/plain": [
       "0.33672248803827753"
      ]
     },
     "execution_count": 107,
     "metadata": {},
     "output_type": "execute_result"
    }
   ],
   "source": [
    "#test accuracy for decision tree classifier\n",
    "y_test_pred = dt.predict(X_test)\n",
    "test_accuracy = accuracy_score(y_test,y_test_pred)\n",
    "test_accuracy"
   ]
  },
  {
   "cell_type": "code",
   "execution_count": null,
   "id": "413dff3c",
   "metadata": {
    "colab": {
     "base_uri": "https://localhost:8080/"
    },
    "executionInfo": {
     "elapsed": 31264,
     "status": "ok",
     "timestamp": 1684267112337,
     "user": {
      "displayName": "Timilehin Osinuga",
      "userId": "02674228651306861961"
     },
     "user_tz": -60
    },
    "id": "413dff3c",
    "outputId": "071e8e15-72b1-4bcc-d6d2-8948c2083c37"
   },
   "outputs": [
    {
     "name": "stderr",
     "output_type": "stream",
     "text": [
      "/usr/local/lib/python3.10/dist-packages/sklearn/linear_model/_logistic.py:458: ConvergenceWarning: lbfgs failed to converge (status=1):\n",
      "STOP: TOTAL NO. of ITERATIONS REACHED LIMIT.\n",
      "\n",
      "Increase the number of iterations (max_iter) or scale the data as shown in:\n",
      "    https://scikit-learn.org/stable/modules/preprocessing.html\n",
      "Please also refer to the documentation for alternative solver options:\n",
      "    https://scikit-learn.org/stable/modules/linear_model.html#logistic-regression\n",
      "  n_iter_i = _check_optimize_result(\n"
     ]
    },
    {
     "data": {
      "text/plain": [
       "0.11925233644859813"
      ]
     },
     "execution_count": 108,
     "metadata": {},
     "output_type": "execute_result"
    }
   ],
   "source": [
    "#train the logistic regression\n",
    "lr = LogisticRegression()\n",
    "lr.fit(X_train, y_train)\n",
    "y_pred_lr = lr.predict(X_test)\n",
    "y_train_pred = lr.predict(X_train)\n",
    "#train accuracy\n",
    "train_accuracy = accuracy_score(y_train,y_train_pred)\n",
    "train_accuracy"
   ]
  },
  {
   "cell_type": "code",
   "execution_count": null,
   "id": "02784474",
   "metadata": {
    "colab": {
     "base_uri": "https://localhost:8080/"
    },
    "executionInfo": {
     "elapsed": 351,
     "status": "ok",
     "timestamp": 1684267135541,
     "user": {
      "displayName": "Timilehin Osinuga",
      "userId": "02674228651306861961"
     },
     "user_tz": -60
    },
    "id": "02784474",
    "outputId": "d90c6d84-e12f-444b-bf3d-0b5b60c97d25"
   },
   "outputs": [
    {
     "data": {
      "text/plain": [
       "0.12350478468899521"
      ]
     },
     "execution_count": 109,
     "metadata": {},
     "output_type": "execute_result"
    }
   ],
   "source": [
    "#test accuracy for logistic regression\n",
    "y_test_pred = lr.predict(X_test)\n",
    "test_accuracy = accuracy_score(y_test,y_test_pred)\n",
    "test_accuracy"
   ]
  },
  {
   "cell_type": "code",
   "execution_count": null,
   "id": "e276b578",
   "metadata": {
    "colab": {
     "base_uri": "https://localhost:8080/"
    },
    "executionInfo": {
     "elapsed": 900,
     "status": "ok",
     "timestamp": 1684267174116,
     "user": {
      "displayName": "Timilehin Osinuga",
      "userId": "02674228651306861961"
     },
     "user_tz": -60
    },
    "id": "e276b578",
    "outputId": "f2f84a1b-66b2-4026-f7e0-ca011ec5ded5"
   },
   "outputs": [
    {
     "data": {
      "text/plain": [
       "0.0948785046728972"
      ]
     },
     "execution_count": 110,
     "metadata": {},
     "output_type": "execute_result"
    }
   ],
   "source": [
    "# Train the Naive Bayes Classifier\n",
    "gnb = GaussianNB()\n",
    "gnb.fit(X_train, y_train)\n",
    "y_pred_gnb = gnb.predict(X_test)\n",
    "y_train_pred = gnb.predict(X_train)\n",
    "#train accuracy\n",
    "train_accuracy = accuracy_score(y_train,y_train_pred)\n",
    "train_accuracy"
   ]
  },
  {
   "cell_type": "code",
   "execution_count": null,
   "id": "8766b93d",
   "metadata": {
    "colab": {
     "base_uri": "https://localhost:8080/"
    },
    "executionInfo": {
     "elapsed": 438,
     "status": "ok",
     "timestamp": 1684267186770,
     "user": {
      "displayName": "Timilehin Osinuga",
      "userId": "02674228651306861961"
     },
     "user_tz": -60
    },
    "id": "8766b93d",
    "outputId": "288c2b41-363e-4642-b6b8-26f2e234f214"
   },
   "outputs": [
    {
     "data": {
      "text/plain": [
       "0.06130382775119617"
      ]
     },
     "execution_count": 111,
     "metadata": {},
     "output_type": "execute_result"
    }
   ],
   "source": [
    "#test accuracy for Naive bayes classifier\n",
    "y_test_pred = gnb.predict(X_test)\n",
    "test_accuracy = accuracy_score(y_test,y_test_pred)\n",
    "test_accuracy"
   ]
  },
  {
   "cell_type": "code",
   "execution_count": null,
   "id": "b309f630",
   "metadata": {
    "colab": {
     "base_uri": "https://localhost:8080/"
    },
    "executionInfo": {
     "elapsed": 433,
     "status": "ok",
     "timestamp": 1684267206739,
     "user": {
      "displayName": "Timilehin Osinuga",
      "userId": "02674228651306861961"
     },
     "user_tz": -60
    },
    "id": "b309f630",
    "outputId": "54ae4b76-6241-40a9-feca-3e35e270051a"
   },
   "outputs": [
    {
     "name": "stdout",
     "output_type": "stream",
     "text": [
      "Classification Report:\n",
      "                                        precision    recall  f1-score   support\n",
      "\n",
      "                       10TACLE Studios       0.00      0.00      0.00         2\n",
      "                            1C Company       0.00      0.00      0.00         0\n",
      "                                   3DO       0.50      0.50      0.50         8\n",
      "                             505 Games       0.35      0.31      0.33        29\n",
      "                                   5pb       0.29      0.29      0.29        14\n",
      "                              7G//AMES       0.00      0.00      0.00         0\n",
      "                           989 Studios       0.00      0.00      0.00         1\n",
      "                        AQ Interactive       0.00      0.00      0.00         0\n",
      "                             ASC Games       0.00      0.00      0.00         1\n",
      "                   ASCII Entertainment       0.50      0.14      0.22         7\n",
      "                     ASCII Media Works       0.00      0.00      0.00         1\n",
      "                 Acclaim Entertainment       0.39      0.45      0.42        33\n",
      "                              Accolade       0.00      0.00      0.00         1\n",
      "                           Ackkstudios       0.00      0.00      0.00         1\n",
      "                               Acquire       0.00      0.00      0.00         2\n",
      "                            Activision       0.36      0.56      0.44       203\n",
      "                   Activision Blizzard       0.00      0.00      0.00         1\n",
      "                      Activision Value       0.50      0.33      0.40         3\n",
      "                      Adeline Software       0.00      0.00      0.00         1\n",
      "                              Aerosoft       0.00      0.00      0.00         1\n",
      "                           Aksys Games       0.00      0.00      0.00         0\n",
      "                             Alchemist       0.12      0.09      0.11        11\n",
      "                  Alternative Software       1.00      1.00      1.00         2\n",
      "                         Angel Studios       0.00      0.00      0.00         0\n",
      "                       Answer Software       0.00      0.00      0.00         1\n",
      "                             Aqua Plus       0.00      0.00      0.00         3\n",
      "                                 Aques       0.00      0.00      0.00         0\n",
      "                      Arc System Works       0.33      0.50      0.40         4\n",
      "                               ArtDink       0.00      0.00      0.00         2\n",
      "            Ascaron Entertainment GmbH       0.00      0.00      0.00         1\n",
      "                                Asgard       0.00      0.00      0.00         1\n",
      "               Asmik Ace Entertainment       0.00      0.00      0.00         1\n",
      "                                 Aspyr       0.00      0.00      0.00         0\n",
      "                              Astragon       0.00      0.00      0.00         2\n",
      "                  Asylum Entertainment       0.00      0.00      0.00         1\n",
      "                                 Atari       0.25      0.24      0.24        66\n",
      "                                Athena       0.00      0.00      0.00         1\n",
      "                                 Atlus       0.00      0.00      0.00        12\n",
      "                    Avalon Interactive       0.00      0.00      0.00         0\n",
      "                             Avanquest       0.50      0.14      0.22         7\n",
      "                    Avanquest Software       0.00      0.00      0.00         2\n",
      "                    BAM! Entertainment       1.00      0.20      0.33         5\n",
      "         BMG Interactive Entertainment       0.00      0.00      0.00         0\n",
      "                                   BPS       0.00      0.00      0.00         1\n",
      "                             Banpresto       0.08      0.06      0.07        18\n",
      "                               Benesse       0.00      0.00      0.00         0\n",
      "                              Berkeley       0.00      0.00      0.00         0\n",
      "                    Bethesda Softworks       0.57      0.29      0.38        14\n",
      "                   Big Ben Interactive       0.00      0.00      0.00         1\n",
      "                        Big Fish Games       0.00      0.00      0.00         0\n",
      "                    Bigben Interactive       0.25      0.25      0.25         4\n",
      "                      Black Bean Games       0.12      0.25      0.17         4\n",
      "              Blast! Entertainment Ltd       0.00      0.00      0.00         1\n",
      "                             Blue Byte       0.00      0.00      0.00         2\n",
      "                              Boost On       0.00      0.00      0.00         1\n",
      "                   Brash Entertainment       0.00      0.00      0.00         2\n",
      "                              Broccoli       0.00      0.00      0.00         2\n",
      "                             BushiRoad       0.00      0.00      0.00         0\n",
      "                                   CCP       0.00      0.00      0.00         1\n",
      "            CDV Software Entertainment       0.00      0.00      0.00         2\n",
      "                          CPG Products       0.00      0.00      0.00         0\n",
      "                                Capcom       0.40      0.39      0.40        76\n",
      "                                  Cave       0.00      0.00      0.00         5\n",
      "                              ChunSoft       0.00      0.00      0.00         5\n",
      "                      City Interactive       0.50      0.11      0.18         9\n",
      "                           Codemasters       0.59      0.52      0.55        31\n",
      "                    Codemasters Online       0.00      0.00      0.00         1\n",
      "                                Coleco       0.00      0.00      0.00         0\n",
      "                              Commseed       0.00      0.00      0.00         1\n",
      "                         Compile Heart       0.00      0.00      0.00         5\n",
      "              Conspiracy Entertainment       0.17      1.00      0.29         1\n",
      "                      Core Design Ltd.       0.00      0.00      0.00         1\n",
      "                   Crave Entertainment       0.60      0.21      0.32        14\n",
      "                      Crystal Dynamics       0.00      0.00      0.00         1\n",
      "                         Culture Brain       0.00      0.00      0.00         2\n",
      "                            CyberFront       0.00      0.00      0.00         1\n",
      "                           D3Publisher       0.38      0.33      0.35        27\n",
      "                       DHM Interactive       0.00      0.00      0.00         1\n",
      "                             DSI Games       0.00      0.00      0.00         1\n",
      "                     DTP Entertainment       0.00      0.00      0.00         7\n",
      "                                 Daito       0.00      0.00      0.00         2\n",
      "                              Data Age       0.00      0.00      0.00         1\n",
      "               Data Design Interactive       0.00      0.00      0.00         1\n",
      "                             Data East       0.00      0.00      0.00         0\n",
      "                        Datam Polystar       0.00      0.00      0.00         0\n",
      "                           Deep Silver       0.19      0.25      0.22        20\n",
      "             Destination Software, Inc       0.00      0.00      0.00         2\n",
      "                             Destineer       0.43      0.25      0.32        12\n",
      "                           Detn8 Games       0.00      0.00      0.00         0\n",
      "                      Devolver Digital       0.00      0.00      0.00         1\n",
      "                              DigiCube       0.00      0.00      0.00         0\n",
      "            Disney Interactive Studios       0.50      0.33      0.39        43\n",
      "                                Dorart       0.00      0.00      0.00         1\n",
      "              DreamCatcher Interactive       0.00      0.00      0.00         2\n",
      "                      Easy Interactive       0.00      0.00      0.00         1\n",
      "                     Eidos Interactive       0.30      0.22      0.25        41\n",
      "                       Electronic Arts       0.54      0.71      0.62       292\n",
      "                                   Elf       0.00      0.00      0.00         2\n",
      "                    Empire Interactive       0.33      0.33      0.33         9\n",
      "                                Encore       0.00      0.00      0.00         2\n",
      "                      Enix Corporation       1.00      0.14      0.25         7\n",
      "                            Enterbrain       0.00      0.00      0.00         3\n",
      "                                 Epoch       0.00      0.00      0.00         2\n",
      "                         Evolved Games       0.33      1.00      0.50         1\n",
      "                  Excalibur Publishing       0.00      0.00      0.00         1\n",
      "                       Experience Inc.       0.00      0.00      0.00         1\n",
      "                    Falcom Corporation       0.00      0.00      0.00         3\n",
      "                                Fields       0.00      0.00      0.00         0\n",
      "                      Flashpoint Games       0.00      0.00      0.00         1\n",
      "                           Flight-Plan       0.00      0.00      0.00         1\n",
      "                Focus Home Interactive       0.25      0.12      0.17        16\n",
      "                      Focus Multimedia       0.00      0.00      0.00         2\n",
      "                   Foreign Media Games       0.00      0.00      0.00         2\n",
      "                       Fox Interactive       0.00      0.00      0.00         1\n",
      "                         From Software       0.00      0.00      0.00         4\n",
      "                                 FuRyu       0.00      0.00      0.00         9\n",
      "                     FuRyu Corporation       0.00      0.00      0.00         1\n",
      "                                  Fuji       0.00      0.00      0.00         0\n",
      "                          Funbox Media       0.00      0.00      0.00         0\n",
      "                                Funcom       0.00      0.00      0.00         0\n",
      "                                Funsta       0.00      0.00      0.00         2\n",
      "                                 G.Rev       0.00      0.00      0.00         1\n",
      "                                   GSP       0.00      0.00      0.00         4\n",
      "                        GT Interactive       0.29      0.13      0.18        15\n",
      "                Gainax Network Systems       0.00      0.00      0.00         0\n",
      "                                Gakken       0.00      0.00      0.00         0\n",
      "                          Game Factory       0.00      0.00      0.00         8\n",
      "                             Game Life       0.00      0.00      0.00         1\n",
      "                GameMill Entertainment       0.00      0.00      0.00         2\n",
      "                            Gamebridge       0.00      0.00      0.00         2\n",
      "                              Gameloft       0.00      0.00      0.00         1\n",
      "                      Gearbox Software       0.00      0.00      0.00         1\n",
      "                 General Entertainment       0.00      0.00      0.00         0\n",
      "                                 Genki       0.00      0.00      0.00         2\n",
      "                            Ghostlight       0.00      0.00      0.00         2\n",
      "                Global A Entertainment       0.00      0.00      0.00         1\n",
      "                           Global Star       0.00      0.00      0.00        10\n",
      "                          Gotham Games       0.00      0.00      0.00         1\n",
      "                              Graffiti       0.00      0.00      0.00         0\n",
      "               Gremlin Interactive Ltd       0.00      0.00      0.00         0\n",
      "                                GungHo       0.00      0.00      0.00         4\n",
      "                                  Gust       0.00      0.00      0.00         1\n",
      "                             Hackberry       0.00      0.00      0.00         0\n",
      "                   Hamster Corporation       0.00      0.00      0.00         1\n",
      "                    Hasbro Interactive       0.00      0.00      0.00         2\n",
      "                     Havas Interactive       0.00      0.00      0.00         1\n",
      "                                  Hect       0.00      0.00      0.00         1\n",
      "                           Hello Games       0.00      0.00      0.00         1\n",
      "                       Hip Interactive       0.00      0.00      0.00         1\n",
      "          Home Entertainment Suppliers       0.00      0.00      0.00         0\n",
      "                  Hudson Entertainment       0.00      0.00      0.00         2\n",
      "                           Hudson Soft       0.13      0.11      0.12        19\n",
      "                   Human Entertainment       0.00      0.00      0.00         2\n",
      "                                 HuneX       0.00      0.00      0.00         1\n",
      "                   Iceberg Interactive       0.00      0.00      0.00         1\n",
      "                          Idea Factory       0.12      0.21      0.16        19\n",
      "            Idea Factory International       0.00      0.00      0.00         1\n",
      "                Ignition Entertainment       0.50      0.14      0.22        14\n",
      "                                Imadio       0.00      0.00      0.00         1\n",
      "                            Imageworks       0.00      0.00      0.00         0\n",
      "                             Imagineer       0.00      0.00      0.00         5\n",
      "                           Indie Games       0.00      0.00      0.00         0\n",
      "                            Infogrames       0.00      0.00      0.00         6\n",
      "                       Insomniac Games       1.00      1.00      1.00         1\n",
      "                             Interplay       0.00      0.00      0.00         8\n",
      "            Interworks Unlimited, Inc.       0.00      0.00      0.00         1\n",
      "             Irem Software Engineering       0.00      0.00      0.00         1\n",
      "                             Ivolgamus       0.00      0.00      0.00         1\n",
      "                                   JVC       0.00      0.00      0.00         2\n",
      "                     Jack of All Games       0.00      0.00      0.00         1\n",
      "                                Jaleco       0.00      0.00      0.00         6\n",
      "                    JoWood Productions       0.00      0.00      0.00         7\n",
      "                                   KID       0.00      0.00      0.00         0\n",
      "                        Kadokawa Games       0.00      0.00      0.00         1\n",
      "                       Kadokawa Shoten       0.00      0.00      0.00        14\n",
      "                           Kaga Create       0.25      1.00      0.40         1\n",
      "                         Kalypso Media       1.00      0.25      0.40         8\n",
      "                                 Kemco       0.00      0.00      0.00         2\n",
      "                   Knowledge Adventure       0.00      0.00      0.00         0\n",
      "                            Koch Media       0.00      0.00      0.00         5\n",
      "          Konami Digital Entertainment       0.44      0.50      0.47       182\n",
      "                            LEGO Media       0.00      0.00      0.00         1\n",
      "                             LSP Games       0.00      0.00      0.00         3\n",
      "                                Laguna       0.00      0.00      0.00         0\n",
      "                               Level 5       0.00      0.00      0.00         6\n",
      "                 Lexicon Entertainment       0.00      0.00      0.00         1\n",
      "                           Licensed 4U       1.00      1.00      1.00         1\n",
      "                          Liquid Games       0.00      0.00      0.00         0\n",
      "                          Little Orbit       0.50      0.43      0.46         7\n",
      "                             LucasArts       0.12      0.05      0.07        20\n",
      "                     MC2 Entertainment       0.00      0.00      0.00         1\n",
      "                               MLB.com       0.00      0.00      0.00         1\n",
      "                                   MTO       0.00      0.00      0.00         3\n",
      "                             MTV Games       0.89      0.80      0.84        10\n",
      "                              Mad Catz       0.00      0.00      0.00         2\n",
      "                 Majesco Entertainment       0.00      0.00      0.00        15\n",
      "               Marvelous Entertainment       0.00      0.00      0.00         4\n",
      "                 Marvelous Interactive       0.19      0.23      0.21        13\n",
      "                          Mastertronic       0.50      0.20      0.29         5\n",
      "                               Mastiff       0.00      0.00      0.00         0\n",
      "                    Mattel Interactive       0.00      0.00      0.00         7\n",
      "                  Maximum Family Games       0.00      0.00      0.00         1\n",
      "                           Media Rings       0.00      0.00      0.00         0\n",
      "                           Media Works       0.00      0.00      0.00         1\n",
      "                            MediaQuest       0.00      0.00      0.00         1\n",
      "                          Men-A-Vision       0.00      0.00      0.00         0\n",
      "                    Mentor Interactive       0.00      0.00      0.00         1\n",
      "                         Mercury Games       0.00      0.00      0.00         0\n",
      "                              Metro 3D       0.00      0.00      0.00         3\n",
      "                           Micro Cabin       0.00      0.00      0.00         1\n",
      "                              Microids       0.00      0.00      0.00         3\n",
      "                            Microprose       0.00      0.00      0.00         0\n",
      "                Microsoft Game Studios       0.36      0.27      0.31        30\n",
      "       Midas Interactive Entertainment       0.00      0.00      0.00         5\n",
      "                          Midway Games       0.48      0.36      0.41        42\n",
      "                       Milestone S.r.l       0.50      1.00      0.67         1\n",
      "                      Milestone S.r.l.       0.33      0.33      0.33         3\n",
      "                        Minato Station       0.00      0.00      0.00         1\n",
      "                             Mindscape       0.00      0.00      0.00         7\n",
      "                                Mitsui       0.00      0.00      0.00         1\n",
      "                                Mojang       0.00      0.00      0.00         1\n",
      "              Monte Christo Multimedia       0.00      0.00      0.00         1\n",
      "                           Mumbo Jumbo       0.00      0.00      0.00         2\n",
      "                          Myelin Media       1.00      1.00      1.00         1\n",
      "                                NCSoft       1.00      1.00      1.00         1\n",
      "                                   NEC       0.00      0.00      0.00         1\n",
      "                      NEC Interchannel       0.00      0.00      0.00         1\n",
      "                    Namco Bandai Games       0.37      0.41      0.39       200\n",
      "                               Natsume       0.00      0.00      0.00         1\n",
      "                            Naxat Soft       0.00      0.00      0.00         1\n",
      "                    Neko Entertainment       0.00      0.00      0.00         0\n",
      "                               NetRevo       0.00      0.00      0.00         1\n",
      "                              NewKidCo       0.00      0.00      0.00         0\n",
      "              Nihon Falcom Corporation       0.00      0.00      0.00         2\n",
      "                              Nintendo       0.57      0.66      0.61       146\n",
      "                       Nippon Columbia       0.00      0.00      0.00         1\n",
      "                  Nippon Ichi Software       0.38      0.38      0.38        21\n",
      "                        Nippon Telenet       0.00      0.00      0.00         1\n",
      "                               Nobilis       0.00      0.00      0.00         1\n",
      "                           Nordcurrent       0.00      0.00      0.00         3\n",
      "                          Nordic Games       0.22      0.40      0.29         5\n",
      "                               O-Games       0.25      0.14      0.18         7\n",
      "                      O3 Entertainment       0.00      0.00      0.00         1\n",
      "                                 Ocean       0.00      0.00      0.00         6\n",
      "                         Office Create       0.00      0.00      0.00         2\n",
      "                             Ongakukan       0.00      0.00      0.00         1\n",
      "                    Oxygen Interactive       0.25      0.20      0.22         5\n",
      "                                 PQube       0.45      0.50      0.48        10\n",
      "                          Pack In Soft       0.00      0.00      0.00         1\n",
      "                         Pack-In-Video       0.00      0.00      0.00         1\n",
      "                                  Paon       0.00      0.00      0.00         0\n",
      "                   Paradox Interactive       0.29      0.50      0.36         4\n",
      "                          Parker Bros.       1.00      0.50      0.67         2\n",
      "                           Phantom EFX       0.00      0.00      0.00         1\n",
      "                           Pioneer LDC       0.00      0.00      0.00         1\n",
      "                               Play It       0.00      0.00      0.00         4\n",
      "                                 PlayV       0.00      0.00      0.00         1\n",
      "                Playlogic Game Factory       0.00      0.00      0.00         2\n",
      "                          PopCap Games       0.00      0.00      0.00         2\n",
      "                        Popcorn Arcade       0.00      0.00      0.00         1\n",
      "                         Princess Soft       0.00      0.00      0.00         1\n",
      "                             Prototype       0.00      0.00      0.00         5\n",
      "                             Psygnosis       0.25      0.12      0.17         8\n",
      "                                 Quest       0.00      0.00      0.00         1\n",
      "                              Quinrose       0.00      0.00      0.00         3\n",
      "                                   RTL       0.00      0.00      0.00         1\n",
      "                         Rage Software       0.00      0.00      0.00         1\n",
      "                Rebellion Developments       0.00      0.00      0.00         1\n",
      "                          Red Flagship       0.00      0.00      0.00         1\n",
      "                               Red Orb       0.00      0.00      0.00         1\n",
      "                             RedOctane       0.00      0.00      0.00         1\n",
      "                    Reef Entertainment       0.50      1.00      0.67         1\n",
      "                     Rising Star Games       0.43      0.16      0.23        19\n",
      "                         Riverhillsoft       0.00      0.00      0.00         0\n",
      "                        Rocket Company       0.00      0.00      0.00         3\n",
      "                            Rondomedia       0.00      0.00      0.00         3\n",
      "                                Russel       0.00      0.00      0.00         0\n",
      "                          SCS Software       0.00      0.00      0.00         1\n",
      "                                   SCi       0.33      0.50      0.40         2\n",
      "                                   SNK       0.67      0.33      0.44         6\n",
      "                          SNK Playmore       0.00      0.00      0.00         0\n",
      "                     Sammy Corporation       0.00      0.00      0.00         4\n",
      "                       Scholastic Inc.       0.00      0.00      0.00         0\n",
      "                            Screenlife       0.00      0.00      0.00         1\n",
      "                                  Sega       0.37      0.36      0.37       130\n",
      "                      Seta Corporation       0.00      0.00      0.00         0\n",
      "                            Shogakukan       0.00      0.00      0.00         3\n",
      "                   Slitherine Software       0.00      0.00      0.00         2\n",
      "                               Societa       0.00      0.00      0.00         1\n",
      "                                Sonnet       0.00      0.00      0.00         0\n",
      "           Sony Computer Entertainment       0.42      0.51      0.46       130\n",
      "    Sony Computer Entertainment Europe       0.00      0.00      0.00         6\n",
      "             Sony Online Entertainment       0.00      0.00      0.00         2\n",
      "                       SouthPeak Games       0.00      0.00      0.00         9\n",
      "                                 Spike       0.00      0.00      0.00         7\n",
      "                                Square       0.00      0.00      0.00         3\n",
      "                             Square EA       0.00      0.00      0.00         0\n",
      "                           Square Enix       0.33      0.30      0.32        43\n",
      "                            SquareSoft       0.12      0.29      0.17         7\n",
      "                       Stainless Games       0.00      0.00      0.00         1\n",
      "                              Starfish       0.00      0.00      0.00         2\n",
      "                        Starpath Corp.       0.00      0.00      0.00         0\n",
      "                                 Sting       0.00      0.00      0.00         2\n",
      "                      Storm City Games       0.00      0.00      0.00         3\n",
      "                               Success       0.00      0.00      0.00         4\n",
      "                            Sunflowers       0.00      0.00      0.00         1\n",
      "                   Sunrise Interactive       0.00      0.00      0.00         1\n",
      "                               Sunsoft       0.00      0.00      0.00         1\n",
      "                  Swing! Entertainment       0.00      0.00      0.00         2\n",
      "                                Syscom       0.00      0.00      0.00         0\n",
      "              System 3 Arcade Software       0.00      0.00      0.00         3\n",
      "                           System Soft       0.00      0.00      0.00         0\n",
      "                              TDK Core       0.00      0.00      0.00         1\n",
      "                        TDK Mediactive       0.00      0.00      0.00         3\n",
      "                                   TGL       0.00      0.00      0.00         1\n",
      "                                   THQ       0.37      0.56      0.45       143\n",
      "                                 Taito       0.00      0.00      0.00         3\n",
      "                                Takara       0.00      0.00      0.00         5\n",
      "                           Takara Tomy       0.33      0.14      0.20         7\n",
      "                  Take-Two Interactive       0.47      0.39      0.42        80\n",
      "                                Takuyo       0.00      0.00      0.00         1\n",
      "                            Tecmo Koei       0.29      0.33      0.31        70\n",
      "                             Telegames       0.00      0.00      0.00         0\n",
      "                        Telltale Games       0.12      0.50      0.20         2\n",
      "                               Telstar       0.00      0.00      0.00         0\n",
      "                 The Adventure Company       0.00      0.00      0.00         1\n",
      "                           Tigervision       0.00      0.00      0.00         1\n",
      "               Time Warner Interactive       0.00      0.00      0.00         0\n",
      "                                 Titus       0.00      0.00      0.00         3\n",
      "                                Tivola       0.00      0.00      0.00         1\n",
      "                      Tomy Corporation       0.00      0.00      0.00         3\n",
      "                   TopWare Interactive       0.00      0.00      0.00         2\n",
      "                            Touchstone       0.00      0.00      0.00         1\n",
      "                             Tradewest       1.00      1.00      1.00         1\n",
      "                          Trion Worlds       0.00      0.00      0.00         1\n",
      "                  Tripwire Interactive       0.00      0.00      0.00         1\n",
      "                 Tru Blu Entertainment       1.00      0.67      0.80         3\n",
      "                              Tryfirst       0.00      0.00      0.00         1\n",
      "                             Type-Moon       0.00      0.00      0.00         1\n",
      "                             U.S. Gold       0.00      0.00      0.00         2\n",
      "                       UFO Interactive       0.00      0.00      0.00         2\n",
      "                     UIG Entertainment       0.00      0.00      0.00         1\n",
      "                               Ubisoft       0.51      0.62      0.56       181\n",
      "                        Ubisoft Annecy       0.00      0.00      0.00         2\n",
      "                 Universal Interactive       0.00      0.00      0.00         4\n",
      "                               Unknown       0.10      0.09      0.10        34\n",
      "                          Valcon Games       0.00      0.00      0.00         2\n",
      "                              ValuSoft       0.00      0.00      0.00         3\n",
      "                        Valve Software       0.00      0.00      0.00         1\n",
      "                             Vic Tokai       0.00      0.00      0.00         0\n",
      "                    Victor Interactive       0.00      0.00      0.00         1\n",
      "                          Video System       0.00      0.00      0.00         1\n",
      "                                 Views       0.00      0.00      0.00         1\n",
      "                    Virgin Interactive       0.09      0.10      0.10        10\n",
      "                    Virtual Play Games       0.00      0.00      0.00         2\n",
      "                         Vivendi Games       0.33      0.17      0.23        41\n",
      "                               Wanadoo       0.00      0.00      0.00         2\n",
      "Warner Bros. Interactive Entertainment       0.69      0.52      0.60        65\n",
      "                                  Warp       0.00      0.00      0.00         0\n",
      "               WayForward Technologies       0.00      0.00      0.00         0\n",
      "                              XS Games       0.00      0.00      0.00         1\n",
      "                     Xicat Interactive       0.00      0.00      0.00         2\n",
      "                               Xplosiv       0.00      0.00      0.00         2\n",
      "                           Xseed Games       0.00      0.00      0.00         1\n",
      "                      Yacht Club Games       0.00      0.00      0.00         1\n",
      "                                  Yeti       0.00      0.00      0.00         1\n",
      "                                Yuke's       0.00      0.00      0.00         1\n",
      "                               Yumedia       0.00      0.00      0.00         0\n",
      "                                Zenrin       0.00      0.00      0.00         0\n",
      "                Zoo Digital Publishing       0.07      0.05      0.06        21\n",
      "                             Zoo Games       0.25      0.17      0.20         6\n",
      "                           Zushi Games       0.00      0.00      0.00         3\n",
      "                     bitComposer Games       0.00      0.00      0.00         2\n",
      "                       dramatic create       0.00      0.00      0.00         3\n",
      "                                fonfun       0.00      0.00      0.00         1\n",
      "                       imageepoch Inc.       0.00      0.00      0.00         0\n",
      "\n",
      "                              accuracy                           0.38      3344\n",
      "                             macro avg       0.10      0.09      0.09      3344\n",
      "                          weighted avg       0.35      0.38      0.36      3344\n",
      "\n",
      "Confusion Matrix:\n",
      "[[0 0 0 ... 0 0 0]\n",
      " [0 0 0 ... 0 0 0]\n",
      " [0 0 4 ... 0 0 0]\n",
      " ...\n",
      " [0 0 0 ... 0 0 0]\n",
      " [0 0 0 ... 0 0 0]\n",
      " [0 0 0 ... 0 0 0]]\n"
     ]
    },
    {
     "name": "stderr",
     "output_type": "stream",
     "text": [
      "/usr/local/lib/python3.10/dist-packages/sklearn/metrics/_classification.py:1344: UndefinedMetricWarning: Precision and F-score are ill-defined and being set to 0.0 in labels with no predicted samples. Use `zero_division` parameter to control this behavior.\n",
      "  _warn_prf(average, modifier, msg_start, len(result))\n",
      "/usr/local/lib/python3.10/dist-packages/sklearn/metrics/_classification.py:1344: UndefinedMetricWarning: Recall and F-score are ill-defined and being set to 0.0 in labels with no true samples. Use `zero_division` parameter to control this behavior.\n",
      "  _warn_prf(average, modifier, msg_start, len(result))\n",
      "/usr/local/lib/python3.10/dist-packages/sklearn/metrics/_classification.py:1344: UndefinedMetricWarning: Precision and F-score are ill-defined and being set to 0.0 in labels with no predicted samples. Use `zero_division` parameter to control this behavior.\n",
      "  _warn_prf(average, modifier, msg_start, len(result))\n",
      "/usr/local/lib/python3.10/dist-packages/sklearn/metrics/_classification.py:1344: UndefinedMetricWarning: Recall and F-score are ill-defined and being set to 0.0 in labels with no true samples. Use `zero_division` parameter to control this behavior.\n",
      "  _warn_prf(average, modifier, msg_start, len(result))\n",
      "/usr/local/lib/python3.10/dist-packages/sklearn/metrics/_classification.py:1344: UndefinedMetricWarning: Precision and F-score are ill-defined and being set to 0.0 in labels with no predicted samples. Use `zero_division` parameter to control this behavior.\n",
      "  _warn_prf(average, modifier, msg_start, len(result))\n",
      "/usr/local/lib/python3.10/dist-packages/sklearn/metrics/_classification.py:1344: UndefinedMetricWarning: Recall and F-score are ill-defined and being set to 0.0 in labels with no true samples. Use `zero_division` parameter to control this behavior.\n",
      "  _warn_prf(average, modifier, msg_start, len(result))\n"
     ]
    }
   ],
   "source": [
    "print('Classification Report:')\n",
    "print(classification_report(y_test,y_pred_rfc))\n",
    "print('Confusion Matrix:')\n",
    "print(confusion_matrix(y_test, y_pred_rfc))"
   ]
  },
  {
   "cell_type": "code",
   "execution_count": null,
   "id": "f02f89b5",
   "metadata": {
    "colab": {
     "base_uri": "https://localhost:8080/"
    },
    "executionInfo": {
     "elapsed": 6,
     "status": "ok",
     "timestamp": 1684267214132,
     "user": {
      "displayName": "Timilehin Osinuga",
      "userId": "02674228651306861961"
     },
     "user_tz": -60
    },
    "id": "f02f89b5",
    "outputId": "b9791c2b-b1aa-4276-b37c-eaf871623122"
   },
   "outputs": [
    {
     "name": "stdout",
     "output_type": "stream",
     "text": [
      "Classification Report:\n",
      "                                        precision    recall  f1-score   support\n",
      "\n",
      "                       10TACLE Studios       0.00      0.00      0.00         2\n",
      "                            1C Company       0.00      0.00      0.00         0\n",
      "                                   3DO       1.00      0.38      0.55         8\n",
      "                             505 Games       0.22      0.34      0.27        29\n",
      "                                   5pb       0.23      0.36      0.28        14\n",
      "                           989 Studios       0.00      0.00      0.00         1\n",
      "                        AQ Interactive       0.00      0.00      0.00         0\n",
      "                             ASC Games       0.00      0.00      0.00         1\n",
      "                   ASCII Entertainment       0.67      0.29      0.40         7\n",
      "                     ASCII Media Works       0.00      0.00      0.00         1\n",
      "                 Acclaim Entertainment       0.40      0.52      0.45        33\n",
      "                              Accolade       0.00      0.00      0.00         1\n",
      "                           Ackkstudios       0.00      0.00      0.00         1\n",
      "                               Acquire       0.00      0.00      0.00         2\n",
      "                            Activision       0.50      0.48      0.49       203\n",
      "                   Activision Blizzard       0.00      0.00      0.00         1\n",
      "                      Activision Value       0.40      0.67      0.50         3\n",
      "                      Adeline Software       0.00      0.00      0.00         1\n",
      "                              Aerosoft       0.00      0.00      0.00         1\n",
      "                Agatsuma Entertainment       0.00      0.00      0.00         0\n",
      "                           Aksys Games       0.00      0.00      0.00         0\n",
      "                             Alchemist       0.00      0.00      0.00        11\n",
      "                  Alternative Software       1.00      1.00      1.00         2\n",
      "                       Answer Software       0.00      0.00      0.00         1\n",
      "                             Aqua Plus       0.00      0.00      0.00         3\n",
      "                                 Aques       0.00      0.00      0.00         0\n",
      "                      Arc System Works       0.22      0.50      0.31         4\n",
      "                               ArtDink       0.00      0.00      0.00         2\n",
      "                            Aruze Corp       0.00      0.00      0.00         0\n",
      "            Ascaron Entertainment GmbH       0.00      0.00      0.00         1\n",
      "                                Asgard       0.00      0.00      0.00         1\n",
      "               Asmik Ace Entertainment       0.00      0.00      0.00         1\n",
      "                                 Aspyr       0.00      0.00      0.00         0\n",
      "                              Astragon       0.00      0.00      0.00         2\n",
      "                  Asylum Entertainment       0.00      0.00      0.00         1\n",
      "                                 Atari       0.21      0.26      0.23        66\n",
      "                                Athena       0.00      0.00      0.00         1\n",
      "                                 Atlus       0.10      0.17      0.12        12\n",
      "                    Avalon Interactive       0.00      0.00      0.00         0\n",
      "                             Avanquest       0.00      0.00      0.00         7\n",
      "                    Avanquest Software       0.00      0.00      0.00         2\n",
      "                    BAM! Entertainment       0.17      0.20      0.18         5\n",
      "         BMG Interactive Entertainment       0.00      0.00      0.00         0\n",
      "                                   BPS       0.00      0.00      0.00         1\n",
      "                             Banpresto       0.12      0.11      0.11        18\n",
      "                               Benesse       0.00      0.00      0.00         0\n",
      "                              Berkeley       0.00      0.00      0.00         0\n",
      "                    Bethesda Softworks       0.12      0.14      0.13        14\n",
      "                   Big Ben Interactive       0.00      0.00      0.00         1\n",
      "                    Bigben Interactive       0.25      0.25      0.25         4\n",
      "                      Black Bean Games       0.00      0.00      0.00         4\n",
      "                     Black Label Games       0.00      0.00      0.00         0\n",
      "              Blast! Entertainment Ltd       0.00      0.00      0.00         1\n",
      "                             Blue Byte       0.00      0.00      0.00         2\n",
      "                              Boost On       0.00      0.00      0.00         1\n",
      "                   Brash Entertainment       0.00      0.00      0.00         2\n",
      "                              Broccoli       0.00      0.00      0.00         2\n",
      "                             BushiRoad       0.00      0.00      0.00         0\n",
      "                       CBS Electronics       0.00      0.00      0.00         0\n",
      "                                   CCP       0.00      0.00      0.00         1\n",
      "            CDV Software Entertainment       0.00      0.00      0.00         2\n",
      "                          CPG Products       0.00      0.00      0.00         0\n",
      "                                Capcom       0.37      0.34      0.35        76\n",
      "                                  Cave       0.50      0.20      0.29         5\n",
      "                              ChunSoft       0.00      0.00      0.00         5\n",
      "                      City Interactive       1.00      0.67      0.80         9\n",
      "      Cloud Imperium Games Corporation       0.00      0.00      0.00         0\n",
      "                           Codemasters       0.50      0.55      0.52        31\n",
      "                    Codemasters Online       0.00      0.00      0.00         1\n",
      "                                Coleco       0.00      0.00      0.00         0\n",
      "                               Comfort       0.00      0.00      0.00         0\n",
      "                              Commseed       0.00      0.00      0.00         1\n",
      "                         Compile Heart       0.00      0.00      0.00         5\n",
      "              Conspiracy Entertainment       0.33      1.00      0.50         1\n",
      "                      Core Design Ltd.       0.00      0.00      0.00         1\n",
      "                   Crave Entertainment       0.17      0.14      0.15        14\n",
      "                         Creative Core       0.00      0.00      0.00         0\n",
      "                      Crystal Dynamics       0.00      0.00      0.00         1\n",
      "                         Culture Brain       0.00      0.00      0.00         2\n",
      "                            CyberFront       0.00      0.00      0.00         1\n",
      "                           D3Publisher       0.17      0.26      0.20        27\n",
      "                       DHM Interactive       0.00      0.00      0.00         1\n",
      "                             DSI Games       0.00      0.00      0.00         1\n",
      "                     DTP Entertainment       0.10      0.14      0.12         7\n",
      "                                 Daito       0.00      0.00      0.00         2\n",
      "                              Data Age       0.00      0.00      0.00         1\n",
      "               Data Design Interactive       0.00      0.00      0.00         1\n",
      "                             Data East       0.00      0.00      0.00         0\n",
      "                        Datam Polystar       0.00      0.00      0.00         0\n",
      "                           Deep Silver       0.27      0.35      0.30        20\n",
      "             Destination Software, Inc       0.00      0.00      0.00         2\n",
      "                             Destineer       0.23      0.25      0.24        12\n",
      "                           Detn8 Games       0.00      0.00      0.00         0\n",
      "                      Devolver Digital       0.00      0.00      0.00         1\n",
      "                              DigiCube       0.00      0.00      0.00         0\n",
      "            Disney Interactive Studios       0.20      0.26      0.22        43\n",
      "                                Dorart       0.00      0.00      0.00         1\n",
      "              DreamCatcher Interactive       0.00      0.00      0.00         2\n",
      "                                   ESP       0.00      0.00      0.00         0\n",
      "                      Easy Interactive       0.00      0.00      0.00         1\n",
      "                     Eidos Interactive       0.39      0.37      0.38        41\n",
      "                       Electronic Arts       0.66      0.65      0.65       292\n",
      "                Electronic Arts Victor       0.00      0.00      0.00         0\n",
      "                                   Elf       0.00      0.00      0.00         2\n",
      "                    Empire Interactive       0.00      0.00      0.00         9\n",
      "                                Encore       0.50      0.50      0.50         2\n",
      "                      Enix Corporation       0.50      0.14      0.22         7\n",
      "                            Enterbrain       0.00      0.00      0.00         3\n",
      "                                 Epoch       0.00      0.00      0.00         2\n",
      "                       Essential Games       0.00      0.00      0.00         0\n",
      "                         Evolved Games       0.00      0.00      0.00         1\n",
      "                  Excalibur Publishing       0.00      0.00      0.00         1\n",
      "                       Experience Inc.       0.00      0.00      0.00         1\n",
      "                    Falcom Corporation       0.00      0.00      0.00         3\n",
      "                                Fields       0.00      0.00      0.00         0\n",
      "                      Flashpoint Games       0.00      0.00      0.00         1\n",
      "                           Flight-Plan       0.00      0.00      0.00         1\n",
      "                Focus Home Interactive       0.30      0.19      0.23        16\n",
      "                      Focus Multimedia       0.00      0.00      0.00         2\n",
      "                   Foreign Media Games       0.00      0.00      0.00         2\n",
      "                       Fox Interactive       0.00      0.00      0.00         1\n",
      "                         From Software       0.00      0.00      0.00         4\n",
      "                                 FuRyu       0.00      0.00      0.00         9\n",
      "                     FuRyu Corporation       0.00      0.00      0.00         1\n",
      "                                  Fuji       0.00      0.00      0.00         0\n",
      "                                Funcom       0.00      0.00      0.00         0\n",
      "                                Funsta       0.00      0.00      0.00         2\n",
      "                                 G.Rev       0.00      0.00      0.00         1\n",
      "                           GN Software       0.00      0.00      0.00         0\n",
      "                                   GSP       0.50      0.25      0.33         4\n",
      "                        GT Interactive       0.18      0.13      0.15        15\n",
      "                                Gakken       0.00      0.00      0.00         0\n",
      "                          Game Factory       0.00      0.00      0.00         8\n",
      "                             Game Life       0.00      0.00      0.00         1\n",
      "                GameMill Entertainment       0.00      0.00      0.00         2\n",
      "                            Gamebridge       0.00      0.00      0.00         2\n",
      "                              Gameloft       0.00      0.00      0.00         1\n",
      "                        Games Workshop       0.00      0.00      0.00         0\n",
      "                      Gearbox Software       1.00      1.00      1.00         1\n",
      "                 General Entertainment       0.00      0.00      0.00         0\n",
      "                                 Genki       0.00      0.00      0.00         2\n",
      "                            Ghostlight       0.00      0.00      0.00         2\n",
      "                Global A Entertainment       0.00      0.00      0.00         1\n",
      "                           Global Star       0.40      0.40      0.40        10\n",
      "                          Gotham Games       0.00      0.00      0.00         1\n",
      "                              Graffiti       0.00      0.00      0.00         0\n",
      "               Gremlin Interactive Ltd       0.00      0.00      0.00         0\n",
      "                          Groove Games       0.00      0.00      0.00         0\n",
      "                                GungHo       0.00      0.00      0.00         4\n",
      "                                  Gust       0.00      0.00      0.00         1\n",
      "                   Hamster Corporation       0.00      0.00      0.00         1\n",
      "                    Hasbro Interactive       0.00      0.00      0.00         2\n",
      "                     Havas Interactive       0.00      0.00      0.00         1\n",
      "                                  Hect       0.00      0.00      0.00         1\n",
      "                           Hello Games       0.00      0.00      0.00         1\n",
      "                       Hip Interactive       0.00      0.00      0.00         1\n",
      "                  Hudson Entertainment       0.00      0.00      0.00         2\n",
      "                           Hudson Soft       0.16      0.16      0.16        19\n",
      "                   Human Entertainment       0.00      0.00      0.00         2\n",
      "                                 HuneX       0.00      0.00      0.00         1\n",
      "                          IE Institute       0.00      0.00      0.00         0\n",
      "                   Iceberg Interactive       0.00      0.00      0.00         1\n",
      "                          Idea Factory       0.10      0.16      0.12        19\n",
      "            Idea Factory International       0.00      0.00      0.00         1\n",
      "                Ignition Entertainment       0.13      0.14      0.14        14\n",
      "                                Imadio       0.00      0.00      0.00         1\n",
      "                             Imagineer       0.17      0.20      0.18         5\n",
      "                                  Imax       0.00      0.00      0.00         0\n",
      "                           Indie Games       0.00      0.00      0.00         0\n",
      "                            Infogrames       0.00      0.00      0.00         6\n",
      "                       Insomniac Games       1.00      1.00      1.00         1\n",
      "                             Interplay       0.33      0.38      0.35         8\n",
      "            Interworks Unlimited, Inc.       0.00      0.00      0.00         1\n",
      "                 Introversion Software       0.00      0.00      0.00         0\n",
      "             Irem Software Engineering       0.00      0.00      0.00         1\n",
      "                             Ivolgamus       0.00      0.00      0.00         1\n",
      "                                   JVC       0.00      0.00      0.00         2\n",
      "                     Jack of All Games       0.00      0.00      0.00         1\n",
      "                                Jaleco       0.00      0.00      0.00         6\n",
      "                    JoWood Productions       0.00      0.00      0.00         7\n",
      "                                   KID       0.00      0.00      0.00         0\n",
      "                        Kadokawa Games       0.00      0.00      0.00         1\n",
      "                       Kadokawa Shoten       0.00      0.00      0.00        14\n",
      "                           Kaga Create       0.00      0.00      0.00         1\n",
      "                         Kalypso Media       0.14      0.12      0.13         8\n",
      "                   Karin Entertainment       0.00      0.00      0.00         0\n",
      "                                 Kemco       0.00      0.00      0.00         2\n",
      "                          Kids Station       0.00      0.00      0.00         0\n",
      "                            Koch Media       1.00      0.20      0.33         5\n",
      "          Konami Digital Entertainment       0.53      0.42      0.47       182\n",
      "                            LEGO Media       0.00      0.00      0.00         1\n",
      "                             LSP Games       0.00      0.00      0.00         3\n",
      "                                Laguna       0.00      0.00      0.00         0\n",
      "                               Level 5       0.00      0.00      0.00         6\n",
      "                 Lexicon Entertainment       0.00      0.00      0.00         1\n",
      "                           Licensed 4U       1.00      1.00      1.00         1\n",
      "                Lighthouse Interactive       0.00      0.00      0.00         0\n",
      "                          Little Orbit       1.00      0.71      0.83         7\n",
      "                             LucasArts       0.29      0.30      0.29        20\n",
      "                     MC2 Entertainment       0.00      0.00      0.00         1\n",
      "                               MLB.com       0.00      0.00      0.00         1\n",
      "                                   MTO       0.00      0.00      0.00         3\n",
      "                             MTV Games       0.77      1.00      0.87        10\n",
      "                              Mad Catz       0.00      0.00      0.00         2\n",
      "                 Majesco Entertainment       0.04      0.07      0.05        15\n",
      "                           Mamba Games       0.00      0.00      0.00         0\n",
      "               Marvelous Entertainment       0.00      0.00      0.00         4\n",
      "                 Marvelous Interactive       0.12      0.23      0.16        13\n",
      "                          Mastertronic       0.00      0.00      0.00         5\n",
      "                               Mastiff       0.00      0.00      0.00         0\n",
      "                    Mattel Interactive       0.00      0.00      0.00         7\n",
      "                              Max Five       0.00      0.00      0.00         0\n",
      "                  Maximum Family Games       0.00      0.00      0.00         1\n",
      "                                 Maxis       0.00      0.00      0.00         0\n",
      "                           Media Rings       0.00      0.00      0.00         0\n",
      "                           Media Works       0.00      0.00      0.00         1\n",
      "                            MediaQuest       0.00      0.00      0.00         1\n",
      "                    Mentor Interactive       0.00      0.00      0.00         1\n",
      "                              Metro 3D       0.00      0.00      0.00         3\n",
      "                           Micro Cabin       0.00      0.00      0.00         1\n",
      "                              Microids       0.00      0.00      0.00         3\n",
      "                            Microprose       0.00      0.00      0.00         0\n",
      "                Microsoft Game Studios       0.21      0.23      0.22        30\n",
      "       Midas Interactive Entertainment       0.00      0.00      0.00         5\n",
      "                          Midway Games       0.35      0.33      0.34        42\n",
      "                       Milestone S.r.l       0.00      0.00      0.00         1\n",
      "                      Milestone S.r.l.       0.00      0.00      0.00         3\n",
      "                        Minato Station       0.00      0.00      0.00         1\n",
      "                             Mindscape       0.50      0.14      0.22         7\n",
      "                                Mitsui       0.00      0.00      0.00         1\n",
      "                                Mojang       0.50      1.00      0.67         1\n",
      "              Monte Christo Multimedia       0.00      0.00      0.00         1\n",
      "                           Mumbo Jumbo       0.00      0.00      0.00         2\n",
      "                          Myelin Media       0.00      0.00      0.00         1\n",
      "                                NCSoft       0.25      1.00      0.40         1\n",
      "                                   NEC       0.00      0.00      0.00         1\n",
      "                      NEC Interchannel       0.00      0.00      0.00         1\n",
      "                    Namco Bandai Games       0.29      0.29      0.29       200\n",
      "                               Natsume       0.00      0.00      0.00         1\n",
      "                            Naxat Soft       0.00      0.00      0.00         1\n",
      "                               NetRevo       0.00      0.00      0.00         1\n",
      "                              NewKidCo       0.00      0.00      0.00         0\n",
      "              Nihon Falcom Corporation       0.00      0.00      0.00         2\n",
      "                              Nintendo       0.51      0.51      0.51       146\n",
      "                       Nippon Columbia       0.00      0.00      0.00         1\n",
      "                  Nippon Ichi Software       0.20      0.19      0.20        21\n",
      "                        Nippon Telenet       0.50      1.00      0.67         1\n",
      "                               Nobilis       0.33      1.00      0.50         1\n",
      "                           Nordcurrent       0.00      0.00      0.00         3\n",
      "                          Nordic Games       0.20      0.20      0.20         5\n",
      "                               O-Games       0.00      0.00      0.00         7\n",
      "                      O3 Entertainment       0.00      0.00      0.00         1\n",
      "                                 Ocean       0.00      0.00      0.00         6\n",
      "                         Office Create       0.00      0.00      0.00         2\n",
      "                             Ongakukan       0.00      0.00      0.00         1\n",
      "                    Oxygen Interactive       0.40      0.40      0.40         5\n",
      "                              P2 Games       0.00      0.00      0.00         0\n",
      "                                 PQube       0.14      0.20      0.17        10\n",
      "           Pacific Century Cyber Works       0.00      0.00      0.00         0\n",
      "                          Pack In Soft       0.00      0.00      0.00         1\n",
      "                         Pack-In-Video       0.00      0.00      0.00         1\n",
      "                      Panther Software       0.00      0.00      0.00         0\n",
      "                                  Paon       0.00      0.00      0.00         0\n",
      "                   Paradox Interactive       0.00      0.00      0.00         4\n",
      "                          Parker Bros.       0.00      0.00      0.00         2\n",
      "                           Phantom EFX       0.00      0.00      0.00         1\n",
      "                           Pioneer LDC       0.00      0.00      0.00         1\n",
      "                               Play It       0.00      0.00      0.00         4\n",
      "                                 PlayV       0.00      0.00      0.00         1\n",
      "                Playlogic Game Factory       0.00      0.00      0.00         2\n",
      "                          PopCap Games       0.00      0.00      0.00         2\n",
      "                        Popcorn Arcade       0.00      0.00      0.00         1\n",
      "                         Princess Soft       0.00      0.00      0.00         1\n",
      "                             Prototype       0.20      0.20      0.20         5\n",
      "                             Psygnosis       0.20      0.12      0.15         8\n",
      "                                 Quest       0.00      0.00      0.00         1\n",
      "                              Quinrose       0.00      0.00      0.00         3\n",
      "                                   RTL       0.00      0.00      0.00         1\n",
      "                         Rage Software       0.00      0.00      0.00         1\n",
      "                Rebellion Developments       0.00      0.00      0.00         1\n",
      "                          Red Flagship       0.00      0.00      0.00         1\n",
      "                               Red Orb       0.00      0.00      0.00         1\n",
      "                             RedOctane       1.00      1.00      1.00         1\n",
      "                    Reef Entertainment       1.00      1.00      1.00         1\n",
      "                   Revolution Software       0.00      0.00      0.00         0\n",
      "                     Rising Star Games       0.12      0.05      0.07        19\n",
      "                         Riverhillsoft       0.00      0.00      0.00         0\n",
      "                        Rocket Company       0.00      0.00      0.00         3\n",
      "                            Rondomedia       0.00      0.00      0.00         3\n",
      "                          SCS Software       0.00      0.00      0.00         1\n",
      "                                   SCi       0.00      0.00      0.00         2\n",
      "                                   SNK       0.67      0.33      0.44         6\n",
      "                          SNK Playmore       0.00      0.00      0.00         0\n",
      "                     Sammy Corporation       1.00      0.25      0.40         4\n",
      "                       Scholastic Inc.       0.00      0.00      0.00         0\n",
      "                            Screenlife       0.00      0.00      0.00         1\n",
      "                                  Sega       0.33      0.32      0.32       130\n",
      "                      Seta Corporation       0.00      0.00      0.00         0\n",
      "                         Seventh Chord       0.00      0.00      0.00         0\n",
      "                            Shogakukan       0.00      0.00      0.00         3\n",
      "          Simon & Schuster Interactive       0.00      0.00      0.00         0\n",
      "                   Slitherine Software       0.00      0.00      0.00         2\n",
      "                               Societa       0.00      0.00      0.00         1\n",
      "                                Sonnet       0.00      0.00      0.00         0\n",
      "           Sony Computer Entertainment       0.33      0.34      0.33       130\n",
      "    Sony Computer Entertainment Europe       0.00      0.00      0.00         6\n",
      "             Sony Online Entertainment       0.00      0.00      0.00         2\n",
      "                       SouthPeak Games       0.17      0.22      0.19         9\n",
      "                                 Spike       0.00      0.00      0.00         7\n",
      "                                Square       0.00      0.00      0.00         3\n",
      "                             Square EA       0.00      0.00      0.00         0\n",
      "                           Square Enix       0.21      0.21      0.21        43\n",
      "                            SquareSoft       0.15      0.29      0.20         7\n",
      "                       Stainless Games       0.00      0.00      0.00         1\n",
      "                              Starfish       0.00      0.00      0.00         2\n",
      "                                 Sting       0.00      0.00      0.00         2\n",
      "                      Storm City Games       0.00      0.00      0.00         3\n",
      "                               Success       0.00      0.00      0.00         4\n",
      "                            Sunflowers       0.00      0.00      0.00         1\n",
      "                   Sunrise Interactive       0.00      0.00      0.00         1\n",
      "                               Sunsoft       0.00      0.00      0.00         1\n",
      "                  Swing! Entertainment       0.00      0.00      0.00         2\n",
      "                              System 3       0.00      0.00      0.00         0\n",
      "              System 3 Arcade Software       0.00      0.00      0.00         3\n",
      "                           System Soft       0.00      0.00      0.00         0\n",
      "                              TDK Core       0.00      0.00      0.00         1\n",
      "                        TDK Mediactive       0.00      0.00      0.00         3\n",
      "                                   TGL       1.00      1.00      1.00         1\n",
      "                                   THQ       0.43      0.45      0.44       143\n",
      "                                 Taito       0.00      0.00      0.00         3\n",
      "                                Takara       0.00      0.00      0.00         5\n",
      "                           Takara Tomy       0.00      0.00      0.00         7\n",
      "                  Take-Two Interactive       0.40      0.39      0.39        80\n",
      "                                Takuyo       0.00      0.00      0.00         1\n",
      "                       Team17 Software       0.00      0.00      0.00         0\n",
      "                            Tecmo Koei       0.38      0.29      0.33        70\n",
      "                             Telegames       0.00      0.00      0.00         0\n",
      "                        Telltale Games       0.33      0.50      0.40         2\n",
      "                               Telstar       0.00      0.00      0.00         0\n",
      "                 The Adventure Company       0.00      0.00      0.00         1\n",
      "                           Tigervision       0.00      0.00      0.00         1\n",
      "               Time Warner Interactive       0.00      0.00      0.00         0\n",
      "                                 Titus       0.00      0.00      0.00         3\n",
      "                                Tivola       0.00      0.00      0.00         1\n",
      "                                 Tommo       0.00      0.00      0.00         0\n",
      "                      Tomy Corporation       0.00      0.00      0.00         3\n",
      "                   TopWare Interactive       0.00      0.00      0.00         2\n",
      "                            Touchstone       0.00      0.00      0.00         1\n",
      "                             Tradewest       0.00      0.00      0.00         1\n",
      "                          Trion Worlds       0.00      0.00      0.00         1\n",
      "                  Tripwire Interactive       0.00      0.00      0.00         1\n",
      "                 Tru Blu Entertainment       0.67      0.67      0.67         3\n",
      "                              Tryfirst       0.00      0.00      0.00         1\n",
      "                             Type-Moon       0.00      0.00      0.00         1\n",
      "                             U.S. Gold       0.00      0.00      0.00         2\n",
      "                       UFO Interactive       0.00      0.00      0.00         2\n",
      "                     UIG Entertainment       0.00      0.00      0.00         1\n",
      "                               Ubisoft       0.57      0.54      0.55       181\n",
      "                        Ubisoft Annecy       0.00      0.00      0.00         2\n",
      "                 Universal Interactive       0.33      0.25      0.29         4\n",
      "                               Unknown       0.08      0.09      0.08        34\n",
      "                          Valcon Games       0.00      0.00      0.00         2\n",
      "                              ValuSoft       0.00      0.00      0.00         3\n",
      "                        Valve Software       0.00      0.00      0.00         1\n",
      "                 Vatical Entertainment       0.00      0.00      0.00         0\n",
      "                             Vic Tokai       0.00      0.00      0.00         0\n",
      "                    Victor Interactive       0.00      0.00      0.00         1\n",
      "                          Video System       0.00      0.00      0.00         1\n",
      "                                 Views       0.00      0.00      0.00         1\n",
      "                    Virgin Interactive       0.08      0.10      0.09        10\n",
      "                    Virtual Play Games       0.00      0.00      0.00         2\n",
      "                         Vivendi Games       0.28      0.17      0.21        41\n",
      "                               Wanadoo       0.00      0.00      0.00         2\n",
      "                               Warashi       0.00      0.00      0.00         0\n",
      "Warner Bros. Interactive Entertainment       0.55      0.49      0.52        65\n",
      "                              XS Games       0.00      0.00      0.00         1\n",
      "                     Xicat Interactive       0.00      0.00      0.00         2\n",
      "                               Xplosiv       0.33      0.50      0.40         2\n",
      "                           Xseed Games       0.00      0.00      0.00         1\n",
      "                      Yacht Club Games       0.00      0.00      0.00         1\n",
      "                                  Yeti       0.00      0.00      0.00         1\n",
      "                                Yuke's       0.00      0.00      0.00         1\n",
      "                               Yumedia       0.00      0.00      0.00         0\n",
      "                                Zenrin       0.00      0.00      0.00         0\n",
      "                Zoo Digital Publishing       0.17      0.19      0.18        21\n",
      "                             Zoo Games       0.25      0.33      0.29         6\n",
      "                           Zushi Games       0.50      0.67      0.57         3\n",
      "                     bitComposer Games       0.00      0.00      0.00         2\n",
      "                       dramatic create       0.00      0.00      0.00         3\n",
      "                                fonfun       0.00      0.00      0.00         1\n",
      "                           id Software       0.00      0.00      0.00         0\n",
      "                  inXile Entertainment       0.00      0.00      0.00         0\n",
      "                          responDESIGN       0.00      0.00      0.00         0\n",
      "\n",
      "                              accuracy                           0.34      3344\n",
      "                             macro avg       0.09      0.09      0.09      3344\n",
      "                          weighted avg       0.35      0.34      0.34      3344\n",
      "\n",
      "Confusion Matrix:\n",
      "[[0 0 0 ... 0 0 0]\n",
      " [0 0 0 ... 0 0 0]\n",
      " [0 0 3 ... 0 0 0]\n",
      " ...\n",
      " [0 0 0 ... 0 0 0]\n",
      " [0 0 0 ... 0 0 0]\n",
      " [0 0 0 ... 0 0 0]]\n"
     ]
    },
    {
     "name": "stderr",
     "output_type": "stream",
     "text": [
      "/usr/local/lib/python3.10/dist-packages/sklearn/metrics/_classification.py:1344: UndefinedMetricWarning: Precision and F-score are ill-defined and being set to 0.0 in labels with no predicted samples. Use `zero_division` parameter to control this behavior.\n",
      "  _warn_prf(average, modifier, msg_start, len(result))\n",
      "/usr/local/lib/python3.10/dist-packages/sklearn/metrics/_classification.py:1344: UndefinedMetricWarning: Recall and F-score are ill-defined and being set to 0.0 in labels with no true samples. Use `zero_division` parameter to control this behavior.\n",
      "  _warn_prf(average, modifier, msg_start, len(result))\n",
      "/usr/local/lib/python3.10/dist-packages/sklearn/metrics/_classification.py:1344: UndefinedMetricWarning: Precision and F-score are ill-defined and being set to 0.0 in labels with no predicted samples. Use `zero_division` parameter to control this behavior.\n",
      "  _warn_prf(average, modifier, msg_start, len(result))\n",
      "/usr/local/lib/python3.10/dist-packages/sklearn/metrics/_classification.py:1344: UndefinedMetricWarning: Recall and F-score are ill-defined and being set to 0.0 in labels with no true samples. Use `zero_division` parameter to control this behavior.\n",
      "  _warn_prf(average, modifier, msg_start, len(result))\n",
      "/usr/local/lib/python3.10/dist-packages/sklearn/metrics/_classification.py:1344: UndefinedMetricWarning: Precision and F-score are ill-defined and being set to 0.0 in labels with no predicted samples. Use `zero_division` parameter to control this behavior.\n",
      "  _warn_prf(average, modifier, msg_start, len(result))\n",
      "/usr/local/lib/python3.10/dist-packages/sklearn/metrics/_classification.py:1344: UndefinedMetricWarning: Recall and F-score are ill-defined and being set to 0.0 in labels with no true samples. Use `zero_division` parameter to control this behavior.\n",
      "  _warn_prf(average, modifier, msg_start, len(result))\n"
     ]
    }
   ],
   "source": [
    "print('Classification Report:')\n",
    "print(classification_report(y_test,y_pred_dt))\n",
    "print('Confusion Matrix:')\n",
    "print(confusion_matrix(y_test, y_pred_dt))"
   ]
  },
  {
   "cell_type": "code",
   "execution_count": null,
   "id": "d32a676e",
   "metadata": {
    "colab": {
     "base_uri": "https://localhost:8080/"
    },
    "executionInfo": {
     "elapsed": 212,
     "status": "ok",
     "timestamp": 1684267219896,
     "user": {
      "displayName": "Timilehin Osinuga",
      "userId": "02674228651306861961"
     },
     "user_tz": -60
    },
    "id": "d32a676e",
    "outputId": "dba58500-606c-4252-9443-752e0bc5baf0"
   },
   "outputs": [
    {
     "name": "stdout",
     "output_type": "stream",
     "text": [
      "Classification Report:\n",
      "                                        precision    recall  f1-score   support\n",
      "\n",
      "                       10TACLE Studios       0.00      0.00      0.00         2\n",
      "                                   3DO       0.00      0.00      0.00         8\n",
      "                             505 Games       0.00      0.00      0.00        29\n",
      "                                   5pb       0.00      0.00      0.00        14\n",
      "                           989 Studios       0.00      0.00      0.00         1\n",
      "                             ASC Games       0.00      0.00      0.00         1\n",
      "                   ASCII Entertainment       0.00      0.00      0.00         7\n",
      "                     ASCII Media Works       0.00      0.00      0.00         1\n",
      "                 Acclaim Entertainment       0.00      0.00      0.00        33\n",
      "                              Accolade       0.00      0.00      0.00         1\n",
      "                           Ackkstudios       0.00      0.00      0.00         1\n",
      "                               Acquire       0.00      0.00      0.00         2\n",
      "                            Activision       0.00      0.00      0.00       203\n",
      "                   Activision Blizzard       0.00      0.00      0.00         1\n",
      "                      Activision Value       0.00      0.00      0.00         3\n",
      "                      Adeline Software       0.00      0.00      0.00         1\n",
      "                              Aerosoft       0.00      0.00      0.00         1\n",
      "                             Alchemist       0.00      0.00      0.00        11\n",
      "                  Alternative Software       0.00      0.00      0.00         2\n",
      "                       Answer Software       0.00      0.00      0.00         1\n",
      "                             Aqua Plus       0.00      0.00      0.00         3\n",
      "                      Arc System Works       0.00      0.00      0.00         4\n",
      "                               ArtDink       0.00      0.00      0.00         2\n",
      "            Ascaron Entertainment GmbH       0.00      0.00      0.00         1\n",
      "                                Asgard       0.00      0.00      0.00         1\n",
      "               Asmik Ace Entertainment       0.00      0.00      0.00         1\n",
      "                              Astragon       0.00      0.00      0.00         2\n",
      "                  Asylum Entertainment       0.00      0.00      0.00         1\n",
      "                                 Atari       0.00      0.00      0.00        66\n",
      "                                Athena       0.00      0.00      0.00         1\n",
      "                                 Atlus       0.00      0.00      0.00        12\n",
      "                             Avanquest       0.00      0.00      0.00         7\n",
      "                    Avanquest Software       0.00      0.00      0.00         2\n",
      "                    BAM! Entertainment       0.00      0.00      0.00         5\n",
      "                                   BPS       0.00      0.00      0.00         1\n",
      "                             Banpresto       0.00      0.00      0.00        18\n",
      "                    Bethesda Softworks       1.00      0.14      0.25        14\n",
      "                   Big Ben Interactive       0.00      0.00      0.00         1\n",
      "                    Bigben Interactive       0.00      0.00      0.00         4\n",
      "                      Black Bean Games       0.00      0.00      0.00         4\n",
      "              Blast! Entertainment Ltd       0.00      0.00      0.00         1\n",
      "                             Blue Byte       0.00      0.00      0.00         2\n",
      "                              Boost On       0.00      0.00      0.00         1\n",
      "                   Brash Entertainment       0.00      0.00      0.00         2\n",
      "                              Broccoli       0.00      0.00      0.00         2\n",
      "                                   CCP       0.00      0.00      0.00         1\n",
      "            CDV Software Entertainment       0.00      0.00      0.00         2\n",
      "                                Capcom       0.00      0.00      0.00        76\n",
      "                                  Cave       0.00      0.00      0.00         5\n",
      "                              ChunSoft       0.00      0.00      0.00         5\n",
      "                      City Interactive       0.00      0.00      0.00         9\n",
      "                           Codemasters       0.00      0.00      0.00        31\n",
      "                    Codemasters Online       0.00      0.00      0.00         1\n",
      "                              Commseed       0.00      0.00      0.00         1\n",
      "                         Compile Heart       0.00      0.00      0.00         5\n",
      "              Conspiracy Entertainment       0.00      0.00      0.00         1\n",
      "                      Core Design Ltd.       0.00      0.00      0.00         1\n",
      "                   Crave Entertainment       0.00      0.00      0.00        14\n",
      "                      Crystal Dynamics       0.00      0.00      0.00         1\n",
      "                         Culture Brain       0.00      0.00      0.00         2\n",
      "                            CyberFront       0.00      0.00      0.00         1\n",
      "                           D3Publisher       0.00      0.00      0.00        27\n",
      "                       DHM Interactive       0.00      0.00      0.00         1\n",
      "                             DSI Games       0.00      0.00      0.00         1\n",
      "                     DTP Entertainment       0.00      0.00      0.00         7\n",
      "                                 Daito       0.00      0.00      0.00         2\n",
      "                              Data Age       0.00      0.00      0.00         1\n",
      "               Data Design Interactive       0.00      0.00      0.00         1\n",
      "                           Deep Silver       0.00      0.00      0.00        20\n",
      "             Destination Software, Inc       0.00      0.00      0.00         2\n",
      "                             Destineer       0.00      0.00      0.00        12\n",
      "                      Devolver Digital       0.00      0.00      0.00         1\n",
      "            Disney Interactive Studios       0.00      0.00      0.00        43\n",
      "                                Dorart       0.00      0.00      0.00         1\n",
      "              DreamCatcher Interactive       0.00      0.00      0.00         2\n",
      "                      Easy Interactive       0.00      0.00      0.00         1\n",
      "                     Eidos Interactive       0.00      0.00      0.00        41\n",
      "                       Electronic Arts       0.15      0.75      0.25       292\n",
      "                                   Elf       0.00      0.00      0.00         2\n",
      "                    Empire Interactive       0.00      0.00      0.00         9\n",
      "                                Encore       0.00      0.00      0.00         2\n",
      "                      Enix Corporation       0.00      0.00      0.00         7\n",
      "                            Enterbrain       0.00      0.00      0.00         3\n",
      "                                 Epoch       0.00      0.00      0.00         2\n",
      "                         Evolved Games       0.00      0.00      0.00         1\n",
      "                  Excalibur Publishing       0.00      0.00      0.00         1\n",
      "                       Experience Inc.       0.00      0.00      0.00         1\n",
      "                    Falcom Corporation       0.00      0.00      0.00         3\n",
      "                      Flashpoint Games       0.00      0.00      0.00         1\n",
      "                           Flight-Plan       0.00      0.00      0.00         1\n",
      "                Focus Home Interactive       0.00      0.00      0.00        16\n",
      "                      Focus Multimedia       0.00      0.00      0.00         2\n",
      "                   Foreign Media Games       0.00      0.00      0.00         2\n",
      "                       Fox Interactive       0.00      0.00      0.00         1\n",
      "                         From Software       0.00      0.00      0.00         4\n",
      "                                 FuRyu       0.00      0.00      0.00         9\n",
      "                     FuRyu Corporation       0.00      0.00      0.00         1\n",
      "                                Funsta       0.00      0.00      0.00         2\n",
      "                                 G.Rev       0.00      0.00      0.00         1\n",
      "                                   GSP       0.00      0.00      0.00         4\n",
      "                        GT Interactive       0.00      0.00      0.00        15\n",
      "                          Game Factory       0.00      0.00      0.00         8\n",
      "                             Game Life       0.00      0.00      0.00         1\n",
      "                GameMill Entertainment       0.00      0.00      0.00         2\n",
      "                            Gamebridge       0.00      0.00      0.00         2\n",
      "                              Gameloft       0.00      0.00      0.00         1\n",
      "                      Gearbox Software       0.00      0.00      0.00         1\n",
      "                                 Genki       0.00      0.00      0.00         2\n",
      "                            Ghostlight       0.00      0.00      0.00         2\n",
      "                Global A Entertainment       0.00      0.00      0.00         1\n",
      "                           Global Star       0.00      0.00      0.00        10\n",
      "                          Gotham Games       0.00      0.00      0.00         1\n",
      "                                GungHo       0.00      0.00      0.00         4\n",
      "                                  Gust       0.00      0.00      0.00         1\n",
      "                   Hamster Corporation       0.00      0.00      0.00         1\n",
      "                    Hasbro Interactive       0.00      0.00      0.00         2\n",
      "                     Havas Interactive       0.00      0.00      0.00         1\n",
      "                                  Hect       0.00      0.00      0.00         1\n",
      "                           Hello Games       0.00      0.00      0.00         1\n",
      "                       Hip Interactive       0.00      0.00      0.00         1\n",
      "                  Hudson Entertainment       0.00      0.00      0.00         2\n",
      "                           Hudson Soft       0.00      0.00      0.00        19\n",
      "                   Human Entertainment       0.00      0.00      0.00         2\n",
      "                                 HuneX       0.00      0.00      0.00         1\n",
      "                   Iceberg Interactive       0.00      0.00      0.00         1\n",
      "                          Idea Factory       0.00      0.00      0.00        19\n",
      "            Idea Factory International       0.00      0.00      0.00         1\n",
      "                Ignition Entertainment       0.00      0.00      0.00        14\n",
      "                                Imadio       0.00      0.00      0.00         1\n",
      "                             Imagineer       0.00      0.00      0.00         5\n",
      "                            Infogrames       0.00      0.00      0.00         6\n",
      "                       Insomniac Games       0.00      0.00      0.00         1\n",
      "                             Interplay       0.00      0.00      0.00         8\n",
      "            Interworks Unlimited, Inc.       0.00      0.00      0.00         1\n",
      "             Irem Software Engineering       0.00      0.00      0.00         1\n",
      "                             Ivolgamus       0.00      0.00      0.00         1\n",
      "                                   JVC       0.00      0.00      0.00         2\n",
      "                     Jack of All Games       0.00      0.00      0.00         1\n",
      "                                Jaleco       0.00      0.00      0.00         6\n",
      "                    JoWood Productions       0.00      0.00      0.00         7\n",
      "                        Kadokawa Games       0.00      0.00      0.00         1\n",
      "                       Kadokawa Shoten       0.00      0.00      0.00        14\n",
      "                           Kaga Create       0.00      0.00      0.00         1\n",
      "                         Kalypso Media       0.00      0.00      0.00         8\n",
      "                                 Kemco       0.00      0.00      0.00         2\n",
      "                            Koch Media       0.00      0.00      0.00         5\n",
      "          Konami Digital Entertainment       0.00      0.00      0.00       182\n",
      "                            LEGO Media       0.00      0.00      0.00         1\n",
      "                             LSP Games       0.00      0.00      0.00         3\n",
      "                               Level 5       0.00      0.00      0.00         6\n",
      "                 Lexicon Entertainment       0.00      0.00      0.00         1\n",
      "                           Licensed 4U       0.00      0.00      0.00         1\n",
      "                          Little Orbit       0.00      0.00      0.00         7\n",
      "                             LucasArts       0.00      0.00      0.00        20\n",
      "                     MC2 Entertainment       0.00      0.00      0.00         1\n",
      "                               MLB.com       0.00      0.00      0.00         1\n",
      "                                   MTO       0.00      0.00      0.00         3\n",
      "                             MTV Games       0.00      0.00      0.00        10\n",
      "                              Mad Catz       0.00      0.00      0.00         2\n",
      "                 Majesco Entertainment       0.00      0.00      0.00        15\n",
      "               Marvelous Entertainment       0.00      0.00      0.00         4\n",
      "                 Marvelous Interactive       0.00      0.00      0.00        13\n",
      "                          Mastertronic       0.00      0.00      0.00         5\n",
      "                    Mattel Interactive       0.00      0.00      0.00         7\n",
      "                  Maximum Family Games       0.00      0.00      0.00         1\n",
      "                           Media Works       0.00      0.00      0.00         1\n",
      "                            MediaQuest       0.00      0.00      0.00         1\n",
      "                    Mentor Interactive       0.00      0.00      0.00         1\n",
      "                              Metro 3D       0.00      0.00      0.00         3\n",
      "                           Micro Cabin       0.00      0.00      0.00         1\n",
      "                              Microids       0.00      0.00      0.00         3\n",
      "                Microsoft Game Studios       0.00      0.00      0.00        30\n",
      "       Midas Interactive Entertainment       0.00      0.00      0.00         5\n",
      "                          Midway Games       0.00      0.00      0.00        42\n",
      "                       Milestone S.r.l       0.00      0.00      0.00         1\n",
      "                      Milestone S.r.l.       0.00      0.00      0.00         3\n",
      "                        Minato Station       0.00      0.00      0.00         1\n",
      "                             Mindscape       0.00      0.00      0.00         7\n",
      "                                Mitsui       0.00      0.00      0.00         1\n",
      "                                Mojang       0.00      0.00      0.00         1\n",
      "              Monte Christo Multimedia       0.00      0.00      0.00         1\n",
      "                           Mumbo Jumbo       0.00      0.00      0.00         2\n",
      "                          Myelin Media       0.00      0.00      0.00         1\n",
      "                                NCSoft       0.00      0.00      0.00         1\n",
      "                                   NEC       0.00      0.00      0.00         1\n",
      "                      NEC Interchannel       0.00      0.00      0.00         1\n",
      "                    Namco Bandai Games       0.09      0.66      0.15       200\n",
      "                               Natsume       0.00      0.00      0.00         1\n",
      "                            Naxat Soft       0.00      0.00      0.00         1\n",
      "                               NetRevo       0.00      0.00      0.00         1\n",
      "              Nihon Falcom Corporation       0.00      0.00      0.00         2\n",
      "                              Nintendo       0.00      0.00      0.00       146\n",
      "                       Nippon Columbia       0.00      0.00      0.00         1\n",
      "                  Nippon Ichi Software       0.00      0.00      0.00        21\n",
      "                        Nippon Telenet       0.00      0.00      0.00         1\n",
      "                               Nobilis       0.00      0.00      0.00         1\n",
      "                           Nordcurrent       0.00      0.00      0.00         3\n",
      "                          Nordic Games       0.00      0.00      0.00         5\n",
      "                               O-Games       0.00      0.00      0.00         7\n",
      "                      O3 Entertainment       0.00      0.00      0.00         1\n",
      "                                 Ocean       0.00      0.00      0.00         6\n",
      "                         Office Create       0.00      0.00      0.00         2\n",
      "                             Ongakukan       0.00      0.00      0.00         1\n",
      "                    Oxygen Interactive       0.00      0.00      0.00         5\n",
      "                                 PQube       0.00      0.00      0.00        10\n",
      "                          Pack In Soft       0.00      0.00      0.00         1\n",
      "                         Pack-In-Video       0.00      0.00      0.00         1\n",
      "                   Paradox Interactive       0.00      0.00      0.00         4\n",
      "                          Parker Bros.       0.00      0.00      0.00         2\n",
      "                           Phantom EFX       0.00      0.00      0.00         1\n",
      "                           Pioneer LDC       0.00      0.00      0.00         1\n",
      "                               Play It       0.00      0.00      0.00         4\n",
      "                                 PlayV       0.00      0.00      0.00         1\n",
      "                Playlogic Game Factory       0.00      0.00      0.00         2\n",
      "                          PopCap Games       0.00      0.00      0.00         2\n",
      "                        Popcorn Arcade       0.00      0.00      0.00         1\n",
      "                         Princess Soft       0.00      0.00      0.00         1\n",
      "                             Prototype       0.00      0.00      0.00         5\n",
      "                             Psygnosis       0.00      0.00      0.00         8\n",
      "                                 Quest       0.00      0.00      0.00         1\n",
      "                              Quinrose       0.00      0.00      0.00         3\n",
      "                                   RTL       0.00      0.00      0.00         1\n",
      "                         Rage Software       0.00      0.00      0.00         1\n",
      "                Rebellion Developments       0.00      0.00      0.00         1\n",
      "                          Red Flagship       0.00      0.00      0.00         1\n",
      "                               Red Orb       0.00      0.00      0.00         1\n",
      "                             RedOctane       0.00      0.00      0.00         1\n",
      "                    Reef Entertainment       0.00      0.00      0.00         1\n",
      "                     Rising Star Games       0.00      0.00      0.00        19\n",
      "                        Rocket Company       0.00      0.00      0.00         3\n",
      "                            Rondomedia       0.00      0.00      0.00         3\n",
      "                          SCS Software       0.00      0.00      0.00         1\n",
      "                                   SCi       0.00      0.00      0.00         2\n",
      "                                   SNK       0.00      0.00      0.00         6\n",
      "                     Sammy Corporation       0.00      0.00      0.00         4\n",
      "                            Screenlife       0.00      0.00      0.00         1\n",
      "                                  Sega       0.00      0.00      0.00       130\n",
      "                            Shogakukan       0.00      0.00      0.00         3\n",
      "                   Slitherine Software       0.00      0.00      0.00         2\n",
      "                               Societa       0.00      0.00      0.00         1\n",
      "           Sony Computer Entertainment       0.00      0.00      0.00       130\n",
      "    Sony Computer Entertainment Europe       0.00      0.00      0.00         6\n",
      "             Sony Online Entertainment       0.00      0.00      0.00         2\n",
      "                       SouthPeak Games       0.00      0.00      0.00         9\n",
      "                                 Spike       0.00      0.00      0.00         7\n",
      "                                Square       0.00      0.00      0.00         3\n",
      "                           Square Enix       0.00      0.00      0.00        43\n",
      "                            SquareSoft       0.00      0.00      0.00         7\n",
      "                       Stainless Games       0.00      0.00      0.00         1\n",
      "                              Starfish       0.00      0.00      0.00         2\n",
      "                                 Sting       0.00      0.00      0.00         2\n",
      "                      Storm City Games       0.00      0.00      0.00         3\n",
      "                               Success       0.00      0.00      0.00         4\n",
      "                            Sunflowers       0.00      0.00      0.00         1\n",
      "                   Sunrise Interactive       0.00      0.00      0.00         1\n",
      "                               Sunsoft       0.00      0.00      0.00         1\n",
      "                  Swing! Entertainment       0.00      0.00      0.00         2\n",
      "              System 3 Arcade Software       0.00      0.00      0.00         3\n",
      "                              TDK Core       0.00      0.00      0.00         1\n",
      "                        TDK Mediactive       0.00      0.00      0.00         3\n",
      "                                   TGL       0.00      0.00      0.00         1\n",
      "                                   THQ       0.00      0.00      0.00       143\n",
      "                                 Taito       0.00      0.00      0.00         3\n",
      "                                Takara       0.00      0.00      0.00         5\n",
      "                           Takara Tomy       0.00      0.00      0.00         7\n",
      "                  Take-Two Interactive       0.20      0.03      0.04        80\n",
      "                                Takuyo       0.00      0.00      0.00         1\n",
      "                            Tecmo Koei       0.00      0.00      0.00        70\n",
      "                        Telltale Games       0.00      0.00      0.00         2\n",
      "                 The Adventure Company       0.00      0.00      0.00         1\n",
      "                           Tigervision       0.00      0.00      0.00         1\n",
      "                                 Titus       0.00      0.00      0.00         3\n",
      "                                Tivola       0.00      0.00      0.00         1\n",
      "                      Tomy Corporation       0.00      0.00      0.00         3\n",
      "                   TopWare Interactive       0.00      0.00      0.00         2\n",
      "                            Touchstone       0.00      0.00      0.00         1\n",
      "                             Tradewest       0.00      0.00      0.00         1\n",
      "                          Trion Worlds       0.00      0.00      0.00         1\n",
      "                  Tripwire Interactive       0.00      0.00      0.00         1\n",
      "                 Tru Blu Entertainment       0.00      0.00      0.00         3\n",
      "                              Tryfirst       0.00      0.00      0.00         1\n",
      "                             Type-Moon       0.00      0.00      0.00         1\n",
      "                             U.S. Gold       0.00      0.00      0.00         2\n",
      "                       UFO Interactive       0.00      0.00      0.00         2\n",
      "                     UIG Entertainment       0.00      0.00      0.00         1\n",
      "                               Ubisoft       0.17      0.32      0.22       181\n",
      "                        Ubisoft Annecy       0.00      0.00      0.00         2\n",
      "                 Universal Interactive       0.00      0.00      0.00         4\n",
      "                               Unknown       0.00      0.00      0.00        34\n",
      "                          Valcon Games       0.00      0.00      0.00         2\n",
      "                              ValuSoft       0.00      0.00      0.00         3\n",
      "                        Valve Software       0.00      0.00      0.00         1\n",
      "                    Victor Interactive       0.00      0.00      0.00         1\n",
      "                          Video System       0.00      0.00      0.00         1\n",
      "                                 Views       0.00      0.00      0.00         1\n",
      "                    Virgin Interactive       0.00      0.00      0.00        10\n",
      "                    Virtual Play Games       0.00      0.00      0.00         2\n",
      "                         Vivendi Games       0.00      0.00      0.00        41\n",
      "                               Wanadoo       0.00      0.00      0.00         2\n",
      "Warner Bros. Interactive Entertainment       0.00      0.00      0.00        65\n",
      "                              XS Games       0.00      0.00      0.00         1\n",
      "                     Xicat Interactive       0.00      0.00      0.00         2\n",
      "                               Xplosiv       0.00      0.00      0.00         2\n",
      "                           Xseed Games       0.00      0.00      0.00         1\n",
      "                      Yacht Club Games       0.00      0.00      0.00         1\n",
      "                                  Yeti       0.00      0.00      0.00         1\n",
      "                                Yuke's       0.00      0.00      0.00         1\n",
      "                Zoo Digital Publishing       0.00      0.00      0.00        21\n",
      "                             Zoo Games       0.00      0.00      0.00         6\n",
      "                           Zushi Games       0.00      0.00      0.00         3\n",
      "                     bitComposer Games       0.00      0.00      0.00         2\n",
      "                       dramatic create       0.00      0.00      0.00         3\n",
      "                                fonfun       0.00      0.00      0.00         1\n",
      "\n",
      "                              accuracy                           0.12      3344\n",
      "                             macro avg       0.01      0.01      0.00      3344\n",
      "                          weighted avg       0.04      0.12      0.05      3344\n",
      "\n",
      "Confusion Matrix:\n",
      "[[0 0 0 ... 0 0 0]\n",
      " [0 0 0 ... 0 0 0]\n",
      " [0 0 0 ... 0 0 0]\n",
      " ...\n",
      " [0 0 0 ... 0 0 0]\n",
      " [0 0 0 ... 0 0 0]\n",
      " [0 0 0 ... 0 0 0]]\n"
     ]
    },
    {
     "name": "stderr",
     "output_type": "stream",
     "text": [
      "/usr/local/lib/python3.10/dist-packages/sklearn/metrics/_classification.py:1344: UndefinedMetricWarning: Precision and F-score are ill-defined and being set to 0.0 in labels with no predicted samples. Use `zero_division` parameter to control this behavior.\n",
      "  _warn_prf(average, modifier, msg_start, len(result))\n",
      "/usr/local/lib/python3.10/dist-packages/sklearn/metrics/_classification.py:1344: UndefinedMetricWarning: Precision and F-score are ill-defined and being set to 0.0 in labels with no predicted samples. Use `zero_division` parameter to control this behavior.\n",
      "  _warn_prf(average, modifier, msg_start, len(result))\n",
      "/usr/local/lib/python3.10/dist-packages/sklearn/metrics/_classification.py:1344: UndefinedMetricWarning: Precision and F-score are ill-defined and being set to 0.0 in labels with no predicted samples. Use `zero_division` parameter to control this behavior.\n",
      "  _warn_prf(average, modifier, msg_start, len(result))\n"
     ]
    }
   ],
   "source": [
    "print('Classification Report:')\n",
    "print(classification_report(y_test,y_pred_lr))\n",
    "print('Confusion Matrix:')\n",
    "print(confusion_matrix(y_test, y_pred_lr))"
   ]
  },
  {
   "cell_type": "code",
   "execution_count": null,
   "id": "015b5383",
   "metadata": {
    "colab": {
     "base_uri": "https://localhost:8080/"
    },
    "executionInfo": {
     "elapsed": 235,
     "status": "ok",
     "timestamp": 1684267225930,
     "user": {
      "displayName": "Timilehin Osinuga",
      "userId": "02674228651306861961"
     },
     "user_tz": -60
    },
    "id": "015b5383",
    "outputId": "0453c54d-2bd3-406f-b4f9-17af8798401d"
   },
   "outputs": [
    {
     "name": "stdout",
     "output_type": "stream",
     "text": [
      "Classification Report:\n",
      "                                        precision    recall  f1-score   support\n",
      "\n",
      "                       10TACLE Studios       0.00      0.00      0.00         2\n",
      "                            1C Company       0.00      0.00      0.00         0\n",
      "          20th Century Fox Video Games       0.00      0.00      0.00         0\n",
      "                                   3DO       0.25      0.38      0.30         8\n",
      "                             505 Games       0.00      0.00      0.00        29\n",
      "                                   5pb       0.00      0.00      0.00        14\n",
      "                              7G//AMES       0.00      0.00      0.00         0\n",
      "                           989 Studios       0.03      1.00      0.06         1\n",
      "                        AQ Interactive       0.00      0.00      0.00         0\n",
      "                             ASC Games       0.00      0.00      0.00         1\n",
      "                   ASCII Entertainment       0.00      0.00      0.00         7\n",
      "                     ASCII Media Works       0.00      0.00      0.00         1\n",
      "                 Acclaim Entertainment       0.13      0.12      0.12        33\n",
      "                              Accolade       0.00      0.00      0.00         1\n",
      "                           Ackkstudios       0.00      0.00      0.00         1\n",
      "                               Acquire       0.00      0.00      0.00         2\n",
      "                            Activision       0.12      0.00      0.01       203\n",
      "                   Activision Blizzard       0.00      0.00      0.00         1\n",
      "                      Activision Value       0.00      0.00      0.00         3\n",
      "                      Adeline Software       0.00      0.00      0.00         1\n",
      "                              Aerosoft       0.00      0.00      0.00         1\n",
      "                           Aksys Games       0.00      0.00      0.00         0\n",
      "                  Alawar Entertainment       0.00      0.00      0.00         0\n",
      "                             Alchemist       0.00      0.00      0.00        11\n",
      "                  Alternative Software       0.00      0.00      0.00         2\n",
      "                                Alvion       0.00      0.00      0.00         0\n",
      "                    American Softworks       0.00      0.00      0.00         0\n",
      "                         Angel Studios       0.00      0.00      0.00         0\n",
      "                       Answer Software       0.00      0.00      0.00         1\n",
      "                             Aqua Plus       0.00      0.00      0.00         3\n",
      "                                 Aques       0.00      0.00      0.00         0\n",
      "                      Arc System Works       0.00      0.00      0.00         4\n",
      "                                 Arika       0.00      0.00      0.00         0\n",
      "                               ArtDink       0.00      0.00      0.00         2\n",
      "                            Aruze Corp       0.00      0.00      0.00         0\n",
      "            Ascaron Entertainment GmbH       0.00      0.00      0.00         1\n",
      "                                Asgard       0.00      0.00      0.00         1\n",
      "               Asmik Ace Entertainment       0.00      0.00      0.00         1\n",
      "                            Asmik Corp       0.00      0.00      0.00         0\n",
      "                                 Aspyr       0.00      0.00      0.00         0\n",
      "                              Astragon       0.00      0.00      0.00         2\n",
      "                  Asylum Entertainment       0.00      0.00      0.00         1\n",
      "                                 Atari       0.00      0.00      0.00        66\n",
      "                                Athena       0.00      0.00      0.00         1\n",
      "                                 Atlus       0.00      0.00      0.00        12\n",
      "                    Avalon Interactive       0.00      0.00      0.00         0\n",
      "                             Avanquest       0.00      0.00      0.00         7\n",
      "                    Avanquest Software       0.00      0.00      0.00         2\n",
      "                    BAM! Entertainment       0.00      0.00      0.00         5\n",
      "         BMG Interactive Entertainment       0.00      0.00      0.00         0\n",
      "                                   BPS       0.00      0.00      0.00         1\n",
      "                             Banpresto       0.00      0.00      0.00        18\n",
      "                               Benesse       0.00      0.00      0.00         0\n",
      "                              Berkeley       0.00      0.00      0.00         0\n",
      "                    Bethesda Softworks       0.09      0.14      0.11        14\n",
      "                   Big Ben Interactive       0.00      0.00      0.00         1\n",
      "                        Big Fish Games       0.00      0.00      0.00         0\n",
      "                    Bigben Interactive       0.00      0.00      0.00         4\n",
      "                      Black Bean Games       0.00      0.00      0.00         4\n",
      "              Blast! Entertainment Ltd       0.01      1.00      0.03         1\n",
      "                             Blue Byte       0.00      0.00      0.00         2\n",
      "                              Boost On       0.00      0.00      0.00         1\n",
      "                   Brash Entertainment       0.00      0.00      0.00         2\n",
      "                              Broccoli       0.00      0.00      0.00         2\n",
      "                             BushiRoad       0.00      0.00      0.00         0\n",
      "                                   CCP       0.00      0.00      0.00         1\n",
      "            CDV Software Entertainment       0.00      0.00      0.00         2\n",
      "                          CPG Products       0.00      0.00      0.00         0\n",
      "                               CTO SpA       0.00      0.00      0.00         0\n",
      "                                Capcom       0.08      0.03      0.04        76\n",
      "                                  Cave       0.12      0.60      0.20         5\n",
      "                              ChunSoft       0.00      0.00      0.00         5\n",
      "                      City Interactive       0.00      0.00      0.00         9\n",
      "                        Coconuts Japan       0.00      0.00      0.00         0\n",
      "                           Codemasters       0.12      0.19      0.15        31\n",
      "                    Codemasters Online       0.00      0.00      0.00         1\n",
      "                                Coleco       0.00      0.00      0.00         0\n",
      "                              Commseed       0.00      0.00      0.00         1\n",
      "                               Compile       0.00      0.00      0.00         0\n",
      "                         Compile Heart       0.00      0.00      0.00         5\n",
      "              Conspiracy Entertainment       0.00      0.00      0.00         1\n",
      "                      Core Design Ltd.       0.00      0.00      0.00         1\n",
      "                   Crave Entertainment       0.00      0.00      0.00        14\n",
      "                         Creative Core       0.00      0.00      0.00         0\n",
      "                           Crimson Cow       0.00      0.00      0.00         0\n",
      "                      Crystal Dynamics       0.00      0.00      0.00         1\n",
      "                         Culture Brain       0.00      0.00      0.00         2\n",
      "                    Culture Publishers       0.00      0.00      0.00         0\n",
      "                            CyberFront       0.00      0.00      0.00         1\n",
      "                           D3Publisher       0.00      0.00      0.00        27\n",
      "                       DHM Interactive       0.00      0.00      0.00         1\n",
      "                             DSI Games       0.00      0.00      0.00         1\n",
      "                     DTP Entertainment       0.00      0.00      0.00         7\n",
      "                              Daedalic       0.00      0.00      0.00         0\n",
      "                                 Daito       0.00      0.00      0.00         2\n",
      "                              Data Age       0.00      0.00      0.00         1\n",
      "               Data Design Interactive       0.00      0.00      0.00         1\n",
      "                             Data East       0.00      0.00      0.00         0\n",
      "                        Datam Polystar       0.00      0.00      0.00         0\n",
      "                           Deep Silver       0.09      0.10      0.10        20\n",
      "             Destination Software, Inc       0.20      0.50      0.29         2\n",
      "                             Destineer       0.00      0.00      0.00        12\n",
      "                           Detn8 Games       0.00      0.00      0.00         0\n",
      "                      Devolver Digital       0.00      0.00      0.00         1\n",
      "                              DigiCube       0.00      0.00      0.00         0\n",
      "            Disney Interactive Studios       0.14      0.12      0.13        43\n",
      "                                Dorart       0.00      0.00      0.00         1\n",
      "              DreamCatcher Interactive       0.00      0.00      0.00         2\n",
      "                      Easy Interactive       0.50      1.00      0.67         1\n",
      "                                 Ecole       0.00      0.00      0.00         0\n",
      "                                  Edia       0.00      0.00      0.00         0\n",
      "                     Eidos Interactive       0.00      0.00      0.00        41\n",
      "                       Electronic Arts       0.56      0.16      0.25       292\n",
      "                Electronic Arts Victor       0.00      0.00      0.00         0\n",
      "                                   Elf       0.00      0.00      0.00         2\n",
      "                    Empire Interactive       0.00      0.00      0.00         9\n",
      "                                Encore       0.00      0.00      0.00         2\n",
      "                      Enix Corporation       0.00      0.00      0.00         7\n",
      "                            Enterbrain       0.00      0.00      0.00         3\n",
      "                                 Epoch       0.00      0.00      0.00         2\n",
      "                         Evolved Games       0.00      0.00      0.00         1\n",
      "                  Excalibur Publishing       0.00      0.00      0.00         1\n",
      "                       Experience Inc.       0.17      1.00      0.29         1\n",
      "                    Falcom Corporation       0.00      0.00      0.00         3\n",
      "                                Fields       0.00      0.00      0.00         0\n",
      "                      Flashpoint Games       0.00      0.00      0.00         1\n",
      "                           Flight-Plan       0.00      0.00      0.00         1\n",
      "                Focus Home Interactive       0.07      0.06      0.07        16\n",
      "                      Focus Multimedia       0.20      0.50      0.29         2\n",
      "                   Foreign Media Games       0.25      0.50      0.33         2\n",
      "                       Fox Interactive       0.00      0.00      0.00         1\n",
      "                         From Software       0.33      0.25      0.29         4\n",
      "                                 FuRyu       0.00      0.00      0.00         9\n",
      "                     FuRyu Corporation       0.00      0.00      0.00         1\n",
      "                                  Fuji       0.00      0.00      0.00         0\n",
      "                          Funbox Media       0.00      0.00      0.00         0\n",
      "                                Funsta       0.00      0.00      0.00         2\n",
      "                                 G.Rev       0.00      0.00      0.00         1\n",
      "                           GN Software       0.00      0.00      0.00         0\n",
      "                                   GSP       0.00      0.00      0.00         4\n",
      "                        GT Interactive       0.00      0.00      0.00        15\n",
      "                Gainax Network Systems       0.00      0.00      0.00         0\n",
      "                                Gakken       0.00      0.00      0.00         0\n",
      "                          Game Factory       0.00      0.00      0.00         8\n",
      "                             Game Life       0.00      0.00      0.00         1\n",
      "                GameMill Entertainment       0.02      0.50      0.05         2\n",
      "                            Gamebridge       0.00      0.00      0.00         2\n",
      "                              Gamecock       0.00      0.00      0.00         0\n",
      "                              Gameloft       0.00      0.00      0.00         1\n",
      "                        Games Workshop       0.00      0.00      0.00         0\n",
      "               Gathering of Developers       0.00      0.00      0.00         0\n",
      "                      Gearbox Software       0.00      0.00      0.00         1\n",
      "                 General Entertainment       0.00      0.00      0.00         0\n",
      "                                 Genki       0.00      0.00      0.00         2\n",
      "                            Ghostlight       0.00      0.00      0.00         2\n",
      "                                  Giga       0.00      0.00      0.00         0\n",
      "                                Giza10       0.00      0.00      0.00         0\n",
      "                Global A Entertainment       0.00      0.00      0.00         1\n",
      "                           Global Star       0.04      0.10      0.06        10\n",
      "                          Gotham Games       0.00      0.00      0.00         1\n",
      "                              Graffiti       0.00      0.00      0.00         0\n",
      "               Gremlin Interactive Ltd       0.00      0.00      0.00         0\n",
      "                                GungHo       0.00      0.00      0.00         4\n",
      "                                  Gust       0.00      0.00      0.00         1\n",
      "                       HMH Interactive       0.00      0.00      0.00         0\n",
      "                             Hackberry       0.00      0.00      0.00         0\n",
      "                   Hamster Corporation       0.00      0.00      0.00         1\n",
      "                              Happinet       0.00      0.00      0.00         0\n",
      "                    Hasbro Interactive       0.00      0.00      0.00         2\n",
      "                     Havas Interactive       0.00      0.00      0.00         1\n",
      "                                  Hect       0.00      0.00      0.00         1\n",
      "                           Hello Games       0.00      0.00      0.00         1\n",
      "                       Hip Interactive       0.00      0.00      0.00         1\n",
      "          Home Entertainment Suppliers       0.00      0.00      0.00         0\n",
      "                  Hudson Entertainment       0.00      0.00      0.00         2\n",
      "                           Hudson Soft       0.00      0.00      0.00        19\n",
      "                   Human Entertainment       0.00      0.00      0.00         2\n",
      "                                 HuneX       0.00      0.00      0.00         1\n",
      "                          IE Institute       0.00      0.00      0.00         0\n",
      "                   Iceberg Interactive       0.00      0.00      0.00         1\n",
      "                          Idea Factory       0.00      0.00      0.00        19\n",
      "            Idea Factory International       0.00      0.00      0.00         1\n",
      "                Ignition Entertainment       0.03      0.14      0.04        14\n",
      "                                Imadio       0.00      0.00      0.00         1\n",
      "                           Image Epoch       0.00      0.00      0.00         0\n",
      "                                Imagic       0.00      0.00      0.00         0\n",
      "                             Imagineer       0.09      0.60      0.15         5\n",
      "                            Infogrames       0.00      0.00      0.00         6\n",
      "                       Insomniac Games       1.00      1.00      1.00         1\n",
      "                          Interchannel       0.00      0.00      0.00         0\n",
      "                    Interchannel-Holon       0.00      0.00      0.00         0\n",
      "                             Interplay       0.00      0.00      0.00         8\n",
      "                 Interplay Productions       0.00      0.00      0.00         0\n",
      "            Interworks Unlimited, Inc.       0.00      0.00      0.00         1\n",
      "             Irem Software Engineering       0.00      0.00      0.00         1\n",
      "                             Ivolgamus       0.00      0.00      0.00         1\n",
      "                                   JVC       0.00      0.00      0.00         2\n",
      "                     Jack of All Games       0.00      0.00      0.00         1\n",
      "                                Jaleco       0.00      0.00      0.00         6\n",
      "                    JoWood Productions       0.00      0.00      0.00         7\n",
      "                                   KID       0.00      0.00      0.00         0\n",
      "                        Kadokawa Games       0.00      0.00      0.00         1\n",
      "                       Kadokawa Shoten       0.00      0.00      0.00        14\n",
      "                           Kaga Create       0.00      0.00      0.00         1\n",
      "                         Kalypso Media       0.07      0.12      0.09         8\n",
      "                                 Kamui       0.00      0.00      0.00         0\n",
      "                   Karin Entertainment       0.00      0.00      0.00         0\n",
      "                                 Kemco       0.00      0.00      0.00         2\n",
      "                          Kids Station       0.00      0.00      0.00         0\n",
      "                   Knowledge Adventure       0.00      0.00      0.00         0\n",
      "                            Koch Media       0.00      0.00      0.00         5\n",
      "          Konami Digital Entertainment       1.00      0.01      0.02       182\n",
      "                            LEGO Media       0.00      0.00      0.00         1\n",
      "                             LSP Games       0.00      0.00      0.00         3\n",
      "                                Laguna       0.00      0.00      0.00         0\n",
      "                               Level 5       0.00      0.00      0.00         6\n",
      "                 Lexicon Entertainment       0.00      0.00      0.00         1\n",
      "                           Licensed 4U       0.00      0.00      0.00         1\n",
      "                          Liquid Games       0.00      0.00      0.00         0\n",
      "                          Little Orbit       0.29      0.29      0.29         7\n",
      "                             LucasArts       0.22      0.10      0.14        20\n",
      "                     MC2 Entertainment       0.00      0.00      0.00         1\n",
      "                               MLB.com       0.00      0.00      0.00         1\n",
      "                                   MTO       0.00      0.00      0.00         3\n",
      "                             MTV Games       0.18      0.30      0.22        10\n",
      "                              Mad Catz       0.00      0.00      0.00         2\n",
      "                 Majesco Entertainment       0.00      0.00      0.00        15\n",
      "                  Marvel Entertainment       0.00      0.00      0.00         0\n",
      "               Marvelous Entertainment       0.00      0.00      0.00         4\n",
      "                 Marvelous Interactive       0.00      0.00      0.00        13\n",
      "                          Mastertronic       0.00      0.00      0.00         5\n",
      "                               Mastiff       0.00      0.00      0.00         0\n",
      "                    Mattel Interactive       0.00      0.00      0.00         7\n",
      "                  Maximum Family Games       0.00      0.00      0.00         1\n",
      "                           Media Rings       0.00      0.00      0.00         0\n",
      "                           Media Works       0.00      0.00      0.00         1\n",
      "                            MediaQuest       0.00      0.00      0.00         1\n",
      "                    Mentor Interactive       0.12      1.00      0.22         1\n",
      "                              Metro 3D       0.00      0.00      0.00         3\n",
      "                           Michaelsoft       0.00      0.00      0.00         0\n",
      "                           Micro Cabin       0.00      0.00      0.00         1\n",
      "                              Microids       0.05      0.33      0.08         3\n",
      "                            Microprose       0.00      0.00      0.00         0\n",
      "                Microsoft Game Studios       0.06      0.10      0.08        30\n",
      "       Midas Interactive Entertainment       0.00      0.00      0.00         5\n",
      "                          Midway Games       0.04      0.07      0.05        42\n",
      "                       Milestone S.r.l       0.00      0.00      0.00         1\n",
      "                      Milestone S.r.l.       0.50      0.67      0.57         3\n",
      "                        Minato Station       0.00      0.00      0.00         1\n",
      "                             Mindscape       0.00      0.00      0.00         7\n",
      "                         Mirai Shounen       0.00      0.00      0.00         0\n",
      "                                Misawa       0.00      0.00      0.00         0\n",
      "                                Mitsui       0.00      0.00      0.00         1\n",
      "                                Mojang       1.00      1.00      1.00         1\n",
      "              Monte Christo Multimedia       0.00      0.00      0.00         1\n",
      "                           Mumbo Jumbo       0.04      0.50      0.07         2\n",
      "                          Myelin Media       0.00      0.00      0.00         1\n",
      "                                   NCS       0.00      0.00      0.00         0\n",
      "                                NCSoft       0.12      1.00      0.22         1\n",
      "                                   NEC       0.00      0.00      0.00         1\n",
      "                      NEC Interchannel       0.00      0.00      0.00         1\n",
      "                    Namco Bandai Games       0.00      0.00      0.00       200\n",
      "                               Natsume       0.00      0.00      0.00         1\n",
      "                            Naxat Soft       0.00      0.00      0.00         1\n",
      "                    Neko Entertainment       0.00      0.00      0.00         0\n",
      "                               NetRevo       0.00      0.00      0.00         1\n",
      "                              NewKidCo       0.00      0.00      0.00         0\n",
      "                                 Nexon       0.00      0.00      0.00         0\n",
      "              Nihon Falcom Corporation       0.00      0.00      0.00         2\n",
      "                              Nintendo       0.63      0.26      0.37       146\n",
      "                       Nippon Columbia       0.00      0.00      0.00         1\n",
      "                  Nippon Ichi Software       0.19      0.29      0.23        21\n",
      "                        Nippon Telenet       0.00      0.00      0.00         1\n",
      "                             Nitroplus       0.00      0.00      0.00         0\n",
      "                               Nobilis       0.00      0.00      0.00         1\n",
      "                           Nordcurrent       0.00      0.00      0.00         3\n",
      "                          Nordic Games       0.00      0.00      0.00         5\n",
      "                             NovaLogic       0.00      0.00      0.00         0\n",
      "                               O-Games       0.00      0.00      0.00         7\n",
      "                      O3 Entertainment       0.00      0.00      0.00         1\n",
      "                                 Ocean       0.05      0.17      0.08         6\n",
      "                         Office Create       0.00      0.00      0.00         2\n",
      "                             Ongakukan       0.00      0.00      0.00         1\n",
      "                        Origin Systems       0.00      0.00      0.00         0\n",
      "                               Otomate       0.00      0.00      0.00         0\n",
      "                    Oxygen Interactive       0.00      0.00      0.00         5\n",
      "                              P2 Games       0.00      0.00      0.00         0\n",
      "                                 PQube       0.14      0.30      0.19        10\n",
      "                          Pack In Soft       0.00      0.00      0.00         1\n",
      "                         Pack-In-Video       0.00      0.00      0.00         1\n",
      "                                  Paon       0.00      0.00      0.00         0\n",
      "                   Paradox Interactive       0.04      0.50      0.07         4\n",
      "                          Parker Bros.       0.00      0.00      0.00         2\n",
      "                           Phantom EFX       0.00      0.00      0.00         1\n",
      "                            Phenomedia       0.00      0.00      0.00         0\n",
      "                                Piacci       0.00      0.00      0.00         0\n",
      "                           Pioneer LDC       0.00      0.00      0.00         1\n",
      "                               Play It       0.00      0.00      0.00         4\n",
      "                                 PlayV       0.00      0.00      0.00         1\n",
      "                Playlogic Game Factory       0.00      0.00      0.00         2\n",
      "                             Playmates       0.00      0.00      0.00         0\n",
      "                                Plenty       0.00      0.00      0.00         0\n",
      "                          PopCap Games       0.00      0.00      0.00         2\n",
      "                        Popcorn Arcade       0.20      1.00      0.33         1\n",
      "                         Princess Soft       0.00      0.00      0.00         1\n",
      "                             Prototype       0.00      0.00      0.00         5\n",
      "                             Psygnosis       0.00      0.00      0.00         8\n",
      "                                 Quest       0.00      0.00      0.00         1\n",
      "                              Quinrose       0.43      1.00      0.60         3\n",
      "                     RED Entertainment       0.00      0.00      0.00         0\n",
      "                                   RTL       0.00      0.00      0.00         1\n",
      "                         Rage Software       0.00      0.00      0.00         1\n",
      "                Rebellion Developments       0.00      0.00      0.00         1\n",
      "                          Red Flagship       0.00      0.00      0.00         1\n",
      "                               Red Orb       0.00      0.00      0.00         1\n",
      "               Red Storm Entertainment       0.00      0.00      0.00         0\n",
      "                             RedOctane       0.25      1.00      0.40         1\n",
      "                    Reef Entertainment       0.00      0.00      0.00         1\n",
      "                    Revolution (Japan)       0.00      0.00      0.00         0\n",
      "                     Rising Star Games       0.27      0.16      0.20        19\n",
      "                         Riverhillsoft       0.00      0.00      0.00         0\n",
      "                        Rocket Company       0.04      0.33      0.07         3\n",
      "                            Rondomedia       0.00      0.00      0.00         3\n",
      "                          SCS Software       0.00      0.00      0.00         1\n",
      "                                   SCi       0.00      0.00      0.00         2\n",
      "                                   SNK       0.00      0.00      0.00         6\n",
      "                          SNK Playmore       0.00      0.00      0.00         0\n",
      "                                   SPS       0.00      0.00      0.00         0\n",
      "                     Sammy Corporation       0.00      0.00      0.00         4\n",
      "                                Saurus       0.00      0.00      0.00         0\n",
      "                            Screenlife       0.00      0.00      0.00         1\n",
      "                                  Sega       0.00      0.00      0.00       130\n",
      "                      Seta Corporation       0.00      0.00      0.00         0\n",
      "                         Seventh Chord       0.00      0.00      0.00         0\n",
      "                            Shogakukan       0.00      0.00      0.00         3\n",
      "                   Slitherine Software       0.00      0.00      0.00         2\n",
      "                               Societa       0.00      0.00      0.00         1\n",
      "                                Sonnet       0.00      0.00      0.00         0\n",
      "           Sony Computer Entertainment       0.08      0.02      0.03       130\n",
      "    Sony Computer Entertainment Europe       0.17      0.17      0.17         6\n",
      "             Sony Online Entertainment       0.12      0.50      0.20         2\n",
      "                       SouthPeak Games       0.00      0.00      0.00         9\n",
      "                                 Spike       0.00      0.00      0.00         7\n",
      "                                Square       0.00      0.00      0.00         3\n",
      "                           Square Enix       0.18      0.07      0.10        43\n",
      "                            SquareSoft       0.11      0.14      0.12         7\n",
      "                       Stainless Games       0.00      0.00      0.00         1\n",
      "                              Starfish       0.00      0.00      0.00         2\n",
      "                        Starpath Corp.       0.00      0.00      0.00         0\n",
      "                                 Sting       0.33      0.50      0.40         2\n",
      "                      Storm City Games       0.00      0.00      0.00         3\n",
      "                               Success       0.00      0.00      0.00         4\n",
      "                            Sunflowers       0.00      0.00      0.00         1\n",
      "                   Sunrise Interactive       0.04      1.00      0.07         1\n",
      "                               Sunsoft       0.00      0.00      0.00         1\n",
      "                                Sweets       0.00      0.00      0.00         0\n",
      "                  Swing! Entertainment       0.00      0.00      0.00         2\n",
      "                                Syscom       0.00      0.00      0.00         0\n",
      "              System 3 Arcade Software       0.00      0.00      0.00         3\n",
      "                           System Soft       0.00      0.00      0.00         0\n",
      "                              TDK Core       0.00      0.00      0.00         1\n",
      "                        TDK Mediactive       0.00      0.00      0.00         3\n",
      "                                   TGL       0.00      0.00      0.00         1\n",
      "                                   THQ       0.00      0.00      0.00       143\n",
      "                                 Taito       0.00      0.00      0.00         3\n",
      "                                Takara       0.06      0.20      0.10         5\n",
      "                           Takara Tomy       0.00      0.00      0.00         7\n",
      "                  Take-Two Interactive       0.07      0.01      0.02        80\n",
      "                                Takuyo       0.00      0.00      0.00         1\n",
      "                            TechnoSoft       0.00      0.00      0.00         0\n",
      "                            Tecmo Koei       0.12      0.04      0.06        70\n",
      "                             Telegames       0.00      0.00      0.00         0\n",
      "                        Telltale Games       0.25      0.50      0.33         2\n",
      "                               Telstar       0.00      0.00      0.00         0\n",
      "                 The Adventure Company       0.00      0.00      0.00         1\n",
      "                  The Learning Company       0.00      0.00      0.00         0\n",
      "                           Tigervision       0.00      0.00      0.00         1\n",
      "               Time Warner Interactive       0.00      0.00      0.00         0\n",
      "                                 Titus       0.00      0.00      0.00         3\n",
      "                                Tivola       0.00      0.00      0.00         1\n",
      "                                 Tommo       0.00      0.00      0.00         0\n",
      "                      Tomy Corporation       0.00      0.00      0.00         3\n",
      "                   TopWare Interactive       0.50      0.50      0.50         2\n",
      "                            Touchstone       0.00      0.00      0.00         1\n",
      "                             Tradewest       0.50      1.00      0.67         1\n",
      "                          Trion Worlds       0.00      0.00      0.00         1\n",
      "                  Tripwire Interactive       0.00      0.00      0.00         1\n",
      "                 Tru Blu Entertainment       0.25      0.33      0.29         3\n",
      "                              Tryfirst       0.00      0.00      0.00         1\n",
      "                             Type-Moon       0.00      0.00      0.00         1\n",
      "                             U.S. Gold       0.00      0.00      0.00         2\n",
      "                       UFO Interactive       0.00      0.00      0.00         2\n",
      "                     UIG Entertainment       0.00      0.00      0.00         1\n",
      "                               Ubisoft       0.09      0.01      0.02       181\n",
      "                        Ubisoft Annecy       0.00      0.00      0.00         2\n",
      "                 Universal Interactive       0.00      0.00      0.00         4\n",
      "                               Unknown       0.00      0.00      0.00        34\n",
      "                          Valcon Games       0.00      0.00      0.00         2\n",
      "                              ValuSoft       0.00      0.00      0.00         3\n",
      "                        Valve Software       0.00      0.00      0.00         1\n",
      "                    Victor Interactive       0.00      0.00      0.00         1\n",
      "                          Video System       0.00      0.00      0.00         1\n",
      "                                 Views       0.00      0.00      0.00         1\n",
      "                         Vir2L Studios       0.00      0.00      0.00         0\n",
      "                    Virgin Interactive       0.00      0.00      0.00        10\n",
      "                    Virtual Play Games       0.00      0.00      0.00         2\n",
      "                         Vivendi Games       0.00      0.00      0.00        41\n",
      "                               Wanadoo       0.00      0.00      0.00         2\n",
      "Warner Bros. Interactive Entertainment       0.34      0.15      0.21        65\n",
      "                                  Warp       0.00      0.00      0.00         0\n",
      "                              XS Games       0.00      0.00      0.00         1\n",
      "                     Xicat Interactive       0.00      0.00      0.00         2\n",
      "                               Xplosiv       0.00      0.00      0.00         2\n",
      "                           Xseed Games       0.00      0.00      0.00         1\n",
      "                      Yacht Club Games       0.00      0.00      0.00         1\n",
      "                                  Yeti       0.00      0.00      0.00         1\n",
      "                                Yuke's       0.00      0.00      0.00         1\n",
      "                               Yumedia       0.00      0.00      0.00         0\n",
      "                                Zenrin       0.00      0.00      0.00         0\n",
      "                Zoo Digital Publishing       0.00      0.00      0.00        21\n",
      "                             Zoo Games       0.00      0.00      0.00         6\n",
      "                           Zushi Games       0.00      0.00      0.00         3\n",
      "                     bitComposer Games       0.00      0.00      0.00         2\n",
      "                       dramatic create       0.00      0.00      0.00         3\n",
      "                                fonfun       0.00      0.00      0.00         1\n",
      "                       imageepoch Inc.       0.00      0.00      0.00         0\n",
      "                          responDESIGN       0.00      0.00      0.00         0\n",
      "\n",
      "                              accuracy                           0.06      3344\n",
      "                             macro avg       0.03      0.06      0.03      3344\n",
      "                          weighted avg       0.18      0.06      0.07      3344\n",
      "\n",
      "Confusion Matrix:\n",
      "[[0 0 0 ... 0 0 0]\n",
      " [0 0 0 ... 0 0 0]\n",
      " [0 0 0 ... 0 0 0]\n",
      " ...\n",
      " [0 0 0 ... 0 0 0]\n",
      " [0 0 0 ... 0 0 0]\n",
      " [0 0 0 ... 0 0 0]]\n"
     ]
    },
    {
     "name": "stderr",
     "output_type": "stream",
     "text": [
      "/usr/local/lib/python3.10/dist-packages/sklearn/metrics/_classification.py:1344: UndefinedMetricWarning: Precision and F-score are ill-defined and being set to 0.0 in labels with no predicted samples. Use `zero_division` parameter to control this behavior.\n",
      "  _warn_prf(average, modifier, msg_start, len(result))\n",
      "/usr/local/lib/python3.10/dist-packages/sklearn/metrics/_classification.py:1344: UndefinedMetricWarning: Recall and F-score are ill-defined and being set to 0.0 in labels with no true samples. Use `zero_division` parameter to control this behavior.\n",
      "  _warn_prf(average, modifier, msg_start, len(result))\n",
      "/usr/local/lib/python3.10/dist-packages/sklearn/metrics/_classification.py:1344: UndefinedMetricWarning: Precision and F-score are ill-defined and being set to 0.0 in labels with no predicted samples. Use `zero_division` parameter to control this behavior.\n",
      "  _warn_prf(average, modifier, msg_start, len(result))\n",
      "/usr/local/lib/python3.10/dist-packages/sklearn/metrics/_classification.py:1344: UndefinedMetricWarning: Recall and F-score are ill-defined and being set to 0.0 in labels with no true samples. Use `zero_division` parameter to control this behavior.\n",
      "  _warn_prf(average, modifier, msg_start, len(result))\n",
      "/usr/local/lib/python3.10/dist-packages/sklearn/metrics/_classification.py:1344: UndefinedMetricWarning: Precision and F-score are ill-defined and being set to 0.0 in labels with no predicted samples. Use `zero_division` parameter to control this behavior.\n",
      "  _warn_prf(average, modifier, msg_start, len(result))\n",
      "/usr/local/lib/python3.10/dist-packages/sklearn/metrics/_classification.py:1344: UndefinedMetricWarning: Recall and F-score are ill-defined and being set to 0.0 in labels with no true samples. Use `zero_division` parameter to control this behavior.\n",
      "  _warn_prf(average, modifier, msg_start, len(result))\n"
     ]
    }
   ],
   "source": [
    "print('Classification Report:')\n",
    "print(classification_report(y_test,y_pred_gnb))\n",
    "print('Confusion Matrix:')\n",
    "print(confusion_matrix(y_test, y_pred_gnb))"
   ]
  },
  {
   "cell_type": "code",
   "execution_count": null,
   "id": "e6bf4ba5",
   "metadata": {
    "colab": {
     "base_uri": "https://localhost:8080/"
    },
    "executionInfo": {
     "elapsed": 6262,
     "status": "ok",
     "timestamp": 1684267238667,
     "user": {
      "displayName": "Timilehin Osinuga",
      "userId": "02674228651306861961"
     },
     "user_tz": -60
    },
    "id": "e6bf4ba5",
    "outputId": "1eeff1e8-8ff8-4d64-870a-110e58141d1a"
   },
   "outputs": [
    {
     "name": "stderr",
     "output_type": "stream",
     "text": [
      "/usr/local/lib/python3.10/dist-packages/sklearn/model_selection/_split.py:700: UserWarning: The least populated class in y has only 1 members, which is less than n_splits=10.\n",
      "  warnings.warn(\n"
     ]
    },
    {
     "name": "stdout",
     "output_type": "stream",
     "text": [
      "Decision Tree Classifier:\n",
      "Cross-validation scores: [0.34828102 0.33258595 0.32735426 0.33856502 0.34005979 0.32161556\n",
      " 0.32385939 0.33956619 0.32535527 0.32535527]\n",
      "Mean score: 0.3322597721736078\n",
      "Standard deviation: 0.008450094492210243\n"
     ]
    }
   ],
   "source": [
    "#Train and evaluate the Decision Tree Classifier using cross-validation\n",
    "from sklearn.model_selection import cross_val_score\n",
    "dtc = DecisionTreeClassifier(random_state=42)\n",
    "scores = cross_val_score(dtc, X_train, y_train, cv=10)\n",
    "print(\"Decision Tree Classifier:\")\n",
    "print(\"Cross-validation scores:\", scores)\n",
    "print(\"Mean score:\", scores.mean())\n",
    "print('Standard deviation:', scores.std())"
   ]
  },
  {
   "cell_type": "markdown",
   "id": "19a0d5fb",
   "metadata": {
    "id": "19a0d5fb"
   },
   "source": [
    "Developer"
   ]
  },
  {
   "cell_type": "code",
   "execution_count": null,
   "id": "2c8afd97",
   "metadata": {
    "id": "2c8afd97"
   },
   "outputs": [],
   "source": [
    "X = data_reg.drop(['Developer'], axis=1)\n",
    "y = data['Developer']"
   ]
  },
  {
   "cell_type": "code",
   "execution_count": null,
   "id": "ad283fa1",
   "metadata": {
    "id": "ad283fa1"
   },
   "outputs": [],
   "source": [
    "X_train, X_test, y_train, y_test = train_test_split(X, y, test_size=0.2, random_state=42)"
   ]
  },
  {
   "cell_type": "code",
   "execution_count": null,
   "id": "ba0e20ab",
   "metadata": {
    "colab": {
     "base_uri": "https://localhost:8080/"
    },
    "executionInfo": {
     "elapsed": 83516,
     "status": "ok",
     "timestamp": 1684267687724,
     "user": {
      "displayName": "Timilehin Osinuga",
      "userId": "02674228651306861961"
     },
     "user_tz": -60
    },
    "id": "ba0e20ab",
    "outputId": "e73dd100-1841-43e8-bd44-00c21175e49a"
   },
   "outputs": [
    {
     "data": {
      "text/plain": [
       "0.9997009345794392"
      ]
     },
     "execution_count": 123,
     "metadata": {},
     "output_type": "execute_result"
    }
   ],
   "source": [
    "#train the random forest classifier\n",
    "rfc = RandomForestClassifier()\n",
    "rfc.fit(X_train, y_train)\n",
    "y_pred_rfc = rfc.predict(X_test)\n",
    "#train accuracy\n",
    "y_train_pred = rfc.predict(X_train)\n",
    "train_accuracy = accuracy_score(y_train,y_train_pred)\n",
    "train_accuracy"
   ]
  },
  {
   "cell_type": "code",
   "execution_count": null,
   "id": "7ecdc488",
   "metadata": {
    "colab": {
     "base_uri": "https://localhost:8080/"
    },
    "executionInfo": {
     "elapsed": 8848,
     "status": "ok",
     "timestamp": 1684267404498,
     "user": {
      "displayName": "Timilehin Osinuga",
      "userId": "02674228651306861961"
     },
     "user_tz": -60
    },
    "id": "7ecdc488",
    "outputId": "2207910b-9c62-43fd-ba28-f3197aea1db6"
   },
   "outputs": [
    {
     "data": {
      "text/plain": [
       "0.5915071770334929"
      ]
     },
     "execution_count": 122,
     "metadata": {},
     "output_type": "execute_result"
    }
   ],
   "source": [
    "#test accuracy for random forest classifier\n",
    "y_test_pred = rfc.predict(X_test)\n",
    "test_accuracy = accuracy_score(y_test,y_test_pred)\n",
    "test_accuracy"
   ]
  },
  {
   "cell_type": "code",
   "execution_count": null,
   "id": "8fcb5266",
   "metadata": {
    "colab": {
     "base_uri": "https://localhost:8080/"
    },
    "executionInfo": {
     "elapsed": 1787,
     "status": "ok",
     "timestamp": 1684267766705,
     "user": {
      "displayName": "Timilehin Osinuga",
      "userId": "02674228651306861961"
     },
     "user_tz": -60
    },
    "id": "8fcb5266",
    "outputId": "fa337b63-e936-429f-d27c-76bf6718107b"
   },
   "outputs": [
    {
     "data": {
      "text/plain": [
       "0.9997009345794392"
      ]
     },
     "execution_count": 124,
     "metadata": {},
     "output_type": "execute_result"
    }
   ],
   "source": [
    "#train the decision tree classifier\n",
    "dt = DecisionTreeClassifier()\n",
    "dt.fit(X_train, y_train)\n",
    "y_pred_dt = dt.predict(X_test)\n",
    "#train accuracy\n",
    "y_train_pred = dt.predict(X_train)\n",
    "train_accuracy = accuracy_score(y_train,y_train_pred)\n",
    "train_accuracy"
   ]
  },
  {
   "cell_type": "code",
   "execution_count": null,
   "id": "7643e3ff",
   "metadata": {
    "colab": {
     "base_uri": "https://localhost:8080/"
    },
    "executionInfo": {
     "elapsed": 317,
     "status": "ok",
     "timestamp": 1684267770411,
     "user": {
      "displayName": "Timilehin Osinuga",
      "userId": "02674228651306861961"
     },
     "user_tz": -60
    },
    "id": "7643e3ff",
    "outputId": "6054d27a-4acb-41c0-e27b-e8ef89844bb3"
   },
   "outputs": [
    {
     "data": {
      "text/plain": [
       "0.5520334928229665"
      ]
     },
     "execution_count": 125,
     "metadata": {},
     "output_type": "execute_result"
    }
   ],
   "source": [
    "#test accuracy for decision tree classifier\n",
    "y_test_pred = dt.predict(X_test)\n",
    "test_accuracy = accuracy_score(y_test,y_test_pred)\n",
    "test_accuracy"
   ]
  },
  {
   "cell_type": "code",
   "execution_count": null,
   "id": "82ff6f83",
   "metadata": {
    "colab": {
     "base_uri": "https://localhost:8080/"
    },
    "executionInfo": {
     "elapsed": 89622,
     "status": "ok",
     "timestamp": 1684268028852,
     "user": {
      "displayName": "Timilehin Osinuga",
      "userId": "02674228651306861961"
     },
     "user_tz": -60
    },
    "id": "82ff6f83",
    "outputId": "53c0bacf-675e-4f4d-e8f0-61ad4b9ed14a"
   },
   "outputs": [
    {
     "name": "stderr",
     "output_type": "stream",
     "text": [
      "/usr/local/lib/python3.10/dist-packages/sklearn/linear_model/_logistic.py:458: ConvergenceWarning: lbfgs failed to converge (status=1):\n",
      "STOP: TOTAL NO. of ITERATIONS REACHED LIMIT.\n",
      "\n",
      "Increase the number of iterations (max_iter) or scale the data as shown in:\n",
      "    https://scikit-learn.org/stable/modules/preprocessing.html\n",
      "Please also refer to the documentation for alternative solver options:\n",
      "    https://scikit-learn.org/stable/modules/linear_model.html#logistic-regression\n",
      "  n_iter_i = _check_optimize_result(\n"
     ]
    },
    {
     "data": {
      "text/plain": [
       "0.42489719626168226"
      ]
     },
     "execution_count": 126,
     "metadata": {},
     "output_type": "execute_result"
    }
   ],
   "source": [
    "#train the logistic regression\n",
    "lr = LogisticRegression()\n",
    "lr.fit(X_train, y_train)\n",
    "y_pred_lr = lr.predict(X_test)\n",
    "y_train_pred = lr.predict(X_train)\n",
    "#train accuracy\n",
    "train_accuracy = accuracy_score(y_train,y_train_pred)\n",
    "train_accuracy"
   ]
  },
  {
   "cell_type": "code",
   "execution_count": null,
   "id": "851587a7",
   "metadata": {
    "colab": {
     "base_uri": "https://localhost:8080/"
    },
    "executionInfo": {
     "elapsed": 362,
     "status": "ok",
     "timestamp": 1684268054824,
     "user": {
      "displayName": "Timilehin Osinuga",
      "userId": "02674228651306861961"
     },
     "user_tz": -60
    },
    "id": "851587a7",
    "outputId": "61c6c844-7a97-4a91-996d-dd39a0de2542"
   },
   "outputs": [
    {
     "data": {
      "text/plain": [
       "0.4192583732057416"
      ]
     },
     "execution_count": 127,
     "metadata": {},
     "output_type": "execute_result"
    }
   ],
   "source": [
    "#test accuracy for logistic regression\n",
    "y_test_pred = lr.predict(X_test)\n",
    "test_accuracy = accuracy_score(y_test,y_test_pred)\n",
    "test_accuracy"
   ]
  },
  {
   "cell_type": "code",
   "execution_count": null,
   "id": "2ee293c4",
   "metadata": {
    "colab": {
     "base_uri": "https://localhost:8080/"
    },
    "executionInfo": {
     "elapsed": 2469,
     "status": "ok",
     "timestamp": 1684268358405,
     "user": {
      "displayName": "Timilehin Osinuga",
      "userId": "02674228651306861961"
     },
     "user_tz": -60
    },
    "id": "2ee293c4",
    "outputId": "dfbcb3b8-f001-48ac-ad50-96681f8cd322"
   },
   "outputs": [
    {
     "data": {
      "text/plain": [
       "0.310803738317757"
      ]
     },
     "execution_count": 128,
     "metadata": {},
     "output_type": "execute_result"
    }
   ],
   "source": [
    "# Train the Naive Bayes Classifier\n",
    "gnb = GaussianNB()\n",
    "gnb.fit(X_train, y_train)\n",
    "y_pred_gnb = gnb.predict(X_test)\n",
    "#train accuracy\n",
    "y_train_pred = gnb.predict(X_train)\n",
    "train_accuracy = accuracy_score(y_train,y_train_pred)\n",
    "train_accuracy"
   ]
  },
  {
   "cell_type": "code",
   "execution_count": null,
   "id": "2a69a609",
   "metadata": {
    "colab": {
     "base_uri": "https://localhost:8080/"
    },
    "executionInfo": {
     "elapsed": 569,
     "status": "ok",
     "timestamp": 1684268374651,
     "user": {
      "displayName": "Timilehin Osinuga",
      "userId": "02674228651306861961"
     },
     "user_tz": -60
    },
    "id": "2a69a609",
    "outputId": "33ceacfb-c9fd-4e29-bb75-2d2a0e40d80e"
   },
   "outputs": [
    {
     "data": {
      "text/plain": [
       "0.1812200956937799"
      ]
     },
     "execution_count": 129,
     "metadata": {},
     "output_type": "execute_result"
    }
   ],
   "source": [
    "#test accuracy for Naive Bayes Classifier\n",
    "y_test_pred = gnb.predict(X_test)\n",
    "test_accuracy = accuracy_score(y_test,y_test_pred)\n",
    "test_accuracy"
   ]
  },
  {
   "cell_type": "code",
   "execution_count": null,
   "id": "122c5f36",
   "metadata": {
    "colab": {
     "base_uri": "https://localhost:8080/"
    },
    "executionInfo": {
     "elapsed": 647,
     "status": "ok",
     "timestamp": 1684268430245,
     "user": {
      "displayName": "Timilehin Osinuga",
      "userId": "02674228651306861961"
     },
     "user_tz": -60
    },
    "id": "122c5f36",
    "outputId": "d139d533-ccf4-4c4d-81fe-5b4242049f0d"
   },
   "outputs": [
    {
     "name": "stdout",
     "output_type": "stream",
     "text": [
      "Classification Report:\n",
      "                                                                                  precision    recall  f1-score   support\n",
      "\n",
      "                                                                  1C, 1C Company       0.00      0.00      0.00         1\n",
      "                                                          1C, Ino-Co, 1C Company       0.00      0.00      0.00         2\n",
      "                                                         1C, Various, 1C Company       0.00      0.00      0.00         1\n",
      "                                                                       1C:Ino-Co       0.00      0.00      0.00         0\n",
      "                                                        1st Playable Productions       0.00      0.00      0.00         2\n",
      "                                                                    2K Australia       0.00      0.00      0.00         1\n",
      "                                                                        2K Czech       0.00      0.00      0.00         0\n",
      "                                                                        2K Games       0.00      0.00      0.00         3\n",
      "                                                                        2K Marin       0.00      0.00      0.00         0\n",
      "                                                                       2K Sports       0.00      0.00      0.00         5\n",
      "                                                                  343 Industries       0.00      0.00      0.00         0\n",
      "                                                                             3DO       0.80      1.00      0.89         4\n",
      "                                                                      3G Studios       0.00      0.00      0.00         2\n",
      "                                                                       3d6 Games       0.00      0.00      0.00         1\n",
      "                                                                         49Games       0.25      0.20      0.22         5\n",
      "                                                                        4A Games       0.00      0.00      0.00         3\n",
      "                                                                      4J Studios       1.00      1.00      1.00         1\n",
      "                                                                       505 Games       1.00      0.57      0.73         7\n",
      "                                                                        5TH Cell       0.00      0.00      0.00         1\n",
      "                                                                             5pb       0.00      0.00      0.00         1\n",
      "                                                                       7 Studios       0.29      0.50      0.36         4\n",
      "                                                                    8Monkey Labs       0.00      0.00      0.00         1\n",
      "                                                                      989 Sports       0.38      1.00      0.55         3\n",
      "                                                                              AI       0.00      0.00      0.00         2\n",
      "                                                                    Access Games       0.00      0.00      0.00         1\n",
      "                                                                         Acclaim       0.50      0.86      0.63         7\n",
      "                                                          Acclaim Studios Austin       0.50      1.00      0.67         1\n",
      "                                                      Acclaim Studios Cheltenham       0.00      0.00      0.00         0\n",
      "                                                      Acclaim Studios Manchester       1.00      1.00      1.00         1\n",
      "                                                                         Acquire       0.00      0.00      0.00         7\n",
      "                                                                      Activision       0.42      0.59      0.49        17\n",
      "                                                                        Adrenium       0.00      0.00      0.00         1\n",
      "                                                          Agatsuma Entertainment       0.00      0.00      0.00         1\n",
      "                                                                          Agetec       0.00      0.00      0.00         1\n",
      "                                                                  Airtight Games       0.50      1.00      0.67         1\n",
      "                                                                          Akella       0.00      0.00      0.00         1\n",
      "                                                                       Aki Corp.       0.00      0.00      0.00         4\n",
      "                                 Alawar Entertainment, Inc, Alawar Entertainment       0.00      0.00      0.00         0\n",
      "                                                         Alchemist, Inti Creates       0.00      0.00      0.00         0\n",
      "                                                                     Alfa System       0.00      0.00      0.00         2\n",
      "                                                                      Alpha Unit       0.00      0.00      0.00         0\n",
      "                                                                          Altron       0.17      0.50      0.25         2\n",
      "                                                                           Amaze       0.00      0.00      0.00         1\n",
      "                                                             Amaze Entertainment       0.25      0.12      0.17         8\n",
      "                                                                          Amedio       0.00      0.00      0.00         1\n",
      "                                                                Amusement Vision       1.00      0.50      0.67         2\n",
      "                                                                           Amuze       0.00      0.00      0.00         1\n",
      "                                                                          Anchor       0.00      0.00      0.00         0\n",
      "                                                           Andamiro U.S.A. Corp.       0.00      0.00      0.00         0\n",
      "                                                                  Animation Arts       0.00      0.00      0.00         0\n",
      "                                                          Aqua Pacific, In2Games       0.00      0.00      0.00         1\n",
      "                                                                       Aqua Plus       0.00      0.00      0.00         1\n",
      "                                                                          Aquria       0.00      0.00      0.00         1\n",
      "                                                                Arc System Works       0.44      0.67      0.53        12\n",
      "                                                                     Arcade Moon       0.00      0.00      0.00         1\n",
      "                                                                        ArenaNet       1.00      1.00      1.00         1\n",
      "                                                                  Argonaut Games       0.12      0.25      0.17         4\n",
      "                                                                           Arika       0.00      0.00      0.00         0\n",
      "                                                                  Arkane Studios       0.50      0.50      0.50         2\n",
      "                                                                   Arkedo Studio       0.00      0.00      0.00         1\n",
      "                                                          Arrowhead Game Studios       0.00      0.00      0.00         1\n",
      "                                                                             Art       0.00      0.00      0.00         2\n",
      "                                                                         Artdink       0.00      0.00      0.00         1\n",
      "                                                                      ArtePiazza       0.50      1.00      0.67         1\n",
      "                                                                  Artech Studios       0.00      0.00      0.00         2\n",
      "                                                                Artefacts Studio       0.00      0.00      0.00         0\n",
      "                                                    Artificial Mind and Movement       0.15      0.40      0.22        10\n",
      "                                 Artificial Mind and Movement, EA Redwood Shores       0.00      0.00      0.00         1\n",
      "                               Artificial Studios, Immersion Software & Graphics       0.00      0.00      0.00         1\n",
      "                                                                          Artoon       0.00      0.00      0.00         1\n",
      "                                                      Ascaron Entertainment GmbH       0.00      0.00      0.00         0\n",
      "                                                    Asmik Ace Entertainment, Inc       0.00      0.00      0.00         1\n",
      "                                                                    Asobo Studio       0.00      0.00      0.00         2\n",
      "                                                                          Aspect       0.00      0.00      0.00         1\n",
      "                                                                         Astroll       0.00      0.00      0.00         1\n",
      "                                                                           Atari       0.00      0.00      0.00         2\n",
      "                                                                 Atari, Atari SA       1.00      1.00      1.00         1\n",
      "                                                                           Atlus       0.00      0.00      0.00         1\n",
      "                                                                       Atlus Co.       0.00      0.00      0.00         2\n",
      "                                                     Atomic Planet Entertainment       0.00      0.00      0.00         2\n",
      "                                                              Attention Software       0.00      0.00      0.00         1\n",
      "                                                             Attention To Detail       0.00      0.00      0.00         0\n",
      "                                                                     Autumn Moon       0.00      0.00      0.00         0\n",
      "                                                              Avalanche Software       0.29      0.33      0.31         6\n",
      "                                                               Avalanche Studios       0.00      0.00      0.00         3\n",
      "                                                              Avanquest Software       0.00      0.00      0.00         3\n",
      "                                                                         B-Alive       0.00      0.00      0.00         1\n",
      "                                                                Babylon Software       0.00      0.00      0.00         2\n",
      "                                                             Backbone Emeryville       0.00      0.00      0.00         1\n",
      "                                                          Backbone Entertainment       0.25      0.14      0.18         7\n",
      "                                                              Backbone Vancouver       0.00      0.00      0.00         1\n",
      "                                                               Bam Entertainment       0.00      0.00      0.00         1\n",
      "                                                                          Bandai       0.00      0.00      0.00         3\n",
      "                                                              Bandai Namco Games       0.33      0.33      0.33         6\n",
      "                                                                Barnhouse Effect       0.00      0.00      0.00         0\n",
      "                                                                     BattleBorne       1.00      1.00      1.00         1\n",
      "                                                                             Bec       0.00      0.00      0.00         2\n",
      "                                                                          Beenox       0.12      1.00      0.22         1\n",
      "                                                                 Beep Industries       0.00      0.00      0.00         1\n",
      "                                                           Behaviour Interactive       0.20      0.50      0.29         2\n",
      "                                                                        Best Way       0.00      0.00      0.00         1\n",
      "                                                           Bethesda Game Studios       1.00      0.50      0.67         2\n",
      "                                                              Bethesda Softworks       1.00      0.25      0.40         4\n",
      "                                                                 Big Ant Studios       1.00      0.50      0.67         4\n",
      "                                                            Big Blue Bubble Inc.       0.00      0.00      0.00         1\n",
      "                                                          Big Blue Entertainment       0.00      0.00      0.00         1\n",
      "                                                                  Big Fish Games       0.00      0.00      0.00         1\n",
      "                                                                  Big Huge Games       0.00      0.00      0.00         2\n",
      "                                                                  Big John Games       0.00      0.00      0.00         1\n",
      "                                                                Big Red Software       0.00      0.00      0.00         1\n",
      "                                                                Big Sky Software       0.00      0.00      0.00         0\n",
      "                                                                  Bigbig Studios       0.00      0.00      0.00         2\n",
      "                                                                         BioWare       0.40      0.67      0.50         6\n",
      "                                                       BioWare, Demiurge Studios       0.00      0.00      0.00         1\n",
      "                                                                    Bits Studios       0.00      0.00      0.00         0\n",
      "                                                               Bizarre Creations       0.00      0.00      0.00         2\n",
      "                                                                       Black Box       1.00      0.33      0.50         3\n",
      "                                                                Black Hole Games       0.00      0.00      0.00         0\n",
      "                                                              Black Isle Studios       0.00      0.00      0.00         1\n",
      "                                                           Black Lantern Studios       0.33      0.25      0.29         8\n",
      "                                                         Black Ops Entertainment       0.00      0.00      0.00         3\n",
      "                                                               Black Rock Studio       0.00      0.00      0.00         0\n",
      "                                                               Black Sea Studios       0.00      0.00      0.00         1\n",
      "                                                                Black Ship Games       0.00      0.00      0.00         2\n",
      "                                                               Blade Interactive       0.00      0.00      0.00         2\n",
      "                                                        Blast! Entertainment Ltd       0.00      0.00      0.00         1\n",
      "                                                                     Blitz Games       0.17      0.17      0.17         6\n",
      "                                                             Blitz Games Studios       0.00      0.00      0.00         1\n",
      "                                                         Blitz Games, Human Soft       0.00      0.00      0.00         1\n",
      "                                                          Blizzard Entertainment       0.50      0.80      0.62         5\n",
      "                                                                  Blizzard North       0.00      0.00      0.00         2\n",
      "                                                                       Blue Byte       0.00      0.00      0.00         0\n",
      "                                                      Blue Byte, Related Designs       0.00      0.00      0.00         1\n",
      "                                                               Blue Castle Games       0.33      0.25      0.29         4\n",
      "                                                                 Blue Fang Games       0.00      0.00      0.00         2\n",
      "                                                                      Blue Omega       0.50      1.00      0.67         1\n",
      "                                                                      Blue Shift       0.00      0.00      0.00         2\n",
      "                                                                     Blue Tongue       0.00      0.00      0.00         1\n",
      "                                                       Blue Tongue Entertainment       0.25      0.33      0.29         3\n",
      "                                                                 Bluepoint Games       0.00      0.00      0.00         1\n",
      "                                                                        Blueside       0.00      0.00      0.00         0\n",
      "                                                          Box Clever Interactive       0.00      0.00      0.00         1\n",
      "                                                                      Brain Toys       0.00      0.00      0.00         1\n",
      "                                                             Brash Entertainment       0.00      0.00      0.00         0\n",
      "                                                                          BudCat       0.33      0.25      0.29         4\n",
      "                                                               Buena Vista Games       0.00      0.00      0.00         1\n",
      "                                                                         Bugbear       0.67      1.00      0.80         2\n",
      "                                                            Bullfrog Productions       0.00      0.00      0.00         1\n",
      "                                                                          Bungie       0.00      0.00      0.00         2\n",
      "                                                                 Bungie Software       0.00      0.00      0.00         0\n",
      "                                                         Bungie Software, Bungie       0.00      0.00      0.00         3\n",
      "                                                                     Buzz Monkey       0.00      0.00      0.00         1\n",
      "                                                        Buzz Monkey, EA Montreal       0.00      0.00      0.00         1\n",
      "                                                                             CCP       0.00      0.00      0.00         1\n",
      "                                                           CD Projekt Red Studio       0.00      0.00      0.00         1\n",
      "                                                                        CI Games       0.00      0.00      0.00         1\n",
      "                                                       Camelot Software Planning       1.00      0.50      0.67         2\n",
      "                                                                          Capcom       0.45      0.71      0.56        28\n",
      "                                                Capcom, Pipeworks Software, Inc.       0.00      0.00      0.00         1\n",
      "                                                                     Career Soft       0.00      0.00      0.00         1\n",
      "                                                                     Cattle Call       0.00      0.00      0.00         1\n",
      "                                                                   Cauldron Ltd.       1.00      1.00      1.00         2\n",
      "                                                                            Cave       0.00      0.00      0.00         1\n",
      "                                                                       Cave Barn       0.00      0.00      0.00         0\n",
      "                                                                      Cavia Inc.       0.00      0.00      0.00         2\n",
      "                                                                         Celeris       0.00      0.00      0.00         0\n",
      "                                                                   Cerasus Media       0.00      0.00      0.00         0\n",
      "                                                                        ChunSoft       0.00      0.00      0.00         0\n",
      "                                                                      Cinegroupe       0.00      0.00      0.00         1\n",
      "                                                                            Cing       0.50      1.00      0.67         1\n",
      "                                                                    Circus Freak       0.00      0.00      0.00         1\n",
      "                                                                City Interactive       0.57      0.50      0.53         8\n",
      "                                                       City Interactive, Deck 13       0.00      0.00      0.00         1\n",
      "                                                                       Clap Hanz       0.00      0.00      0.00         1\n",
      "                                                                    Climax Group       0.20      0.33      0.25         6\n",
      "                                                    Climax Group, Climax Studios       0.00      0.00      0.00         3\n",
      "                                                                 Clockwork Games       0.00      0.00      0.00         1\n",
      "                                                                     Codemasters       0.52      0.85      0.65        13\n",
      "                                                          Codemasters Birmingham       0.00      0.00      0.00         2\n",
      "                                                            Coffee Stain Studios       0.00      0.00      0.00         1\n",
      "                                                               CokeM Interactive       0.00      0.00      0.00         1\n",
      "                                                            Coldwood Interactive       0.00      0.00      0.00         1\n",
      "                                                               Collision Studios       0.00      0.00      0.00         4\n",
      "                                                                   Compile Heart       0.00      0.00      0.00         2\n",
      "                                                        Conspiracy Entertainment       0.00      0.00      0.00         0\n",
      "                                                            Cooking Mama Limited       0.00      0.00      0.00         1\n",
      "                                                                Core Design Ltd.       0.00      0.00      0.00         1\n",
      "                                                                        Coresoft       0.00      0.00      0.00         0\n",
      "                                                                         Cosmigo       0.00      0.00      0.00         0\n",
      "                                                                  Coyote Console       0.00      0.00      0.00         1\n",
      "                                                             Coyote Developments       0.00      0.00      0.00         1\n",
      "                                                              Cranky Pants Games       0.00      0.00      0.00         0\n",
      "                                                                           Crave       0.50      0.20      0.29         5\n",
      "                                                                   Creat Studios       1.00      0.33      0.50         3\n",
      "                                                                       Creations       0.00      0.00      0.00         1\n",
      "                                                               Creative Assembly       0.43      0.50      0.46         6\n",
      "                                                               Creative Patterns       0.00      0.00      0.00         0\n",
      "                                                                 Criterion Games       0.67      0.80      0.73         5\n",
      "                                                                         Croteam       0.00      0.00      0.00         1\n",
      "                                                                Crystal Dynamics       0.22      0.33      0.27         6\n",
      "                                               Crystal Dynamics, Nixxes Software       0.00      0.00      0.00         0\n",
      "                                                                          Crytek       0.00      0.00      0.00         1\n",
      "                                                                   Culture Brain       0.00      0.00      0.00         1\n",
      "                                                            Cunning Developments       0.00      0.00      0.00         0\n",
      "                                                                     Cyan Worlds       0.00      0.00      0.00         1\n",
      "                                                                         Cyanide       0.50      0.50      0.50         2\n",
      "                                                        Cyanide, Cyanide Studios       0.00      0.00      0.00         0\n",
      "                                                                   CyberConnect2       0.20      0.33      0.25         3\n",
      "                                                           CyberConnect2, Racjin       0.00      0.00      0.00         1\n",
      "                                        CyberPlanet Interactive Public Co., Ltd.       0.00      0.00      0.00         1\n",
      "                                                               Cyberlore Studios       0.00      0.00      0.00         1\n",
      "                                                                     D3Publisher       0.00      0.00      0.00         0\n",
      "                                                                      DC Studios       0.00      0.00      0.00         5\n",
      "                                                           DONTNOD Entertainment       0.00      0.00      0.00         0\n",
      "                                                                       DSI Games       0.00      0.00      0.00         0\n",
      "                                                                    Dancing Dots       0.00      0.00      0.00         1\n",
      "                                                         Data Design Interactive       1.00      0.67      0.80         3\n",
      "                                                     David A. Palmer Productions       0.00      0.00      0.00         0\n",
      "                                                                   Day 1 Studios       0.50      0.33      0.40         3\n",
      "                                                                         Deck 13       0.00      0.00      0.00         2\n",
      "                                                                     Deep Silver       0.00      0.00      0.00         1\n",
      "                                                   Deep Silver Dambuster Studios       0.50      1.00      0.67         1\n",
      "                                                                  Deibus Studios       0.00      0.00      0.00         0\n",
      "                                                 Delphine Software International       0.00      0.00      0.00         1\n",
      "                                                            Destination Software       0.00      0.00      0.00         0\n",
      "                                                                       Destineer       0.00      0.00      0.00         4\n",
      "                                                              Dice, Danger Close       0.00      0.00      0.00         1\n",
      "                                                                   Digital Anvil       0.00      0.00      0.00         1\n",
      "                                                                 Digital Eclipse       0.50      0.14      0.22         7\n",
      "                                                                  Digital Embryo       0.00      0.00      0.00         0\n",
      "                                                                Digital Extremes       0.00      0.00      0.00         1\n",
      "                                                      Digital Extremes, 2K Marin       0.00      0.00      0.00         1\n",
      "                                                               Digital Illusions       1.00      0.20      0.33         5\n",
      "                                                                  Digital Mayhem       0.00      0.00      0.00         1\n",
      "                                                               Dimps Corporation       0.00      0.00      0.00         4\n",
      "                                                              Disney Interactive       0.00      0.00      0.00         2\n",
      "                                                      Disney Interactive Studios       1.00      0.33      0.50         3\n",
      "                                                              Double Helix Games       0.17      0.25      0.20         4\n",
      "                                                                       Doublesix       0.00      0.00      0.00         1\n",
      "                                                                    DreamFactory       0.00      0.00      0.00         2\n",
      "                                                                    Dreamcatcher       0.00      0.00      0.00         3\n",
      "                                                                Dreamworks Games       0.00      0.00      0.00         1\n",
      "                                                          Dreamworks Interactive       0.00      0.00      0.00         1\n",
      "                                                                    EA Black Box       0.00      0.00      0.00         1\n",
      "                                                                 EA Bright Light       0.75      0.30      0.43        10\n",
      "                                                                       EA Canada       0.54      0.69      0.60        32\n",
      "                                                           EA Canada, Nihilistic       1.00      1.00      1.00         1\n",
      "                                                                      EA Chicago       0.00      0.00      0.00         0\n",
      "                                                                         EA DICE       0.56      0.62      0.59         8\n",
      "                                                           EA DICE, Danger Close       0.00      0.00      0.00         0\n",
      "                                                                        EA Games       0.25      0.50      0.33         6\n",
      "                                                                           EA LA       0.00      0.00      0.00         0\n",
      "                                                                     EA Montreal       0.67      0.67      0.67         3\n",
      "                                                                       EA Mythic       0.00      0.00      0.00         0\n",
      "                                                                     EA Phenomic       0.00      0.00      0.00         0\n",
      "                                                               EA Redwood Shores       0.00      0.00      0.00         1\n",
      "                                                                    EA Salt Lake       0.00      0.00      0.00         2\n",
      "                                                                      EA Seattle       1.00      1.00      1.00         1\n",
      "                                                                       EA Sports       0.50      0.62      0.55        37\n",
      "                                                                   EA Sports Big       0.00      0.00      0.00         1\n",
      "                                                            EA Sports, EA Canada       0.00      0.00      0.00         1\n",
      "                                                                      EA Tiburon       0.43      0.56      0.49        16\n",
      "                                                             EA Tiburon, n-Space       0.00      0.00      0.00         1\n",
      "                                                                    EA Vancouver       1.00      1.00      1.00         1\n",
      "                                                            EC Interactive Games       0.00      0.00      0.00         0\n",
      "                                                                             ECI       0.00      0.00      0.00         1\n",
      "                                                                    EKO Software       0.00      0.00      0.00         3\n",
      "                                                                      EM Studios       0.00      0.00      0.00         1\n",
      "                                                                  Eagle Dynamics       0.00      0.00      0.00         1\n",
      "                                                                            Eden       1.00      1.00      1.00         1\n",
      "                                                                    Eden Studios       0.00      0.00      0.00         2\n",
      "                                                                 Edge of Reality       0.50      0.50      0.50         6\n",
      "                                                  Edmund McMillen, Florian Himsl       0.00      0.00      0.00         0\n",
      "                                                                   Eiconic Games       0.00      0.00      0.00         0\n",
      "                                                               Eidos Interactive       0.00      0.00      0.00         1\n",
      "                                                                  Eidos Montreal       0.00      0.00      0.00         0\n",
      "                                                 Eidos Montreal, Nixxes Software       0.00      0.00      0.00         1\n",
      "                                                                        Eighting       0.00      0.00      0.00         2\n",
      "                                                           Eighting, Takara Tomy       0.00      0.00      0.00         1\n",
      "                                                                Eighting/Raizing       0.00      0.00      0.00         2\n",
      "                                                                 Electronic Arts       0.35      0.42      0.39        26\n",
      "                                                                  Elixir Studios       0.00      0.00      0.00         0\n",
      "                                                              Empire Interactive       0.00      0.00      0.00         1\n",
      "                                                                   Empire Oxford       0.00      0.00      0.00         1\n",
      "                                                                         Endemol       1.00      0.33      0.50         3\n",
      "                                                                 Engine Software       0.25      0.33      0.29         3\n",
      "                                                       Engine Software, Re-Logic       0.00      0.00      0.00         1\n",
      "                                                                   EnjoyUp Games       0.00      0.00      0.00         1\n",
      "                                                                Ensemble Studios       1.00      1.00      1.00         1\n",
      "                                                                      Epic Games       0.00      0.00      0.00         1\n",
      "                                                               Epicenter Studios       1.00      1.00      1.00         1\n",
      "                                                             Etranges Libellules       0.00      0.00      0.00         1\n",
      "                                                                   Eugen Systems       1.00      0.50      0.67         2\n",
      "                                                  Eurocom Entertainment Software       0.27      0.60      0.37         5\n",
      "                                                                       Eutechnyx       0.25      0.40      0.31         5\n",
      "                                                                 Evolution Games       0.00      0.00      0.00         1\n",
      "                                                               Evolution Studios       0.50      1.00      0.67         1\n",
      "                                                                           Exakt       0.00      0.00      0.00         3\n",
      "                                                                           Examu       0.00      0.00      0.00         1\n",
      "                                                            Exient Entertainment       0.60      0.75      0.67         4\n",
      "                                                                 Experience Inc.       0.00      0.00      0.00         1\n",
      "                                                              Extra Mile Studios       0.00      0.00      0.00         1\n",
      "                                                                     FASA Studio       0.00      0.00      0.00         1\n",
      "                                                                        FUN Labs       0.60      0.75      0.67         8\n",
      "                                                                          Falcom       0.25      0.50      0.33         2\n",
      "                                                                Farsight Studios       0.00      0.00      0.00         3\n",
      "                                                         Farsight Studios, Crave       0.00      0.00      0.00         1\n",
      "                                                                        FeelPlus       1.00      1.00      1.00         1\n",
      "                                                                   Firaxis Games       0.75      1.00      0.86         3\n",
      "                                                                 FireFly Studios       0.00      0.00      0.00         0\n",
      "                                                                 Firebrand Games       0.67      0.25      0.36         8\n",
      "                                                                        Flagship       0.00      0.00      0.00         1\n",
      "                                                                     Flight-Plan       0.00      0.00      0.00         1\n",
      "                                                                   Fluid Studios       0.00      0.00      0.00         1\n",
      "                                                        Flying Tiger Development       0.00      0.00      0.00         1\n",
      "                                                                   Foreign Media       0.50      1.00      0.67         1\n",
      "                                                       Frame Studios Interactive       1.00      1.00      1.00         1\n",
      "                                                             Free Radical Design       0.60      1.00      0.75         3\n",
      "                                                                  FreeStyleGames       0.00      0.00      0.00         0\n",
      "                                                         Freedom Factory Studios       0.00      0.00      0.00         0\n",
      "                                                                        Fresh 3D       0.00      0.00      0.00         0\n",
      "                                                                    Frima Studio       0.00      0.00      0.00         1\n",
      "                                                                       Frogwares       0.50      0.50      0.50         2\n",
      "                                                                   From Software       0.25      0.25      0.25         8\n",
      "                                                               FrontLine Studios       0.00      0.00      0.00         2\n",
      "                                                           Frontier Developments       0.00      0.00      0.00         1\n",
      "                                                                           FuRyu       0.00      0.00      0.00         1\n",
      "                                                                        Full Fat       0.00      0.00      0.00         4\n",
      "                                                                        Full-Fat       0.00      0.00      0.00         1\n",
      "                                                                    Funbox Media       0.00      0.00      0.00         0\n",
      "                                                                          Funcom       0.00      0.00      0.00         0\n",
      "                                            Fusionsphere Systems, Animation Arts       0.00      0.00      0.00         0\n",
      "                                                                       G-Artists       0.00      0.00      0.00         1\n",
      "                                                                            GRIN       0.50      1.00      0.67         1\n",
      "                                                                  GSC Game World       0.00      0.00      0.00         0\n",
      "                                                            Gaijin Entertainment       0.40      1.00      0.57         2\n",
      "                                                                       Game Arts       0.00      0.00      0.00         6\n",
      "                                                                     Game Brains       0.00      0.00      0.00         0\n",
      "                                                                      Game Freak       0.00      0.00      0.00         2\n",
      "                                                            Game Machine Studios       0.00      0.00      0.00         2\n",
      "                                                                   Game Republic       0.50      0.33      0.40         3\n",
      "                                                                      Game Sauce       0.00      0.00      0.00         0\n",
      "                                                                      Game Titan       0.00      0.00      0.00         1\n",
      "                                                                          GameCo       0.00      0.00      0.00         1\n",
      "                                   GameMill Publishing, 1st Playable Productions       0.00      0.00      0.00         1\n",
      "                                                                      Gameinvest       0.00      0.00      0.00         1\n",
      "                                                                        Gameloft       0.00      0.00      0.00         1\n",
      "                                                                      Games Farm       0.00      0.00      0.00         2\n",
      "                                                            Gaming Minds Studios       0.00      0.00      0.00         1\n",
      "                                                                       Ganbarion       1.00      0.50      0.67         2\n",
      "                                                               Gas Powered Games       0.00      0.00      0.00         1\n",
      "                                                                   Gaslamp Games       0.00      0.00      0.00         0\n",
      "                                                                Gearbox Software       0.25      0.40      0.31         5\n",
      "                                                     Gearbox Software, 3D Realms       1.00      1.00      1.00         1\n",
      "                                                                        GenePool       0.00      0.00      0.00         1\n",
      "                                                                           Genki       0.00      0.00      0.00         1\n",
      "                                                                   Genuine Games       1.00      0.50      0.67         2\n",
      "                                                                     Ghost Games       1.00      1.00      1.00         1\n",
      "                                                                 Giants Software       0.00      0.00      0.00         4\n",
      "                                                                   Gimagin Games       0.00      0.00      0.00         0\n",
      "                                                           Glyphic Entertainment       0.00      0.00      0.00         0\n",
      "                                                                     Gogii Games       0.00      0.00      0.00         1\n",
      "                                                             Good Science Studio       0.00      0.00      0.00         1\n",
      "                                                                   Gorilla Games       0.00      0.00      0.00         1\n",
      "                                                                 Gorilla Systems       0.00      0.00      0.00         2\n",
      "                                                         Grasshopper Manufacture       0.00      0.00      0.00         5\n",
      "                                                                Gratuitous Games       0.00      0.00      0.00         0\n",
      "                                                           Griffin International       0.00      0.00      0.00         0\n",
      "                                                                Griptonite Games       0.00      0.00      0.00         5\n",
      "                                                              Guerilla Cambridge       0.00      0.00      0.00         0\n",
      "                                                                       Guerrilla       0.00      0.00      0.00         1\n",
      "                                                                Guildford Studio       0.00      0.00      0.00         1\n",
      "                                                                          GungHo       0.00      0.00      0.00         1\n",
      "                                                                            Gust       1.00      0.67      0.80         3\n",
      "                                                              Gust, Idea Factory       0.00      0.00      0.00         1\n",
      "                                                                     Gusto Games       0.00      0.00      0.00         1\n",
      "                                                                        HAL Labs       0.33      0.33      0.33         3\n",
      "                                                           HB Studios Multimedia       0.67      0.67      0.67         3\n",
      "                                                                       Haemimont       0.67      0.67      0.67         3\n",
      "                                                               Halfbrick Studios       0.00      0.00      0.00         2\n",
      "                                                                  Handheld Games       0.00      0.00      0.00         2\n",
      "                                                                       Hangar 13       1.00      1.00      1.00         1\n",
      "                                                                 Happy Happening       0.00      0.00      0.00         1\n",
      "                                                          Harmonix Music Systems       0.65      0.92      0.76        12\n",
      "                                        Harmonix Music Systems, Demiurge Studios       1.00      1.00      1.00         1\n",
      "                                                              Hasbro Interactive       0.00      0.00      0.00         1\n",
      "                                                                        Headlock       0.00      0.00      0.00         0\n",
      "                                                                Headstrong Games       0.00      0.00      0.00         1\n",
      "                                                  Headup Games, Crenetic Studios       0.00      0.00      0.00         1\n",
      "                                                              Heavy Iron Studios       0.00      0.00      0.00         1\n",
      "                                                                          Helixe       0.00      0.00      0.00         3\n",
      "                                                                  Hellbent Games       1.00      1.00      1.00         1\n",
      "                                                                     Hello Games       0.00      0.00      0.00         1\n",
      "                                                               High Impact Games       0.00      0.00      0.00         2\n",
      "                                                               High Moon Studios       0.20      0.50      0.29         2\n",
      "                                       High Moon Studios, Mercenary Technologies       0.00      0.00      0.00         1\n",
      "                                                           High Voltage Software       0.15      0.17      0.16        12\n",
      "                                   High Voltage Software, Backbone Entertainment       1.00      1.00      1.00         2\n",
      "                                                                  Hijinx Studios       0.00      0.00      0.00         1\n",
      "                                                                        Hitmaker       0.00      0.00      0.00         0\n",
      "                                                                Hoplite Research       0.00      0.00      0.00         1\n",
      "                                                                  Hot Lava Games       0.00      0.00      0.00         1\n",
      "                                                                          HotGen       0.00      0.00      0.00         2\n",
      "                                                                          Hudson       0.00      0.00      0.00         2\n",
      "                                                            Hudson Entertainment       0.00      0.00      0.00         1\n",
      "                                                                     Hudson Soft       0.33      0.33      0.33         3\n",
      "                                                      Hudson, NATSUME ATARI Inc.       0.00      0.00      0.00         1\n",
      "                                                                        Humagade       0.00      0.00      0.00         1\n",
      "                                                             Human Entertainment       0.00      0.00      0.00         1\n",
      "                                                              Human Head Studios       0.00      0.00      0.00         0\n",
      "                                                                      Human Soft       0.00      0.00      0.00         3\n",
      "                                                           Human Soft, Ivolgamus       0.00      0.00      0.00         0\n",
      "                                                         Humongous Entertainment       0.00      0.00      0.00         1\n",
      "                                                                     Hydravision       1.00      0.50      0.67         2\n",
      "                                                                        Hypnotix       1.00      0.20      0.33         5\n",
      "                                                                             ITL       0.00      0.00      0.00         0\n",
      "                                                                      Icon Games       0.00      0.00      0.00         0\n",
      "                                                                    Idea Factory       0.00      0.00      0.00         1\n",
      "                                                                      Idol Minds       0.00      0.00      0.00         2\n",
      "                                                          Ignition Entertainment       0.00      0.00      0.00         1\n",
      "                                                              Illusion Softworks       0.00      0.00      0.00         0\n",
      "                                                         Image Epoch, Imageepoch       0.25      0.50      0.33         2\n",
      "                                                   Immersion Software & Graphics       1.00      1.00      1.00         1\n",
      "                                                               Impressions Games       0.00      0.00      0.00         0\n",
      "                                                                   Impulse Games       0.00      0.00      0.00         0\n",
      "                                                           InLight Entertainment       0.00      0.00      0.00         1\n",
      "                                                               Incinerator Games       0.00      0.00      0.00         0\n",
      "                                                                  Incognito Inc.       0.00      0.00      0.00         1\n",
      "                                                                     Indie Built       0.00      0.00      0.00         1\n",
      "                                                                     Indies Zero       0.00      0.00      0.00         1\n",
      "                                                        Inevitable Entertainment       0.00      0.00      0.00         1\n",
      "                                                            Infinite Interactive       0.00      0.00      0.00         1\n",
      "                                                                   Infinity Ward       0.67      0.67      0.67         3\n",
      "                                                                      Infogrames       0.00      0.00      0.00         1\n",
      "                                                                 Insomniac Games       1.00      0.50      0.67         2\n",
      "                                                             Intelligent Systems       1.00      0.22      0.36         9\n",
      "                                                         InterServ International       0.00      0.00      0.00         1\n",
      "                                                      Interworks Unlimited, Inc.       0.00      0.00      0.00         1\n",
      "                                                                            Inti       0.50      1.00      0.67         1\n",
      "                                                                    Inti Creates       0.00      0.00      0.00         1\n",
      "                                                              Inti, Inti Creates       0.00      0.00      0.00         1\n",
      "                                                                  Io Interactive       1.00      0.22      0.36         9\n",
      "                                                                       Ion Storm       0.00      0.00      0.00         0\n",
      "                                                                            Irem       0.00      0.00      0.00         1\n",
      "                                                           Iridon Interactive AB       0.00      0.00      0.00         1\n",
      "                                                             Iron Galaxy Studios       0.00      0.00      0.00         1\n",
      "                                                                Irrational Games       0.00      0.00      0.00         0\n",
      "                                                      Irrational Games, 2K Marin       0.00      0.00      0.00         0\n",
      "                                                                       Ivolgamus       0.00      0.00      0.00         2\n",
      "                                                                     Ivory Tower       0.50      1.00      0.67         1\n",
      "                                                                   JV Games Inc.       0.00      0.00      0.00         1\n",
      "                                                            Jaleco Entertainment       0.00      0.00      0.00         3\n",
      "                                                                 Jet Black Games       0.00      0.00      0.00         1\n",
      "                                                         JoWooD Entertainment AG       0.00      0.00      0.00         0\n",
      "                                                                        Joindots       0.00      0.00      0.00         1\n",
      "                                                          Joindots, Mastertronic       0.00      0.00      0.00         1\n",
      "                                                                     Juice Games       0.67      0.40      0.50         5\n",
      "                                                             Jupiter Corporation       0.00      0.00      0.00         2\n",
      "                                                               Just Add Monsters       0.00      0.00      0.00         0\n",
      "                                                                     KCE Studios       0.00      0.00      0.00         0\n",
      "                                                                            KCEJ       0.00      0.00      0.00         0\n",
      "                                                                            KCEK       0.00      0.00      0.00         2\n",
      "                                                                            KCEO       0.00      0.00      0.00         0\n",
      "                                                                            KCET       0.33      0.11      0.17         9\n",
      "                                                                        KING Art       0.00      0.00      0.00         1\n",
      "                                                                        Kadokawa       0.00      0.00      0.00         3\n",
      "                                                                         Kalypso       0.00      0.00      0.00         3\n",
      "                                                                    Kaos Studios       0.00      0.00      0.00         0\n",
      "                                                                      Keen Games       0.00      0.00      0.00         2\n",
      "                                                                           Kemco       0.00      0.00      0.00         0\n",
      "                                                                   Kheops Studio       0.00      0.00      0.00         1\n",
      "                                                                       Killaware       0.00      0.00      0.00         1\n",
      "                                                              King of the Jungle       0.00      0.00      0.00         1\n",
      "                                                    Klein Computer Entertainment       0.00      0.00      0.00         0\n",
      "                                                              Kodiak Interactive       0.00      0.00      0.00         1\n",
      "                                                                            Koei       0.33      0.60      0.43         5\n",
      "                                                                Koei Tecmo Games       1.00      0.50      0.67         2\n",
      "                                                               Koei, Omega Force       0.00      0.00      0.00         1\n",
      "                                                                       Koei/Inis       0.00      0.00      0.00         1\n",
      "                                                              Kojima Productions       0.25      0.33      0.29         3\n",
      "                                            Kojima Productions, Moby Dick Studio       0.00      0.00      0.00         1\n",
      "                                                              Kokolo Corporation       0.00      0.00      0.00         1\n",
      "                                                                          Konami       0.43      0.59      0.50        32\n",
      "                                            Konami Computer Entertainment Hawaii       0.00      0.00      0.00         2\n",
      "                                            Konami Computer Entertainment Nagoya       0.00      0.00      0.00         1\n",
      "                                                                   Krome Studios       0.00      0.00      0.00         5\n",
      "                                                              Kuju Entertainment       0.50      0.25      0.33         4\n",
      "                                                                      Kush Games       0.00      0.00      0.00         3\n",
      "                                                                   Kuusou Kagaku       0.00      0.00      0.00         1\n",
      "                                                                             LSP       0.00      0.00      0.00         2\n",
      "                                                                  Lab Rats Games       0.00      0.00      0.00         1\n",
      "                                                                        Land Ho!       0.00      0.00      0.00         2\n",
      "                                                                  Larian Studios       0.00      0.00      0.00         1\n",
      "                                                          Left Field Productions       0.50      1.00      0.67         1\n",
      "                                                              Legacy Interactive       0.00      0.00      0.00         2\n",
      "                                                                         Level 5       0.50      0.20      0.29         5\n",
      "                                                                    Light Weight       0.00      0.00      0.00         1\n",
      "                                                                Lionhead Studios       0.00      0.00      0.00         1\n",
      "                                                                    Little Orbit       0.00      0.00      0.00         2\n",
      "                                                                Locomotive Games       0.00      0.00      0.00         1\n",
      "                                                            Loose Cannon Studios       0.00      0.00      0.00         0\n",
      "                                                                       Lost Toys       0.00      0.00      0.00         0\n",
      "                                                                       LucasArts       0.60      0.60      0.60         5\n",
      "                                                        LucasArts, Krome Studios       0.00      0.00      0.00         1\n",
      "                                                                   Lucky Chicken       0.00      0.00      0.00         2\n",
      "                                                                      Ludia Inc.       0.33      0.33      0.33         3\n",
      "                                                                  Luxoflux, Inc.       1.00      1.00      1.00         1\n",
      "                                                                              M2       0.00      0.00      0.00         1\n",
      "                                                                             MTO       0.00      0.00      0.00         3\n",
      "                                                               Mac Play, MacPlay       0.00      0.00      0.00         2\n",
      "                                                                    MachineGames       0.50      1.00      0.67         2\n",
      "                                                                        Mad Catz       0.00      0.00      0.00         1\n",
      "                                                                Mad Doc Software       0.00      0.00      0.00         1\n",
      "                                            Mad Doc Software, Rockstar Vancouver       0.00      0.00      0.00         2\n",
      "                                                            Magellan Interactive       0.00      0.00      0.00         1\n",
      "                                                                Magenta Software       0.00      0.00      0.00         1\n",
      "                                                               Magic Pixel Games       0.00      0.00      0.00         0\n",
      "                                                                   Magic Pockets       0.00      0.00      0.00         5\n",
      "                                                                       Marvelous       0.00      0.00      0.00         1\n",
      "                                                                   Marvelous AQL       0.00      0.00      0.00         1\n",
      "                                                         Marvelous Entertainment       0.00      0.00      0.00         2\n",
      "                                                                  Marvelous Inc.       0.00      0.00      0.00         1\n",
      "                                                                      Mass Media       0.00      0.00      0.00         2\n",
      "                                                           Massive Entertainment       0.00      0.00      0.00         2\n",
      "                                                                 Matrix Software       0.00      0.00      0.00         1\n",
      "                                                                   Maximum Games       0.00      0.00      0.00         1\n",
      "                                                                           Maxis       0.62      0.73      0.67        11\n",
      "                                                                  Media Molecule       0.00      0.00      0.00         1\n",
      "                                                                    Media Vision       0.00      0.00      0.00         2\n",
      "                                                                      Mekensleep       0.00      0.00      0.00         1\n",
      "                                                                   Mercury Steam       0.50      1.00      0.67         1\n",
      "                                                                    Mere Mortals       0.00      0.00      0.00         1\n",
      "                                                               Metia Interactive       0.00      0.00      0.00         0\n",
      "                                                                           Metro       0.00      0.00      0.00         1\n",
      "                                                                  Metro Graphics       0.00      0.00      0.00         1\n",
      "                                                                         Metro3D       0.00      0.00      0.00         1\n",
      "                                                             Metropolis Software       0.00      0.00      0.00         1\n",
      "                                                                     Micro Cabin       0.00      0.00      0.00         1\n",
      "                                                             MicroProse, n-Space       0.00      0.00      0.00         1\n",
      "                                                                        Microids       0.00      0.00      0.00         3\n",
      "                                                          Microsoft Game Studios       0.00      0.00      0.00         1\n",
      "                                                                          Midway       0.50      0.62      0.55        13\n",
      "                                                         Midway Studios - Austin       0.00      0.00      0.00         0\n",
      "                                                    Midway Studios - Los Angeles       0.00      0.00      0.00         1\n",
      "                                                                       Milestone       0.00      0.00      0.00         1\n",
      "                                                                 Milestone S.r.l       0.38      0.83      0.53         6\n",
      "                                                                      Mind Candy       0.00      0.00      0.00         1\n",
      "                                                           Minds-Eye Productions       0.00      0.00      0.00         1\n",
      "                                                                 Mistic Software       0.00      0.00      0.00         1\n",
      "                                                                        Mitchell       1.00      1.00      1.00         1\n",
      "                                                                         Mix Max       0.00      0.00      0.00         1\n",
      "                                                            Mobius Entertainment       0.00      0.00      0.00         1\n",
      "                                                                Monkey Bar Games       1.00      0.50      0.67         4\n",
      "                                                            Monolith Productions       0.00      0.00      0.00         2\n",
      "                                                                   Monolith Soft       0.00      0.00      0.00         1\n",
      "                                                              Monster Games Inc.       0.00      0.00      0.00         0\n",
      "                                                         Monte Cristo Multimedia       0.00      0.00      0.00         1\n",
      "                                                                Monumental Games       1.00      0.50      0.67         2\n",
      "                                                       Most Wanted Entertainment       0.00      0.00      0.00         1\n",
      "                                                          Mucky Foot Productions       0.00      0.00      0.00         1\n",
      "                                                                      MumboJumbo       0.20      0.50      0.29         2\n",
      "                                                              NATSUME ATARI Inc.       0.00      0.00      0.00         1\n",
      "                                                                           Nadeo       1.00      1.00      1.00         1\n",
      "                                                                           Namco       0.29      0.40      0.33        15\n",
      "                                                              Namco Bandai Games       0.00      0.00      0.00         3\n",
      "                                  Namco Bandai Games America, Namco Bandai Games       1.00      1.00      1.00         1\n",
      "                                          Namco Bandai Games, Bandai Namco Games       0.00      0.00      0.00         1\n",
      "                                                     Namco Bandai Games, Cellius       0.00      0.00      0.00         1\n",
      "                                            Namco Bandai Games, Monkey Bar Games       1.00      1.00      1.00         1\n",
      "                                                                      NanaOn-Sha       0.00      0.00      0.00         1\n",
      "                                                                         Natsume       0.50      0.17      0.25         6\n",
      "                                                                     Naughty Dog       1.00      0.75      0.86         4\n",
      "                                                                         Nd Cube       0.00      0.00      0.00         2\n",
      "                                                              Neko Entertainment       0.20      0.33      0.25         3\n",
      "                                                                    Neon Studios       0.00      0.00      0.00         1\n",
      "                                                                  Nerve Software       0.00      0.00      0.00         2\n",
      "                                                             NetherRealm Studios       1.00      1.00      1.00         2\n",
      "                                                                  Netherock Ltd.       0.00      0.00      0.00         0\n",
      "                                                                       Neverland       1.00      0.17      0.29         6\n",
      "                                                         Neversoft Entertainment       0.55      1.00      0.71         6\n",
      "                                                               Nex Entertainment       1.00      0.33      0.50         3\n",
      "                                                                Next Level Games       1.00      1.00      1.00         1\n",
      "                                                      Next Level Games, Nintendo       0.00      0.00      0.00         1\n",
      "                                                                         Nicalis       0.00      0.00      0.00         1\n",
      "                                                                      Nihilistic       0.00      0.00      0.00         0\n",
      "                                                                    Ninja Theory       0.00      0.00      0.00         1\n",
      "                                                                        Nintendo       0.52      0.94      0.67        16\n",
      "                                                               Nintendo, Nd Cube       0.00      0.00      0.00         0\n",
      "                                                            Nippon Ichi Software       0.14      0.25      0.18         4\n",
      "                                                                     Nitro Games       0.00      0.00      0.00         1\n",
      "                                                               Nival Interactive       0.00      0.00      0.00         1\n",
      "                                                                 Nixxes Software       0.33      0.33      0.33         3\n",
      "                                                                     Nordcurrent       0.00      0.00      0.00         2\n",
      "                                                         Nordic Games Publishing       0.33      0.50      0.40         2\n",
      "                                                                        Novarama       0.00      0.00      0.00         1\n",
      "                                                                  Now Production       0.00      0.00      0.00         8\n",
      "                                                                            NuFX       0.00      0.00      0.00         2\n",
      "                                                                         O-Games       0.00      0.00      0.00         1\n",
      "                                                                    Oberon Media       0.00      0.00      0.00         1\n",
      "                                                          Obsidian Entertainment       0.17      0.33      0.22         3\n",
      "                                                            Oddworld Inhabitants       0.00      0.00      0.00         0\n",
      "                                                                   Office Create       0.00      0.00      0.00         1\n",
      "                                                                    OfficeCreate       0.00      0.00      0.00         0\n",
      "                                                                     Omega Force       0.56      0.79      0.65        19\n",
      "                                                   Omega Force, Koei Tecmo Games       0.00      0.00      0.00         1\n",
      "                                                                 OneNine Studios       0.00      0.00      0.00         0\n",
      "                                                                            Opus       0.00      0.00      0.00         1\n",
      "                                                             Orbital Media, Inc.       0.00      0.00      0.00         1\n",
      "                                                                    Osaka Studio       0.00      0.00      0.00         1\n",
      "                                                         Other Ocean Interactive       0.00      0.00      0.00         1\n",
      "                                                                         Otomate       0.00      0.00      0.00         0\n",
      "                                                                   Outrage Games       0.00      0.00      0.00         1\n",
      "                                                              Oxygen Interactive       0.00      0.00      0.00         1\n",
      "                                                     Pacific Coast Power & Light       0.00      0.00      0.00         2\n",
      "                                                                 Page 44 Studios       0.00      0.00      0.00         1\n",
      "                                                                 Pam Development       0.00      0.00      0.00         2\n",
      "                                                                Pandemic Studios       0.25      0.20      0.22         5\n",
      "                                                                    Panic Button       0.00      0.00      0.00         1\n",
      "                                                                Panther Software       0.00      0.00      0.00         1\n",
      "                                                                Paon Corporation       0.00      0.00      0.00         0\n",
      "                                                                  Papaya Studios       0.50      0.50      0.50         2\n",
      "                                                                         Papyrus       0.00      0.00      0.00         1\n",
      "                                                          Paradigm Entertainment       0.00      0.00      0.00         2\n",
      "                                                             Paradox Development       0.33      1.00      0.50         1\n",
      "                                                                   Pax Softonica       0.00      0.00      0.00         0\n",
      "                                                                 Pendulo Studios       0.00      0.00      0.00         1\n",
      "                                                       Pentavision Entertainment       0.00      0.00      0.00         0\n",
      "                                                                      Petroglyph       0.00      0.00      0.00         1\n",
      "                                                                      Phantagram       1.00      1.00      1.00         1\n",
      "                                                                      Phenomedia       0.00      0.00      0.00         0\n",
      "                                                           Phoenix Entertainment       0.00      0.00      0.00         1\n",
      "                                                            Phoenix Games Studio       0.00      0.00      0.00         1\n",
      "                                               Phoenix Interactive Entertainment       0.00      0.00      0.00         2\n",
      "                                                          Pipe Dream Interactive       0.00      0.00      0.00         0\n",
      "                                                        Pipeworks Software, Inc.       0.00      0.00      0.00         3\n",
      "                                                                   Piranha Bytes       1.00      0.75      0.86         4\n",
      "                                                                   Pivotal Games       0.00      0.00      0.00         0\n",
      "                                                             Planet Moon Studios       0.00      0.00      0.00         1\n",
      "                                                                   PlatinumGames       0.50      0.38      0.43         8\n",
      "                                                           Playrix Entertainment       0.00      0.00      0.00         1\n",
      "                                                                   Point of View       0.50      0.12      0.20         8\n",
      "                                                                   Polygon Magic       0.00      0.00      0.00         1\n",
      "                                                               Polyphony Digital       0.00      0.00      0.00         0\n",
      "                                                                          PopCap       0.50      0.80      0.62         5\n",
      "                                                                 Powerhead Games       0.00      0.00      0.00         6\n",
      "                                                                    Project Aces       0.00      0.00      0.00         1\n",
      "                                                                    Project Soul       0.00      0.00      0.00         0\n",
      "                                                                    Pronto Games       0.00      0.00      0.00         0\n",
      "                                                                           Prope       0.00      0.00      0.00         1\n",
      "                                                              Pseudo Interactive       0.00      0.00      0.00         1\n",
      "                                                                          Psikyo       0.00      0.00      0.00         1\n",
      "                                                                       Psygnosis       1.00      1.00      1.00         2\n",
      "                                                                         Psyonix       1.00      1.00      1.00         1\n",
      "                                                                    Purple Hills       0.00      0.00      0.00         1\n",
      "                                                                         Pyramid       0.00      0.00      0.00         1\n",
      "                                                                 Q Entertainment       0.00      0.00      0.00         1\n",
      "                                                                   Quantic Dream       0.67      1.00      0.80         2\n",
      "                                                            Quicksilver Software       1.00      1.00      1.00         1\n",
      "                                                               RED Entertainment       0.00      0.00      0.00         1\n",
      "                                               RED Entertainment, Spike Chunsoft       0.00      0.00      0.00         1\n",
      "                                                                          Racjin       0.00      0.00      0.00         3\n",
      "                                                           Radical Entertainment       0.46      0.75      0.57         8\n",
      "                                                                   Rage Software       0.00      0.00      0.00         1\n",
      "                                                                 Rainbow Studios       0.50      1.00      0.67         7\n",
      "                                                                       Rare Ltd.       1.00      0.25      0.40         4\n",
      "                                                                          Raster       0.00      0.00      0.00         1\n",
      "                                                                          Ratbag       0.00      0.00      0.00         2\n",
      "                                                                  Raven Software       0.00      0.00      0.00         1\n",
      "                                                                Raylight Studios       0.00      0.00      0.00         2\n",
      "                                                          Razorback Developments       0.00      0.00      0.00         1\n",
      "                                                                      Razorworks       0.00      0.00      0.00         1\n",
      "                                                              Razorworks Studios       0.00      0.00      0.00         1\n",
      "                                                                   Ready at Dawn       0.00      0.00      0.00         0\n",
      "                                                 Ready at Dawn, SCE Santa Monica       0.00      0.00      0.00         2\n",
      "                                                                    Reality Pump       0.00      0.00      0.00         1\n",
      "                                                                       Rebellion       0.22      0.33      0.27         6\n",
      "                                                                  Red Fly Studio       0.00      0.00      0.00         1\n",
      "                                       Red Storm Entertainment, Ubisoft Montreal       0.00      0.00      0.00         1\n",
      "                                          Red Storm Entertainment, Ubisoft Paris       0.00      0.00      0.00         1\n",
      "                                                                       Red Tribe       0.00      0.00      0.00         2\n",
      "                                                  Red Tribe, Brash Entertainment       0.00      0.00      0.00         2\n",
      "                                                         Reflections Interactive       0.00      0.00      0.00         1\n",
      "                                                                           Relic       0.67      0.40      0.50         5\n",
      "                                                            Remedy Entertainment       0.50      1.00      0.67         1\n",
      "                                                                    Renegade Kid       1.00      1.00      1.00         1\n",
      "                                                           Respawn Entertainment       0.00      0.00      0.00         1\n",
      "                                                                   Retro Studios       1.00      1.00      1.00         1\n",
      "                                                                     Revistronic       0.00      0.00      0.00         0\n",
      "                                                             Revolution Software       0.00      0.00      0.00         1\n",
      "                                                               Rising Star Games       0.50      0.50      0.50         2\n",
      "                                                                        Robomodo       0.50      0.50      0.50         2\n",
      "                                                                  Rockstar Leeds       0.00      0.00      0.00         3\n",
      "                                                                 Rockstar London       0.00      0.00      0.00         0\n",
      "                                                                  Rockstar North       1.00      0.25      0.40         4\n",
      "                                                              Rockstar San Diego       0.00      0.00      0.00         1\n",
      "                                                                Rockstar Studios       0.00      0.00      0.00         1\n",
      "                                                                Rockstar Toronto       0.00      0.00      0.00         1\n",
      "                                                                 Rockstar Vienna       0.00      0.00      0.00         0\n",
      "                                                              Rocksteady Studios       1.00      1.00      1.00         1\n",
      "                                                     Rocksteady Studios, Virtuos       0.00      0.00      0.00         1\n",
      "                                               Rovio Mobile, Rovio Entertainment       0.00      0.00      0.00         1\n",
      "                                                                     Runic Games       0.00      0.00      0.00         1\n",
      "                                                           Ryu ga Gotoku Studios       1.00      1.00      1.00         1\n",
      "                                                                           S-Neo       0.00      0.00      0.00         1\n",
      "                                                                SCE Japan Studio       0.00      0.00      0.00         3\n",
      "                                                                SCE Santa Monica       1.00      1.00      1.00         1\n",
      "                                                            SCE Studio Cambridge       0.00      0.00      0.00         1\n",
      "                                                         SCE/WWS, Media Molecule       0.00      0.00      0.00         1\n",
      "                                                                            SCEA       0.00      0.00      0.00         1\n",
      "                                                          SCEA San Diego Studios       1.00      0.60      0.75         5\n",
      "                                                              SCEA Sports Studio       0.00      0.00      0.00         1\n",
      "                                                            SCEA, Think and Feel       0.00      0.00      0.00         0\n",
      "                                                                            SCEE       0.00      0.00      0.00         3\n",
      "                                                              SCEE London Studio       0.80      0.67      0.73         6\n",
      "                                                                  SCEE, Zoe Mode       0.00      0.00      0.00         1\n",
      "                                                                    SCS Software       0.00      0.00      0.00         1\n",
      "                                                                             SCi       0.00      0.00      0.00         0\n",
      "                                                              SEGA Racing Studio       1.00      1.00      1.00         1\n",
      "                                                                    SNK Playmore       0.36      0.57      0.44         7\n",
      "                                                               Saber Interactive       0.00      0.00      0.00         1\n",
      "                                                                         Saffire       0.00      0.00      0.00         1\n",
      "                                                              Sand Grain Studios       0.50      0.67      0.57         3\n",
      "                                                                         Sandlot       0.00      0.00      0.00         1\n",
      "                                                   Sandlot Games, Digital Embryo       0.00      0.00      0.00         0\n",
      "                                                                Santa Cruz Games       0.00      0.00      0.00         1\n",
      "                                           Sanuk Software Co., Ltd., Sanuk Games       0.00      0.00      0.00         1\n",
      "                                                                   Sanzaru Games       0.00      0.00      0.00         0\n",
      "                                              Sanzaru Games, Sanzaru Games, Inc.       0.00      0.00      0.00         1\n",
      "                                                                   Sarbakan Inc.       0.00      0.00      0.00         1\n",
      "                                                            Savage Entertainment       0.00      0.00      0.00         1\n",
      "                                                                Scholastic, Inc.       0.00      0.00      0.00         0\n",
      "                                                           Scientifically Proven       1.00      1.00      1.00         1\n",
      "                                                                    Secret Level       0.00      0.00      0.00         1\n",
      "                                                                            Sega       0.00      0.00      0.00         6\n",
      "                                                                        Sega AM2       0.00      0.00      0.00         2\n",
      "                                                      Sega Studios San Francisco       0.00      0.00      0.00         1\n",
      "                                                                Sega, Sonic Team       0.00      0.00      0.00         0\n",
      "                                                                Sega, Tom Create       0.00      0.00      0.00         0\n",
      "                                                                   Sensory Sweep       0.00      0.00      0.00         1\n",
      "                                                                Seta Corporation       0.00      0.00      0.00         1\n",
      "                                                                           Shift       0.00      0.00      0.00         0\n",
      "                                                       Shift, Bandai Namco Games       0.00      0.00      0.00         1\n",
      "                                                                         Shin'en       0.00      0.00      0.00         3\n",
      "                                                             Shiny Entertainment       0.00      0.00      0.00         1\n",
      "                                                               Sidhe Interactive       0.00      0.00      0.00         1\n",
      "                                                                  Silicon Dreams       0.00      0.00      0.00         1\n",
      "                                                                 Silicon Knights       0.00      0.00      0.00         1\n",
      "                                                                  Silicon Studio       0.00      0.00      0.00         2\n",
      "                                                                  Sinister Games       0.00      0.00      0.00         1\n",
      "                                                                       Skip Ltd.       0.00      0.00      0.00         1\n",
      "                                                                SkyRiver Studios       0.00      0.00      0.00         0\n",
      "                                                           Skyworks Technologies       0.33      1.00      0.50         1\n",
      "                                                                      Slam Games       0.00      0.00      0.00         2\n",
      "                                                            Slightly Mad Studios       0.00      0.00      0.00         0\n",
      "                                                          Smart Bomb Interactive       0.00      0.00      0.00         1\n",
      "                                                                        SmartDog       0.00      0.00      0.00         0\n",
      "                                                                        Smilebit       0.00      0.00      0.00         1\n",
      "                                                               Snap Dragon Games       0.00      0.00      0.00         1\n",
      "                                                                      Snapdragon       0.00      0.00      0.00         1\n",
      "                                                               Snowblind Studios       0.00      0.00      0.00         2\n",
      "                                                                 Societe Pollene       0.00      0.00      0.00         1\n",
      "                                                              Software Creations       0.00      0.00      0.00         2\n",
      "                                                                   Sonic Powered       0.00      0.00      0.00         0\n",
      "                                                                      Sonic Team       0.50      0.36      0.42        11\n",
      "                                                                       Sony Bend       1.00      1.00      1.00         1\n",
      "                                                       Sony Online Entertainment       0.00      0.00      0.00         1\n",
      "                                Sony Online Entertainment, Mind Control Software       0.00      0.00      0.00         1\n",
      "                                                                 SouthPeak Games       1.00      1.00      1.00         1\n",
      "                                                            Southend Interactive       0.00      0.00      0.00         1\n",
      "                                                                 Spark Unlimited       0.33      1.00      0.50         1\n",
      "                                                                      Spellbound       0.00      0.00      0.00         2\n",
      "                                                                     Spicy Horse       0.00      0.00      0.00         0\n",
      "                                                                         Spiders       0.00      0.00      0.00         1\n",
      "                                                             Spidersoft, Spiders       0.00      0.00      0.00         1\n",
      "                                                                           Spike       0.00      0.00      0.00         2\n",
      "                                                                  Spike Chunsoft       0.00      0.00      0.00         4\n",
      "                                                       Spike, Namco Bandai Games       0.00      0.00      0.00         1\n",
      "                                                    Splash Damage, The Coalition       0.00      0.00      0.00         1\n",
      "                                                              Sports Interactive       0.50      1.00      0.67         1\n",
      "                                                                     Square Enix       0.44      0.40      0.42        10\n",
      "                                                               Square Enix, TOSE       0.00      0.00      0.00         1\n",
      "                                                     Square Enix, Think and Feel       0.00      0.00      0.00         1\n",
      "                                                            Square Enix, Tri-Ace       0.00      0.00      0.00         1\n",
      "                                                                      SquareSoft       0.57      0.67      0.62         6\n",
      "                                                                Squashy Software       0.00      0.00      0.00         0\n",
      "                                                                 Stainless Games       1.00      1.00      1.00         1\n",
      "                                                         Stainless Steel Studios       0.00      0.00      0.00         1\n",
      "                                                                      Starbreeze       0.00      0.00      0.00         5\n",
      "                                                                        Starfish       0.00      0.00      0.00         2\n",
      "                                                                     Starfish SD       0.00      0.00      0.00         0\n",
      "                                                          Starsphere Interactive       0.00      0.00      0.00         1\n",
      "                                                                 Stealth Studios       1.00      1.00      1.00         1\n",
      "                                                             Still Alive Studios       0.00      0.00      0.00         0\n",
      "                                                                           Sting       1.00      0.33      0.50         3\n",
      "                                                                Storm City Games       0.00      0.00      0.00         0\n",
      "                                                              Stormfront Studios       0.20      0.33      0.25         3\n",
      "                                                                     Stormregion       0.00      0.00      0.00         1\n",
      "                                                                       Studio 33       0.00      0.00      0.00         1\n",
      "                                                                Studio Archcraft       0.00      0.00      0.00         0\n",
      "                                                                  Studio Gigante       0.00      0.00      0.00         1\n",
      "                                                                         Success       0.00      0.00      0.00         1\n",
      "                                                                    Sucker Punch       1.00      0.50      0.67         2\n",
      "                                                                    Sumo Digital       0.50      0.50      0.50         2\n",
      "                                                                         SunSoft       0.00      0.00      0.00         1\n",
      "                                                          Sunflowers Interactive       0.00      0.00      0.00         1\n",
      "                                                             Sunrise Interactive       0.00      0.00      0.00         0\n",
      "                                                                    Super Empire       0.00      0.00      0.00         1\n",
      "                                                              SuperMassive Games       0.00      0.00      0.00         1\n",
      "                                                            SuperVillain Studios       0.00      0.00      0.00         1\n",
      "                                                                Surreal Software       0.33      0.50      0.40         2\n",
      "                                                                           Suzak       0.00      0.00      0.00         2\n",
      "                                                               Swordfish Studios       1.00      1.00      1.00         1\n",
      "                                                                         Synetic       0.00      0.00      0.00         0\n",
      "                                                                        System 3       0.00      0.00      0.00         1\n",
      "                                                                   System Prisma       0.00      0.00      0.00         1\n",
      "                                                                             THQ       0.44      0.41      0.42        17\n",
      "                                                      THQ Digital Studio Phoenix       1.00      1.00      1.00         1\n",
      "                                                           THQ, Independent Arts       0.00      0.00      0.00         0\n",
      "                                                                            TOSE       0.22      0.22      0.22         9\n",
      "                                                                       TT Fusion       1.00      0.12      0.22         8\n",
      "                                                                        TT Games       0.91      0.88      0.89        24\n",
      "                                                                           Tabot       0.00      0.00      0.00         1\n",
      "                                                               Taito Corporation       0.17      0.50      0.25         2\n",
      "                                                                          Takara       0.00      0.00      0.00         1\n",
      "                                                                     Takara Tomy       1.00      0.50      0.67         2\n",
      "                                                            Take-Two Interactive       0.00      0.00      0.00         2\n",
      "                                                                         Tamsoft       0.00      0.00      0.00         0\n",
      "                                                            Tamsoft, D3Publisher       0.00      0.00      0.00         1\n",
      "                                                            Tantalus Interactive       0.00      0.00      0.00         2\n",
      "                                        Tantalus Interactive, Tantatus, Nintendo       0.00      0.00      0.00         1\n",
      "                                                                        Tantatus       0.00      0.00      0.00         1\n",
      "                                                                    Targem Games       0.00      0.00      0.00         1\n",
      "                                               Targem Games, TopWare Interactive       1.00      1.00      1.00         1\n",
      "                                                  Tarsier Studios, Double Eleven       0.00      0.00      0.00         1\n",
      "                                                                Tate Interactive       0.00      0.00      0.00         0\n",
      "                                                                         Team 17       0.43      0.60      0.50         5\n",
      "                                                             Team 17, Two Tribes       0.00      0.00      0.00         1\n",
      "                                                                     Team Fusion       0.00      0.00      0.00         0\n",
      "                                                                      Team Ninja       0.33      1.00      0.50         1\n",
      "                                                              Team6 Game Studios       0.00      0.00      0.00         1\n",
      "                                                                        Techland       0.50      0.67      0.57         3\n",
      "                                                                           Tecmo       1.00      0.67      0.80         3\n",
      "                                                                Tecmo Koei Games       0.00      0.00      0.00         0\n",
      "                                                                 Telegames, Inc.       0.00      0.00      0.00         0\n",
      "                                                                  Telltale Games       0.67      1.00      0.80         2\n",
      "                                                                Terminal Reality       0.29      0.25      0.27         8\n",
      "                                                                    The Behemoth       0.00      0.00      0.00         1\n",
      "                                                                 The Sims Studio       0.75      0.75      0.75         4\n",
      "                                                          Tiertex Design Studios       0.00      0.00      0.00         1\n",
      "                                                                  Titus Software       0.00      0.00      0.00         1\n",
      "                                                                            Toka       0.00      0.00      0.00         1\n",
      "                                                                  Toolbox Design       0.00      0.00      0.00         1\n",
      "                                                                     Torus Games       0.20      0.12      0.15         8\n",
      "                                                       Torus Games, Little Orbit       0.50      1.00      0.67         2\n",
      "                                                                   Tose Software       0.00      0.00      0.00         0\n",
      "                                                                   Totally Games       0.00      0.00      0.00         1\n",
      "                                                                    Toys for Bob       0.33      0.25      0.29         4\n",
      "                                                                          Tranji       0.00      0.00      0.00         0\n",
      "                                                               Traveller's Tales       0.42      0.53      0.47        15\n",
      "                                                                        Treasure       0.00      0.00      0.00         1\n",
      "                                                                        Treyarch       0.44      0.78      0.56         9\n",
      "                                                           Treyarch, Shaba Games       0.00      0.00      0.00         1\n",
      "                                                                         Tri-Ace       0.00      0.00      0.00         2\n",
      "                                                                   Tri-Crescendo       1.00      0.50      0.67         2\n",
      "                                                                     Trine Games       0.00      0.00      0.00         0\n",
      "                                                                  Triple Eh? Ltd       0.00      0.00      0.00         0\n",
      "                                                            Tripwire Interactive       0.00      0.00      0.00         1\n",
      "                                                                    Turbine Inc.       0.00      0.00      0.00         1\n",
      "                                                                         Turn 10       0.50      1.00      0.67         1\n",
      "                                                                    Twelve Games       1.00      1.00      1.00         1\n",
      "                                                                      Two Tribes       0.50      0.50      0.50         2\n",
      "                                                              UBlart Montpellier       0.00      0.00      0.00         1\n",
      "                                                                             UDS       1.00      1.00      1.00         1\n",
      "                                                                 UFO Interactive       0.00      0.00      0.00         0\n",
      "                                                                             UGA       0.00      0.00      0.00         0\n",
      "                                                                          Uacari       0.00      0.00      0.00         1\n",
      "                                                                         Ubisoft       0.93      0.98      0.96      1355\n",
      "                                                                Ubisoft Bulgaria       0.00      0.00      0.00         2\n",
      "                                                              Ubisoft Casablanca       0.00      0.00      0.00         1\n",
      "                                                                   Ubisoft Milan       0.00      0.00      0.00         0\n",
      "                                                             Ubisoft Montpellier       0.00      0.00      0.00         1\n",
      "                                                                Ubisoft Montreal       0.33      0.57      0.42        21\n",
      "                                                                  Ubisoft Nagoya       0.00      0.00      0.00         0\n",
      "                                                                   Ubisoft Paris       1.00      0.50      0.67         4\n",
      "                                              Ubisoft Paris, Ubisoft Montpellier       0.00      0.00      0.00         2\n",
      "                                                                  Ubisoft Quebec       0.00      0.00      0.00         1\n",
      "                                                Ubisoft Reflections, Ivory Tower       0.00      0.00      0.00         1\n",
      "                                                                 Ubisoft Romania       0.00      0.00      0.00         4\n",
      "                                                               Ubisoft Sao Paulo       0.00      0.00      0.00         1\n",
      "                                                                Ubisoft Shanghai       0.00      0.00      0.00         2\n",
      "                                                                 Ubisoft Toronto       0.00      0.00      0.00         1\n",
      "                                                               Ubisoft Vancouver       0.00      0.00      0.00         2\n",
      "                                                       Ubisoft, Ubisoft Montreal       0.00      0.00      0.00         3\n",
      "                                                            Unigine Corp, Russia       0.00      0.00      0.00         0\n",
      "                                                              United Front Games       0.00      0.00      0.00         0\n",
      "                                                                     Urban Games       0.00      0.00      0.00         1\n",
      "                                                               VIS Entertainment       0.00      0.00      0.00         1\n",
      "                                                                           VSTEP       0.00      0.00      0.00         1\n",
      "                                                                    Valcon Games       0.00      0.00      0.00         1\n",
      "                                                              Valuewave Co.,Ltd.       0.00      0.00      0.00         1\n",
      "                                                                  Valve Software       0.50      0.25      0.33         4\n",
      "                                                                        Vanguard       0.00      0.00      0.00         1\n",
      "                                                                    Vanilla Ware       0.00      0.00      0.00         1\n",
      "                                                                     Vanillaware       0.00      0.00      0.00         0\n",
      "                                                                         Various       0.00      0.00      0.00         0\n",
      "                                                                     Venom Games       0.00      0.00      0.00         0\n",
      "                                                               Vicarious Visions       0.35      0.46      0.40        13\n",
      "                                                                   Vicious Cycle       0.33      0.33      0.33         3\n",
      "                                             Vicious Cycle, Infinite Interactive       0.00      0.00      0.00         1\n",
      "                                                     Vicious Cycle, Little Orbit       1.00      1.00      1.00         1\n",
      "                                                                     Vigil Games       1.00      0.67      0.80         3\n",
      "                                                               Virtual Play Inc.       0.00      0.00      0.00         1\n",
      "                                                                    Virtual Toys       0.00      0.00      0.00         3\n",
      "                                                                      Virtucraft       0.00      0.00      0.00         1\n",
      "                                                                         Virtuos       0.00      0.00      0.00         4\n",
      "                                                                  Visceral Games       0.67      0.67      0.67         3\n",
      "                                                                 Visual Concepts       0.35      0.56      0.43        16\n",
      "                                                                   Visual Impact       0.00      0.00      0.00         3\n",
      "                                                                   Vivendi Games       0.00      0.00      0.00         3\n",
      "                                                                   Volition Inc.       1.00      0.50      0.67         4\n",
      "Volition Inc., CD Projekt Red Studio, CD Projekt, CD Projekt Localisation Centre       0.00      0.00      0.00         0\n",
      "                                                     Volition Inc., Reactor Zero       0.00      0.00      0.00         1\n",
      "                                                                            WBIE       0.00      0.00      0.00         1\n",
      "                                                                             WXP       0.00      0.00      0.00         2\n",
      "                                          Warner Bros. Interactive Entertainment       0.00      0.00      0.00         1\n",
      "                                                                         Warthog       0.00      0.00      0.00         2\n",
      "                                                                      WayForward       0.20      0.09      0.13        11\n",
      "                                                                Westwood Studios       0.00      0.00      0.00         1\n",
      "                                                           Wicked Witch Software       0.33      0.50      0.40         2\n",
      "                                                                WideScreen Games       0.00      0.00      0.00         1\n",
      "                                                             Wideload Games Inc.       0.00      0.00      0.00         0\n",
      "                                                                     WildTangent       0.00      0.00      0.00         1\n",
      "                                                                Wildfire Studios       0.00      0.00      0.00         1\n",
      "                                                                            Will       0.00      0.00      0.00         1\n",
      "                                                                        Wizarbox       1.00      0.50      0.67         2\n",
      "                                                               Wow Entertainment       0.00      0.00      0.00         2\n",
      "                                                                            Xpec       0.00      0.00      0.00         2\n",
      "                                                                           Yager       1.00      1.00      1.00         1\n",
      "                                                                          Yuke's       0.73      0.79      0.76        14\n",
      "                                               Yuke's, Yuke's Company of America       0.00      0.00      0.00         0\n",
      "                                                                    Z-Axis, Ltd.       0.33      0.50      0.40         2\n",
      "                                                                 Zed Two Limited       0.00      0.00      0.00         1\n",
      "                                                                   ZeniMax Media       0.00      0.00      0.00         0\n",
      "                                                                        ZeptoLab       0.00      0.00      0.00         1\n",
      "                                                              Zipper Interactive       0.67      1.00      0.80         2\n",
      "                                                                        Zoe Mode       0.00      0.00      0.00         2\n",
      "                                                 Zoe Mode, HB Studios Multimedia       0.00      0.00      0.00         1\n",
      "                                                                          Zombie       0.00      0.00      0.00         1\n",
      "                                                                       Zoo Games       0.17      0.50      0.25         2\n",
      "                                                                    Zoonami Ltd.       0.00      0.00      0.00         0\n",
      "                                                                 Zushi Games Ltd       0.00      0.00      0.00         1\n",
      "                                                                          Zuxxez       0.00      0.00      0.00         1\n",
      "                                                      dtp Young Entertainment AG       0.00      0.00      0.00         1\n",
      "                                                                          eGames       0.00      0.00      0.00         1\n",
      "                                                                  eV Interactive       0.00      0.00      0.00         0\n",
      "                                                                   h.a.n.d. Inc.       0.00      0.00      0.00         0\n",
      "                                                                            iNiS       0.00      0.00      0.00         0\n",
      "                                                                            iWin       0.00      0.00      0.00         1\n",
      "                                                                     id Software       1.00      0.50      0.67         2\n",
      "                                                     id Software, Nerve Software       0.00      0.00      0.00         1\n",
      "                                                     id Software, Raven Software       1.00      0.50      0.67         2\n",
      "                                                                         n-Space       1.00      0.50      0.67         2\n",
      "                                                                    neo Software       0.00      0.00      0.00         0\n",
      "                                                                           oeFun       0.00      0.00      0.00         0\n",
      "                                                                      syn Sophia       0.00      0.00      0.00         0\n",
      "\n",
      "                                                                        accuracy                           0.60      3344\n",
      "                                                                       macro avg       0.17      0.17      0.16      3344\n",
      "                                                                    weighted avg       0.57      0.60      0.57      3344\n",
      "\n",
      "Confusion Matrix:\n",
      "[[0 0 0 ... 0 0 0]\n",
      " [0 0 0 ... 0 0 0]\n",
      " [0 0 0 ... 0 0 0]\n",
      " ...\n",
      " [0 0 0 ... 0 0 0]\n",
      " [0 0 0 ... 0 0 0]\n",
      " [0 0 0 ... 0 0 0]]\n"
     ]
    },
    {
     "name": "stderr",
     "output_type": "stream",
     "text": [
      "/usr/local/lib/python3.10/dist-packages/sklearn/metrics/_classification.py:1344: UndefinedMetricWarning: Precision and F-score are ill-defined and being set to 0.0 in labels with no predicted samples. Use `zero_division` parameter to control this behavior.\n",
      "  _warn_prf(average, modifier, msg_start, len(result))\n",
      "/usr/local/lib/python3.10/dist-packages/sklearn/metrics/_classification.py:1344: UndefinedMetricWarning: Recall and F-score are ill-defined and being set to 0.0 in labels with no true samples. Use `zero_division` parameter to control this behavior.\n",
      "  _warn_prf(average, modifier, msg_start, len(result))\n",
      "/usr/local/lib/python3.10/dist-packages/sklearn/metrics/_classification.py:1344: UndefinedMetricWarning: Precision and F-score are ill-defined and being set to 0.0 in labels with no predicted samples. Use `zero_division` parameter to control this behavior.\n",
      "  _warn_prf(average, modifier, msg_start, len(result))\n",
      "/usr/local/lib/python3.10/dist-packages/sklearn/metrics/_classification.py:1344: UndefinedMetricWarning: Recall and F-score are ill-defined and being set to 0.0 in labels with no true samples. Use `zero_division` parameter to control this behavior.\n",
      "  _warn_prf(average, modifier, msg_start, len(result))\n",
      "/usr/local/lib/python3.10/dist-packages/sklearn/metrics/_classification.py:1344: UndefinedMetricWarning: Precision and F-score are ill-defined and being set to 0.0 in labels with no predicted samples. Use `zero_division` parameter to control this behavior.\n",
      "  _warn_prf(average, modifier, msg_start, len(result))\n",
      "/usr/local/lib/python3.10/dist-packages/sklearn/metrics/_classification.py:1344: UndefinedMetricWarning: Recall and F-score are ill-defined and being set to 0.0 in labels with no true samples. Use `zero_division` parameter to control this behavior.\n",
      "  _warn_prf(average, modifier, msg_start, len(result))\n"
     ]
    }
   ],
   "source": [
    "print('Classification Report:')\n",
    "print(classification_report(y_test,y_pred_rfc))\n",
    "print('Confusion Matrix:')\n",
    "print(confusion_matrix(y_test, y_pred_rfc))"
   ]
  },
  {
   "cell_type": "code",
   "execution_count": null,
   "id": "9265bf1f",
   "metadata": {
    "colab": {
     "base_uri": "https://localhost:8080/"
    },
    "executionInfo": {
     "elapsed": 267,
     "status": "ok",
     "timestamp": 1684268441023,
     "user": {
      "displayName": "Timilehin Osinuga",
      "userId": "02674228651306861961"
     },
     "user_tz": -60
    },
    "id": "9265bf1f",
    "outputId": "b8164b07-aaa1-46e0-e343-f251973bd0c0"
   },
   "outputs": [
    {
     "name": "stdout",
     "output_type": "stream",
     "text": [
      "Classification Report:\n",
      "                                                                precision    recall  f1-score   support\n",
      "\n",
      "                         10tacle Studios, Fusionsphere Systems       0.00      0.00      0.00         0\n",
      "                                                1C, 1C Company       0.00      0.00      0.00         1\n",
      "                                        1C, Ino-Co, 1C Company       0.00      0.00      0.00         2\n",
      "                                       1C, Various, 1C Company       0.00      0.00      0.00         1\n",
      "                                              1C: Maddox Games       0.00      0.00      0.00         0\n",
      "                                                     1C:Ino-Co       0.00      0.00      0.00         0\n",
      "                                      1st Playable Productions       0.00      0.00      0.00         2\n",
      "                                                        2D Boy       0.00      0.00      0.00         0\n",
      "                                                  2K Australia       0.00      0.00      0.00         1\n",
      "                                                      2K Games       0.00      0.00      0.00         3\n",
      "                                                     2K Sports       0.00      0.00      0.00         5\n",
      "                                                           3DO       0.80      1.00      0.89         4\n",
      "                                                    3G Studios       0.00      0.00      0.00         2\n",
      "                                                     3d6 Games       0.00      0.00      0.00         1\n",
      "                                                       49Games       0.00      0.00      0.00         5\n",
      "                                                      4A Games       0.00      0.00      0.00         3\n",
      "                                                    4J Studios       1.00      1.00      1.00         1\n",
      "                                                        5000ft       0.00      0.00      0.00         0\n",
      "                                                     505 Games       1.00      0.29      0.44         7\n",
      "                                                      5TH Cell       0.50      1.00      0.67         1\n",
      "                                                           5pb       0.00      0.00      0.00         1\n",
      "                                                     7 Studios       0.00      0.00      0.00         4\n",
      "                                                  8Monkey Labs       0.00      0.00      0.00         1\n",
      "                                                    989 Sports       0.50      0.67      0.57         3\n",
      "                                                            AI       0.00      0.00      0.00         2\n",
      "                                                     AWE Games       0.00      0.00      0.00         0\n",
      "                                                  Access Games       0.00      0.00      0.00         1\n",
      "                                                       Acclaim       0.80      0.57      0.67         7\n",
      "                                        Acclaim Studios Austin       0.00      0.00      0.00         1\n",
      "                                    Acclaim Studios Cheltenham       0.00      0.00      0.00         0\n",
      "                                    Acclaim Studios Manchester       0.00      0.00      0.00         1\n",
      "                                                       Acquire       0.00      0.00      0.00         7\n",
      "                                                    Activision       0.33      0.35      0.34        17\n",
      "                                    Activision, FreeStyleGames       0.00      0.00      0.00         0\n",
      "                                 Activision, Traveller's Tales       0.00      0.00      0.00         0\n",
      "                                                      Adrenium       0.00      0.00      0.00         1\n",
      "                                        Agatsuma Entertainment       0.00      0.00      0.00         1\n",
      "                                                        Agetec       0.00      0.00      0.00         1\n",
      "                                                Airtight Games       1.00      1.00      1.00         1\n",
      "                                                        Akella       0.00      0.00      0.00         1\n",
      "                                                     Aki Corp.       1.00      0.25      0.40         4\n",
      "               Alawar Entertainment, Inc, Alawar Entertainment       0.00      0.00      0.00         0\n",
      "                                                   Alfa System       0.00      0.00      0.00         2\n",
      "                                                    Alpha Unit       0.00      0.00      0.00         0\n",
      "                                                        Altron       0.00      0.00      0.00         2\n",
      "                                                         Amaze       0.00      0.00      0.00         1\n",
      "                                           Amaze Entertainment       0.50      0.25      0.33         8\n",
      "                         Amaze Entertainment, Griptonite Games       0.00      0.00      0.00         0\n",
      "                                 Ambrella, The Pokemon Company       0.00      0.00      0.00         0\n",
      "                                                        Amedio       0.00      0.00      0.00         1\n",
      "                                              Amusement Vision       0.00      0.00      0.00         2\n",
      "                                                         Amuze       0.00      0.00      0.00         1\n",
      "                                                        Anchor       0.00      0.00      0.00         0\n",
      "                                         Andamiro U.S.A. Corp.       0.00      0.00      0.00         0\n",
      "                                                 Angel Studios       0.00      0.00      0.00         0\n",
      "                                        Aqua Pacific, In2Games       0.00      0.00      0.00         1\n",
      "                                                     Aqua Plus       0.00      0.00      0.00         1\n",
      "                                                        Aquria       0.00      0.00      0.00         1\n",
      "                                              Arc System Works       0.60      0.50      0.55        12\n",
      "                                                   Arcade Moon       0.00      0.00      0.00         1\n",
      "                                                      ArenaNet       0.00      0.00      0.00         1\n",
      "                                                Argonaut Games       0.33      0.50      0.40         4\n",
      "                                                         Arika       0.00      0.00      0.00         0\n",
      "                                                Arkane Studios       0.33      0.50      0.40         2\n",
      "                                                 Arkedo Studio       0.00      0.00      0.00         1\n",
      "                                               Armature Studio       0.00      0.00      0.00         0\n",
      "                                        Arrowhead Game Studios       0.00      0.00      0.00         1\n",
      "                                                           Art       0.00      0.00      0.00         2\n",
      "                                                       Artdink       0.00      0.00      0.00         1\n",
      "                                                    ArtePiazza       0.50      1.00      0.67         1\n",
      "                                                Artech Studios       0.00      0.00      0.00         2\n",
      "                                              Artefacts Studio       0.00      0.00      0.00         0\n",
      "                                  Artificial Mind and Movement       0.12      0.30      0.18        10\n",
      "               Artificial Mind and Movement, EA Redwood Shores       0.00      0.00      0.00         1\n",
      "             Artificial Studios, Immersion Software & Graphics       0.00      0.00      0.00         1\n",
      "                                                        Artoon       0.00      0.00      0.00         1\n",
      "                                                 Arts Software       0.00      0.00      0.00         0\n",
      "                                    Ascaron Entertainment GmbH       0.00      0.00      0.00         0\n",
      "                                  Asmik Ace Entertainment, Inc       0.00      0.00      0.00         1\n",
      "                                                  Asobo Studio       0.00      0.00      0.00         2\n",
      "                                                        Aspect       0.00      0.00      0.00         1\n",
      "                                                       Astroll       0.00      0.00      0.00         1\n",
      "                                                         Atari       0.00      0.00      0.00         2\n",
      "                                               Atari, Atari SA       1.00      1.00      1.00         1\n",
      "                                                         Atlus       0.00      0.00      0.00         1\n",
      "                                                     Atlus Co.       0.00      0.00      0.00         2\n",
      "                                             Atlus, Dingo Inc.       0.00      0.00      0.00         0\n",
      "                                   Atomic Planet Entertainment       0.00      0.00      0.00         2\n",
      "                                            Attention Software       0.00      0.00      0.00         1\n",
      "                                            Avalanche Software       0.67      0.33      0.44         6\n",
      "                                             Avalanche Studios       0.00      0.00      0.00         3\n",
      "                                            Avanquest Software       0.50      0.33      0.40         3\n",
      "                                                       B-Alive       0.00      0.00      0.00         1\n",
      "                                                    B.B.Studio       0.00      0.00      0.00         0\n",
      "                                              Babylon Software       0.00      0.00      0.00         2\n",
      "                                           Backbone Emeryville       0.00      0.00      0.00         1\n",
      "                                        Backbone Entertainment       0.00      0.00      0.00         7\n",
      "                                            Backbone Vancouver       0.00      0.00      0.00         1\n",
      "                                             Bam Entertainment       1.00      1.00      1.00         1\n",
      "                                                        Bandai       0.00      0.00      0.00         3\n",
      "                                            Bandai Namco Games       0.12      0.17      0.14         6\n",
      "                                                   BattleBorne       1.00      1.00      1.00         1\n",
      "                               Battlefront.com, 1C, 1C Company       0.00      0.00      0.00         0\n",
      "                                                           Bec       0.00      0.00      0.00         2\n",
      "                                                      BeeWorks       0.00      0.00      0.00         0\n",
      "                                                        Beenox       0.00      0.00      0.00         1\n",
      "                                               Beep Industries       0.00      0.00      0.00         1\n",
      "                                         Behaviour Interactive       0.17      0.50      0.25         2\n",
      "                                                      Best Way       0.00      0.00      0.00         1\n",
      "                                         Bethesda Game Studios       1.00      0.50      0.67         2\n",
      "                                            Bethesda Softworks       1.00      0.50      0.67         4\n",
      "                                                  Beyond Games       0.00      0.00      0.00         0\n",
      "                                               Big Ant Studios       1.00      0.75      0.86         4\n",
      "                                          Big Blue Bubble Inc.       0.00      0.00      0.00         1\n",
      "                                        Big Blue Entertainment       0.00      0.00      0.00         1\n",
      "                                                Big Fish Games       1.00      1.00      1.00         1\n",
      "                                                Big Huge Games       0.00      0.00      0.00         2\n",
      "                                                Big John Games       0.00      0.00      0.00         1\n",
      "                                              Big Red Software       0.00      0.00      0.00         1\n",
      "                                              Big Sky Software       0.00      0.00      0.00         0\n",
      "                                                Bigbig Studios       0.00      0.00      0.00         2\n",
      "                                                       BioWare       0.67      0.33      0.44         6\n",
      "                                     BioWare, Demiurge Studios       0.00      0.00      0.00         1\n",
      "                                                      Bit Town       0.00      0.00      0.00         0\n",
      "                                                  Bits Studios       0.00      0.00      0.00         0\n",
      "                                             Bizarre Creations       0.00      0.00      0.00         2\n",
      "                                                     Black Box       0.33      0.33      0.33         3\n",
      "                                              Black Hole Games       0.00      0.00      0.00         0\n",
      "                                            Black Isle Studios       0.00      0.00      0.00         1\n",
      "                                         Black Lantern Studios       0.20      0.12      0.15         8\n",
      "                                       Black Ops Entertainment       0.00      0.00      0.00         3\n",
      "                                             Black Sea Studios       0.00      0.00      0.00         1\n",
      "                                              Black Ship Games       0.00      0.00      0.00         2\n",
      "                                             Blade Interactive       0.00      0.00      0.00         2\n",
      "                                      Blast! Entertainment Ltd       0.00      0.00      0.00         1\n",
      "                                                   Blitz Games       0.00      0.00      0.00         6\n",
      "                                           Blitz Games Studios       0.00      0.00      0.00         1\n",
      "                                       Blitz Games, Human Soft       0.00      0.00      0.00         1\n",
      "                                        Blizzard Entertainment       0.60      0.60      0.60         5\n",
      "                                                Blizzard North       0.00      0.00      0.00         2\n",
      "                                    Blue Byte, Related Designs       0.00      0.00      0.00         1\n",
      "                                             Blue Castle Games       0.25      0.50      0.33         4\n",
      "                                               Blue Fang Games       0.00      0.00      0.00         2\n",
      "                                                    Blue Omega       0.00      0.00      0.00         1\n",
      "                                                    Blue Shift       0.00      0.00      0.00         2\n",
      "                                                   Blue Tongue       0.00      0.00      0.00         1\n",
      "                                     Blue Tongue Entertainment       0.25      0.33      0.29         3\n",
      "                                               Bluehole Studio       0.00      0.00      0.00         0\n",
      "                                               Bluepoint Games       0.00      0.00      0.00         1\n",
      "                                                     Blueshift       0.00      0.00      0.00         0\n",
      "                                                      Blueside       0.00      0.00      0.00         0\n",
      "                                                       Boomzap       0.00      0.00      0.00         0\n",
      "                                        Box Clever Interactive       0.00      0.00      0.00         1\n",
      "                                                   Boxed Dream       0.00      0.00      0.00         0\n",
      "                                                    Brain Toys       1.00      1.00      1.00         1\n",
      "                                           Brash Entertainment       0.00      0.00      0.00         0\n",
      "                                        Broadsword Interactive       0.00      0.00      0.00         0\n",
      "                                                 Brownie Brown       0.00      0.00      0.00         0\n",
      "                                                        BudCat       0.00      0.00      0.00         4\n",
      "                                             Buena Vista Games       0.00      0.00      0.00         1\n",
      "                                       Buena Vista Interactive       0.00      0.00      0.00         0\n",
      "                                                       Bugbear       1.00      0.50      0.67         2\n",
      "                                          Bullfrog Productions       0.00      0.00      0.00         1\n",
      "                                                        Bungie       0.00      0.00      0.00         2\n",
      "                                       Bungie Software, Bungie       0.00      0.00      0.00         3\n",
      "                                                   Buzz Monkey       0.00      0.00      0.00         1\n",
      "                                      Buzz Monkey, EA Montreal       0.00      0.00      0.00         1\n",
      "                                                  CAProduction       0.00      0.00      0.00         0\n",
      "                                                           CCP       0.50      1.00      0.67         1\n",
      "                                         CD Projekt Red Studio       0.00      0.00      0.00         1\n",
      "                                                      CI Games       0.00      0.00      0.00         1\n",
      "                                     Camelot Software Planning       0.00      0.00      0.00         2\n",
      "                                                Camouflaj, LLC       0.00      0.00      0.00         0\n",
      "                                                        Capcom       0.62      0.54      0.58        28\n",
      "                          Capcom, Klein Computer Entertainment       0.00      0.00      0.00         0\n",
      "                              Capcom, Pipeworks Software, Inc.       0.00      0.00      0.00         1\n",
      "                                                      Carapace       0.00      0.00      0.00         0\n",
      "                                                   Career Soft       0.00      0.00      0.00         1\n",
      "                                               Cat Daddy Games       0.00      0.00      0.00         0\n",
      "                                                   Cattle Call       0.00      0.00      0.00         1\n",
      "                                                 Cauldron Ltd.       1.00      0.50      0.67         2\n",
      "                                                          Cave       0.00      0.00      0.00         1\n",
      "                                                     Cave Barn       0.00      0.00      0.00         0\n",
      "                                                    Cavia Inc.       0.00      0.00      0.00         2\n",
      "                                                       Celeris       0.00      0.00      0.00         0\n",
      "                                                 Cerasus Media       0.00      0.00      0.00         0\n",
      "                                              Certain Affinity       0.00      0.00      0.00         0\n",
      "                                                      ChunSoft       0.00      0.00      0.00         0\n",
      "                                                    Cinegroupe       0.00      0.00      0.00         1\n",
      "                                                          Cing       0.00      0.00      0.00         1\n",
      "                                                  Circus Freak       0.00      0.00      0.00         1\n",
      "                                              City Interactive       0.71      0.62      0.67         8\n",
      "                                     City Interactive, Deck 13       1.00      1.00      1.00         1\n",
      "                                                     Clap Hanz       0.00      0.00      0.00         1\n",
      "                            Classic Media Distribution Limited       0.00      0.00      0.00         0\n",
      "                                                  Climax Group       0.38      0.50      0.43         6\n",
      "                                  Climax Group, Climax Studios       0.00      0.00      0.00         3\n",
      "                                               Clockwork Games       0.00      0.00      0.00         1\n",
      "                                                   Codemasters       0.77      0.77      0.77        13\n",
      "                                        Codemasters Birmingham       0.00      0.00      0.00         2\n",
      "                                          Coffee Stain Studios       0.00      0.00      0.00         1\n",
      "                                             CokeM Interactive       0.00      0.00      0.00         1\n",
      "                                          Coldwood Interactive       0.00      0.00      0.00         1\n",
      "                                             Collision Studios       0.00      0.00      0.00         4\n",
      "                                                Colossal Order       0.00      0.00      0.00         0\n",
      "                                                 Compile Heart       0.00      0.00      0.00         2\n",
      "                                         Compile Heart, GCREST       0.00      0.00      0.00         0\n",
      "                                             Computer Artworks       0.00      0.00      0.00         0\n",
      "                                            Confounding Factor       0.00      0.00      0.00         0\n",
      "                                          Cooking Mama Limited       0.00      0.00      0.00         1\n",
      "                                              Core Design Ltd.       0.00      0.00      0.00         1\n",
      "                                                      Coresoft       0.00      0.00      0.00         0\n",
      "                                                Coyote Console       0.00      0.00      0.00         1\n",
      "                                           Coyote Developments       0.00      0.00      0.00         1\n",
      "                                            Cranky Pants Games       0.00      0.00      0.00         0\n",
      "                                                         Crave       0.25      0.20      0.22         5\n",
      "                                          Crawfish Interactive       0.00      0.00      0.00         0\n",
      "                                                 Creat Studios       0.00      0.00      0.00         3\n",
      "                                                     Creations       0.00      0.00      0.00         1\n",
      "                                             Creative Assembly       0.60      0.50      0.55         6\n",
      "                                             Creative Patterns       0.00      0.00      0.00         0\n",
      "                                                      Crispy's       0.00      0.00      0.00         0\n",
      "                                               Criterion Games       1.00      0.40      0.57         5\n",
      "                                                       Croteam       0.00      0.00      0.00         1\n",
      "                                              Crystal Dynamics       0.38      0.50      0.43         6\n",
      "                                                        Crytek       0.00      0.00      0.00         1\n",
      "                                                 Culture Brain       0.00      0.00      0.00         1\n",
      "                                          Cunning Developments       0.00      0.00      0.00         0\n",
      "                                                Curly Monsters       0.00      0.00      0.00         0\n",
      "                                                   Cyan Worlds       0.00      0.00      0.00         1\n",
      "                                                       Cyanide       0.25      0.50      0.33         2\n",
      "                                      Cyanide, Cyanide Studios       0.00      0.00      0.00         0\n",
      "                                                 CyberConnect2       0.00      0.00      0.00         3\n",
      "                                         CyberConnect2, Racjin       0.00      0.00      0.00         1\n",
      "                      CyberPlanet Interactive Public Co., Ltd.       0.00      0.00      0.00         1\n",
      "CyberPlanet Interactive Public Co., Ltd., Maximum Family Games       0.00      0.00      0.00         0\n",
      "                                             Cyberlore Studios       0.00      0.00      0.00         1\n",
      "                                                    DC Studios       0.00      0.00      0.00         5\n",
      "                                         DONTNOD Entertainment       0.00      0.00      0.00         0\n",
      "                                             DTP Entertainment       0.00      0.00      0.00         0\n",
      "                                        Daedalic Entertainment       0.00      0.00      0.00         0\n",
      "                                                  Dancing Dots       1.00      1.00      1.00         1\n",
      "                                                  Danger Close       0.00      0.00      0.00         0\n",
      "                                                     Darkworks       0.00      0.00      0.00         0\n",
      "                                       Data Design Interactive       0.00      0.00      0.00         3\n",
      "                                                 Day 1 Studios       1.00      0.33      0.50         3\n",
      "                                                      Dearsoft       0.00      0.00      0.00         0\n",
      "                                                       Deck 13       0.00      0.00      0.00         2\n",
      "                                      Deep Fried Entertainment       0.00      0.00      0.00         0\n",
      "                                                      Deep Red       0.00      0.00      0.00         0\n",
      "                                                   Deep Silver       0.00      0.00      0.00         1\n",
      "                                 Deep Silver Dambuster Studios       0.00      0.00      0.00         1\n",
      "                                       Deep Silver, Keen Games       0.00      0.00      0.00         0\n",
      "                                                Deibus Studios       0.00      0.00      0.00         0\n",
      "                               Delphine Software International       0.00      0.00      0.00         1\n",
      "                                          Destination Software       0.00      0.00      0.00         0\n",
      "                                                     Destineer       0.29      0.50      0.36         4\n",
      "                                            Dice, Danger Close       0.00      0.00      0.00         1\n",
      "                                                 Digital Anvil       0.00      0.00      0.00         1\n",
      "                                               Digital Eclipse       0.25      0.14      0.18         7\n",
      "                                                Digital Embryo       0.00      0.00      0.00         0\n",
      "                                              Digital Extremes       0.00      0.00      0.00         1\n",
      "                                    Digital Extremes, 2K Marin       0.00      0.00      0.00         1\n",
      "                                             Digital Illusions       0.40      0.40      0.40         5\n",
      "                                                  Digital Kids       0.00      0.00      0.00         0\n",
      "                                                Digital Mayhem       0.00      0.00      0.00         1\n",
      "                                             Dimps Corporation       0.00      0.00      0.00         4\n",
      "                         Dimps Corporation, Namco Bandai Games       0.00      0.00      0.00         0\n",
      "                                            Disney Interactive       0.00      0.00      0.00         2\n",
      "                                    Disney Interactive Studios       0.33      0.67      0.44         3\n",
      "                          Disney Interactive Studios, Land Ho!       0.00      0.00      0.00         0\n",
      "                                            Double Helix Games       0.00      0.00      0.00         4\n",
      "                                                     Doublesix       0.00      0.00      0.00         1\n",
      "                                                  DreamFactory       0.00      0.00      0.00         2\n",
      "                                                     DreamRift       0.00      0.00      0.00         0\n",
      "                                                  Dreamcatcher       0.25      0.33      0.29         3\n",
      "                                              Dreamworks Games       0.00      0.00      0.00         1\n",
      "                                        Dreamworks Interactive       0.00      0.00      0.00         1\n",
      "                                                  EA Black Box       0.00      0.00      0.00         1\n",
      "                                               EA Bright Light       0.33      0.20      0.25        10\n",
      "                                                     EA Canada       0.38      0.44      0.41        32\n",
      "                                         EA Canada, Nihilistic       1.00      1.00      1.00         1\n",
      "                                                       EA DICE       0.50      0.38      0.43         8\n",
      "                                         EA DICE, Danger Close       0.00      0.00      0.00         0\n",
      "                                                      EA Games       0.56      0.83      0.67         6\n",
      "                                                         EA LA       0.00      0.00      0.00         0\n",
      "                                                   EA Montreal       1.00      0.33      0.50         3\n",
      "                                                     EA Mythic       0.00      0.00      0.00         0\n",
      "                                             EA Redwood Shores       0.00      0.00      0.00         1\n",
      "                                                  EA Salt Lake       0.00      0.00      0.00         2\n",
      "                                                    EA Seattle       0.00      0.00      0.00         1\n",
      "                                                     EA Sports       0.55      0.49      0.51        37\n",
      "                                                 EA Sports Big       0.00      0.00      0.00         1\n",
      "                                          EA Sports, EA Canada       0.00      0.00      0.00         1\n",
      "                                                    EA Tiburon       0.37      0.44      0.40        16\n",
      "                                           EA Tiburon, n-Space       0.00      0.00      0.00         1\n",
      "                                                  EA Vancouver       1.00      1.00      1.00         1\n",
      "                                          EC Interactive Games       0.00      0.00      0.00         0\n",
      "                                                           ECI       0.00      0.00      0.00         1\n",
      "                                                  EKO Software       0.00      0.00      0.00         3\n",
      "                                                    EM Studios       0.00      0.00      0.00         1\n",
      "                                                Eagle Dynamics       0.00      0.00      0.00         1\n",
      "                                              Easy Interactive       0.00      0.00      0.00         0\n",
      "                                                          Eden       1.00      1.00      1.00         1\n",
      "                                                  Eden Studios       0.00      0.00      0.00         2\n",
      "                                               Edge of Reality       1.00      0.33      0.50         6\n",
      "                                                       Egosoft       0.00      0.00      0.00         0\n",
      "                                             Eidos Interactive       1.00      1.00      1.00         1\n",
      "                                                Eidos Montreal       0.00      0.00      0.00         0\n",
      "                               Eidos Montreal, Nixxes Software       0.00      0.00      0.00         1\n",
      "                                                      Eighting       0.00      0.00      0.00         2\n",
      "                                Eighting, Genius Sonority Inc.       0.00      0.00      0.00         0\n",
      "                                         Eighting, Takara Tomy       0.00      0.00      0.00         1\n",
      "                                              Eighting/Raizing       0.00      0.00      0.00         2\n",
      "                                               Electronic Arts       0.30      0.31      0.30        26\n",
      "                                                Elixir Studios       0.00      0.00      0.00         0\n",
      "                                            Empire Interactive       0.00      0.00      0.00         1\n",
      "                                                 Empire Oxford       0.00      0.00      0.00         1\n",
      "                                                       Endemol       0.50      0.33      0.40         3\n",
      "                                               Engine Software       0.00      0.00      0.00         3\n",
      "                                     Engine Software, Re-Logic       0.00      0.00      0.00         1\n",
      "                                                 EnjoyUp Games       0.00      0.00      0.00         1\n",
      "                                              Ensemble Studios       0.00      0.00      0.00         1\n",
      "                                             Entersphere, Inc.       0.00      0.00      0.00         0\n",
      "                                                    Epic Games       0.00      0.00      0.00         1\n",
      "                                             Epicenter Studios       1.00      1.00      1.00         1\n",
      "                                           Etranges Libellules       0.00      0.00      0.00         1\n",
      "                                                 Eugen Systems       0.00      0.00      0.00         2\n",
      "                                Eurocom Entertainment Software       0.22      0.40      0.29         5\n",
      "                Eurocom Entertainment Software, Visceral Games       0.00      0.00      0.00         0\n",
      "                                                     Eutechnyx       0.50      0.40      0.44         5\n",
      "                                               Evolution Games       0.00      0.00      0.00         1\n",
      "                                             Evolution Studios       0.00      0.00      0.00         1\n",
      "                                                         Exakt       0.00      0.00      0.00         3\n",
      "                                                         Examu       0.00      0.00      0.00         1\n",
      "                                          Exient Entertainment       0.50      0.50      0.50         4\n",
      "                                               Experience Inc.       0.00      0.00      0.00         1\n",
      "                                            Extra Mile Studios       0.00      0.00      0.00         1\n",
      "                                                   FASA Studio       0.00      0.00      0.00         1\n",
      "                                                      FUN Labs       0.25      0.25      0.25         8\n",
      "                                                      Factor 5       0.00      0.00      0.00         0\n",
      "                                                        Falcom       1.00      1.00      1.00         2\n",
      "                                              Farsight Studios       0.00      0.00      0.00         3\n",
      "                                       Farsight Studios, Crave       0.00      0.00      0.00         1\n",
      "                                                      FeelPlus       0.33      1.00      0.50         1\n",
      "                                                 Firaxis Games       0.67      0.67      0.67         3\n",
      "                                               FireFly Studios       0.00      0.00      0.00         0\n",
      "                                               Firebrand Games       0.00      0.00      0.00         8\n",
      "                                                      Flagship       0.00      0.00      0.00         1\n",
      "                                                   Flight-Plan       0.00      0.00      0.00         1\n",
      "                                                 Fluid Studios       0.00      0.00      0.00         1\n",
      "                                      Flying Tiger Development       0.00      0.00      0.00         1\n",
      "                                                 Foreign Media       0.00      0.00      0.00         1\n",
      "                                               Fox Interactive       0.00      0.00      0.00         0\n",
      "                                     Frame Studios Interactive       0.00      0.00      0.00         1\n",
      "                                           Free Radical Design       1.00      1.00      1.00         3\n",
      "                                                FreeStyleGames       0.00      0.00      0.00         0\n",
      "                                                      Fresh 3D       0.00      0.00      0.00         0\n",
      "                                                  Frima Studio       0.00      0.00      0.00         1\n",
      "                                                     Frogwares       0.00      0.00      0.00         2\n",
      "                                                 From Software       0.40      0.50      0.44         8\n",
      "                                             FrontLine Studios       0.00      0.00      0.00         2\n",
      "                                         Frontier Developments       0.00      0.00      0.00         1\n",
      "                                                         FuRyu       0.00      0.00      0.00         1\n",
      "                                                      Full Fat       0.11      0.25      0.15         4\n",
      "                                                      Full-Fat       0.00      0.00      0.00         1\n",
      "                                   Funatics Software, Funatics       0.00      0.00      0.00         0\n",
      "                                                        Funcom       0.00      0.00      0.00         0\n",
      "                                            Fuse Games Limited       0.00      0.00      0.00         0\n",
      "                                          Fusionsphere Systems       0.00      0.00      0.00         0\n",
      "                                                     G-Artists       0.00      0.00      0.00         1\n",
      "                                                          GRIN       0.50      1.00      0.67         1\n",
      "                                                GSC Game World       0.00      0.00      0.00         0\n",
      "                                          Gaijin Entertainment       0.00      0.00      0.00         2\n",
      "                                                  Gaijin Games       0.00      0.00      0.00         0\n",
      "                                                     Game Arts       0.00      0.00      0.00         6\n",
      "                                                   Game Brains       0.00      0.00      0.00         0\n",
      "                                                    Game Freak       0.00      0.00      0.00         2\n",
      "                                          Game Machine Studios       0.00      0.00      0.00         2\n",
      "                                                 Game Republic       0.33      0.33      0.33         3\n",
      "                                                    Game Titan       0.00      0.00      0.00         1\n",
      "                                                        GameCo       0.00      0.00      0.00         1\n",
      "                 GameMill Publishing, 1st Playable Productions       0.00      0.00      0.00         1\n",
      "                                                    Gameinvest       0.00      0.00      0.00         1\n",
      "                                                      Gameloft       0.00      0.00      0.00         1\n",
      "                                                    Games Farm       1.00      1.00      1.00         2\n",
      "                                          Gaming Minds Studios       0.00      0.00      0.00         1\n",
      "                                                     Ganbarion       0.00      0.00      0.00         2\n",
      "                                             Gas Powered Games       0.00      0.00      0.00         1\n",
      "                                                 Gaslamp Games       0.00      0.00      0.00         0\n",
      "                                              Gearbox Software       0.33      0.40      0.36         5\n",
      "                                   Gearbox Software, 3D Realms       0.50      1.00      0.67         1\n",
      "                                                      GenePool       1.00      1.00      1.00         1\n",
      "                                          Genius Sonority Inc.       0.00      0.00      0.00         0\n",
      "                                                         Genki       0.00      0.00      0.00         1\n",
      "                                                 Genuine Games       1.00      0.50      0.67         2\n",
      "                                                   Ghost Games       0.33      1.00      0.50         1\n",
      "                                               Giants Software       0.33      0.25      0.29         4\n",
      "                                                 Gimagin Games       0.00      0.00      0.00         0\n",
      "                                                      Global A       0.00      0.00      0.00         0\n",
      "                                         Glyphic Entertainment       0.00      0.00      0.00         0\n",
      "                                                   Gogii Games       0.00      0.00      0.00         1\n",
      "                                           Good Science Studio       0.00      0.00      0.00         1\n",
      "                                                     Good-Feel       0.00      0.00      0.00         0\n",
      "                                                 Gorilla Games       0.00      0.00      0.00         1\n",
      "                                               Gorilla Systems       0.00      0.00      0.00         2\n",
      "                                       Grasshopper Manufacture       0.00      0.00      0.00         5\n",
      "                                              Griptonite Games       0.00      0.00      0.00         5\n",
      "                                                     Guerrilla       0.00      0.00      0.00         1\n",
      "                                              Guildford Studio       1.00      1.00      1.00         1\n",
      "                                                        GungHo       0.00      0.00      0.00         1\n",
      "                                                  Gunnar Games       0.00      0.00      0.00         0\n",
      "                                                          Gust       1.00      0.33      0.50         3\n",
      "                                            Gust, Idea Factory       0.00      0.00      0.00         1\n",
      "                                                   Gusto Games       0.00      0.00      0.00         1\n",
      "                                                      HAL Labs       0.00      0.00      0.00         3\n",
      "                                         HB Studios Multimedia       0.50      0.33      0.40         3\n",
      "                                                     Haemimont       1.00      0.33      0.50         3\n",
      "                                             Halfbrick Studios       0.00      0.00      0.00         2\n",
      "                                                Handheld Games       0.00      0.00      0.00         2\n",
      "                                                     Hangar 13       1.00      1.00      1.00         1\n",
      "                                               Happy Happening       0.00      0.00      0.00         1\n",
      "                                        Harmonix Music Systems       0.90      0.75      0.82        12\n",
      "                      Harmonix Music Systems, Demiurge Studios       1.00      1.00      1.00         1\n",
      "                                            Hasbro Interactive       0.00      0.00      0.00         1\n",
      "                                              Headstrong Games       0.00      0.00      0.00         1\n",
      "                                Headup Games, Crenetic Studios       0.00      0.00      0.00         1\n",
      "                                            Heavy Iron Studios       0.00      0.00      0.00         1\n",
      "                                                        Helixe       0.00      0.00      0.00         3\n",
      "                                                Hellbent Games       0.00      0.00      0.00         1\n",
      "                                                   Hello Games       0.00      0.00      0.00         1\n",
      "                                             High Impact Games       0.00      0.00      0.00         2\n",
      "                                             High Moon Studios       0.12      0.50      0.20         2\n",
      "                     High Moon Studios, Mercenary Technologies       0.00      0.00      0.00         1\n",
      "                                         High Voltage Software       0.17      0.08      0.11        12\n",
      "                 High Voltage Software, Backbone Entertainment       1.00      0.50      0.67         2\n",
      "                                                Hijinx Studios       1.00      1.00      1.00         1\n",
      "                                                     Hit Maker       0.00      0.00      0.00         0\n",
      "                                                      Hitmaker       0.00      0.00      0.00         0\n",
      "                                                         Hoget       0.00      0.00      0.00         0\n",
      "                                              Hoplite Research       0.00      0.00      0.00         1\n",
      "                                                Hot Lava Games       0.00      0.00      0.00         1\n",
      "                                                        HotGen       0.00      0.00      0.00         2\n",
      "                                                        Hudson       0.00      0.00      0.00         2\n",
      "                                          Hudson Entertainment       0.00      0.00      0.00         1\n",
      "                                                   Hudson Soft       0.00      0.00      0.00         3\n",
      "                                    Hudson, NATSUME ATARI Inc.       0.00      0.00      0.00         1\n",
      "                                                      Humagade       0.00      0.00      0.00         1\n",
      "                                           Human Entertainment       0.00      0.00      0.00         1\n",
      "                                            Human Head Studios       0.00      0.00      0.00         0\n",
      "                                                    Human Soft       0.00      0.00      0.00         3\n",
      "                                         Human Soft, Ivolgamus       0.00      0.00      0.00         0\n",
      "                                       Humongous Entertainment       0.00      0.00      0.00         1\n",
      "                                                   Hydravision       0.00      0.00      0.00         2\n",
      "                                           Hyperspace Cowgirls       0.00      0.00      0.00         0\n",
      "                                          Hypnos Entertainment       0.00      0.00      0.00         0\n",
      "                                                      Hypnotix       1.00      0.40      0.57         5\n",
      "                                                      IR Gurus       0.00      0.00      0.00         0\n",
      "                                                    Icon Games       0.00      0.00      0.00         0\n",
      "                                                  Idea Factory       0.00      0.00      0.00         1\n",
      "                                                    Idol Minds       0.00      0.00      0.00         2\n",
      "                                        Ignition Entertainment       0.00      0.00      0.00         1\n",
      "                                            Illusion Softworks       0.00      0.00      0.00         0\n",
      "                                       Image Epoch, Imageepoch       0.00      0.00      0.00         2\n",
      "                                 Immersion Software & Graphics       0.50      1.00      0.67         1\n",
      "                                             Impressions Games       0.00      0.00      0.00         0\n",
      "                                                 Impulse Games       0.00      0.00      0.00         0\n",
      "                                         InLight Entertainment       0.00      0.00      0.00         1\n",
      "                                          InXile Entertainment       0.00      0.00      0.00         0\n",
      "                                             Incinerator Games       0.00      0.00      0.00         0\n",
      "                                                Incognito Inc.       0.00      0.00      0.00         1\n",
      "                                                   Indie Built       0.00      0.00      0.00         1\n",
      "                                                   Indies Zero       0.00      0.00      0.00         1\n",
      "                                      Inevitable Entertainment       0.00      0.00      0.00         1\n",
      "                                    Infinite Dreams, Paragon 5       0.00      0.00      0.00         0\n",
      "                                          Infinite Interactive       0.00      0.00      0.00         1\n",
      "                                                 Infinity Ward       0.67      0.67      0.67         3\n",
      "                                                    Infogrames       0.00      0.00      0.00         1\n",
      "                                                        Ino-Co       0.00      0.00      0.00         0\n",
      "                                               Insomniac Games       0.17      0.50      0.25         2\n",
      "                                           Intelligent Systems       0.43      0.33      0.38         9\n",
      "                                       InterServ International       0.00      0.00      0.00         1\n",
      "                                    Interworks Unlimited, Inc.       0.00      0.00      0.00         1\n",
      "                                                          Inti       0.00      0.00      0.00         1\n",
      "                                                  Inti Creates       0.00      0.00      0.00         1\n",
      "                                            Inti, Inti Creates       0.00      0.00      0.00         1\n",
      "                                                Io Interactive       0.75      0.33      0.46         9\n",
      "                               Io Interactive, Nixxes Software       0.00      0.00      0.00         0\n",
      "                                                     Ion Storm       0.00      0.00      0.00         0\n",
      "                                                          Irem       1.00      1.00      1.00         1\n",
      "                                         Iridon Interactive AB       0.00      0.00      0.00         1\n",
      "                                           Iron Galaxy Studios       0.00      0.00      0.00         1\n",
      "                                              Irrational Games       0.00      0.00      0.00         0\n",
      "                                    Irrational Games, 2K Marin       0.00      0.00      0.00         0\n",
      "                                                     Ivolgamus       0.00      0.00      0.00         2\n",
      "                                                   Ivory Tower       0.00      0.00      0.00         1\n",
      "                                                 JV Games Inc.       0.00      0.00      0.00         1\n",
      "                                             Jack of All Games       0.00      0.00      0.00         0\n",
      "                                          Jaleco Entertainment       1.00      0.33      0.50         3\n",
      "                                                   Jellyvision       0.00      0.00      0.00         0\n",
      "                                               Jet Black Games       0.00      0.00      0.00         1\n",
      "                                                      Joindots       0.00      0.00      0.00         1\n",
      "                                        Joindots, Mastertronic       0.00      0.00      0.00         1\n",
      "                                                   Juice Games       1.00      0.20      0.33         5\n",
      "                                           Jupiter Corporation       0.00      0.00      0.00         2\n",
      "                       Jupiter Corporation, Jupiter Multimedia       0.00      0.00      0.00         0\n",
      "                                                   KCE Studios       0.00      0.00      0.00         0\n",
      "                                                          KCEJ       0.00      0.00      0.00         0\n",
      "                                                          KCEK       0.00      0.00      0.00         2\n",
      "                                                          KCEO       0.00      0.00      0.00         0\n",
      "                                                          KCET       0.50      0.22      0.31         9\n",
      "                                                      KING Art       0.00      0.00      0.00         1\n",
      "                                                   KUNST-STOFF       0.00      0.00      0.00         0\n",
      "                                                      Kadokawa       0.00      0.00      0.00         3\n",
      "                                                       Kalypso       0.00      0.00      0.00         3\n",
      "                                                   Kando Games       0.00      0.00      0.00         0\n",
      "                                                  Kaos Studios       0.00      0.00      0.00         0\n",
      "                                                    Keen Games       0.00      0.00      0.00         2\n",
      "                                                 Kheops Studio       0.00      0.00      0.00         1\n",
      "                                                     Killaware       0.00      0.00      0.00         1\n",
      "                                            King of the Jungle       1.00      1.00      1.00         1\n",
      "                                  Klein Computer Entertainment       0.00      0.00      0.00         0\n",
      "                                      Knowledge Adventure Inc.       0.00      0.00      0.00         0\n",
      "                                            Kodiak Interactive       0.00      0.00      0.00         1\n",
      "                                                          Koei       0.30      0.60      0.40         5\n",
      "                                              Koei Tecmo Games       1.00      0.50      0.67         2\n",
      "                                             Koei, Omega Force       0.00      0.00      0.00         1\n",
      "                                                     Koei/Inis       0.00      0.00      0.00         1\n",
      "                                            Kojima Productions       0.00      0.00      0.00         3\n",
      "                          Kojima Productions, Moby Dick Studio       0.00      0.00      0.00         1\n",
      "                                            Kokolo Corporation       0.00      0.00      0.00         1\n",
      "                                                        Konami       0.64      0.44      0.52        32\n",
      "                          Konami Computer Entertainment Hawaii       0.50      0.50      0.50         2\n",
      "                          Konami Computer Entertainment Nagoya       0.00      0.00      0.00         1\n",
      "                                                     Kouyousha       0.00      0.00      0.00         0\n",
      "                                                 Krome Studios       0.20      0.20      0.20         5\n",
      "                                            Kuju Entertainment       0.00      0.00      0.00         4\n",
      "                                                    Kush Games       0.25      0.67      0.36         3\n",
      "                                                 Kuusou Kagaku       0.00      0.00      0.00         1\n",
      "                                                      Kylotonn       0.00      0.00      0.00         0\n",
      "                                                           LSP       1.00      0.50      0.67         2\n",
      "                                                Lab Rats Games       0.00      0.00      0.00         1\n",
      "                                                      Land Ho!       0.00      0.00      0.00         2\n",
      "                                                Larian Studios       0.00      0.00      0.00         1\n",
      "                                                     Le Cortex       0.00      0.00      0.00         0\n",
      "                                        Left Field Productions       0.33      1.00      0.50         1\n",
      "                             Left Field Productions, Zoo Games       0.00      0.00      0.00         0\n",
      "                                            Legacy Interactive       0.00      0.00      0.00         2\n",
      "                                                       Level 5       0.40      0.40      0.40         5\n",
      "                                        Level 5, Brownie Brown       0.00      0.00      0.00         0\n",
      "                                               Lexis Numerique       0.00      0.00      0.00         0\n",
      "                                                  Light Weight       0.00      0.00      0.00         1\n",
      "                                          LightBox Interactive       0.00      0.00      0.00         0\n",
      "                                              Lionhead Studios       1.00      1.00      1.00         1\n",
      "                                                  Little Orbit       0.50      1.00      0.67         2\n",
      "                                              Locomotive Games       0.00      0.00      0.00         1\n",
      "                                              Longtail Studios       0.00      0.00      0.00         0\n",
      "                                          Loose Cannon Studios       0.00      0.00      0.00         0\n",
      "                                                     LucasArts       0.33      0.20      0.25         5\n",
      "                                            LucasArts, BioWare       0.00      0.00      0.00         0\n",
      "                                      LucasArts, Krome Studios       0.00      0.00      0.00         1\n",
      "                                                 Lucky Chicken       0.00      0.00      0.00         2\n",
      "                                                    Ludia Inc.       0.40      0.67      0.50         3\n",
      "                                                Luxoflux, Inc.       0.50      1.00      0.67         1\n",
      "                                                            M2       0.00      0.00      0.00         1\n",
      "                                                           MTO       0.00      0.00      0.00         3\n",
      "                                             Mac Play, MacPlay       0.00      0.00      0.00         2\n",
      "                                                Machatin, Inc.       0.00      0.00      0.00         0\n",
      "                                                  MachineGames       0.50      0.50      0.50         2\n",
      "                                                      Mad Catz       0.00      0.00      0.00         1\n",
      "                                              Mad Doc Software       0.00      0.00      0.00         1\n",
      "                          Mad Doc Software, Rockstar Vancouver       0.00      0.00      0.00         2\n",
      "                                          Magellan Interactive       0.00      0.00      0.00         1\n",
      "                                              Magenta Software       0.00      0.00      0.00         1\n",
      "                                                 Magic Pockets       0.00      0.00      0.00         5\n",
      "                                        Majesco Games, Majesco       0.00      0.00      0.00         0\n",
      "                                                     Marvelous       0.00      0.00      0.00         1\n",
      "                                                 Marvelous AQL       0.00      0.00      0.00         1\n",
      "                                       Marvelous Entertainment       0.00      0.00      0.00         2\n",
      "                                                Marvelous Inc.       0.00      0.00      0.00         1\n",
      "                                                    Mass Media       0.00      0.00      0.00         2\n",
      "                                         Massive Entertainment       0.00      0.00      0.00         2\n",
      "                                               Master Creating       0.00      0.00      0.00         0\n",
      "                                               Matrix Software       0.00      0.00      0.00         1\n",
      "                                                 Maximum Games       0.00      0.00      0.00         1\n",
      "                                                         Maxis       0.56      0.45      0.50        11\n",
      "                                                Media Molecule       0.00      0.00      0.00         1\n",
      "                                                  Media Vision       0.00      0.00      0.00         2\n",
      "                                                    Mekensleep       0.00      0.00      0.00         1\n",
      "                                               Melbourne House       0.00      0.00      0.00         0\n",
      "                                            Mentor Interactive       0.00      0.00      0.00         0\n",
      "                                                 Mercury Steam       0.00      0.00      0.00         1\n",
      "                                                  Mere Mortals       0.00      0.00      0.00         1\n",
      "                    Metanet Software Inc., SilverBirch Studios       0.00      0.00      0.00         0\n",
      "                                             Metia Interactive       0.00      0.00      0.00         0\n",
      "                                                         Metro       0.00      0.00      0.00         1\n",
      "                                                Metro Graphics       0.00      0.00      0.00         1\n",
      "                                                       Metro3D       0.00      0.00      0.00         1\n",
      "                                           Metropolis Software       0.00      0.00      0.00         1\n",
      "                                                   Micro Cabin       0.50      1.00      0.67         1\n",
      "                                           MicroProse, n-Space       0.00      0.00      0.00         1\n",
      "                                                      Microids       0.33      0.33      0.33         3\n",
      "                                        Microsoft Game Studios       0.00      0.00      0.00         1\n",
      "                               Midas Interactive Entertainment       0.00      0.00      0.00         0\n",
      "                                                        Midway       0.56      0.69      0.62        13\n",
      "                                       Midway Studios - Austin       0.00      0.00      0.00         0\n",
      "                                  Midway Studios - Los Angeles       0.00      0.00      0.00         1\n",
      "                                    Midway Studios - San Diego       0.00      0.00      0.00         0\n",
      "                                                      Mikoishi       0.00      0.00      0.00         0\n",
      "                                                     Milestone       0.00      0.00      0.00         1\n",
      "                                               Milestone S.r.l       0.62      0.83      0.71         6\n",
      "                                    Milestone, Milestone S.r.l       0.00      0.00      0.00         0\n",
      "                                                       Million       0.00      0.00      0.00         0\n",
      "                                                    Mind Candy       0.00      0.00      0.00         1\n",
      "                                         Minds-Eye Productions       0.00      0.00      0.00         1\n",
      "                                               Mistic Software       0.00      0.00      0.00         1\n",
      "                                                    Mistwalker       0.00      0.00      0.00         0\n",
      "                                                      Mitchell       0.00      0.00      0.00         1\n",
      "                                                       Mix Max       0.00      0.00      0.00         1\n",
      "                                                     Mobile 21       0.00      0.00      0.00         0\n",
      "                                          Mobius Entertainment       0.00      0.00      0.00         1\n",
      "                                              Monkey Bar Games       1.00      0.50      0.67         4\n",
      "                                          Monolith Productions       0.25      0.50      0.33         2\n",
      "                                                 Monolith Soft       0.00      0.00      0.00         1\n",
      "                                            Monster Games Inc.       0.00      0.00      0.00         0\n",
      "                                       Monte Cristo Multimedia       0.00      0.00      0.00         1\n",
      "                                              Monumental Games       0.67      1.00      0.80         2\n",
      "                                     Most Wanted Entertainment       0.00      0.00      0.00         1\n",
      "                                        Mucky Foot Productions       0.00      0.00      0.00         1\n",
      "                                                    MumboJumbo       0.00      0.00      0.00         2\n",
      "                      N-Fusion Interactive Entertainment Corp.       0.00      0.00      0.00         0\n",
      "                                            NATSUME ATARI Inc.       0.00      0.00      0.00         1\n",
      "                                                         Nadeo       0.00      0.00      0.00         1\n",
      "                                                         Namco       0.67      0.40      0.50        15\n",
      "                                            Namco Bandai Games       0.09      0.33      0.14         3\n",
      "                                    Namco Bandai Games America       0.00      0.00      0.00         0\n",
      "                Namco Bandai Games America, Namco Bandai Games       0.50      1.00      0.67         1\n",
      "                        Namco Bandai Games, Bandai Namco Games       0.00      0.00      0.00         1\n",
      "                                   Namco Bandai Games, Cellius       0.00      0.00      0.00         1\n",
      "                          Namco Bandai Games, Monkey Bar Games       1.00      1.00      1.00         1\n",
      "                                                    NanaOn-Sha       0.00      0.00      0.00         1\n",
      "                                                       Natsume       0.00      0.00      0.00         6\n",
      "                                                 NaturalMotion       0.00      0.00      0.00         0\n",
      "                                                   Naughty Dog       0.50      0.50      0.50         4\n",
      "                                                      Nautilus       0.00      0.00      0.00         0\n",
      "                                                  Navarre Corp       0.00      0.00      0.00         0\n",
      "                                                       Nd Cube       0.00      0.00      0.00         2\n",
      "                                            Neko Entertainment       0.00      0.00      0.00         3\n",
      "                                                  Neon Studios       0.00      0.00      0.00         1\n",
      "                                           Neon Studios, Kaiko       0.00      0.00      0.00         0\n",
      "                                                Nerve Software       0.00      0.00      0.00         2\n",
      "                                           NetherRealm Studios       1.00      0.50      0.67         2\n",
      "                                                     Neverland       0.00      0.00      0.00         6\n",
      "                                       Neversoft Entertainment       0.71      0.83      0.77         6\n",
      "              Neversoft Entertainment, Underground Development       0.00      0.00      0.00         0\n",
      "                                             Nex Entertainment       0.00      0.00      0.00         3\n",
      "                                            Next Entertainment       0.00      0.00      0.00         0\n",
      "                                              Next Level Games       0.14      1.00      0.25         1\n",
      "                                    Next Level Games, Nintendo       0.00      0.00      0.00         1\n",
      "                                                Next Wave Team       0.00      0.00      0.00         0\n",
      "                                                       Nicalis       0.00      0.00      0.00         1\n",
      "                                                  Ninja Theory       0.00      0.00      0.00         1\n",
      "                                                      Nintendo       0.64      0.44      0.52        16\n",
      "                                          Nippon Ichi Software       0.25      0.25      0.25         4\n",
      "                                                   Nitro Games       0.00      0.00      0.00         1\n",
      "                                             Nival Interactive       0.00      0.00      0.00         1\n",
      "                                               Nixxes Software       0.50      0.33      0.40         3\n",
      "                                                       Nobilis       0.00      0.00      0.00         0\n",
      "                                                   Nordcurrent       0.00      0.00      0.00         2\n",
      "                                       Nordic Games Publishing       1.00      0.50      0.67         2\n",
      "                                                      Novarama       0.00      0.00      0.00         1\n",
      "                                                Now Production       0.00      0.00      0.00         8\n",
      "                                                          NuFX       0.00      0.00      0.00         2\n",
      "                                                       O-Games       0.00      0.00      0.00         1\n",
      "                                                  Oberon Media       0.00      0.00      0.00         1\n",
      "                                        Obsidian Entertainment       0.14      0.33      0.20         3\n",
      "                                                 Office Create       0.00      0.00      0.00         1\n",
      "                                                  OfficeCreate       0.00      0.00      0.00         0\n",
      "                                                   Omega Force       0.57      0.63      0.60        19\n",
      "                                      Omega Force, Koei Canada       0.00      0.00      0.00         0\n",
      "                                 Omega Force, Koei Tecmo Games       0.00      0.00      0.00         1\n",
      "                                                          Opus       0.00      0.00      0.00         1\n",
      "                                           Orbital Media, Inc.       0.00      0.00      0.00         1\n",
      "                                                  Osaka Studio       0.00      0.00      0.00         1\n",
      "                                       Other Ocean Interactive       0.00      0.00      0.00         1\n",
      "                                                       Otomate       0.00      0.00      0.00         0\n",
      "                                                 Outrage Games       0.00      0.00      0.00         1\n",
      "                                                     Overworks       0.00      0.00      0.00         0\n",
      "                                            Oxygen Interactive       0.00      0.00      0.00         1\n",
      "                                   Pacific Coast Power & Light       0.00      0.00      0.00         2\n",
      "                                               Page 44 Studios       0.50      1.00      0.67         1\n",
      "                                               Pam Development       0.00      0.00      0.00         2\n",
      "                                              Pandemic Studios       0.00      0.00      0.00         5\n",
      "                                                  Panic Button       0.00      0.00      0.00         1\n",
      "                                              Panther Software       0.00      0.00      0.00         1\n",
      "                                                Papaya Studios       0.00      0.00      0.00         2\n",
      "                                                       Papyrus       0.00      0.00      0.00         1\n",
      "                                        Paradigm Entertainment       0.20      0.50      0.29         2\n",
      "                                           Paradox Development       0.50      1.00      0.67         1\n",
      "                                               Pendulo Studios       0.50      1.00      0.67         1\n",
      "                                                    Petroglyph       0.00      0.00      0.00         1\n",
      "                                                    Phantagram       0.00      0.00      0.00         1\n",
      "                                         Phoenix Entertainment       0.00      0.00      0.00         1\n",
      "                                          Phoenix Games Studio       0.00      0.00      0.00         1\n",
      "                             Phoenix Interactive Entertainment       0.00      0.00      0.00         2\n",
      "                                                      Pinegrow       0.00      0.00      0.00         0\n",
      "                                        Pipe Dream Interactive       0.00      0.00      0.00         0\n",
      "                                      Pipeworks Software, Inc.       0.20      0.33      0.25         3\n",
      "                                                 Piranha Bytes       0.00      0.00      0.00         4\n",
      "                                             Pitbull Syndicate       0.00      0.00      0.00         0\n",
      "                                                 Pivotal Games       0.00      0.00      0.00         0\n",
      "                                           Planet Moon Studios       0.00      0.00      0.00         1\n",
      "                                                 PlatinumGames       0.25      0.25      0.25         8\n",
      "                                   Playlogic, The Game Factory       0.00      0.00      0.00         0\n",
      "                                         Playrix Entertainment       0.00      0.00      0.00         1\n",
      "                                        Playstos Entertainment       0.00      0.00      0.00         0\n",
      "                                                 Point of View       0.67      0.25      0.36         8\n",
      "                                                 Polygon Magic       0.00      0.00      0.00         1\n",
      "                                             Polyphony Digital       0.00      0.00      0.00         0\n",
      "                                                        PopCap       0.33      0.60      0.43         5\n",
      "                                               Powerhead Games       0.00      0.00      0.00         6\n",
      "                                                Premium Agency       0.00      0.00      0.00         0\n",
      "                                                  Project Aces       0.00      0.00      0.00         1\n",
      "                                                  Project Soul       0.00      0.00      0.00         0\n",
      "                                              Propaganda Games       0.00      0.00      0.00         0\n",
      "                                                         Prope       0.00      0.00      0.00         1\n",
      "                                            Pseudo Interactive       0.00      0.00      0.00         1\n",
      "                                                        Psikyo       0.00      0.00      0.00         1\n",
      "                                                     Psygnosis       0.00      0.00      0.00         2\n",
      "                                                       Psyonix       1.00      1.00      1.00         1\n",
      "                                                  Purple Hills       0.00      0.00      0.00         1\n",
      "                                                   PuzzleKings       0.00      0.00      0.00         0\n",
      "                                                       Pyramid       0.50      1.00      0.67         1\n",
      "                                               Q Entertainment       0.00      0.00      0.00         1\n",
      "                                                       Q-Games       0.00      0.00      0.00         0\n",
      "                                                 Quantic Dream       1.00      0.50      0.67         2\n",
      "                                          Quicksilver Software       0.33      1.00      0.50         1\n",
      "                                             RED Entertainment       1.00      1.00      1.00         1\n",
      "                             RED Entertainment, Spike Chunsoft       0.00      0.00      0.00         1\n",
      "                                                        Racjin       0.00      0.00      0.00         3\n",
      "                                         Radical Entertainment       0.75      0.38      0.50         8\n",
      "                                                       Radius9       0.00      0.00      0.00         0\n",
      "                                                 Rage Software       0.00      0.00      0.00         1\n",
      "                                               Rainbow Studios       0.50      0.71      0.59         7\n",
      "                                                     Rare Ltd.       0.25      0.25      0.25         4\n",
      "                                                        Raster       0.00      0.00      0.00         1\n",
      "                                                        Ratbag       0.50      0.50      0.50         2\n",
      "                                                Raven Software       0.00      0.00      0.00         1\n",
      "                                              Raylight Studios       0.00      0.00      0.00         2\n",
      "                                        Razorback Developments       0.00      0.00      0.00         1\n",
      "                                                    Razorworks       0.00      0.00      0.00         1\n",
      "                                            Razorworks Studios       0.00      0.00      0.00         1\n",
      "                                                 Ready at Dawn       0.00      0.00      0.00         0\n",
      "                               Ready at Dawn, SCE Santa Monica       0.00      0.00      0.00         2\n",
      "                                                  Reality Pump       0.00      0.00      0.00         1\n",
      "                                                     Rebellion       0.43      0.50      0.46         6\n",
      "                                                Red Fly Studio       0.00      0.00      0.00         1\n",
      "                     Red Storm Entertainment, Ubisoft Montreal       0.00      0.00      0.00         1\n",
      "                        Red Storm Entertainment, Ubisoft Paris       0.00      0.00      0.00         1\n",
      "                                                     Red Tribe       0.00      0.00      0.00         2\n",
      "                                Red Tribe, Brash Entertainment       0.00      0.00      0.00         2\n",
      "                                       Reflections Interactive       0.00      0.00      0.00         1\n",
      "                                                         Relic       0.00      0.00      0.00         5\n",
      "                                          Remedy Entertainment       1.00      1.00      1.00         1\n",
      "                                                  Renegade Kid       0.00      0.00      0.00         1\n",
      "                                         Respawn Entertainment       0.00      0.00      0.00         1\n",
      "                                                 Retro Studios       0.50      1.00      0.67         1\n",
      "                                           Revolution Software       0.00      0.00      0.00         1\n",
      "                                             Rising Star Games       0.00      0.00      0.00         2\n",
      "                                                      Robomodo       0.00      0.00      0.00         2\n",
      "                                                Rockstar Leeds       0.00      0.00      0.00         3\n",
      "                                               Rockstar London       0.00      0.00      0.00         0\n",
      "                                                Rockstar North       0.75      0.75      0.75         4\n",
      "                                            Rockstar San Diego       0.00      0.00      0.00         1\n",
      "                                              Rockstar Studios       0.00      0.00      0.00         1\n",
      "                                              Rockstar Toronto       0.00      0.00      0.00         1\n",
      "                                            Rocksteady Studios       0.50      1.00      0.67         1\n",
      "                                   Rocksteady Studios, Virtuos       0.00      0.00      0.00         1\n",
      "                             Rovio Mobile, Rovio Entertainment       1.00      1.00      1.00         1\n",
      "                                                 Ruffian Games       0.00      0.00      0.00         0\n",
      "                                                     Runecraft       0.00      0.00      0.00         0\n",
      "                                                   Runic Games       0.00      0.00      0.00         1\n",
      "                                                       Runtime       0.00      0.00      0.00         0\n",
      "                                         Ryu ga Gotoku Studios       1.00      1.00      1.00         1\n",
      "                                                         S-Neo       0.00      0.00      0.00         1\n",
      "                                              SCE Japan Studio       0.00      0.00      0.00         3\n",
      "                                              SCE Santa Monica       0.50      1.00      0.67         1\n",
      "                                          SCE Studio Cambridge       0.00      0.00      0.00         1\n",
      "                                       SCE/WWS, Media Molecule       0.00      0.00      0.00         1\n",
      "                                                          SCEA       0.00      0.00      0.00         1\n",
      "                                        SCEA San Diego Studios       0.50      0.60      0.55         5\n",
      "                                            SCEA Sports Studio       0.00      0.00      0.00         1\n",
      "                                                          SCEE       0.00      0.00      0.00         3\n",
      "                                            SCEE London Studio       0.67      0.33      0.44         6\n",
      "                                                SCEE, Zoe Mode       0.00      0.00      0.00         1\n",
      "                                                          SCEI       0.00      0.00      0.00         0\n",
      "                                                          SCEJ       0.00      0.00      0.00         0\n",
      "                                                  SCS Software       0.00      0.00      0.00         1\n",
      "                                            SEGA Racing Studio       0.00      0.00      0.00         1\n",
      "                                                  SNK Playmore       0.40      0.29      0.33         7\n",
      "                                             Saber Interactive       0.50      1.00      0.67         1\n",
      "                                                       Saffire       0.00      0.00      0.00         1\n",
      "                                            Sand Grain Studios       0.11      0.33      0.17         3\n",
      "                                                       Sandlot       0.20      1.00      0.33         1\n",
      "                                              Santa Cruz Games       0.00      0.00      0.00         1\n",
      "                         Sanuk Software Co., Ltd., Sanuk Games       0.00      0.00      0.00         1\n",
      "                                                 Sanzaru Games       0.00      0.00      0.00         0\n",
      "                            Sanzaru Games, Sanzaru Games, Inc.       0.00      0.00      0.00         1\n",
      "                                                 Sarbakan Inc.       0.00      0.00      0.00         1\n",
      "                                          Savage Entertainment       0.33      1.00      0.50         1\n",
      "                                         Scientifically Proven       0.00      0.00      0.00         1\n",
      "                                                  Secret Level       0.00      0.00      0.00         1\n",
      "                                                          Sega       0.17      0.17      0.17         6\n",
      "                                                      Sega AM2       0.00      0.00      0.00         2\n",
      "                                    Sega Studios San Francisco       0.00      0.00      0.00         1\n",
      "                                            Sega, French-Bread       0.00      0.00      0.00         0\n",
      "                                                 Sensory Sweep       0.00      0.00      0.00         1\n",
      "                                              Seta Corporation       0.00      0.00      0.00         1\n",
      "                                                   Shaba Games       0.00      0.00      0.00         0\n",
      "                                                         Shift       0.00      0.00      0.00         0\n",
      "                                     Shift, Bandai Namco Games       0.00      0.00      0.00         1\n",
      "                                                       Shin'en       0.00      0.00      0.00         3\n",
      "                                           Shiny Entertainment       0.00      0.00      0.00         1\n",
      "                                             Sidhe Interactive       0.00      0.00      0.00         1\n",
      "                                                Silicon Dreams       0.00      0.00      0.00         1\n",
      "                                               Silicon Knights       0.00      0.00      0.00         1\n",
      "                                                Silicon Studio       0.00      0.00      0.00         2\n",
      "                                                        SimBin       0.00      0.00      0.00         0\n",
      "                                                          Sims       0.00      0.00      0.00         0\n",
      "                                                Sinister Games       0.00      0.00      0.00         1\n",
      "                                                     Skip Ltd.       0.00      0.00      0.00         1\n",
      "                                         Skyworks Technologies       0.00      0.00      0.00         1\n",
      "                                                    Slam Games       0.00      0.00      0.00         2\n",
      "                                            Sledgehammer Games       0.00      0.00      0.00         0\n",
      "                                          Slightly Mad Studios       0.00      0.00      0.00         0\n",
      "                                        Smart Bomb Interactive       0.00      0.00      0.00         1\n",
      "                                                      Smilebit       0.00      0.00      0.00         1\n",
      "                                             Snap Dragon Games       0.00      0.00      0.00         1\n",
      "                                                    Snapdragon       0.00      0.00      0.00         1\n",
      "                                             Snowblind Studios       0.50      0.50      0.50         2\n",
      "                                               Societe Pollene       0.00      0.00      0.00         1\n",
      "                                            Software Creations       0.00      0.00      0.00         2\n",
      "                                                      SolWorks       0.00      0.00      0.00         0\n",
      "                                                 Sonic Powered       0.00      0.00      0.00         0\n",
      "                                                    Sonic Team       0.30      0.27      0.29        11\n",
      "                                                     Sony Bend       0.00      0.00      0.00         1\n",
      "                                Sony Interactive Entertainment       0.00      0.00      0.00         0\n",
      "                                     Sony Online Entertainment       0.00      0.00      0.00         1\n",
      "              Sony Online Entertainment, Mind Control Software       0.00      0.00      0.00         1\n",
      "                                               SouthPeak Games       0.00      0.00      0.00         1\n",
      "                                          Southend Interactive       0.00      0.00      0.00         1\n",
      "                                               Spark Unlimited       0.00      0.00      0.00         1\n",
      "                                                    Spellbound       0.00      0.00      0.00         2\n",
      "                                                   Spicy Horse       0.00      0.00      0.00         0\n",
      "                                                    SpiderMonk       0.00      0.00      0.00         0\n",
      "                                                       Spiders       0.00      0.00      0.00         1\n",
      "                                           Spidersoft, Spiders       0.00      0.00      0.00         1\n",
      "                                                         Spike       0.00      0.00      0.00         2\n",
      "                                                Spike Chunsoft       0.00      0.00      0.00         4\n",
      "                       Spike Chunsoft Co. Ltd., Spike Chunsoft       0.00      0.00      0.00         0\n",
      "                                     Spike, Namco Bandai Games       0.00      0.00      0.00         1\n",
      "                                                 Splash Damage       0.00      0.00      0.00         0\n",
      "                                  Splash Damage, The Coalition       0.00      0.00      0.00         1\n",
      "                                            Sports Interactive       1.00      1.00      1.00         1\n",
      "                                                   Square Enix       0.25      0.20      0.22        10\n",
      "                                             Square Enix, TOSE       0.00      0.00      0.00         1\n",
      "                                   Square Enix, Think and Feel       0.00      0.00      0.00         1\n",
      "                                          Square Enix, Tri-Ace       0.00      0.00      0.00         1\n",
      "                                                    SquareSoft       0.75      0.50      0.60         6\n",
      "                                               Stainless Games       0.00      0.00      0.00         1\n",
      "                                       Stainless Steel Studios       0.00      0.00      0.00         1\n",
      "                                                    Starbreeze       0.00      0.00      0.00         5\n",
      "                                                      Starfish       0.00      0.00      0.00         2\n",
      "                                                   Starfish SD       0.00      0.00      0.00         0\n",
      "                                        Starsphere Interactive       1.00      1.00      1.00         1\n",
      "                                               Stealth Studios       0.00      0.00      0.00         1\n",
      "                                                         Sting       0.33      0.33      0.33         3\n",
      "                                              Storm City Games       0.00      0.00      0.00         0\n",
      "                                            Stormfront Studios       0.33      0.33      0.33         3\n",
      "                                                   Stormregion       0.00      0.00      0.00         1\n",
      "                                                     Studio 33       0.00      0.00      0.00         1\n",
      "                                              Studio Archcraft       0.00      0.00      0.00         0\n",
      "                                                Studio Gigante       0.00      0.00      0.00         1\n",
      "                                              Studio Liverpool       0.00      0.00      0.00         0\n",
      "                                                       Success       0.00      0.00      0.00         1\n",
      "                                                  Sucker Punch       0.00      0.00      0.00         2\n",
      "                                                  Sumo Digital       0.50      1.00      0.67         2\n",
      "                                                       SunSoft       0.00      0.00      0.00         1\n",
      "                                        Sunflowers Interactive       0.00      0.00      0.00         1\n",
      "                                                  Super Empire       0.00      0.00      0.00         1\n",
      "                                            SuperMassive Games       0.00      0.00      0.00         1\n",
      "                                          SuperVillain Studios       0.00      0.00      0.00         1\n",
      "                                           Supersonic Software       0.00      0.00      0.00         0\n",
      "                                              Surreal Software       1.00      0.50      0.67         2\n",
      "                                                         Suzak       0.00      0.00      0.00         2\n",
      "                                             Swordfish Studios       0.00      0.00      0.00         1\n",
      "                                                        Syscom       0.00      0.00      0.00         0\n",
      "                                                      System 3       0.00      0.00      0.00         1\n",
      "                                                 System Prisma       0.00      0.00      0.00         1\n",
      "                                                      T&E Soft       0.00      0.00      0.00         0\n",
      "                                                           THQ       0.75      0.35      0.48        17\n",
      "                                    THQ Digital Studio Phoenix       1.00      1.00      1.00         1\n",
      "                                                   THQ, Yuke's       0.00      0.00      0.00         0\n",
      "                                                          TOSE       0.20      0.11      0.14         9\n",
      "                                                     TT Fusion       0.40      0.25      0.31         8\n",
      "                                                      TT Games       0.85      0.71      0.77        24\n",
      "                                                         Tabot       0.00      0.00      0.00         1\n",
      "                                             Taito Corporation       0.00      0.00      0.00         2\n",
      "                                                        Takara       0.00      0.00      0.00         1\n",
      "                                                   Takara Tomy       0.00      0.00      0.00         2\n",
      "                                          Take-Two Interactive       0.00      0.00      0.00         2\n",
      "                                                       Tamsoft       0.00      0.00      0.00         0\n",
      "                                          Tamsoft, D3Publisher       0.00      0.00      0.00         1\n",
      "                                          Tantalus Interactive       0.00      0.00      0.00         2\n",
      "                      Tantalus Interactive, Tantatus, Nintendo       0.00      0.00      0.00         1\n",
      "                                                      Tantatus       0.00      0.00      0.00         1\n",
      "                                                  Targem Games       0.00      0.00      0.00         1\n",
      "                             Targem Games, TopWare Interactive       1.00      1.00      1.00         1\n",
      "                                Tarsier Studios, Double Eleven       0.00      0.00      0.00         1\n",
      "                                              Tate Interactive       0.00      0.00      0.00         0\n",
      "                                                       Team 17       0.50      0.40      0.44         5\n",
      "                                           Team 17, Two Tribes       1.00      1.00      1.00         1\n",
      "                                                    Team Ninja       0.33      1.00      0.50         1\n",
      "                                            Team6 Game Studios       0.00      0.00      0.00         1\n",
      "                                                      Techland       0.67      0.67      0.67         3\n",
      "                                                         Tecmo       0.50      0.67      0.57         3\n",
      "                                                Telltale Games       0.67      1.00      0.80         2\n",
      "                                                         Tenky       0.00      0.00      0.00         0\n",
      "                                              Terminal Reality       0.33      0.38      0.35         8\n",
      "                                            Tetris Online, Inc       0.00      0.00      0.00         0\n",
      "                                                         Teyon       0.00      0.00      0.00         0\n",
      "                                               ThatGameCompany       0.00      0.00      0.00         0\n",
      "                                                  The Behemoth       0.00      0.00      0.00         1\n",
      "                                 The Digital Lounge, Dino Dini       0.00      0.00      0.00         0\n",
      "                                              The Game Factory       0.00      0.00      0.00         0\n",
      "                                               The Sims Studio       0.60      0.75      0.67         4\n",
      "                                              The Tangentlemen       0.00      0.00      0.00         0\n",
      "                                        Tiertex Design Studios       0.00      0.00      0.00         1\n",
      "                                                Titus Software       0.00      0.00      0.00         1\n",
      "                                                          Toka       0.00      0.00      0.00         1\n",
      "                                                Toolbox Design       0.00      0.00      0.00         1\n",
      "                                                   Torus Games       0.25      0.25      0.25         8\n",
      "                                     Torus Games, Little Orbit       0.67      1.00      0.80         2\n",
      "                                                 Tose Software       0.00      0.00      0.00         0\n",
      "                                                 Totally Games       0.00      0.00      0.00         1\n",
      "                                                  Toys for Bob       0.20      0.25      0.22         4\n",
      "                                             Traveller's Tales       0.41      0.47      0.44        15\n",
      "                                                      Treasure       0.00      0.00      0.00         1\n",
      "                                                      Treyarch       0.45      0.56      0.50         9\n",
      "                                         Treyarch, Shaba Games       0.00      0.00      0.00         1\n",
      "                                                       Tri-Ace       0.00      0.00      0.00         2\n",
      "                                                 Tri-Crescendo       0.00      0.00      0.00         2\n",
      "                                                   Trine Games       0.00      0.00      0.00         0\n",
      "                                                  Trion Worlds       0.00      0.00      0.00         0\n",
      "                                                Triple Eh? Ltd       0.00      0.00      0.00         0\n",
      "                                          Tripwire Interactive       0.00      0.00      0.00         1\n",
      "                                               Triumph Studios       0.00      0.00      0.00         0\n",
      "                                                  Turbine Inc.       0.00      0.00      0.00         1\n",
      "                                                       Turn 10       0.00      0.00      0.00         1\n",
      "                                                  Twelve Games       1.00      1.00      1.00         1\n",
      "                                           Twisted Pixel Games       0.00      0.00      0.00         0\n",
      "                                                    Two Tribes       0.50      0.50      0.50         2\n",
      "                                            UBlart Montpellier       0.00      0.00      0.00         1\n",
      "                                                           UDS       0.00      0.00      0.00         1\n",
      "                                               UFO Interactive       0.00      0.00      0.00         0\n",
      "                                                           UGA       0.00      0.00      0.00         0\n",
      "                                                        Uacari       0.00      0.00      0.00         1\n",
      "                                                       Ubisoft       0.97      0.97      0.97      1355\n",
      "                                              Ubisoft Bulgaria       0.00      0.00      0.00         2\n",
      "                                            Ubisoft Casablanca       0.00      0.00      0.00         1\n",
      "                                                 Ubisoft Milan       0.00      0.00      0.00         0\n",
      "                                           Ubisoft Montpellier       0.00      0.00      0.00         1\n",
      "                                              Ubisoft Montreal       0.50      0.29      0.36        21\n",
      "                                                 Ubisoft Paris       0.50      0.50      0.50         4\n",
      "                            Ubisoft Paris, Ubisoft Montpellier       0.00      0.00      0.00         2\n",
      "                                                Ubisoft Quebec       0.00      0.00      0.00         1\n",
      "                                           Ubisoft Reflections       0.00      0.00      0.00         0\n",
      "                              Ubisoft Reflections, Ivory Tower       1.00      1.00      1.00         1\n",
      "                                               Ubisoft Romania       0.00      0.00      0.00         4\n",
      "                                             Ubisoft Sao Paulo       0.00      0.00      0.00         1\n",
      "                                              Ubisoft Shanghai       0.25      0.50      0.33         2\n",
      "                                                 Ubisoft Sofia       0.00      0.00      0.00         0\n",
      "                                               Ubisoft Toronto       0.00      0.00      0.00         1\n",
      "                                             Ubisoft Vancouver       0.00      0.00      0.00         2\n",
      "                                             Ubisoft, FunHouse       0.00      0.00      0.00         0\n",
      "                                        Ubisoft, Sensory Sweep       0.00      0.00      0.00         0\n",
      "                                     Ubisoft, Ubisoft Montreal       0.00      0.00      0.00         3\n",
      "                                          Unigine Corp, Russia       0.00      0.00      0.00         0\n",
      "                                                   Urban Games       0.00      0.00      0.00         1\n",
      "                                             VIS Entertainment       1.00      1.00      1.00         1\n",
      "                                                         VSTEP       0.00      0.00      0.00         1\n",
      "                                                      VU Games       0.00      0.00      0.00         0\n",
      "                                                  Valcon Games       0.00      0.00      0.00         1\n",
      "                                                      ValuSoft       0.00      0.00      0.00         0\n",
      "                                            Valuewave Co.,Ltd.       0.00      0.00      0.00         1\n",
      "                                                Valve Software       0.33      0.25      0.29         4\n",
      "                                                      Vanguard       0.00      0.00      0.00         1\n",
      "                                                  Vanilla Ware       0.00      0.00      0.00         1\n",
      "                                                   Vanillaware       0.00      0.00      0.00         0\n",
      "                                                       Various       0.00      0.00      0.00         0\n",
      "                                                   Venom Games       0.00      0.00      0.00         0\n",
      "                                             Vicarious Visions       0.33      0.23      0.27        13\n",
      "                                                 Vicious Cycle       0.00      0.00      0.00         3\n",
      "                           Vicious Cycle, Infinite Interactive       0.00      0.00      0.00         1\n",
      "                                   Vicious Cycle, Little Orbit       1.00      1.00      1.00         1\n",
      "                                                   Vigil Games       1.00      0.33      0.50         3\n",
      "                                           Vingt-et-un Systems       0.00      0.00      0.00         0\n",
      "                                             Virtual Play Inc.       0.00      0.00      0.00         1\n",
      "                                                  Virtual Toys       0.00      0.00      0.00         3\n",
      "                                                    Virtucraft       0.00      0.00      0.00         1\n",
      "                                                       Virtuos       0.33      0.25      0.29         4\n",
      "                                                Visceral Games       1.00      0.33      0.50         3\n",
      "                                               Visual Concepts       0.53      0.50      0.52        16\n",
      "                                                 Visual Impact       0.00      0.00      0.00         3\n",
      "                                                      Vivarium       0.00      0.00      0.00         0\n",
      "                                                 Vivendi Games       0.00      0.00      0.00         3\n",
      "                                                 Volition Inc.       0.20      0.50      0.29         4\n",
      "                                   Volition Inc., Reactor Zero       0.00      0.00      0.00         1\n",
      "                                             WB Games Montreal       0.00      0.00      0.00         0\n",
      "                                                          WBIE       0.00      0.00      0.00         1\n",
      "                                                           WXP       0.00      0.00      0.00         2\n",
      "                                                 Wargaming.net       0.00      0.00      0.00         0\n",
      "                        Warner Bros. Interactive Entertainment       0.00      0.00      0.00         1\n",
      "                                                       Warthog       0.00      0.00      0.00         2\n",
      "                                                    WayForward       0.20      0.09      0.13        11\n",
      "                                              Westwood Studios       1.00      1.00      1.00         1\n",
      "                                       White Birds Productions       0.00      0.00      0.00         0\n",
      "                                         Wicked Witch Software       1.00      1.00      1.00         2\n",
      "                                              WideScreen Games       0.00      0.00      0.00         1\n",
      "                                           Wideload Games Inc.       0.00      0.00      0.00         0\n",
      "                                                   WildTangent       0.00      0.00      0.00         1\n",
      "                                              Wildfire Studios       0.00      0.00      0.00         1\n",
      "                                                          Will       0.00      0.00      0.00         1\n",
      "                                                      Wizarbox       0.50      0.50      0.50         2\n",
      "                                                       WorkJam       0.00      0.00      0.00         0\n",
      "                                             Wow Entertainment       0.00      0.00      0.00         2\n",
      "                                                          Xpec       1.00      0.50      0.67         2\n",
      "                                                         Yager       1.00      1.00      1.00         1\n",
      "                                                        Yuke's       0.91      0.71      0.80        14\n",
      "                                                  Z-Axis, Ltd.       0.33      0.50      0.40         2\n",
      "                                               Zed Two Limited       0.00      0.00      0.00         1\n",
      "                                                 ZeniMax Media       0.00      0.00      0.00         0\n",
      "                                                      ZeptoLab       0.00      0.00      0.00         1\n",
      "                                                       Zerodiv       0.00      0.00      0.00         0\n",
      "                                                     Zeroscale       0.00      0.00      0.00         0\n",
      "                                            Zipper Interactive       0.00      0.00      0.00         2\n",
      "                                                      Zoe Mode       0.00      0.00      0.00         2\n",
      "                               Zoe Mode, HB Studios Multimedia       0.00      0.00      0.00         1\n",
      "                                                        Zombie       0.00      0.00      0.00         1\n",
      "                                                Zombie Studios       0.00      0.00      0.00         0\n",
      "                                                     Zoo Games       0.00      0.00      0.00         2\n",
      "                                               Zushi Games Ltd       0.00      0.00      0.00         1\n",
      "                                                        Zuxxez       0.00      0.00      0.00         1\n",
      "                                    dtp Young Entertainment AG       0.00      0.00      0.00         1\n",
      "                                                        eGames       0.00      0.00      0.00         1\n",
      "                                                 h.a.n.d. Inc.       0.00      0.00      0.00         0\n",
      "                                                          iWin       0.00      0.00      0.00         1\n",
      "                                                   id Software       0.50      0.50      0.50         2\n",
      "                                   id Software, Nerve Software       0.00      0.00      0.00         1\n",
      "                                   id Software, Raven Software       1.00      1.00      1.00         2\n",
      "                                                       n-Space       0.00      0.00      0.00         2\n",
      "                                                  neo Software       0.00      0.00      0.00         0\n",
      "                                                 odenis studio       0.00      0.00      0.00         0\n",
      "\n",
      "                                                      accuracy                           0.55      3344\n",
      "                                                     macro avg       0.13      0.14      0.13      3344\n",
      "                                                  weighted avg       0.58      0.55      0.55      3344\n",
      "\n",
      "Confusion Matrix:\n",
      "[[0 0 0 ... 0 0 0]\n",
      " [0 0 0 ... 0 0 0]\n",
      " [0 0 0 ... 0 0 0]\n",
      " ...\n",
      " [0 0 0 ... 0 0 0]\n",
      " [0 0 0 ... 0 0 0]\n",
      " [0 0 0 ... 0 0 0]]\n"
     ]
    },
    {
     "name": "stderr",
     "output_type": "stream",
     "text": [
      "/usr/local/lib/python3.10/dist-packages/sklearn/metrics/_classification.py:1344: UndefinedMetricWarning: Precision and F-score are ill-defined and being set to 0.0 in labels with no predicted samples. Use `zero_division` parameter to control this behavior.\n",
      "  _warn_prf(average, modifier, msg_start, len(result))\n",
      "/usr/local/lib/python3.10/dist-packages/sklearn/metrics/_classification.py:1344: UndefinedMetricWarning: Recall and F-score are ill-defined and being set to 0.0 in labels with no true samples. Use `zero_division` parameter to control this behavior.\n",
      "  _warn_prf(average, modifier, msg_start, len(result))\n",
      "/usr/local/lib/python3.10/dist-packages/sklearn/metrics/_classification.py:1344: UndefinedMetricWarning: Precision and F-score are ill-defined and being set to 0.0 in labels with no predicted samples. Use `zero_division` parameter to control this behavior.\n",
      "  _warn_prf(average, modifier, msg_start, len(result))\n",
      "/usr/local/lib/python3.10/dist-packages/sklearn/metrics/_classification.py:1344: UndefinedMetricWarning: Recall and F-score are ill-defined and being set to 0.0 in labels with no true samples. Use `zero_division` parameter to control this behavior.\n",
      "  _warn_prf(average, modifier, msg_start, len(result))\n",
      "/usr/local/lib/python3.10/dist-packages/sklearn/metrics/_classification.py:1344: UndefinedMetricWarning: Precision and F-score are ill-defined and being set to 0.0 in labels with no predicted samples. Use `zero_division` parameter to control this behavior.\n",
      "  _warn_prf(average, modifier, msg_start, len(result))\n",
      "/usr/local/lib/python3.10/dist-packages/sklearn/metrics/_classification.py:1344: UndefinedMetricWarning: Recall and F-score are ill-defined and being set to 0.0 in labels with no true samples. Use `zero_division` parameter to control this behavior.\n",
      "  _warn_prf(average, modifier, msg_start, len(result))\n"
     ]
    }
   ],
   "source": [
    "print('Classification Report:')\n",
    "print(classification_report(y_test,y_pred_dt))\n",
    "print('Confusion Matrix:')\n",
    "print(confusion_matrix(y_test, y_pred_dt))"
   ]
  },
  {
   "cell_type": "code",
   "execution_count": null,
   "id": "96420929",
   "metadata": {
    "colab": {
     "base_uri": "https://localhost:8080/"
    },
    "executionInfo": {
     "elapsed": 699,
     "status": "ok",
     "timestamp": 1684268450296,
     "user": {
      "displayName": "Timilehin Osinuga",
      "userId": "02674228651306861961"
     },
     "user_tz": -60
    },
    "id": "96420929",
    "outputId": "39b681b9-d56f-468a-9d62-ed58c414c985"
   },
   "outputs": [
    {
     "name": "stdout",
     "output_type": "stream",
     "text": [
      "Classification Report:\n",
      "                                                   precision    recall  f1-score   support\n",
      "\n",
      "                                   1C, 1C Company       0.00      0.00      0.00         1\n",
      "                           1C, Ino-Co, 1C Company       0.00      0.00      0.00         2\n",
      "                          1C, Various, 1C Company       0.00      0.00      0.00         1\n",
      "                         1st Playable Productions       0.00      0.00      0.00         2\n",
      "                                     2K Australia       0.00      0.00      0.00         1\n",
      "                                         2K Czech       0.00      0.00      0.00         0\n",
      "                                         2K Games       0.00      0.00      0.00         3\n",
      "                                         2K Marin       0.00      0.00      0.00         0\n",
      "                                        2K Sports       0.00      0.00      0.00         5\n",
      "                                   343 Industries       0.00      0.00      0.00         0\n",
      "                                              3DO       0.75      0.75      0.75         4\n",
      "                                       3G Studios       0.00      0.00      0.00         2\n",
      "                                        3d6 Games       0.00      0.00      0.00         1\n",
      "                                          49Games       0.09      0.20      0.13         5\n",
      "                                         4A Games       0.00      0.00      0.00         3\n",
      "                                       4J Studios       0.00      0.00      0.00         1\n",
      "                                           5000ft       0.00      0.00      0.00         0\n",
      "                                        505 Games       0.00      0.00      0.00         7\n",
      "                                         5TH Cell       0.00      0.00      0.00         1\n",
      "                                              5pb       0.00      0.00      0.00         1\n",
      "                                        7 Studios       0.00      0.00      0.00         4\n",
      "                                     8Monkey Labs       0.00      0.00      0.00         1\n",
      "                                       989 Sports       0.15      0.67      0.25         3\n",
      "                                               AI       0.00      0.00      0.00         2\n",
      "                                   AQ Interactive       0.00      0.00      0.00         0\n",
      "                                     Access Games       0.00      0.00      0.00         1\n",
      "                                          Acclaim       0.00      0.00      0.00         7\n",
      "                           Acclaim Studios Austin       0.50      1.00      0.67         1\n",
      "                       Acclaim Studios Cheltenham       0.00      0.00      0.00         0\n",
      "                       Acclaim Studios Manchester       0.00      0.00      0.00         1\n",
      "                                          Acquire       0.25      0.14      0.18         7\n",
      "                                       Activision       0.00      0.00      0.00        17\n",
      "                                         Adrenium       0.00      0.00      0.00         1\n",
      "                           Agatsuma Entertainment       0.00      0.00      0.00         1\n",
      "                                           Agetec       0.00      0.00      0.00         1\n",
      "                                   Airtight Games       0.00      0.00      0.00         1\n",
      "                                           Akella       0.00      0.00      0.00         1\n",
      "                                        Aki Corp.       0.00      0.00      0.00         4\n",
      "                                      Alfa System       0.00      0.00      0.00         2\n",
      "                                       Alpha Unit       0.00      0.00      0.00         0\n",
      "                                           Altron       0.00      0.00      0.00         2\n",
      "                                            Amaze       0.00      0.00      0.00         1\n",
      "                              Amaze Entertainment       0.00      0.00      0.00         8\n",
      "                                            Amble       0.00      0.00      0.00         0\n",
      "                                         Ambrella       0.00      0.00      0.00         0\n",
      "                                           Amedio       0.00      0.00      0.00         1\n",
      "                                 Amusement Vision       0.00      0.00      0.00         2\n",
      "                                            Amuze       0.00      0.00      0.00         1\n",
      "                                           Anchor       0.00      0.00      0.00         0\n",
      "                           Aqua Pacific, In2Games       0.00      0.00      0.00         1\n",
      "                                        Aqua Plus       0.00      0.00      0.00         1\n",
      "                                           Aquria       0.00      0.00      0.00         1\n",
      "                                 Arc System Works       0.00      0.00      0.00        12\n",
      "                                      Arcade Moon       0.00      0.00      0.00         1\n",
      "                                         ArenaNet       1.00      1.00      1.00         1\n",
      "                                   Argonaut Games       0.00      0.00      0.00         4\n",
      "                                            Arika       0.00      0.00      0.00         0\n",
      "                                   Arkane Studios       0.00      0.00      0.00         2\n",
      "                                    Arkedo Studio       0.00      0.00      0.00         1\n",
      "                           Arrowhead Game Studios       0.00      0.00      0.00         1\n",
      "                                              Art       0.00      0.00      0.00         2\n",
      "                                          Artdink       0.00      0.00      0.00         1\n",
      "                                       ArtePiazza       1.00      1.00      1.00         1\n",
      "                                   Artech Studios       0.00      0.00      0.00         2\n",
      "                                 Artefacts Studio       0.00      0.00      0.00         0\n",
      "                     Artificial Mind and Movement       0.00      0.00      0.00        10\n",
      "  Artificial Mind and Movement, EA Redwood Shores       0.00      0.00      0.00         1\n",
      "Artificial Studios, Immersion Software & Graphics       0.00      0.00      0.00         1\n",
      "                                           Artoon       0.00      0.00      0.00         1\n",
      "                       Ascaron Entertainment GmbH       0.00      0.00      0.00         0\n",
      "                     Asmik Ace Entertainment, Inc       0.00      0.00      0.00         1\n",
      "                                     Asobo Studio       0.00      0.00      0.00         2\n",
      "                                           Aspect       0.00      0.00      0.00         1\n",
      "                                            Aspyr       0.00      0.00      0.00         0\n",
      "                                          Astroll       0.00      0.00      0.00         1\n",
      "                                            Atari       0.00      0.00      0.00         2\n",
      "                                  Atari, Atari SA       0.00      0.00      0.00         1\n",
      "                                            Atlus       0.00      0.00      0.00         1\n",
      "                                        Atlus Co.       1.00      0.50      0.67         2\n",
      "                      Atomic Planet Entertainment       0.00      0.00      0.00         2\n",
      "                               Attention Software       0.00      0.00      0.00         1\n",
      "                              Attention To Detail       0.00      0.00      0.00         0\n",
      "                               Avalanche Software       0.00      0.00      0.00         6\n",
      "                                Avalanche Studios       0.00      0.00      0.00         3\n",
      "                               Avanquest Software       0.14      0.33      0.20         3\n",
      "                               Axis Entertainment       0.00      0.00      0.00         0\n",
      "                                          B-Alive       0.00      0.00      0.00         1\n",
      "                                       B.B.Studio       0.00      0.00      0.00         0\n",
      "                                 Babylon Software       0.00      0.00      0.00         2\n",
      "                              Backbone Emeryville       0.00      0.00      0.00         1\n",
      "                           Backbone Entertainment       0.00      0.00      0.00         7\n",
      "                               Backbone Vancouver       0.00      0.00      0.00         1\n",
      "                                Bam Entertainment       0.00      0.00      0.00         1\n",
      "                                           Bandai       0.00      0.00      0.00         3\n",
      "                               Bandai Namco Games       0.00      0.00      0.00         6\n",
      "                      Bandai Namco Games, Artdink       0.00      0.00      0.00         0\n",
      "                                      BattleBorne       0.00      0.00      0.00         1\n",
      "                                              Bec       0.00      0.00      0.00         2\n",
      "                                           Beenox       0.04      1.00      0.08         1\n",
      "                                  Beep Industries       0.00      0.00      0.00         1\n",
      "                            Behaviour Interactive       0.00      0.00      0.00         2\n",
      "                                         Best Way       0.00      0.00      0.00         1\n",
      "                            Bethesda Game Studios       1.00      1.00      1.00         2\n",
      "                               Bethesda Softworks       0.00      0.00      0.00         4\n",
      "                                  Big Ant Studios       0.50      0.25      0.33         4\n",
      "                             Big Blue Bubble Inc.       0.00      0.00      0.00         1\n",
      "                           Big Blue Entertainment       0.00      0.00      0.00         1\n",
      "                                   Big Fish Games       0.00      0.00      0.00         1\n",
      "                                   Big Huge Games       0.00      0.00      0.00         2\n",
      "                                   Big John Games       0.00      0.00      0.00         1\n",
      "                                 Big Red Software       0.00      0.00      0.00         1\n",
      "                                 Big Sky Software       0.00      0.00      0.00         0\n",
      "                                   Bigbig Studios       0.50      0.50      0.50         2\n",
      "                                          BioWare       0.25      0.17      0.20         6\n",
      "                        BioWare, Demiurge Studios       0.00      0.00      0.00         1\n",
      "                                     Bits Studios       0.00      0.00      0.00         0\n",
      "                                Bizarre Creations       0.00      0.00      0.00         2\n",
      "                                        Black Box       0.00      0.00      0.00         3\n",
      "                               Black Isle Studios       0.25      1.00      0.40         1\n",
      "                            Black Lantern Studios       0.00      0.00      0.00         8\n",
      "                          Black Ops Entertainment       0.00      0.00      0.00         3\n",
      "                                Black Sea Studios       0.00      0.00      0.00         1\n",
      "                                 Black Ship Games       0.00      0.00      0.00         2\n",
      "                                Blade Interactive       0.00      0.00      0.00         2\n",
      "                         Blast! Entertainment Ltd       0.00      0.00      0.00         1\n",
      "                                      Blitz Games       0.00      0.00      0.00         6\n",
      "                              Blitz Games Studios       0.00      0.00      0.00         1\n",
      "                          Blitz Games, Human Soft       0.00      0.00      0.00         1\n",
      "                           Blizzard Entertainment       0.33      0.20      0.25         5\n",
      "                                   Blizzard North       0.00      0.00      0.00         2\n",
      "                                        Blue Byte       0.00      0.00      0.00         0\n",
      "                       Blue Byte, Related Designs       0.00      0.00      0.00         1\n",
      "                                Blue Castle Games       0.00      0.00      0.00         4\n",
      "                                  Blue Fang Games       0.00      0.00      0.00         2\n",
      "                                       Blue Omega       0.00      0.00      0.00         1\n",
      "                                       Blue Shift       0.00      0.00      0.00         2\n",
      "                                      Blue Tongue       0.00      0.00      0.00         1\n",
      "                        Blue Tongue Entertainment       0.00      0.00      0.00         3\n",
      "                                  Bluepoint Games       0.00      0.00      0.00         1\n",
      "                           Box Clever Interactive       0.00      0.00      0.00         1\n",
      "                                       Brain Toys       0.00      0.00      0.00         1\n",
      "                              Brash Entertainment       0.00      0.00      0.00         0\n",
      "                           Broadsword Interactive       0.00      0.00      0.00         0\n",
      "                                    Brownie Brown       0.00      0.00      0.00         0\n",
      "                                           BudCat       0.00      0.00      0.00         4\n",
      "                                Buena Vista Games       0.00      0.00      0.00         1\n",
      "                                          Bugbear       0.40      1.00      0.57         2\n",
      "                             Bullfrog Productions       0.00      0.00      0.00         1\n",
      "                                           Bungie       0.00      0.00      0.00         2\n",
      "                          Bungie Software, Bungie       0.00      0.00      0.00         3\n",
      "                                      Buzz Monkey       0.00      0.00      0.00         1\n",
      "                         Buzz Monkey, EA Montreal       0.00      0.00      0.00         1\n",
      "                                     CAProduction       0.00      0.00      0.00         0\n",
      "                                              CCP       0.00      0.00      0.00         1\n",
      "                            CD Projekt Red Studio       0.00      0.00      0.00         1\n",
      "                                         CI Games       0.00      0.00      0.00         1\n",
      "                        Camelot Software Planning       0.06      0.50      0.11         2\n",
      "                                           Capcom       0.33      0.11      0.16        28\n",
      "                                 Capcom Vancouver       0.00      0.00      0.00         0\n",
      "                 Capcom, Pipeworks Software, Inc.       0.00      0.00      0.00         1\n",
      "                                      Career Soft       0.00      0.00      0.00         1\n",
      "                                      Cattle Call       0.00      0.00      0.00         1\n",
      "                                    Cauldron Ltd.       0.00      0.00      0.00         2\n",
      "                                             Cave       0.00      0.00      0.00         1\n",
      "                                       Cavia Inc.       0.00      0.00      0.00         2\n",
      "                                    Cerasus Media       0.00      0.00      0.00         0\n",
      "                                       Cinegroupe       0.00      0.00      0.00         1\n",
      "                                             Cing       0.00      0.00      0.00         1\n",
      "                                     Circus Freak       0.00      0.00      0.00         1\n",
      "                                 City Interactive       0.00      0.00      0.00         8\n",
      "                        City Interactive, Deck 13       0.00      0.00      0.00         1\n",
      "                                        Clap Hanz       0.50      1.00      0.67         1\n",
      "                             Climax Entertainment       0.00      0.00      0.00         0\n",
      "                                     Climax Group       0.00      0.00      0.00         6\n",
      "                     Climax Group, Climax Studios       0.00      0.00      0.00         3\n",
      "                                  Clockwork Games       0.00      0.00      0.00         1\n",
      "                                    Clover Studio       0.00      0.00      0.00         0\n",
      "                                      Codemasters       0.20      0.08      0.11        13\n",
      "                           Codemasters Birmingham       0.00      0.00      0.00         2\n",
      "                             Coffee Stain Studios       0.00      0.00      0.00         1\n",
      "                                CokeM Interactive       0.00      0.00      0.00         1\n",
      "                             Coldwood Interactive       0.00      0.00      0.00         1\n",
      "                                Collision Studios       0.00      0.00      0.00         4\n",
      "                                   Colossal Order       0.00      0.00      0.00         0\n",
      "                                    Compile Heart       0.00      0.00      0.00         2\n",
      "                         Conspiracy Entertainment       0.00      0.00      0.00         0\n",
      "                             Cooking Mama Limited       0.00      0.00      0.00         1\n",
      "                                 Core Design Ltd.       0.00      0.00      0.00         1\n",
      "                                   Coyote Console       0.00      0.00      0.00         1\n",
      "                              Coyote Developments       0.00      0.00      0.00         1\n",
      "                               Cranky Pants Games       0.00      0.00      0.00         0\n",
      "                                            Crave       0.00      0.00      0.00         5\n",
      "                             Crawfish Interactive       0.00      0.00      0.00         0\n",
      "                                    Creat Studios       0.00      0.00      0.00         3\n",
      "                                        Creations       0.00      0.00      0.00         1\n",
      "                                Creative Assembly       0.00      0.00      0.00         6\n",
      "                                  Criterion Games       0.00      0.00      0.00         5\n",
      "                                          Croteam       0.00      0.00      0.00         1\n",
      "                                 Crystal Dynamics       0.00      0.00      0.00         6\n",
      "                                           Crytek       0.00      0.00      0.00         1\n",
      "                                    Culture Brain       0.00      0.00      0.00         1\n",
      "                                      Cyan Worlds       0.00      0.00      0.00         1\n",
      "                                          Cyanide       0.50      0.50      0.50         2\n",
      "                                    CyberConnect2       0.00      0.00      0.00         3\n",
      "                            CyberConnect2, Racjin       0.00      0.00      0.00         1\n",
      "         CyberPlanet Interactive Public Co., Ltd.       0.00      0.00      0.00         1\n",
      "                                Cyberlore Studios       0.00      0.00      0.00         1\n",
      "                                      D3Publisher       0.00      0.00      0.00         0\n",
      "                                       DC Studios       0.00      0.00      0.00         5\n",
      "                            DONTNOD Entertainment       0.00      0.00      0.00         0\n",
      "                                        DSI Games       0.00      0.00      0.00         0\n",
      "                                DTP Entertainment       0.00      0.00      0.00         0\n",
      "                                     Dancing Dots       0.00      0.00      0.00         1\n",
      "                                        Darkworks       0.00      0.00      0.00         0\n",
      "                          Data Design Interactive       0.00      0.00      0.00         3\n",
      "                      David A. Palmer Productions       0.00      0.00      0.00         0\n",
      "                                    Day 1 Studios       0.00      0.00      0.00         3\n",
      "                                          Deck 13       0.00      0.00      0.00         2\n",
      "                                      Deep Silver       0.00      0.00      0.00         1\n",
      "                    Deep Silver Dambuster Studios       0.00      0.00      0.00         1\n",
      "                                   Deibus Studios       0.00      0.00      0.00         0\n",
      "                  Delphine Software International       0.00      0.00      0.00         1\n",
      "                                        Destineer       0.00      0.00      0.00         4\n",
      "                               Dice, Danger Close       0.00      0.00      0.00         1\n",
      "                                    Digital Anvil       0.00      0.00      0.00         1\n",
      "                                  Digital Eclipse       0.00      0.00      0.00         7\n",
      "                                 Digital Extremes       0.00      0.00      0.00         1\n",
      "                       Digital Extremes, 2K Marin       0.00      0.00      0.00         1\n",
      "                                Digital Illusions       0.00      0.00      0.00         5\n",
      "                                     Digital Kids       0.00      0.00      0.00         0\n",
      "                                   Digital Mayhem       0.00      0.00      0.00         1\n",
      "                                Dimps Corporation       0.00      0.00      0.00         4\n",
      "                               Disney Interactive       0.00      0.00      0.00         2\n",
      "                       Disney Interactive Studios       0.67      0.67      0.67         3\n",
      "                          Double Fine Productions       0.00      0.00      0.00         0\n",
      "                               Double Helix Games       0.00      0.00      0.00         4\n",
      "                                        Doublesix       0.00      0.00      0.00         1\n",
      "                                     DreamFactory       0.00      0.00      0.00         2\n",
      "                                     Dreamcatcher       0.00      0.00      0.00         3\n",
      "                                 Dreamworks Games       0.00      0.00      0.00         1\n",
      "                           Dreamworks Interactive       0.00      0.00      0.00         1\n",
      "                                     EA Black Box       0.00      0.00      0.00         1\n",
      "                                  EA Bright Light       0.50      0.10      0.17        10\n",
      "                                        EA Canada       0.31      0.47      0.37        32\n",
      "                            EA Canada, Nihilistic       0.00      0.00      0.00         1\n",
      "                                          EA DICE       1.00      0.12      0.22         8\n",
      "                                         EA Games       0.08      0.50      0.13         6\n",
      "                                            EA LA       0.00      0.00      0.00         0\n",
      "                                      EA Montreal       0.00      0.00      0.00         3\n",
      "                                EA Redwood Shores       0.00      0.00      0.00         1\n",
      "                                     EA Salt Lake       0.06      0.50      0.11         2\n",
      "                                       EA Seattle       0.00      0.00      0.00         1\n",
      "                                        EA Sports       0.33      0.03      0.05        37\n",
      "                                    EA Sports Big       0.33      1.00      0.50         1\n",
      "                             EA Sports, EA Canada       0.00      0.00      0.00         1\n",
      "                          EA Sports, EA Vancouver       0.00      0.00      0.00         0\n",
      "                                       EA Tiburon       0.00      0.00      0.00        16\n",
      "                              EA Tiburon, n-Space       0.00      0.00      0.00         1\n",
      "                                     EA Vancouver       0.00      0.00      0.00         1\n",
      "                                              ECI       0.00      0.00      0.00         1\n",
      "                                     EKO Software       0.00      0.00      0.00         3\n",
      "                                       EM Studios       0.00      0.00      0.00         1\n",
      "                                   Eagle Dynamics       0.00      0.00      0.00         1\n",
      "                                 Easy Interactive       0.00      0.00      0.00         0\n",
      "                                             Eden       1.00      1.00      1.00         1\n",
      "                                     Eden Studios       0.00      0.00      0.00         2\n",
      "                                  Edge of Reality       0.00      0.00      0.00         6\n",
      "                                          Egosoft       0.00      0.00      0.00         0\n",
      "                                Eidos Interactive       0.00      0.00      0.00         1\n",
      "                                   Eidos Montreal       0.00      0.00      0.00         0\n",
      "                  Eidos Montreal, Nixxes Software       0.00      0.00      0.00         1\n",
      "                                         Eighting       0.00      0.00      0.00         2\n",
      "                            Eighting, Takara Tomy       0.00      0.00      0.00         1\n",
      "                                 Eighting/Raizing       0.00      0.00      0.00         2\n",
      "                                  Electronic Arts       0.00      0.00      0.00        26\n",
      "                               Empire Interactive       0.00      0.00      0.00         1\n",
      "                                    Empire Oxford       0.33      1.00      0.50         1\n",
      "                                          Endemol       0.60      1.00      0.75         3\n",
      "                                  Engine Software       0.00      0.00      0.00         3\n",
      "                        Engine Software, Re-Logic       0.00      0.00      0.00         1\n",
      "                                    EnjoyUp Games       0.00      0.00      0.00         1\n",
      "                                 Ensemble Studios       0.25      1.00      0.40         1\n",
      "                                       Epic Games       0.00      0.00      0.00         1\n",
      "                                Epicenter Studios       0.00      0.00      0.00         1\n",
      "                                            Epics       0.00      0.00      0.00         0\n",
      "                              Etranges Libellules       0.00      0.00      0.00         1\n",
      "                                    Eugen Systems       0.00      0.00      0.00         2\n",
      "                   Eurocom Entertainment Software       0.00      0.00      0.00         5\n",
      "                                        Eutechnyx       0.25      0.40      0.31         5\n",
      "                                  Evolution Games       0.00      0.00      0.00         1\n",
      "                                Evolution Studios       0.00      0.00      0.00         1\n",
      "                                            Exakt       0.00      0.00      0.00         3\n",
      "                                            Examu       0.00      0.00      0.00         1\n",
      "                             Exient Entertainment       0.00      0.00      0.00         4\n",
      "                                  Experience Inc.       0.00      0.00      0.00         1\n",
      "                               Extra Mile Studios       0.00      0.00      0.00         1\n",
      "                                      FASA Studio       0.00      0.00      0.00         1\n",
      "                                         FUN Labs       0.00      0.00      0.00         8\n",
      "                                           Falcom       0.25      0.50      0.33         2\n",
      "                                 Farsight Studios       0.00      0.00      0.00         3\n",
      "                          Farsight Studios, Crave       0.00      0.00      0.00         1\n",
      "                                         FeelPlus       0.00      0.00      0.00         1\n",
      "                                    Firaxis Games       1.00      0.67      0.80         3\n",
      "                                  FireFly Studios       0.00      0.00      0.00         0\n",
      "                                  Firebrand Games       0.00      0.00      0.00         8\n",
      "                                Firehazard Studio       0.00      0.00      0.00         0\n",
      "                                         Flagship       0.00      0.00      0.00         1\n",
      "                                      Flight-Plan       0.00      0.00      0.00         1\n",
      "                                    Fluid Studios       0.00      0.00      0.00         1\n",
      "                         Flying Tiger Development       0.00      0.00      0.00         1\n",
      "                                    Foreign Media       1.00      1.00      1.00         1\n",
      "                        Frame Studios Interactive       0.00      0.00      0.00         1\n",
      "                              Free Radical Design       0.00      0.00      0.00         3\n",
      "                                   FreeStyleGames       0.00      0.00      0.00         0\n",
      "                                     Frima Studio       0.00      0.00      0.00         1\n",
      "                                        Frogwares       0.25      0.50      0.33         2\n",
      "                                    From Software       0.00      0.00      0.00         8\n",
      "                                FrontLine Studios       0.00      0.00      0.00         2\n",
      "                            Frontier Developments       0.00      0.00      0.00         1\n",
      "                                            FuRyu       0.00      0.00      0.00         1\n",
      "                                         Full Fat       0.00      0.00      0.00         4\n",
      "                                         Full-Fat       0.00      0.00      0.00         1\n",
      "                                     Funbox Media       0.00      0.00      0.00         0\n",
      "                                           Funcom       0.00      0.00      0.00         0\n",
      "                                        G-Artists       0.00      0.00      0.00         1\n",
      "                                             GRIN       0.00      0.00      0.00         1\n",
      "                                   GSC Game World       0.00      0.00      0.00         0\n",
      "                             Gaijin Entertainment       0.00      0.00      0.00         2\n",
      "                                        Game Arts       0.00      0.00      0.00         6\n",
      "                                       Game Freak       0.00      0.00      0.00         2\n",
      "                                        Game Life       0.00      0.00      0.00         0\n",
      "                             Game Machine Studios       0.00      0.00      0.00         2\n",
      "                                    Game Republic       0.00      0.00      0.00         3\n",
      "                                       Game Sauce       0.00      0.00      0.00         0\n",
      "                                       Game Titan       0.00      0.00      0.00         1\n",
      "                                           GameCo       0.00      0.00      0.00         1\n",
      "    GameMill Publishing, 1st Playable Productions       0.00      0.00      0.00         1\n",
      "                                       Gameinvest       0.00      0.00      0.00         1\n",
      "                                         Gameloft       0.00      0.00      0.00         1\n",
      "                                       Games Farm       0.00      0.00      0.00         2\n",
      "                             Gaming Minds Studios       0.00      0.00      0.00         1\n",
      "                                        Ganbarion       0.22      1.00      0.36         2\n",
      "                                Gas Powered Games       0.00      0.00      0.00         1\n",
      "                                 Gearbox Software       0.00      0.00      0.00         5\n",
      "                      Gearbox Software, 3D Realms       1.00      1.00      1.00         1\n",
      "                                         GenePool       0.00      0.00      0.00         1\n",
      "                             Genius Sonority Inc.       0.00      0.00      0.00         0\n",
      "                                            Genki       0.00      0.00      0.00         1\n",
      "                                    Genuine Games       0.00      0.00      0.00         2\n",
      "                                      Ghost Games       1.00      1.00      1.00         1\n",
      "                                  Giants Software       0.50      0.25      0.33         4\n",
      "                                         Global A       0.00      0.00      0.00         0\n",
      "                             Global Star Software       0.00      0.00      0.00         0\n",
      "                            Glyphic Entertainment       0.00      0.00      0.00         0\n",
      "                                      Gogii Games       1.00      1.00      1.00         1\n",
      "                              Good Science Studio       0.00      0.00      0.00         1\n",
      "                                    Gorilla Games       0.00      0.00      0.00         1\n",
      "                                  Gorilla Systems       0.00      0.00      0.00         2\n",
      "                           Graffiti Entertainment       0.00      0.00      0.00         0\n",
      "                          Grasshopper Manufacture       0.00      0.00      0.00         5\n",
      "                                 Gratuitous Games       0.00      0.00      0.00         0\n",
      "                            Griffin International       0.00      0.00      0.00         0\n",
      "                                 Griptonite Games       0.00      0.00      0.00         5\n",
      "                                        Guerrilla       0.00      0.00      0.00         1\n",
      "                                 Guildford Studio       0.00      0.00      0.00         1\n",
      "                                           GungHo       0.00      0.00      0.00         1\n",
      "                                             Gust       0.00      0.00      0.00         3\n",
      "                               Gust, Idea Factory       0.00      0.00      0.00         1\n",
      "                                      Gusto Games       0.00      0.00      0.00         1\n",
      "                                         HAL Labs       0.40      0.67      0.50         3\n",
      "                            HB Studios Multimedia       0.17      0.33      0.22         3\n",
      "                                        Haemimont       0.50      0.33      0.40         3\n",
      "                                Halfbrick Studios       0.00      0.00      0.00         2\n",
      "                                   Handheld Games       0.00      0.00      0.00         2\n",
      "                                        Hangar 13       0.00      0.00      0.00         1\n",
      "                                  Happy Happening       0.00      0.00      0.00         1\n",
      "                           Harmonix Music Systems       1.00      0.08      0.15        12\n",
      "         Harmonix Music Systems, Demiurge Studios       0.00      0.00      0.00         1\n",
      "                               Hasbro Interactive       0.00      0.00      0.00         1\n",
      "                                 Headstrong Games       0.00      0.00      0.00         1\n",
      "                   Headup Games, Crenetic Studios       0.00      0.00      0.00         1\n",
      "                               Heavy Iron Studios       0.00      0.00      0.00         1\n",
      "                                           Helixe       0.11      0.33      0.17         3\n",
      "                                   Hellbent Games       0.00      0.00      0.00         1\n",
      "                                      Hello Games       0.00      0.00      0.00         1\n",
      "                                High Impact Games       0.00      0.00      0.00         2\n",
      "                                High Moon Studios       0.00      0.00      0.00         2\n",
      "        High Moon Studios, Mercenary Technologies       0.00      0.00      0.00         1\n",
      "                            High Voltage Software       0.00      0.00      0.00        12\n",
      "    High Voltage Software, Backbone Entertainment       0.00      0.00      0.00         2\n",
      "                                   Hijinx Studios       0.00      0.00      0.00         1\n",
      "                                         Hitmaker       0.00      0.00      0.00         0\n",
      "                                 Hoplite Research       0.00      0.00      0.00         1\n",
      "                                   Hot Lava Games       0.00      0.00      0.00         1\n",
      "                                           HotGen       0.00      0.00      0.00         2\n",
      "                                           Hudson       0.00      0.00      0.00         2\n",
      "                             Hudson Entertainment       0.00      0.00      0.00         1\n",
      "                                      Hudson Soft       0.00      0.00      0.00         3\n",
      "                       Hudson, NATSUME ATARI Inc.       0.00      0.00      0.00         1\n",
      "                                         Humagade       0.00      0.00      0.00         1\n",
      "                              Human Entertainment       0.00      0.00      0.00         1\n",
      "                                       Human Soft       0.00      0.00      0.00         3\n",
      "                          Humongous Entertainment       0.00      0.00      0.00         1\n",
      "                                      Hydravision       0.00      0.00      0.00         2\n",
      "                                         Hypnotix       0.00      0.00      0.00         5\n",
      "                                         IR Gurus       0.00      0.00      0.00         0\n",
      "                                              ITL       0.00      0.00      0.00         0\n",
      "                                       Icon Games       0.00      0.00      0.00         0\n",
      "                                     Idea Factory       0.00      0.00      0.00         1\n",
      "                      Idea Factory, Compile Heart       0.00      0.00      0.00         0\n",
      "                                       Idol Minds       0.00      0.00      0.00         2\n",
      "                           Ignition Entertainment       0.00      0.00      0.00         1\n",
      "                               Illusion Softworks       0.00      0.00      0.00         0\n",
      "                          Image Epoch, Imageepoch       0.29      1.00      0.44         2\n",
      "                    Immersion Software & Graphics       0.00      0.00      0.00         1\n",
      "                            InLight Entertainment       0.00      0.00      0.00         1\n",
      "                             InXile Entertainment       0.00      0.00      0.00         0\n",
      "                                Incinerator Games       0.00      0.00      0.00         0\n",
      "                                   Incognito Inc.       0.00      0.00      0.00         1\n",
      "                                      Indie Built       0.00      0.00      0.00         1\n",
      "                                      Indies Zero       0.00      0.00      0.00         1\n",
      "                         Inevitable Entertainment       1.00      1.00      1.00         1\n",
      "                             Infinite Interactive       0.00      0.00      0.00         1\n",
      "                                    Infinity Ward       0.17      0.67      0.27         3\n",
      "                                       Infogrames       0.00      0.00      0.00         1\n",
      "                                  Insomniac Games       0.00      0.00      0.00         2\n",
      "                              Intelligent Systems       0.22      0.22      0.22         9\n",
      "                          InterServ International       0.00      0.00      0.00         1\n",
      "                       Interworks Unlimited, Inc.       0.00      0.00      0.00         1\n",
      "                                             Inti       1.00      1.00      1.00         1\n",
      "                                     Inti Creates       0.00      0.00      0.00         1\n",
      "                               Inti, Inti Creates       0.00      0.00      0.00         1\n",
      "                                   Io Interactive       0.00      0.00      0.00         9\n",
      "                                        Ion Storm       0.00      0.00      0.00         0\n",
      "                                             Irem       0.00      0.00      0.00         1\n",
      "                            Iridon Interactive AB       0.00      0.00      0.00         1\n",
      "                              Iron Galaxy Studios       0.00      0.00      0.00         1\n",
      "                                   Ironclad Games       0.00      0.00      0.00         0\n",
      "                                 Irrational Games       0.00      0.00      0.00         0\n",
      "                                        Ivolgamus       0.00      0.00      0.00         2\n",
      "                                      Ivory Tower       1.00      1.00      1.00         1\n",
      "                                    JV Games Inc.       0.00      0.00      0.00         1\n",
      "                                Jack of All Games       0.00      0.00      0.00         0\n",
      "                             Jaleco Entertainment       0.00      0.00      0.00         3\n",
      "                                      Jellyvision       0.00      0.00      0.00         0\n",
      "                               Jester Interactive       0.00      0.00      0.00         0\n",
      "                                  Jet Black Games       0.00      0.00      0.00         1\n",
      "                                         Joindots       0.00      0.00      0.00         1\n",
      "                           Joindots, Mastertronic       0.00      0.00      0.00         1\n",
      "                                      Juice Games       0.67      0.40      0.50         5\n",
      "                              Jupiter Corporation       0.00      0.00      0.00         2\n",
      "                                               K2       0.00      0.00      0.00         0\n",
      "                                      KCE Studios       0.00      0.00      0.00         0\n",
      "                                             KCEA       0.00      0.00      0.00         0\n",
      "                                             KCEJ       0.00      0.00      0.00         0\n",
      "                                             KCEK       0.00      0.00      0.00         2\n",
      "                                             KCEO       0.00      0.00      0.00         0\n",
      "                                             KCET       0.00      0.00      0.00         9\n",
      "                                         KING Art       0.00      0.00      0.00         1\n",
      "                                         Kadokawa       0.00      0.00      0.00         3\n",
      "                                          Kalypso       0.00      0.00      0.00         3\n",
      "                                     Kaos Studios       0.00      0.00      0.00         0\n",
      "                                       Keen Games       0.00      0.00      0.00         2\n",
      "                                            Kemco       0.00      0.00      0.00         0\n",
      "                                    Kheops Studio       0.00      0.00      0.00         1\n",
      "                                        Killaware       0.00      0.00      0.00         1\n",
      "                               King of the Jungle       0.00      0.00      0.00         1\n",
      "                               Kodiak Interactive       0.00      0.00      0.00         1\n",
      "                                             Koei       0.00      0.00      0.00         5\n",
      "                                 Koei Tecmo Games       0.33      0.50      0.40         2\n",
      "                                Koei, Omega Force       0.00      0.00      0.00         1\n",
      "                                        Koei/Inis       0.00      0.00      0.00         1\n",
      "                               Kojima Productions       0.25      0.33      0.29         3\n",
      "             Kojima Productions, Moby Dick Studio       0.50      1.00      0.67         1\n",
      "                               Kokolo Corporation       0.00      0.00      0.00         1\n",
      "                                           Konami       0.50      0.03      0.06        32\n",
      "             Konami Computer Entertainment Hawaii       0.14      0.50      0.22         2\n",
      "             Konami Computer Entertainment Nagoya       0.00      0.00      0.00         1\n",
      "                                   Koolhaus Games       0.00      0.00      0.00         0\n",
      "                                        Kouyousha       0.00      0.00      0.00         0\n",
      "                                    Krome Studios       0.00      0.00      0.00         5\n",
      "                               Kuju Entertainment       0.00      0.00      0.00         4\n",
      "                                       Kush Games       0.00      0.00      0.00         3\n",
      "                                    Kuusou Kagaku       0.00      0.00      0.00         1\n",
      "                                              LSP       0.00      0.00      0.00         2\n",
      "                                   Lab Rats Games       0.00      0.00      0.00         1\n",
      "                                         Land Ho!       0.00      0.00      0.00         2\n",
      "                                   Larian Studios       0.50      1.00      0.67         1\n",
      "                           Left Field Productions       0.00      0.00      0.00         1\n",
      "                               Legacy Interactive       0.00      0.00      0.00         2\n",
      "                                          Level 5       0.00      0.00      0.00         5\n",
      "                                  Lexis Numerique       0.00      0.00      0.00         0\n",
      "                    Lexis Numerique, Virtual Toys       0.00      0.00      0.00         0\n",
      "                                     Light Weight       0.00      0.00      0.00         1\n",
      "                                 Lionhead Studios       0.00      0.00      0.00         1\n",
      "                                     Little Orbit       0.00      0.00      0.00         2\n",
      "                                 Locomotive Games       0.00      0.00      0.00         1\n",
      "                                 Longtail Studios       0.00      0.00      0.00         0\n",
      "                                        Lost Toys       0.00      0.00      0.00         0\n",
      "                                        LucasArts       0.00      0.00      0.00         5\n",
      "                         LucasArts, Krome Studios       1.00      1.00      1.00         1\n",
      "                                    Lucky Chicken       0.00      0.00      0.00         2\n",
      "                                            Ludia       0.00      0.00      0.00         0\n",
      "                                       Ludia Inc.       0.00      0.00      0.00         3\n",
      "                                   Luxoflux, Inc.       0.20      1.00      0.33         1\n",
      "                                               M2       0.00      0.00      0.00         1\n",
      "                                              MTO       0.00      0.00      0.00         3\n",
      "                                Mac Play, MacPlay       0.00      0.00      0.00         2\n",
      "                                   Machatin, Inc.       0.00      0.00      0.00         0\n",
      "                                     MachineGames       0.00      0.00      0.00         2\n",
      "                                         Mad Catz       0.00      0.00      0.00         1\n",
      "                                 Mad Doc Software       0.00      0.00      0.00         1\n",
      "             Mad Doc Software, Rockstar Vancouver       0.00      0.00      0.00         2\n",
      "                             Magellan Interactive       0.00      0.00      0.00         1\n",
      "                                 Magenta Software       0.00      0.00      0.00         1\n",
      "                                    Magic Pockets       0.00      0.00      0.00         5\n",
      "                                        MagicWand       0.00      0.00      0.00         0\n",
      "                                        Marvelous       0.00      0.00      0.00         1\n",
      "                                    Marvelous AQL       0.00      0.00      0.00         1\n",
      "                          Marvelous Entertainment       0.25      0.50      0.33         2\n",
      "                                   Marvelous Inc.       0.09      1.00      0.17         1\n",
      "                                       Mass Media       0.00      0.00      0.00         2\n",
      "                            Massive Entertainment       0.00      0.00      0.00         2\n",
      "                                  Matrix Software       0.00      0.00      0.00         1\n",
      "                                    Maximum Games       0.00      0.00      0.00         1\n",
      "                                            Maxis       0.00      0.00      0.00        11\n",
      "                                   Media Molecule       0.00      0.00      0.00         1\n",
      "                                     Media Vision       0.00      0.00      0.00         2\n",
      "                                       Mekensleep       0.00      0.00      0.00         1\n",
      "                                  Melbourne House       0.00      0.00      0.00         0\n",
      "                               Mentor Interactive       0.00      0.00      0.00         0\n",
      "                                    Mercury Steam       0.00      0.00      0.00         1\n",
      "                                     Mere Mortals       0.00      0.00      0.00         1\n",
      "                                            Metro       0.00      0.00      0.00         1\n",
      "                                   Metro Graphics       0.00      0.00      0.00         1\n",
      "                                          Metro3D       0.00      0.00      0.00         1\n",
      "                              Metropolis Software       0.00      0.00      0.00         1\n",
      "                                      Micro Cabin       0.00      0.00      0.00         1\n",
      "                              MicroProse, n-Space       0.00      0.00      0.00         1\n",
      "                                         Microids       0.00      0.00      0.00         3\n",
      "                           Microsoft Game Studios       0.00      0.00      0.00         1\n",
      "                                           Midway       1.00      0.08      0.14        13\n",
      "                          Midway Studios - Austin       0.00      0.00      0.00         0\n",
      "                     Midway Studios - Los Angeles       0.00      0.00      0.00         1\n",
      "                                        Milestone       0.00      0.00      0.00         1\n",
      "                                  Milestone S.r.l       0.18      0.33      0.24         6\n",
      "                                          Million       0.00      0.00      0.00         0\n",
      "                                       Mind Candy       0.00      0.00      0.00         1\n",
      "                            Minds-Eye Productions       0.00      0.00      0.00         1\n",
      "                                  Mistic Software       0.00      0.00      0.00         1\n",
      "                               Mistwalker, Artoon       0.00      0.00      0.00         0\n",
      "                                         Mitchell       0.00      0.00      0.00         1\n",
      "                                          Mix Max       0.00      0.00      0.00         1\n",
      "                             Mobius Entertainment       0.00      0.00      0.00         1\n",
      "                                 Monkey Bar Games       0.00      0.00      0.00         4\n",
      "                             Monolith Productions       0.00      0.00      0.00         2\n",
      "                                    Monolith Soft       0.00      0.00      0.00         1\n",
      "                          Monte Cristo Multimedia       0.00      0.00      0.00         1\n",
      "                                 Monumental Games       1.00      0.50      0.67         2\n",
      "                        Most Wanted Entertainment       0.00      0.00      0.00         1\n",
      "                           Mucky Foot Productions       0.00      0.00      0.00         1\n",
      "                                       MumboJumbo       0.00      0.00      0.00         2\n",
      "         N-Fusion Interactive Entertainment Corp.       0.00      0.00      0.00         0\n",
      "                               NATSUME ATARI Inc.       0.00      0.00      0.00         1\n",
      "                                            Nadeo       1.00      1.00      1.00         1\n",
      "                                            Namco       0.60      0.20      0.30        15\n",
      "                               Namco Bandai Games       0.00      0.00      0.00         3\n",
      "                       Namco Bandai Games America       0.00      0.00      0.00         0\n",
      "   Namco Bandai Games America, Namco Bandai Games       0.00      0.00      0.00         1\n",
      "           Namco Bandai Games, Bandai Namco Games       0.00      0.00      0.00         1\n",
      "                      Namco Bandai Games, Cellius       0.00      0.00      0.00         1\n",
      "             Namco Bandai Games, Monkey Bar Games       0.00      0.00      0.00         1\n",
      "                                       NanaOn-Sha       0.00      0.00      0.00         1\n",
      "                                          Natsume       0.00      0.00      0.00         6\n",
      "                                      Naughty Dog       0.20      0.25      0.22         4\n",
      "                                          Nd Cube       0.00      0.00      0.00         2\n",
      "                               Neko Entertainment       0.00      0.00      0.00         3\n",
      "                                     Neon Studios       0.00      0.00      0.00         1\n",
      "                                          Neopica       0.00      0.00      0.00         0\n",
      "                                   Nerve Software       0.00      0.00      0.00         2\n",
      "                              NetherRealm Studios       1.00      1.00      1.00         2\n",
      "                                        Neverland       0.00      0.00      0.00         6\n",
      "                          Neverland, Idea Factory       0.00      0.00      0.00         0\n",
      "                          Neversoft Entertainment       0.40      0.33      0.36         6\n",
      "                                Nex Entertainment       0.00      0.00      0.00         3\n",
      "                                 Next Level Games       0.00      0.00      0.00         1\n",
      "                       Next Level Games, Nintendo       0.00      0.00      0.00         1\n",
      "                                          Nicalis       0.00      0.00      0.00         1\n",
      "                                     Ninja Theory       0.00      0.00      0.00         1\n",
      "                                         Nintendo       0.37      0.62      0.47        16\n",
      "                               Nintendo EAD Tokyo       0.00      0.00      0.00         0\n",
      "                                Nintendo, Nd Cube       0.00      0.00      0.00         0\n",
      "           Nintendo, Nintendo Software Technology       0.00      0.00      0.00         0\n",
      "                             Nippon Ichi Software       0.00      0.00      0.00         4\n",
      "                                      Nitro Games       0.00      0.00      0.00         1\n",
      "                                Nival Interactive       0.00      0.00      0.00         1\n",
      "                                  Nixxes Software       0.00      0.00      0.00         3\n",
      "                                          Nobilis       0.00      0.00      0.00         0\n",
      "                                    Noise Factory       0.00      0.00      0.00         0\n",
      "                                      Nordcurrent       0.00      0.00      0.00         2\n",
      "                          Nordic Games Publishing       0.00      0.00      0.00         2\n",
      "                                         Novarama       0.00      0.00      0.00         1\n",
      "                                   Now Production       0.00      0.00      0.00         8\n",
      "                                             NuFX       0.00      0.00      0.00         2\n",
      "                                          O-Games       1.00      1.00      1.00         1\n",
      "                                     Oberon Media       0.00      0.00      0.00         1\n",
      "                           Obsidian Entertainment       0.00      0.00      0.00         3\n",
      "                             Oddworld Inhabitants       0.00      0.00      0.00         0\n",
      "                                    Office Create       0.00      0.00      0.00         1\n",
      "                                      Omega Force       0.50      0.16      0.24        19\n",
      "                    Omega Force, Koei Tecmo Games       0.00      0.00      0.00         1\n",
      "                                  OneNine Studios       0.00      0.00      0.00         0\n",
      "                                             Opus       0.00      0.00      0.00         1\n",
      "                              Orbital Media, Inc.       0.00      0.00      0.00         1\n",
      "                                     Osaka Studio       0.00      0.00      0.00         1\n",
      "                          Other Ocean Interactive       0.00      0.00      0.00         1\n",
      "                                          Otomate       0.00      0.00      0.00         0\n",
      "                                    Outrage Games       0.00      0.00      0.00         1\n",
      "                               Oxygen Interactive       0.00      0.00      0.00         1\n",
      "                      Pacific Coast Power & Light       0.20      0.50      0.29         2\n",
      "                                  Page 44 Studios       0.00      0.00      0.00         1\n",
      "                                  Pam Development       0.33      0.50      0.40         2\n",
      "                                 Pandemic Studios       0.00      0.00      0.00         5\n",
      "                                     Panic Button       0.00      0.00      0.00         1\n",
      "                                 Panther Software       0.00      0.00      0.00         1\n",
      "                                 Paon Corporation       0.00      0.00      0.00         0\n",
      "                                   Papaya Studios       0.00      0.00      0.00         2\n",
      "                                          Papyrus       0.00      0.00      0.00         1\n",
      "                           Paradigm Entertainment       0.00      0.00      0.00         2\n",
      "                              Paradox Development       0.00      0.00      0.00         1\n",
      "                       Paradox Development Studio       0.00      0.00      0.00         0\n",
      "                              Paradox Interactive       0.00      0.00      0.00         0\n",
      "                                  Pendulo Studios       0.50      1.00      0.67         1\n",
      "                                       Petroglyph       0.00      0.00      0.00         1\n",
      "                                       Phantagram       0.00      0.00      0.00         1\n",
      "                            Phoenix Entertainment       0.00      0.00      0.00         1\n",
      "                             Phoenix Games Studio       0.00      0.00      0.00         1\n",
      "                Phoenix Interactive Entertainment       0.00      0.00      0.00         2\n",
      "                         Pipeworks Software, Inc.       0.00      0.00      0.00         3\n",
      "                                    Piranha Bytes       0.40      0.50      0.44         4\n",
      "                                    Piranha Games       0.00      0.00      0.00         0\n",
      "                              Planet Moon Studios       0.00      0.00      0.00         1\n",
      "                                    PlatinumGames       0.00      0.00      0.00         8\n",
      "                            Playrix Entertainment       0.00      0.00      0.00         1\n",
      "                                    Point of View       0.00      0.00      0.00         8\n",
      "                                    Polygon Magic       0.00      0.00      0.00         1\n",
      "                                Polyphony Digital       0.00      0.00      0.00         0\n",
      "                                           PopCap       0.00      0.00      0.00         5\n",
      "                                  PopTop Software       0.00      0.00      0.00         0\n",
      "                                  Powerhead Games       0.00      0.00      0.00         6\n",
      "                                     Project Aces       0.00      0.00      0.00         1\n",
      "                                     Pronto Games       0.00      0.00      0.00         0\n",
      "                                 Propaganda Games       0.00      0.00      0.00         0\n",
      "                                            Prope       0.00      0.00      0.00         1\n",
      "                               Pseudo Interactive       0.00      0.00      0.00         1\n",
      "                                           Psikyo       0.00      0.00      0.00         1\n",
      "                                        Psygnosis       0.00      0.00      0.00         2\n",
      "                                          Psyonix       0.00      0.00      0.00         1\n",
      "                                     Purple Hills       0.00      0.00      0.00         1\n",
      "                                          Pyramid       0.00      0.00      0.00         1\n",
      "                                     Pyro Studios       0.00      0.00      0.00         0\n",
      "                                  Q Entertainment       0.00      0.00      0.00         1\n",
      "                                          Q-Games       0.00      0.00      0.00         0\n",
      "                                    Quantic Dream       0.00      0.00      0.00         2\n",
      "                             Quicksilver Software       0.00      0.00      0.00         1\n",
      "                                RED Entertainment       0.00      0.00      0.00         1\n",
      "                RED Entertainment, Spike Chunsoft       0.00      0.00      0.00         1\n",
      "                                  RFX Interactive       0.00      0.00      0.00         0\n",
      "                                           Racjin       0.00      0.00      0.00         3\n",
      "                            Radical Entertainment       0.00      0.00      0.00         8\n",
      "                                    Rage Software       0.00      0.00      0.00         1\n",
      "                                  Rainbow Studios       1.00      0.14      0.25         7\n",
      "                                        Rare Ltd.       0.00      0.00      0.00         4\n",
      "                                           Raster       0.00      0.00      0.00         1\n",
      "                                           Ratbag       0.00      0.00      0.00         2\n",
      "                                   Raven Software       0.00      0.00      0.00         1\n",
      "                                 Raylight Studios       0.00      0.00      0.00         2\n",
      "                           Razorback Developments       0.00      0.00      0.00         1\n",
      "                                       Razorworks       0.00      0.00      0.00         1\n",
      "                               Razorworks Studios       0.00      0.00      0.00         1\n",
      "                                         Re-Logic       0.00      0.00      0.00         0\n",
      "                                    Ready at Dawn       0.00      0.00      0.00         0\n",
      "                  Ready at Dawn, SCE Santa Monica       0.00      0.00      0.00         2\n",
      "                                     Reality Pump       0.00      0.00      0.00         1\n",
      "                                        Rebellion       0.00      0.00      0.00         6\n",
      "                                   Red Fly Studio       0.00      0.00      0.00         1\n",
      "                          Red Storm Entertainment       0.00      0.00      0.00         0\n",
      "        Red Storm Entertainment, Ubisoft Montreal       0.00      0.00      0.00         1\n",
      "           Red Storm Entertainment, Ubisoft Paris       0.00      0.00      0.00         1\n",
      "                                        Red Tribe       0.33      0.50      0.40         2\n",
      "                   Red Tribe, Brash Entertainment       0.00      0.00      0.00         2\n",
      "                          Reflections Interactive       0.00      0.00      0.00         1\n",
      "                                            Relic       0.00      0.00      0.00         5\n",
      "                             Remedy Entertainment       0.00      0.00      0.00         1\n",
      "                                     Renegade Kid       0.00      0.00      0.00         1\n",
      "                            Respawn Entertainment       0.00      0.00      0.00         1\n",
      "                                    Retro Studios       0.33      1.00      0.50         1\n",
      "                              Revolution Software       0.00      0.00      0.00         1\n",
      "                                Rising Star Games       1.00      0.50      0.67         2\n",
      "                                         Robomodo       0.50      0.50      0.50         2\n",
      "                                   Rockstar Leeds       0.00      0.00      0.00         3\n",
      "                                   Rockstar North       0.67      0.50      0.57         4\n",
      "                               Rockstar San Diego       0.00      0.00      0.00         1\n",
      "                                 Rockstar Studios       0.00      0.00      0.00         1\n",
      "                                 Rockstar Toronto       0.00      0.00      0.00         1\n",
      "                               Rocksteady Studios       0.25      1.00      0.40         1\n",
      "                      Rocksteady Studios, Virtuos       0.00      0.00      0.00         1\n",
      "                Rovio Mobile, Rovio Entertainment       0.00      0.00      0.00         1\n",
      "                                      Runic Games       0.00      0.00      0.00         1\n",
      "                            Ryu ga Gotoku Studios       0.33      1.00      0.50         1\n",
      "                                            S-Neo       0.00      0.00      0.00         1\n",
      "                                 SCE Japan Studio       0.17      0.33      0.22         3\n",
      "                                 SCE Santa Monica       0.20      1.00      0.33         1\n",
      "                             SCE Studio Cambridge       0.00      0.00      0.00         1\n",
      "                          SCE/WWS, Media Molecule       0.00      0.00      0.00         1\n",
      "                                             SCEA       0.00      0.00      0.00         1\n",
      "                           SCEA San Diego Studios       1.00      0.60      0.75         5\n",
      "                               SCEA Sports Studio       0.00      0.00      0.00         1\n",
      "                                             SCEE       0.00      0.00      0.00         3\n",
      "                               SCEE London Studio       0.83      0.83      0.83         6\n",
      "                                   SCEE, Zoe Mode       0.00      0.00      0.00         1\n",
      "                                             SCEI       0.00      0.00      0.00         0\n",
      "                                             SCEJ       0.00      0.00      0.00         0\n",
      "                                     SCS Software       0.00      0.00      0.00         1\n",
      "                               SEGA Racing Studio       0.00      0.00      0.00         1\n",
      "                                              SNK       0.00      0.00      0.00         0\n",
      "                                     SNK Playmore       0.06      0.29      0.10         7\n",
      "                                Saber Interactive       0.14      1.00      0.25         1\n",
      "                                          Saffire       0.00      0.00      0.00         1\n",
      "                               Sand Grain Studios       0.50      0.67      0.57         3\n",
      "                                          Sandlot       0.00      0.00      0.00         1\n",
      "                                 Santa Cruz Games       0.00      0.00      0.00         1\n",
      "                                      Sanuk Games       0.00      0.00      0.00         0\n",
      "            Sanuk Software Co., Ltd., Sanuk Games       0.00      0.00      0.00         1\n",
      "               Sanzaru Games, Sanzaru Games, Inc.       0.00      0.00      0.00         1\n",
      "                                    Sarbakan Inc.       0.00      0.00      0.00         1\n",
      "                             Savage Entertainment       0.00      0.00      0.00         1\n",
      "                            Scientifically Proven       0.00      0.00      0.00         1\n",
      "                                     Secret Level       0.00      0.00      0.00         1\n",
      "                                             Sega       0.23      0.50      0.32         6\n",
      "                                         Sega AM2       0.00      0.00      0.00         2\n",
      "                       Sega Studios San Francisco       0.50      1.00      0.67         1\n",
      "                                    Sensory Sweep       0.00      0.00      0.00         1\n",
      "                                 Seta Corporation       0.00      0.00      0.00         1\n",
      "                        Shift, Bandai Namco Games       0.00      0.00      0.00         1\n",
      "                                          Shin'en       0.00      0.00      0.00         3\n",
      "                              Shiny Entertainment       0.25      1.00      0.40         1\n",
      "                                Sidhe Interactive       0.00      0.00      0.00         1\n",
      "                                   Silicon Dreams       0.00      0.00      0.00         1\n",
      "                                  Silicon Knights       0.00      0.00      0.00         1\n",
      "                                   Silicon Studio       0.00      0.00      0.00         2\n",
      "                                           SimBin       0.00      0.00      0.00         0\n",
      "                                             Sims       0.00      0.00      0.00         0\n",
      "                                   Sinister Games       0.00      0.00      0.00         1\n",
      "                                        Skip Ltd.       0.00      0.00      0.00         1\n",
      "                            Skyworks Technologies       0.00      0.00      0.00         1\n",
      "                                       Slam Games       0.00      0.00      0.00         2\n",
      "                             Slightly Mad Studios       0.00      0.00      0.00         0\n",
      "                           Smack Down Productions       0.00      0.00      0.00         0\n",
      "                           Smart Bomb Interactive       0.00      0.00      0.00         1\n",
      "                                         Smilebit       0.00      0.00      0.00         1\n",
      "                                Snap Dragon Games       0.00      0.00      0.00         1\n",
      "                                       Snapdragon       0.00      0.00      0.00         1\n",
      "                                Snowblind Studios       0.00      0.00      0.00         2\n",
      "                                  Societe Pollene       0.00      0.00      0.00         1\n",
      "                               Software Creations       0.00      0.00      0.00         2\n",
      "                                       Sonic Team       0.50      0.09      0.15        11\n",
      "                                        Sony Bend       0.50      1.00      0.67         1\n",
      "                        Sony Online Entertainment       0.09      1.00      0.17         1\n",
      " Sony Online Entertainment, Mind Control Software       0.00      0.00      0.00         1\n",
      "                                  SouthPeak Games       0.00      0.00      0.00         1\n",
      "                             Southend Interactive       0.00      0.00      0.00         1\n",
      "                                  Spark Unlimited       0.00      0.00      0.00         1\n",
      "                                       Spellbound       0.00      0.00      0.00         2\n",
      "                                          Spiders       0.00      0.00      0.00         1\n",
      "                              Spidersoft, Spiders       0.00      0.00      0.00         1\n",
      "                                            Spike       0.00      0.00      0.00         2\n",
      "                                   Spike Chunsoft       1.00      0.25      0.40         4\n",
      "                        Spike, Namco Bandai Games       0.00      0.00      0.00         1\n",
      "                                    Splash Damage       0.00      0.00      0.00         0\n",
      "                     Splash Damage, The Coalition       0.00      0.00      0.00         1\n",
      "                               Sports Interactive       1.00      1.00      1.00         1\n",
      "                                      Square Enix       0.40      0.20      0.27        10\n",
      "                                Square Enix, TOSE       0.00      0.00      0.00         1\n",
      "                      Square Enix, Think and Feel       0.00      0.00      0.00         1\n",
      "                             Square Enix, Tri-Ace       0.00      0.00      0.00         1\n",
      "                                       SquareSoft       1.00      0.50      0.67         6\n",
      "                                  Stainless Games       0.00      0.00      0.00         1\n",
      "                          Stainless Steel Studios       0.00      0.00      0.00         1\n",
      "                                       Starbreeze       0.00      0.00      0.00         5\n",
      "                                         Starfish       0.00      0.00      0.00         2\n",
      "                                      Starfish SD       0.00      0.00      0.00         0\n",
      "                           Starsphere Interactive       0.00      0.00      0.00         1\n",
      "                                  Stealth Studios       0.00      0.00      0.00         1\n",
      "                                            Sting       0.11      0.33      0.17         3\n",
      "                                 Storm City Games       0.00      0.00      0.00         0\n",
      "                               Stormfront Studios       0.00      0.00      0.00         3\n",
      "                                      Stormregion       0.00      0.00      0.00         1\n",
      "                                        Studio 33       0.00      0.00      0.00         1\n",
      "                                   Studio Gigante       0.00      0.00      0.00         1\n",
      "                                 Studio Liverpool       0.00      0.00      0.00         0\n",
      "                                          Success       0.00      0.00      0.00         1\n",
      "                                     Sucker Punch       0.00      0.00      0.00         2\n",
      "                                     Sumo Digital       0.00      0.00      0.00         2\n",
      "                                          SunSoft       0.00      0.00      0.00         1\n",
      "                           Sunflowers Interactive       0.00      0.00      0.00         1\n",
      "                                     Super Empire       0.00      0.00      0.00         1\n",
      "                               SuperMassive Games       0.00      0.00      0.00         1\n",
      "                             SuperVillain Studios       0.00      0.00      0.00         1\n",
      "                                 Surreal Software       1.00      0.50      0.67         2\n",
      "                                            Suzak       0.00      0.00      0.00         2\n",
      "                                Swordfish Studios       0.33      1.00      0.50         1\n",
      "                                         System 3       0.00      0.00      0.00         1\n",
      "                                    System Prisma       0.00      0.00      0.00         1\n",
      "                                         T&E Soft       0.00      0.00      0.00         0\n",
      "                                              THQ       0.00      0.00      0.00        17\n",
      "                       THQ Digital Studio Phoenix       0.00      0.00      0.00         1\n",
      "                                             TOSE       0.00      0.00      0.00         9\n",
      "                                        TT Fusion       0.50      0.12      0.20         8\n",
      "                                         TT Games       0.86      0.75      0.80        24\n",
      "                                            Tabot       0.00      0.00      0.00         1\n",
      "                                Taito Corporation       0.00      0.00      0.00         2\n",
      "                     Taito Corporation, 505 Games       0.00      0.00      0.00         0\n",
      "                                           Takara       0.00      0.00      0.00         1\n",
      "                                      Takara Tomy       0.00      0.00      0.00         2\n",
      "                             Take-Two Interactive       0.00      0.00      0.00         2\n",
      "                             Tamsoft, D3Publisher       0.00      0.00      0.00         1\n",
      "                                           Taniko       0.00      0.00      0.00         0\n",
      "                             Tantalus Interactive       0.00      0.00      0.00         2\n",
      "         Tantalus Interactive, Tantatus, Nintendo       0.00      0.00      0.00         1\n",
      "                                         Tantatus       0.00      0.00      0.00         1\n",
      "                                     Targem Games       0.00      0.00      0.00         1\n",
      "                Targem Games, TopWare Interactive       0.00      0.00      0.00         1\n",
      "                   Tarsier Studios, Double Eleven       0.00      0.00      0.00         1\n",
      "                                          Team 17       0.00      0.00      0.00         5\n",
      "                              Team 17, Two Tribes       0.00      0.00      0.00         1\n",
      "                                      Team Fusion       0.00      0.00      0.00         0\n",
      "                                       Team Ninja       0.50      1.00      0.67         1\n",
      "                               Team6 Game Studios       0.00      0.00      0.00         1\n",
      "                                         Techland       0.00      0.00      0.00         3\n",
      "                                            Tecmo       0.00      0.00      0.00         3\n",
      "                                   Telltale Games       1.00      0.50      0.67         2\n",
      "                                 Terminal Reality       0.00      0.00      0.00         8\n",
      "                                            Teyon       0.00      0.00      0.00         0\n",
      "                                     The Behemoth       0.00      0.00      0.00         1\n",
      "                                 The Game Factory       0.00      0.00      0.00         0\n",
      "                                  The Sims Studio       1.00      0.75      0.86         4\n",
      "                           Tiertex Design Studios       0.00      0.00      0.00         1\n",
      "                                   Titus Software       0.00      0.00      0.00         1\n",
      "                                             Toka       0.00      0.00      0.00         1\n",
      "                                            Tommo       0.00      0.00      0.00         0\n",
      "                                 Tomy Corporation       0.00      0.00      0.00         0\n",
      "                                   Toolbox Design       0.00      0.00      0.00         1\n",
      "                                  Tornado Studios       0.00      0.00      0.00         0\n",
      "                                      Torus Games       0.00      0.00      0.00         8\n",
      "                        Torus Games, Little Orbit       0.00      0.00      0.00         2\n",
      "                                    Totally Games       0.00      0.00      0.00         1\n",
      "                                     Toys for Bob       0.00      0.00      0.00         4\n",
      "                                Traveller's Tales       0.71      0.33      0.45        15\n",
      "                                         Treasure       0.00      0.00      0.00         1\n",
      "                                         Treyarch       0.00      0.00      0.00         9\n",
      "                            Treyarch, Shaba Games       0.00      0.00      0.00         1\n",
      "                                          Tri-Ace       0.00      0.00      0.00         2\n",
      "                                    Tri-Crescendo       0.00      0.00      0.00         2\n",
      "                                      Trine Games       0.00      0.00      0.00         0\n",
      "                                     Trion Worlds       0.00      0.00      0.00         0\n",
      "                             Tripwire Interactive       0.00      0.00      0.00         1\n",
      "                                     Turbine Inc.       0.00      0.00      0.00         1\n",
      "                                          Turn 10       1.00      1.00      1.00         1\n",
      "                                     Twelve Games       0.00      0.00      0.00         1\n",
      "                                       Two Tribes       0.00      0.00      0.00         2\n",
      "                               UBlart Montpellier       0.00      0.00      0.00         1\n",
      "                                              UDS       0.00      0.00      0.00         1\n",
      "                                  UFO Interactive       0.00      0.00      0.00         0\n",
      "                                              UGA       0.00      0.00      0.00         0\n",
      "                                           Uacari       0.00      0.00      0.00         1\n",
      "                                          Ubisoft       0.98      0.28      0.43      1355\n",
      "                                 Ubisoft Bulgaria       0.00      0.00      0.00         2\n",
      "                               Ubisoft Casablanca       0.00      0.00      0.00         1\n",
      "                                    Ubisoft Milan       0.00      0.00      0.00         0\n",
      "                              Ubisoft Montpellier       0.00      0.00      0.00         1\n",
      "                                 Ubisoft Montreal       0.29      0.24      0.26        21\n",
      "                                   Ubisoft Nagoya       0.00      0.00      0.00         0\n",
      "                                    Ubisoft Paris       0.00      0.00      0.00         4\n",
      "               Ubisoft Paris, Ubisoft Montpellier       0.00      0.00      0.00         2\n",
      "                                   Ubisoft Quebec       0.00      0.00      0.00         1\n",
      "                 Ubisoft Reflections, Ivory Tower       0.00      0.00      0.00         1\n",
      "                                  Ubisoft Romania       0.17      0.25      0.20         4\n",
      "                                Ubisoft Sao Paulo       0.00      0.00      0.00         1\n",
      "                                 Ubisoft Shanghai       0.00      0.00      0.00         2\n",
      "                                  Ubisoft Toronto       0.00      0.00      0.00         1\n",
      "                                Ubisoft Vancouver       1.00      1.00      1.00         2\n",
      "                              Ubisoft, Ludia Inc.       0.00      0.00      0.00         0\n",
      "                                    Ubisoft, Moss       0.00      0.00      0.00         0\n",
      "                           Ubisoft, Sensory Sweep       0.00      0.00      0.00         0\n",
      "                        Ubisoft, Ubisoft Montreal       0.00      0.00      0.00         3\n",
      "                                      Urban Games       0.00      0.00      0.00         1\n",
      "                                VIS Entertainment       0.00      0.00      0.00         1\n",
      "                                            VSTEP       0.00      0.00      0.00         1\n",
      "                                         VU Games       0.00      0.00      0.00         0\n",
      "                                     Valcon Games       0.00      0.00      0.00         1\n",
      "                               Valuewave Co.,Ltd.       0.00      0.00      0.00         1\n",
      "                                   Valve Software       0.50      0.25      0.33         4\n",
      "                                         Vanguard       0.00      0.00      0.00         1\n",
      "                                     Vanilla Ware       0.00      0.00      0.00         1\n",
      "                                      Vanillaware       0.00      0.00      0.00         0\n",
      "                                          Various       0.00      0.00      0.00         0\n",
      "                                   Velez & Dubail       0.00      0.00      0.00         0\n",
      "                                      Venom Games       0.00      0.00      0.00         0\n",
      "                                Vicarious Visions       0.00      0.00      0.00        13\n",
      "                                    Vicious Cycle       0.00      0.00      0.00         3\n",
      "              Vicious Cycle, Infinite Interactive       0.00      0.00      0.00         1\n",
      "                      Vicious Cycle, Little Orbit       0.00      0.00      0.00         1\n",
      "                                      Vigil Games       1.00      0.67      0.80         3\n",
      "                              Vingt-et-un Systems       0.00      0.00      0.00         0\n",
      "                                Virtual Play Inc.       0.00      0.00      0.00         1\n",
      "                                     Virtual Toys       0.00      0.33      0.01         3\n",
      "                                       Virtucraft       0.00      0.00      0.00         1\n",
      "                                          Virtuos       0.00      0.00      0.00         4\n",
      "                                   Visceral Games       0.27      1.00      0.43         3\n",
      "                                  Visual Concepts       0.17      0.06      0.09        16\n",
      "                                    Visual Impact       0.00      0.00      0.00         3\n",
      "                                    Vivendi Games       0.00      0.00      0.00         3\n",
      "                                    Volition Inc.       0.00      0.00      0.00         4\n",
      "                      Volition Inc., Reactor Zero       0.00      0.00      0.00         1\n",
      "                                             WBIE       0.00      0.00      0.00         1\n",
      "                                              WXP       0.00      0.00      0.00         2\n",
      "                                 War Drum Studios       0.00      0.00      0.00         0\n",
      "           Warner Bros. Interactive Entertainment       0.00      0.00      0.00         1\n",
      "                                          Warthog       0.00      0.00      0.00         2\n",
      "                                       WayForward       0.00      0.00      0.00        11\n",
      "                                 Westwood Studios       0.00      0.00      0.00         1\n",
      "                            Wicked Witch Software       0.00      0.00      0.00         2\n",
      "                                 WideScreen Games       0.00      0.00      0.00         1\n",
      "                              Wideload Games Inc.       0.00      0.00      0.00         0\n",
      "                                      WildTangent       0.00      0.00      0.00         1\n",
      "                                 Wildfire Studios       0.00      0.00      0.00         1\n",
      "                                             Will       0.00      0.00      0.00         1\n",
      "                                        WinkySoft       0.00      0.00      0.00         0\n",
      "                                         Wizarbox       0.00      0.00      0.00         2\n",
      "                                          WorkJam       0.00      0.00      0.00         0\n",
      "                                Wow Entertainment       0.00      0.00      0.00         2\n",
      "                                         XS Games       0.00      0.00      0.00         0\n",
      "                                             Xpec       0.00      0.00      0.00         2\n",
      "                                            Yager       0.00      0.00      0.00         1\n",
      "                                           Yuke's       0.67      0.29      0.40        14\n",
      "                                     Z-Axis, Ltd.       0.12      0.50      0.20         2\n",
      "                                  Zed Two Limited       0.00      0.00      0.00         1\n",
      "                                         ZeptoLab       0.00      0.00      0.00         1\n",
      "                                          Zerodiv       0.00      0.00      0.00         0\n",
      "                                          Zig Zag       0.00      0.00      0.00         0\n",
      "                               Zipper Interactive       0.00      0.00      0.00         2\n",
      "                                         Zoe Mode       0.00      0.00      0.00         2\n",
      "                  Zoe Mode, HB Studios Multimedia       0.20      1.00      0.33         1\n",
      "                                           Zombie       0.00      0.00      0.00         1\n",
      "                                   Zombie Studios       0.00      0.00      0.00         0\n",
      "                                        Zoo Games       0.00      0.00      0.00         2\n",
      "                                  Zushi Games Ltd       0.00      0.00      0.00         1\n",
      "                                           Zuxxez       0.00      0.00      0.00         1\n",
      "                       dtp Young Entertainment AG       0.00      0.00      0.00         1\n",
      "                                           eGames       0.00      0.00      0.00         1\n",
      "                                             iWin       0.00      0.00      0.00         1\n",
      "                                      id Software       0.25      1.00      0.40         2\n",
      "                      id Software, Nerve Software       0.00      0.00      0.00         1\n",
      "                      id Software, Raven Software       0.00      0.00      0.00         2\n",
      "                                          n-Space       0.00      0.00      0.00         2\n",
      "\n",
      "                                         accuracy                           0.18      3344\n",
      "                                        macro avg       0.07      0.08      0.06      3344\n",
      "                                     weighted avg       0.49      0.18      0.24      3344\n",
      "\n",
      "Confusion Matrix:\n",
      "[[0 0 0 ... 0 0 0]\n",
      " [0 0 0 ... 0 0 0]\n",
      " [0 0 0 ... 0 0 0]\n",
      " ...\n",
      " [0 0 0 ... 0 0 0]\n",
      " [0 0 0 ... 0 0 0]\n",
      " [0 0 0 ... 0 0 0]]\n"
     ]
    },
    {
     "name": "stderr",
     "output_type": "stream",
     "text": [
      "/usr/local/lib/python3.10/dist-packages/sklearn/metrics/_classification.py:1344: UndefinedMetricWarning: Precision and F-score are ill-defined and being set to 0.0 in labels with no predicted samples. Use `zero_division` parameter to control this behavior.\n",
      "  _warn_prf(average, modifier, msg_start, len(result))\n",
      "/usr/local/lib/python3.10/dist-packages/sklearn/metrics/_classification.py:1344: UndefinedMetricWarning: Recall and F-score are ill-defined and being set to 0.0 in labels with no true samples. Use `zero_division` parameter to control this behavior.\n",
      "  _warn_prf(average, modifier, msg_start, len(result))\n",
      "/usr/local/lib/python3.10/dist-packages/sklearn/metrics/_classification.py:1344: UndefinedMetricWarning: Precision and F-score are ill-defined and being set to 0.0 in labels with no predicted samples. Use `zero_division` parameter to control this behavior.\n",
      "  _warn_prf(average, modifier, msg_start, len(result))\n",
      "/usr/local/lib/python3.10/dist-packages/sklearn/metrics/_classification.py:1344: UndefinedMetricWarning: Recall and F-score are ill-defined and being set to 0.0 in labels with no true samples. Use `zero_division` parameter to control this behavior.\n",
      "  _warn_prf(average, modifier, msg_start, len(result))\n",
      "/usr/local/lib/python3.10/dist-packages/sklearn/metrics/_classification.py:1344: UndefinedMetricWarning: Precision and F-score are ill-defined and being set to 0.0 in labels with no predicted samples. Use `zero_division` parameter to control this behavior.\n",
      "  _warn_prf(average, modifier, msg_start, len(result))\n",
      "/usr/local/lib/python3.10/dist-packages/sklearn/metrics/_classification.py:1344: UndefinedMetricWarning: Recall and F-score are ill-defined and being set to 0.0 in labels with no true samples. Use `zero_division` parameter to control this behavior.\n",
      "  _warn_prf(average, modifier, msg_start, len(result))\n"
     ]
    }
   ],
   "source": [
    "print('Classification Report:')\n",
    "print(classification_report(y_test,y_pred_gnb))\n",
    "print('Confusion Matrix:')\n",
    "print(confusion_matrix(y_test, y_pred_gnb))"
   ]
  },
  {
   "cell_type": "code",
   "execution_count": null,
   "id": "b40b0690",
   "metadata": {
    "colab": {
     "base_uri": "https://localhost:8080/"
    },
    "executionInfo": {
     "elapsed": 227,
     "status": "ok",
     "timestamp": 1684268458552,
     "user": {
      "displayName": "Timilehin Osinuga",
      "userId": "02674228651306861961"
     },
     "user_tz": -60
    },
    "id": "b40b0690",
    "outputId": "756963ad-ef07-4d58-9553-94fd054c796b"
   },
   "outputs": [
    {
     "name": "stdout",
     "output_type": "stream",
     "text": [
      "Classification Report:\n",
      "                                                   precision    recall  f1-score   support\n",
      "\n",
      "                                   1C, 1C Company       0.00      0.00      0.00         1\n",
      "                           1C, Ino-Co, 1C Company       0.00      0.00      0.00         2\n",
      "                          1C, Various, 1C Company       0.00      0.00      0.00         1\n",
      "                         1st Playable Productions       0.00      0.00      0.00         2\n",
      "                                     2K Australia       0.00      0.00      0.00         1\n",
      "                                         2K Games       0.00      0.00      0.00         3\n",
      "                                        2K Sports       0.00      0.00      0.00         5\n",
      "                                              3DO       0.00      0.00      0.00         4\n",
      "                                       3G Studios       0.00      0.00      0.00         2\n",
      "                                        3d6 Games       0.00      0.00      0.00         1\n",
      "                                          49Games       0.00      0.00      0.00         5\n",
      "                                         4A Games       0.00      0.00      0.00         3\n",
      "                                       4J Studios       0.00      0.00      0.00         1\n",
      "                                        505 Games       0.00      0.00      0.00         7\n",
      "                                         5TH Cell       0.00      0.00      0.00         1\n",
      "                                              5pb       0.00      0.00      0.00         1\n",
      "                                        7 Studios       0.00      0.00      0.00         4\n",
      "                                     8Monkey Labs       0.00      0.00      0.00         1\n",
      "                                       989 Sports       0.00      0.00      0.00         3\n",
      "                                               AI       0.00      0.00      0.00         2\n",
      "                                     Access Games       0.00      0.00      0.00         1\n",
      "                                          Acclaim       0.00      0.00      0.00         7\n",
      "                           Acclaim Studios Austin       0.00      0.00      0.00         1\n",
      "                       Acclaim Studios Manchester       0.00      0.00      0.00         1\n",
      "                                          Acquire       0.00      0.00      0.00         7\n",
      "                                       Activision       0.03      0.06      0.04        17\n",
      "                                         Adrenium       0.00      0.00      0.00         1\n",
      "                           Agatsuma Entertainment       0.00      0.00      0.00         1\n",
      "                                           Agetec       0.00      0.00      0.00         1\n",
      "                                   Airtight Games       0.00      0.00      0.00         1\n",
      "                                           Akella       0.00      0.00      0.00         1\n",
      "                                        Aki Corp.       0.00      0.00      0.00         4\n",
      "                                      Alfa System       0.00      0.00      0.00         2\n",
      "                                           Altron       0.00      0.00      0.00         2\n",
      "                                            Amaze       0.00      0.00      0.00         1\n",
      "                              Amaze Entertainment       0.00      0.00      0.00         8\n",
      "                                           Amedio       0.00      0.00      0.00         1\n",
      "                                 Amusement Vision       0.00      0.00      0.00         2\n",
      "                                            Amuze       0.00      0.00      0.00         1\n",
      "                           Aqua Pacific, In2Games       0.00      0.00      0.00         1\n",
      "                                        Aqua Plus       0.00      0.00      0.00         1\n",
      "                                           Aquria       0.00      0.00      0.00         1\n",
      "                                 Arc System Works       0.00      0.00      0.00        12\n",
      "                                      Arcade Moon       0.00      0.00      0.00         1\n",
      "                                         ArenaNet       0.00      0.00      0.00         1\n",
      "                                   Argonaut Games       0.00      0.00      0.00         4\n",
      "                                   Arkane Studios       0.00      0.00      0.00         2\n",
      "                                    Arkedo Studio       0.00      0.00      0.00         1\n",
      "                           Arrowhead Game Studios       0.00      0.00      0.00         1\n",
      "                                              Art       0.00      0.00      0.00         2\n",
      "                                          Artdink       0.00      0.00      0.00         1\n",
      "                                       ArtePiazza       0.00      0.00      0.00         1\n",
      "                                   Artech Studios       0.00      0.00      0.00         2\n",
      "                     Artificial Mind and Movement       0.00      0.00      0.00        10\n",
      "  Artificial Mind and Movement, EA Redwood Shores       0.00      0.00      0.00         1\n",
      "Artificial Studios, Immersion Software & Graphics       0.00      0.00      0.00         1\n",
      "                                           Artoon       0.00      0.00      0.00         1\n",
      "                     Asmik Ace Entertainment, Inc       0.00      0.00      0.00         1\n",
      "                                     Asobo Studio       0.00      0.00      0.00         2\n",
      "                                           Aspect       0.00      0.00      0.00         1\n",
      "                                          Astroll       0.00      0.00      0.00         1\n",
      "                                            Atari       0.00      0.00      0.00         2\n",
      "                                  Atari, Atari SA       0.00      0.00      0.00         1\n",
      "                                            Atlus       0.00      0.00      0.00         1\n",
      "                                        Atlus Co.       0.00      0.00      0.00         2\n",
      "                      Atomic Planet Entertainment       0.00      0.00      0.00         2\n",
      "                               Attention Software       0.00      0.00      0.00         1\n",
      "                               Avalanche Software       0.00      0.00      0.00         6\n",
      "                                Avalanche Studios       0.00      0.00      0.00         3\n",
      "                               Avanquest Software       0.00      0.00      0.00         3\n",
      "                                          B-Alive       0.00      0.00      0.00         1\n",
      "                                 Babylon Software       0.00      0.00      0.00         2\n",
      "                              Backbone Emeryville       0.00      0.00      0.00         1\n",
      "                           Backbone Entertainment       0.00      0.00      0.00         7\n",
      "                               Backbone Vancouver       0.00      0.00      0.00         1\n",
      "                                Bam Entertainment       0.00      0.00      0.00         1\n",
      "                                           Bandai       0.00      0.00      0.00         3\n",
      "                               Bandai Namco Games       0.00      0.00      0.00         6\n",
      "                                      BattleBorne       0.00      0.00      0.00         1\n",
      "                                              Bec       0.00      0.00      0.00         2\n",
      "                                           Beenox       0.00      0.00      0.00         1\n",
      "                                  Beep Industries       0.00      0.00      0.00         1\n",
      "                            Behaviour Interactive       0.00      0.00      0.00         2\n",
      "                                         Best Way       0.00      0.00      0.00         1\n",
      "                            Bethesda Game Studios       0.00      0.00      0.00         2\n",
      "                               Bethesda Softworks       0.00      0.00      0.00         4\n",
      "                                  Big Ant Studios       0.00      0.00      0.00         4\n",
      "                             Big Blue Bubble Inc.       0.00      0.00      0.00         1\n",
      "                           Big Blue Entertainment       0.00      0.00      0.00         1\n",
      "                                   Big Fish Games       0.00      0.00      0.00         1\n",
      "                                   Big Huge Games       0.00      0.00      0.00         2\n",
      "                                   Big John Games       0.00      0.00      0.00         1\n",
      "                                 Big Red Software       0.00      0.00      0.00         1\n",
      "                                   Bigbig Studios       0.00      0.00      0.00         2\n",
      "                                          BioWare       0.06      0.17      0.09         6\n",
      "                        BioWare, Demiurge Studios       0.00      0.00      0.00         1\n",
      "                                Bizarre Creations       0.00      0.00      0.00         2\n",
      "                                        Black Box       0.00      0.00      0.00         3\n",
      "                               Black Isle Studios       0.00      0.00      0.00         1\n",
      "                            Black Lantern Studios       0.00      0.00      0.00         8\n",
      "                          Black Ops Entertainment       0.00      0.00      0.00         3\n",
      "                                Black Sea Studios       0.00      0.00      0.00         1\n",
      "                                 Black Ship Games       0.00      0.00      0.00         2\n",
      "                                Blade Interactive       0.00      0.00      0.00         2\n",
      "                         Blast! Entertainment Ltd       0.00      0.00      0.00         1\n",
      "                                      Blitz Games       0.00      0.00      0.00         6\n",
      "                              Blitz Games Studios       0.00      0.00      0.00         1\n",
      "                          Blitz Games, Human Soft       0.00      0.00      0.00         1\n",
      "                           Blizzard Entertainment       0.00      0.00      0.00         5\n",
      "                                   Blizzard North       0.00      0.00      0.00         2\n",
      "                       Blue Byte, Related Designs       0.00      0.00      0.00         1\n",
      "                                Blue Castle Games       0.00      0.00      0.00         4\n",
      "                                  Blue Fang Games       0.00      0.00      0.00         2\n",
      "                                       Blue Omega       0.00      0.00      0.00         1\n",
      "                                       Blue Shift       0.00      0.00      0.00         2\n",
      "                                      Blue Tongue       0.00      0.00      0.00         1\n",
      "                        Blue Tongue Entertainment       0.00      0.00      0.00         3\n",
      "                                  Bluepoint Games       0.00      0.00      0.00         1\n",
      "                           Box Clever Interactive       0.00      0.00      0.00         1\n",
      "                                       Brain Toys       0.00      0.00      0.00         1\n",
      "                                           BudCat       0.00      0.00      0.00         4\n",
      "                                Buena Vista Games       0.00      0.00      0.00         1\n",
      "                                          Bugbear       0.00      0.00      0.00         2\n",
      "                             Bullfrog Productions       0.00      0.00      0.00         1\n",
      "                                           Bungie       0.00      0.00      0.00         2\n",
      "                          Bungie Software, Bungie       0.00      0.00      0.00         3\n",
      "                                      Buzz Monkey       0.00      0.00      0.00         1\n",
      "                         Buzz Monkey, EA Montreal       0.00      0.00      0.00         1\n",
      "                                              CCP       0.00      0.00      0.00         1\n",
      "                            CD Projekt Red Studio       0.00      0.00      0.00         1\n",
      "                                         CI Games       0.00      0.00      0.00         1\n",
      "                        Camelot Software Planning       0.00      0.00      0.00         2\n",
      "                                           Capcom       0.10      0.21      0.13        28\n",
      "                 Capcom, Pipeworks Software, Inc.       0.00      0.00      0.00         1\n",
      "                                      Career Soft       0.00      0.00      0.00         1\n",
      "                                      Cattle Call       0.00      0.00      0.00         1\n",
      "                                    Cauldron Ltd.       0.00      0.00      0.00         2\n",
      "                                             Cave       0.00      0.00      0.00         1\n",
      "                                       Cavia Inc.       0.00      0.00      0.00         2\n",
      "                                       Cinegroupe       0.00      0.00      0.00         1\n",
      "                                             Cing       0.00      0.00      0.00         1\n",
      "                                     Circus Freak       0.00      0.00      0.00         1\n",
      "                                 City Interactive       0.00      0.00      0.00         8\n",
      "                        City Interactive, Deck 13       0.00      0.00      0.00         1\n",
      "                                        Clap Hanz       0.00      0.00      0.00         1\n",
      "                                     Climax Group       0.00      0.00      0.00         6\n",
      "                     Climax Group, Climax Studios       0.00      0.00      0.00         3\n",
      "                                  Clockwork Games       0.00      0.00      0.00         1\n",
      "                                      Codemasters       0.00      0.00      0.00        13\n",
      "                           Codemasters Birmingham       0.00      0.00      0.00         2\n",
      "                             Coffee Stain Studios       0.00      0.00      0.00         1\n",
      "                                CokeM Interactive       0.00      0.00      0.00         1\n",
      "                             Coldwood Interactive       0.00      0.00      0.00         1\n",
      "                                Collision Studios       0.00      0.00      0.00         4\n",
      "                                    Compile Heart       0.00      0.00      0.00         2\n",
      "                             Cooking Mama Limited       0.00      0.00      0.00         1\n",
      "                                 Core Design Ltd.       0.00      0.00      0.00         1\n",
      "                                   Coyote Console       0.00      0.00      0.00         1\n",
      "                              Coyote Developments       0.00      0.00      0.00         1\n",
      "                                            Crave       0.00      0.00      0.00         5\n",
      "                                    Creat Studios       0.00      0.00      0.00         3\n",
      "                                        Creations       0.00      0.00      0.00         1\n",
      "                                Creative Assembly       0.00      0.00      0.00         6\n",
      "                                  Criterion Games       0.00      0.00      0.00         5\n",
      "                                          Croteam       0.00      0.00      0.00         1\n",
      "                                 Crystal Dynamics       0.00      0.00      0.00         6\n",
      "                                           Crytek       0.00      0.00      0.00         1\n",
      "                                    Culture Brain       0.00      0.00      0.00         1\n",
      "                                      Cyan Worlds       0.00      0.00      0.00         1\n",
      "                                          Cyanide       0.00      0.00      0.00         2\n",
      "                                    CyberConnect2       0.00      0.00      0.00         3\n",
      "                            CyberConnect2, Racjin       0.00      0.00      0.00         1\n",
      "         CyberPlanet Interactive Public Co., Ltd.       0.00      0.00      0.00         1\n",
      "                                Cyberlore Studios       0.00      0.00      0.00         1\n",
      "                                       DC Studios       0.00      0.00      0.00         5\n",
      "                                     Dancing Dots       0.00      0.00      0.00         1\n",
      "                          Data Design Interactive       0.00      0.00      0.00         3\n",
      "                                    Day 1 Studios       0.00      0.00      0.00         3\n",
      "                                          Deck 13       0.00      0.00      0.00         2\n",
      "                                      Deep Silver       0.00      0.00      0.00         1\n",
      "                    Deep Silver Dambuster Studios       0.00      0.00      0.00         1\n",
      "                  Delphine Software International       0.00      0.00      0.00         1\n",
      "                                        Destineer       0.00      0.00      0.00         4\n",
      "                               Dice, Danger Close       0.00      0.00      0.00         1\n",
      "                                    Digital Anvil       0.00      0.00      0.00         1\n",
      "                                  Digital Eclipse       0.00      0.00      0.00         7\n",
      "                                 Digital Extremes       0.00      0.00      0.00         1\n",
      "                       Digital Extremes, 2K Marin       0.00      0.00      0.00         1\n",
      "                                Digital Illusions       0.00      0.00      0.00         5\n",
      "                                   Digital Mayhem       0.00      0.00      0.00         1\n",
      "                                Dimps Corporation       0.00      0.00      0.00         4\n",
      "                               Disney Interactive       0.00      0.00      0.00         2\n",
      "                       Disney Interactive Studios       0.00      0.00      0.00         3\n",
      "                               Double Helix Games       0.00      0.00      0.00         4\n",
      "                                        Doublesix       0.00      0.00      0.00         1\n",
      "                                     DreamFactory       0.00      0.00      0.00         2\n",
      "                                     Dreamcatcher       0.00      0.00      0.00         3\n",
      "                                 Dreamworks Games       0.00      0.00      0.00         1\n",
      "                           Dreamworks Interactive       0.00      0.00      0.00         1\n",
      "                                     EA Black Box       0.00      0.00      0.00         1\n",
      "                                  EA Bright Light       0.00      0.00      0.00        10\n",
      "                                        EA Canada       0.08      0.66      0.14        32\n",
      "                            EA Canada, Nihilistic       0.00      0.00      0.00         1\n",
      "                                          EA DICE       0.00      0.00      0.00         8\n",
      "                                         EA Games       0.00      0.00      0.00         6\n",
      "                                      EA Montreal       0.00      0.00      0.00         3\n",
      "                                EA Redwood Shores       0.00      0.00      0.00         1\n",
      "                                     EA Salt Lake       0.00      0.00      0.00         2\n",
      "                                       EA Seattle       0.00      0.00      0.00         1\n",
      "                                        EA Sports       0.05      0.03      0.03        37\n",
      "                                    EA Sports Big       0.00      0.00      0.00         1\n",
      "                             EA Sports, EA Canada       0.00      0.00      0.00         1\n",
      "                                       EA Tiburon       0.00      0.00      0.00        16\n",
      "                              EA Tiburon, n-Space       0.00      0.00      0.00         1\n",
      "                                     EA Vancouver       0.00      0.00      0.00         1\n",
      "                                              ECI       0.00      0.00      0.00         1\n",
      "                                     EKO Software       0.00      0.00      0.00         3\n",
      "                                       EM Studios       0.00      0.00      0.00         1\n",
      "                                   Eagle Dynamics       0.00      0.00      0.00         1\n",
      "                                             Eden       0.00      0.00      0.00         1\n",
      "                                     Eden Studios       0.00      0.00      0.00         2\n",
      "                                  Edge of Reality       0.00      0.00      0.00         6\n",
      "                                Eidos Interactive       0.00      0.00      0.00         1\n",
      "                  Eidos Montreal, Nixxes Software       0.00      0.00      0.00         1\n",
      "                                         Eighting       0.00      0.00      0.00         2\n",
      "                            Eighting, Takara Tomy       0.00      0.00      0.00         1\n",
      "                                 Eighting/Raizing       0.00      0.00      0.00         2\n",
      "                                  Electronic Arts       0.00      0.00      0.00        26\n",
      "                               Empire Interactive       0.00      0.00      0.00         1\n",
      "                                    Empire Oxford       0.00      0.00      0.00         1\n",
      "                                          Endemol       0.00      0.00      0.00         3\n",
      "                                  Engine Software       0.00      0.00      0.00         3\n",
      "                        Engine Software, Re-Logic       0.00      0.00      0.00         1\n",
      "                                    EnjoyUp Games       0.00      0.00      0.00         1\n",
      "                                 Ensemble Studios       0.00      0.00      0.00         1\n",
      "                                       Epic Games       0.00      0.00      0.00         1\n",
      "                                Epicenter Studios       0.00      0.00      0.00         1\n",
      "                              Etranges Libellules       0.00      0.00      0.00         1\n",
      "                                    Eugen Systems       0.00      0.00      0.00         2\n",
      "                   Eurocom Entertainment Software       0.00      0.00      0.00         5\n",
      "                                        Eutechnyx       0.00      0.00      0.00         5\n",
      "                                  Evolution Games       0.00      0.00      0.00         1\n",
      "                                Evolution Studios       0.00      0.00      0.00         1\n",
      "                                            Exakt       0.00      0.00      0.00         3\n",
      "                                            Examu       0.00      0.00      0.00         1\n",
      "                             Exient Entertainment       0.00      0.00      0.00         4\n",
      "                                  Experience Inc.       0.00      0.00      0.00         1\n",
      "                               Extra Mile Studios       0.00      0.00      0.00         1\n",
      "                                      FASA Studio       0.00      0.00      0.00         1\n",
      "                                         FUN Labs       0.00      0.00      0.00         8\n",
      "                                           Falcom       0.00      0.00      0.00         2\n",
      "                                 Farsight Studios       0.00      0.00      0.00         3\n",
      "                          Farsight Studios, Crave       0.00      0.00      0.00         1\n",
      "                                         FeelPlus       0.00      0.00      0.00         1\n",
      "                                    Firaxis Games       0.00      0.00      0.00         3\n",
      "                                  Firebrand Games       0.00      0.00      0.00         8\n",
      "                                         Flagship       0.00      0.00      0.00         1\n",
      "                                      Flight-Plan       0.00      0.00      0.00         1\n",
      "                                    Fluid Studios       0.00      0.00      0.00         1\n",
      "                         Flying Tiger Development       0.00      0.00      0.00         1\n",
      "                                    Foreign Media       0.00      0.00      0.00         1\n",
      "                        Frame Studios Interactive       0.00      0.00      0.00         1\n",
      "                              Free Radical Design       0.00      0.00      0.00         3\n",
      "                                     Frima Studio       0.00      0.00      0.00         1\n",
      "                                        Frogwares       0.00      0.00      0.00         2\n",
      "                                    From Software       0.08      0.12      0.10         8\n",
      "                                FrontLine Studios       0.00      0.00      0.00         2\n",
      "                            Frontier Developments       0.00      0.00      0.00         1\n",
      "                                            FuRyu       0.00      0.00      0.00         1\n",
      "                                         Full Fat       0.00      0.00      0.00         4\n",
      "                                         Full-Fat       0.00      0.00      0.00         1\n",
      "                                        G-Artists       0.00      0.00      0.00         1\n",
      "                                             GRIN       0.00      0.00      0.00         1\n",
      "                             Gaijin Entertainment       0.00      0.00      0.00         2\n",
      "                                        Game Arts       0.00      0.00      0.00         6\n",
      "                                       Game Freak       0.00      0.00      0.00         2\n",
      "                             Game Machine Studios       0.00      0.00      0.00         2\n",
      "                                    Game Republic       0.00      0.00      0.00         3\n",
      "                                       Game Titan       0.00      0.00      0.00         1\n",
      "                                           GameCo       0.00      0.00      0.00         1\n",
      "    GameMill Publishing, 1st Playable Productions       0.00      0.00      0.00         1\n",
      "                                       Gameinvest       0.00      0.00      0.00         1\n",
      "                                         Gameloft       0.00      0.00      0.00         1\n",
      "                                       Games Farm       0.00      0.00      0.00         2\n",
      "                             Gaming Minds Studios       0.00      0.00      0.00         1\n",
      "                                        Ganbarion       0.00      0.00      0.00         2\n",
      "                                Gas Powered Games       0.00      0.00      0.00         1\n",
      "                                 Gearbox Software       0.00      0.00      0.00         5\n",
      "                      Gearbox Software, 3D Realms       0.00      0.00      0.00         1\n",
      "                                         GenePool       0.00      0.00      0.00         1\n",
      "                                            Genki       0.00      0.00      0.00         1\n",
      "                                    Genuine Games       0.00      0.00      0.00         2\n",
      "                                      Ghost Games       0.00      0.00      0.00         1\n",
      "                                  Giants Software       0.00      0.00      0.00         4\n",
      "                                      Gogii Games       0.00      0.00      0.00         1\n",
      "                              Good Science Studio       0.00      0.00      0.00         1\n",
      "                                    Gorilla Games       0.00      0.00      0.00         1\n",
      "                                  Gorilla Systems       0.00      0.00      0.00         2\n",
      "                          Grasshopper Manufacture       0.00      0.00      0.00         5\n",
      "                                 Griptonite Games       0.00      0.00      0.00         5\n",
      "                                        Guerrilla       0.00      0.00      0.00         1\n",
      "                                 Guildford Studio       0.00      0.00      0.00         1\n",
      "                                           GungHo       0.00      0.00      0.00         1\n",
      "                                             Gust       0.00      0.00      0.00         3\n",
      "                               Gust, Idea Factory       0.00      0.00      0.00         1\n",
      "                                      Gusto Games       0.00      0.00      0.00         1\n",
      "                                         HAL Labs       0.00      0.00      0.00         3\n",
      "                            HB Studios Multimedia       0.00      0.00      0.00         3\n",
      "                                        Haemimont       0.00      0.00      0.00         3\n",
      "                                Halfbrick Studios       0.00      0.00      0.00         2\n",
      "                                   Handheld Games       0.00      0.00      0.00         2\n",
      "                                        Hangar 13       0.00      0.00      0.00         1\n",
      "                                  Happy Happening       0.00      0.00      0.00         1\n",
      "                           Harmonix Music Systems       0.00      0.00      0.00        12\n",
      "         Harmonix Music Systems, Demiurge Studios       0.00      0.00      0.00         1\n",
      "                               Hasbro Interactive       0.00      0.00      0.00         1\n",
      "                                 Headstrong Games       0.00      0.00      0.00         1\n",
      "                   Headup Games, Crenetic Studios       0.00      0.00      0.00         1\n",
      "                               Heavy Iron Studios       0.00      0.00      0.00         1\n",
      "                                           Helixe       0.00      0.00      0.00         3\n",
      "                                   Hellbent Games       0.00      0.00      0.00         1\n",
      "                                      Hello Games       0.00      0.00      0.00         1\n",
      "                                High Impact Games       0.00      0.00      0.00         2\n",
      "                                High Moon Studios       0.00      0.00      0.00         2\n",
      "        High Moon Studios, Mercenary Technologies       0.00      0.00      0.00         1\n",
      "                            High Voltage Software       0.00      0.00      0.00        12\n",
      "    High Voltage Software, Backbone Entertainment       0.00      0.00      0.00         2\n",
      "                                   Hijinx Studios       0.00      0.00      0.00         1\n",
      "                                 Hoplite Research       0.00      0.00      0.00         1\n",
      "                                   Hot Lava Games       0.00      0.00      0.00         1\n",
      "                                           HotGen       0.00      0.00      0.00         2\n",
      "                                           Hudson       0.00      0.00      0.00         2\n",
      "                             Hudson Entertainment       0.00      0.00      0.00         1\n",
      "                                      Hudson Soft       0.00      0.00      0.00         3\n",
      "                       Hudson, NATSUME ATARI Inc.       0.00      0.00      0.00         1\n",
      "                                         Humagade       0.00      0.00      0.00         1\n",
      "                              Human Entertainment       0.00      0.00      0.00         1\n",
      "                                       Human Soft       0.00      0.00      0.00         3\n",
      "                          Humongous Entertainment       0.00      0.00      0.00         1\n",
      "                                      Hydravision       0.00      0.00      0.00         2\n",
      "                                         Hypnotix       0.00      0.00      0.00         5\n",
      "                                     Idea Factory       0.00      0.00      0.00         1\n",
      "                                       Idol Minds       0.00      0.00      0.00         2\n",
      "                           Ignition Entertainment       0.00      0.00      0.00         1\n",
      "                          Image Epoch, Imageepoch       0.00      0.00      0.00         2\n",
      "                    Immersion Software & Graphics       0.00      0.00      0.00         1\n",
      "                            InLight Entertainment       0.00      0.00      0.00         1\n",
      "                                   Incognito Inc.       0.00      0.00      0.00         1\n",
      "                                      Indie Built       0.00      0.00      0.00         1\n",
      "                                      Indies Zero       0.00      0.00      0.00         1\n",
      "                         Inevitable Entertainment       0.00      0.00      0.00         1\n",
      "                             Infinite Interactive       0.00      0.00      0.00         1\n",
      "                                    Infinity Ward       0.00      0.00      0.00         3\n",
      "                                       Infogrames       0.00      0.00      0.00         1\n",
      "                                  Insomniac Games       0.00      0.00      0.00         2\n",
      "                              Intelligent Systems       0.00      0.00      0.00         9\n",
      "                          InterServ International       0.00      0.00      0.00         1\n",
      "                       Interworks Unlimited, Inc.       0.00      0.00      0.00         1\n",
      "                                             Inti       0.00      0.00      0.00         1\n",
      "                                     Inti Creates       0.00      0.00      0.00         1\n",
      "                               Inti, Inti Creates       0.00      0.00      0.00         1\n",
      "                                   Io Interactive       0.00      0.00      0.00         9\n",
      "                                             Irem       0.00      0.00      0.00         1\n",
      "                            Iridon Interactive AB       0.00      0.00      0.00         1\n",
      "                              Iron Galaxy Studios       0.00      0.00      0.00         1\n",
      "                                 Irrational Games       0.00      0.00      0.00         0\n",
      "                                        Ivolgamus       0.00      0.00      0.00         2\n",
      "                                      Ivory Tower       0.00      0.00      0.00         1\n",
      "                                    JV Games Inc.       0.00      0.00      0.00         1\n",
      "                             Jaleco Entertainment       0.00      0.00      0.00         3\n",
      "                                  Jet Black Games       0.00      0.00      0.00         1\n",
      "                                         Joindots       0.00      0.00      0.00         1\n",
      "                           Joindots, Mastertronic       0.00      0.00      0.00         1\n",
      "                                      Juice Games       0.00      0.00      0.00         5\n",
      "                              Jupiter Corporation       0.00      0.00      0.00         2\n",
      "                                             KCEK       0.00      0.00      0.00         2\n",
      "                                             KCET       0.00      0.00      0.00         9\n",
      "                                         KING Art       0.00      0.00      0.00         1\n",
      "                                         Kadokawa       0.00      0.00      0.00         3\n",
      "                                          Kalypso       0.00      0.00      0.00         3\n",
      "                                       Keen Games       0.00      0.00      0.00         2\n",
      "                                    Kheops Studio       0.00      0.00      0.00         1\n",
      "                                        Killaware       0.00      0.00      0.00         1\n",
      "                               King of the Jungle       0.00      0.00      0.00         1\n",
      "                               Kodiak Interactive       0.00      0.00      0.00         1\n",
      "                                             Koei       0.00      0.00      0.00         5\n",
      "                                 Koei Tecmo Games       0.00      0.00      0.00         2\n",
      "                                Koei, Omega Force       0.00      0.00      0.00         1\n",
      "                                        Koei/Inis       0.00      0.00      0.00         1\n",
      "                               Kojima Productions       0.00      0.00      0.00         3\n",
      "             Kojima Productions, Moby Dick Studio       0.00      0.00      0.00         1\n",
      "                               Kokolo Corporation       0.00      0.00      0.00         1\n",
      "                                           Konami       0.02      0.22      0.04        32\n",
      "             Konami Computer Entertainment Hawaii       0.00      0.00      0.00         2\n",
      "             Konami Computer Entertainment Nagoya       0.00      0.00      0.00         1\n",
      "                                    Krome Studios       0.00      0.00      0.00         5\n",
      "                               Kuju Entertainment       0.00      0.00      0.00         4\n",
      "                                       Kush Games       0.00      0.00      0.00         3\n",
      "                                    Kuusou Kagaku       0.00      0.00      0.00         1\n",
      "                                              LSP       0.00      0.00      0.00         2\n",
      "                                   Lab Rats Games       0.00      0.00      0.00         1\n",
      "                                         Land Ho!       0.00      0.00      0.00         2\n",
      "                                   Larian Studios       0.00      0.00      0.00         1\n",
      "                           Left Field Productions       0.00      0.00      0.00         1\n",
      "                               Legacy Interactive       0.00      0.00      0.00         2\n",
      "                                          Level 5       0.00      0.00      0.00         5\n",
      "                                     Light Weight       0.00      0.00      0.00         1\n",
      "                                 Lionhead Studios       0.00      0.00      0.00         1\n",
      "                                     Little Orbit       0.00      0.00      0.00         2\n",
      "                                 Locomotive Games       0.00      0.00      0.00         1\n",
      "                                        LucasArts       0.00      0.00      0.00         5\n",
      "                         LucasArts, Krome Studios       0.00      0.00      0.00         1\n",
      "                                    Lucky Chicken       0.00      0.00      0.00         2\n",
      "                                       Ludia Inc.       0.00      0.00      0.00         3\n",
      "                                   Luxoflux, Inc.       0.00      0.00      0.00         1\n",
      "                                               M2       0.00      0.00      0.00         1\n",
      "                                              MTO       0.00      0.00      0.00         3\n",
      "                                Mac Play, MacPlay       0.00      0.00      0.00         2\n",
      "                                     MachineGames       0.00      0.00      0.00         2\n",
      "                                         Mad Catz       0.00      0.00      0.00         1\n",
      "                                 Mad Doc Software       0.00      0.00      0.00         1\n",
      "             Mad Doc Software, Rockstar Vancouver       0.00      0.00      0.00         2\n",
      "                             Magellan Interactive       0.00      0.00      0.00         1\n",
      "                                 Magenta Software       0.00      0.00      0.00         1\n",
      "                                    Magic Pockets       0.00      0.00      0.00         5\n",
      "                                        Marvelous       0.00      0.00      0.00         1\n",
      "                                    Marvelous AQL       0.00      0.00      0.00         1\n",
      "                          Marvelous Entertainment       0.00      0.00      0.00         2\n",
      "                                   Marvelous Inc.       0.00      0.00      0.00         1\n",
      "                                       Mass Media       0.00      0.00      0.00         2\n",
      "                            Massive Entertainment       0.00      0.00      0.00         2\n",
      "                                  Matrix Software       0.00      0.00      0.00         1\n",
      "                                    Maximum Games       0.00      0.00      0.00         1\n",
      "                                            Maxis       0.00      0.00      0.00        11\n",
      "                                   Media Molecule       0.00      0.00      0.00         1\n",
      "                                     Media Vision       0.00      0.00      0.00         2\n",
      "                                       Mekensleep       0.00      0.00      0.00         1\n",
      "                                    Mercury Steam       0.00      0.00      0.00         1\n",
      "                                     Mere Mortals       0.00      0.00      0.00         1\n",
      "                                            Metro       0.00      0.00      0.00         1\n",
      "                                   Metro Graphics       0.00      0.00      0.00         1\n",
      "                                          Metro3D       0.00      0.00      0.00         1\n",
      "                              Metropolis Software       0.00      0.00      0.00         1\n",
      "                                      Micro Cabin       0.00      0.00      0.00         1\n",
      "                              MicroProse, n-Space       0.00      0.00      0.00         1\n",
      "                                         Microids       0.00      0.00      0.00         3\n",
      "                           Microsoft Game Studios       0.00      0.00      0.00         1\n",
      "                                           Midway       0.00      0.00      0.00        13\n",
      "                     Midway Studios - Los Angeles       0.00      0.00      0.00         1\n",
      "                                        Milestone       0.00      0.00      0.00         1\n",
      "                                  Milestone S.r.l       0.00      0.00      0.00         6\n",
      "                                       Mind Candy       0.00      0.00      0.00         1\n",
      "                            Minds-Eye Productions       0.00      0.00      0.00         1\n",
      "                                  Mistic Software       0.00      0.00      0.00         1\n",
      "                                         Mitchell       0.00      0.00      0.00         1\n",
      "                                          Mix Max       0.00      0.00      0.00         1\n",
      "                             Mobius Entertainment       0.00      0.00      0.00         1\n",
      "                                 Monkey Bar Games       0.00      0.00      0.00         4\n",
      "                             Monolith Productions       0.00      0.00      0.00         2\n",
      "                                    Monolith Soft       0.00      0.00      0.00         1\n",
      "                          Monte Cristo Multimedia       0.00      0.00      0.00         1\n",
      "                                 Monumental Games       0.00      0.00      0.00         2\n",
      "                        Most Wanted Entertainment       0.00      0.00      0.00         1\n",
      "                           Mucky Foot Productions       0.00      0.00      0.00         1\n",
      "                                       MumboJumbo       0.00      0.00      0.00         2\n",
      "                               NATSUME ATARI Inc.       0.00      0.00      0.00         1\n",
      "                                            Nadeo       0.00      0.00      0.00         1\n",
      "                                            Namco       0.00      0.00      0.00        15\n",
      "                               Namco Bandai Games       0.00      0.00      0.00         3\n",
      "   Namco Bandai Games America, Namco Bandai Games       0.00      0.00      0.00         1\n",
      "           Namco Bandai Games, Bandai Namco Games       0.00      0.00      0.00         1\n",
      "                      Namco Bandai Games, Cellius       0.00      0.00      0.00         1\n",
      "             Namco Bandai Games, Monkey Bar Games       0.00      0.00      0.00         1\n",
      "                                       NanaOn-Sha       0.00      0.00      0.00         1\n",
      "                                          Natsume       0.00      0.00      0.00         6\n",
      "                                      Naughty Dog       0.00      0.00      0.00         4\n",
      "                                          Nd Cube       0.00      0.00      0.00         2\n",
      "                               Neko Entertainment       0.00      0.00      0.00         3\n",
      "                                     Neon Studios       0.00      0.00      0.00         1\n",
      "                                   Nerve Software       0.00      0.00      0.00         2\n",
      "                              NetherRealm Studios       0.00      0.00      0.00         2\n",
      "                                        Neverland       0.00      0.00      0.00         6\n",
      "                          Neversoft Entertainment       0.00      0.00      0.00         6\n",
      "                                Nex Entertainment       0.00      0.00      0.00         3\n",
      "                                 Next Level Games       0.00      0.00      0.00         1\n",
      "                       Next Level Games, Nintendo       0.00      0.00      0.00         1\n",
      "                                          Nicalis       0.00      0.00      0.00         1\n",
      "                                     Ninja Theory       0.00      0.00      0.00         1\n",
      "                                         Nintendo       0.10      0.44      0.17        16\n",
      "                             Nippon Ichi Software       0.00      0.00      0.00         4\n",
      "                                      Nitro Games       0.00      0.00      0.00         1\n",
      "                                Nival Interactive       0.00      0.00      0.00         1\n",
      "                                  Nixxes Software       0.00      0.00      0.00         3\n",
      "                                      Nordcurrent       0.00      0.00      0.00         2\n",
      "                          Nordic Games Publishing       0.00      0.00      0.00         2\n",
      "                                         Novarama       0.00      0.00      0.00         1\n",
      "                                   Now Production       0.00      0.00      0.00         8\n",
      "                                             NuFX       0.00      0.00      0.00         2\n",
      "                                          O-Games       0.00      0.00      0.00         1\n",
      "                                     Oberon Media       0.00      0.00      0.00         1\n",
      "                           Obsidian Entertainment       0.00      0.00      0.00         3\n",
      "                                    Office Create       0.00      0.00      0.00         1\n",
      "                                      Omega Force       0.15      0.16      0.15        19\n",
      "                    Omega Force, Koei Tecmo Games       0.00      0.00      0.00         1\n",
      "                                             Opus       0.00      0.00      0.00         1\n",
      "                              Orbital Media, Inc.       0.00      0.00      0.00         1\n",
      "                                     Osaka Studio       0.00      0.00      0.00         1\n",
      "                          Other Ocean Interactive       0.00      0.00      0.00         1\n",
      "                                    Outrage Games       0.00      0.00      0.00         1\n",
      "                               Oxygen Interactive       0.00      0.00      0.00         1\n",
      "                      Pacific Coast Power & Light       0.00      0.00      0.00         2\n",
      "                                  Page 44 Studios       0.00      0.00      0.00         1\n",
      "                                  Pam Development       0.00      0.00      0.00         2\n",
      "                                 Pandemic Studios       0.00      0.00      0.00         5\n",
      "                                     Panic Button       0.00      0.00      0.00         1\n",
      "                                 Panther Software       0.00      0.00      0.00         1\n",
      "                                   Papaya Studios       0.00      0.00      0.00         2\n",
      "                                          Papyrus       0.00      0.00      0.00         1\n",
      "                           Paradigm Entertainment       0.00      0.00      0.00         2\n",
      "                              Paradox Development       0.00      0.00      0.00         1\n",
      "                                  Pendulo Studios       0.00      0.00      0.00         1\n",
      "                                       Petroglyph       0.00      0.00      0.00         1\n",
      "                                       Phantagram       0.00      0.00      0.00         1\n",
      "                            Phoenix Entertainment       0.00      0.00      0.00         1\n",
      "                             Phoenix Games Studio       0.00      0.00      0.00         1\n",
      "                Phoenix Interactive Entertainment       0.00      0.00      0.00         2\n",
      "                         Pipeworks Software, Inc.       0.00      0.00      0.00         3\n",
      "                                    Piranha Bytes       0.00      0.00      0.00         4\n",
      "                              Planet Moon Studios       0.00      0.00      0.00         1\n",
      "                                    PlatinumGames       0.00      0.00      0.00         8\n",
      "                            Playrix Entertainment       0.00      0.00      0.00         1\n",
      "                                    Point of View       0.00      0.00      0.00         8\n",
      "                                    Polygon Magic       0.00      0.00      0.00         1\n",
      "                                           PopCap       0.00      0.00      0.00         5\n",
      "                                  Powerhead Games       0.00      0.00      0.00         6\n",
      "                                     Project Aces       0.00      0.00      0.00         1\n",
      "                                            Prope       0.00      0.00      0.00         1\n",
      "                               Pseudo Interactive       0.00      0.00      0.00         1\n",
      "                                           Psikyo       0.00      0.00      0.00         1\n",
      "                                        Psygnosis       0.00      0.00      0.00         2\n",
      "                                          Psyonix       0.00      0.00      0.00         1\n",
      "                                     Purple Hills       0.00      0.00      0.00         1\n",
      "                                          Pyramid       0.00      0.00      0.00         1\n",
      "                                  Q Entertainment       0.00      0.00      0.00         1\n",
      "                                    Quantic Dream       0.00      0.00      0.00         2\n",
      "                             Quicksilver Software       0.00      0.00      0.00         1\n",
      "                                RED Entertainment       0.00      0.00      0.00         1\n",
      "                RED Entertainment, Spike Chunsoft       0.00      0.00      0.00         1\n",
      "                                           Racjin       0.00      0.00      0.00         3\n",
      "                            Radical Entertainment       0.00      0.00      0.00         8\n",
      "                                    Rage Software       0.00      0.00      0.00         1\n",
      "                                  Rainbow Studios       0.00      0.00      0.00         7\n",
      "                                        Rare Ltd.       0.00      0.00      0.00         4\n",
      "                                           Raster       0.00      0.00      0.00         1\n",
      "                                           Ratbag       0.00      0.00      0.00         2\n",
      "                                   Raven Software       0.00      0.00      0.00         1\n",
      "                                 Raylight Studios       0.00      0.00      0.00         2\n",
      "                           Razorback Developments       0.00      0.00      0.00         1\n",
      "                                       Razorworks       0.00      0.00      0.00         1\n",
      "                               Razorworks Studios       0.00      0.00      0.00         1\n",
      "                  Ready at Dawn, SCE Santa Monica       0.00      0.00      0.00         2\n",
      "                                     Reality Pump       0.00      0.00      0.00         1\n",
      "                                        Rebellion       0.00      0.00      0.00         6\n",
      "                                   Red Fly Studio       0.00      0.00      0.00         1\n",
      "        Red Storm Entertainment, Ubisoft Montreal       0.00      0.00      0.00         1\n",
      "           Red Storm Entertainment, Ubisoft Paris       0.00      0.00      0.00         1\n",
      "                                        Red Tribe       0.00      0.00      0.00         2\n",
      "                   Red Tribe, Brash Entertainment       0.00      0.00      0.00         2\n",
      "                          Reflections Interactive       0.00      0.00      0.00         1\n",
      "                                            Relic       0.00      0.00      0.00         5\n",
      "                             Remedy Entertainment       0.00      0.00      0.00         1\n",
      "                                     Renegade Kid       0.00      0.00      0.00         1\n",
      "                            Respawn Entertainment       0.00      0.00      0.00         1\n",
      "                                    Retro Studios       0.00      0.00      0.00         1\n",
      "                              Revolution Software       0.00      0.00      0.00         1\n",
      "                                Rising Star Games       0.00      0.00      0.00         2\n",
      "                                         Robomodo       0.00      0.00      0.00         2\n",
      "                                   Rockstar Leeds       0.00      0.00      0.00         3\n",
      "                                   Rockstar North       0.10      0.25      0.14         4\n",
      "                               Rockstar San Diego       0.00      0.00      0.00         1\n",
      "                                 Rockstar Studios       0.00      0.00      0.00         1\n",
      "                                 Rockstar Toronto       0.00      0.00      0.00         1\n",
      "                               Rocksteady Studios       0.00      0.00      0.00         1\n",
      "                      Rocksteady Studios, Virtuos       0.00      0.00      0.00         1\n",
      "                Rovio Mobile, Rovio Entertainment       0.00      0.00      0.00         1\n",
      "                                      Runic Games       0.00      0.00      0.00         1\n",
      "                            Ryu ga Gotoku Studios       0.00      0.00      0.00         1\n",
      "                                            S-Neo       0.00      0.00      0.00         1\n",
      "                                 SCE Japan Studio       0.00      0.00      0.00         3\n",
      "                                 SCE Santa Monica       0.00      0.00      0.00         1\n",
      "                             SCE Studio Cambridge       0.00      0.00      0.00         1\n",
      "                          SCE/WWS, Media Molecule       0.00      0.00      0.00         1\n",
      "                                             SCEA       0.00      0.00      0.00         1\n",
      "                           SCEA San Diego Studios       0.00      0.00      0.00         5\n",
      "                               SCEA Sports Studio       0.00      0.00      0.00         1\n",
      "                                             SCEE       0.00      0.00      0.00         3\n",
      "                               SCEE London Studio       0.00      0.00      0.00         6\n",
      "                                   SCEE, Zoe Mode       0.00      0.00      0.00         1\n",
      "                                     SCS Software       0.00      0.00      0.00         1\n",
      "                               SEGA Racing Studio       0.00      0.00      0.00         1\n",
      "                                     SNK Playmore       0.00      0.00      0.00         7\n",
      "                                Saber Interactive       0.00      0.00      0.00         1\n",
      "                                          Saffire       0.00      0.00      0.00         1\n",
      "                               Sand Grain Studios       0.00      0.00      0.00         3\n",
      "                                          Sandlot       0.00      0.00      0.00         1\n",
      "                                 Santa Cruz Games       0.00      0.00      0.00         1\n",
      "            Sanuk Software Co., Ltd., Sanuk Games       0.00      0.00      0.00         1\n",
      "               Sanzaru Games, Sanzaru Games, Inc.       0.00      0.00      0.00         1\n",
      "                                    Sarbakan Inc.       0.00      0.00      0.00         1\n",
      "                             Savage Entertainment       0.00      0.00      0.00         1\n",
      "                            Scientifically Proven       0.00      0.00      0.00         1\n",
      "                                     Secret Level       0.00      0.00      0.00         1\n",
      "                                             Sega       0.00      0.00      0.00         6\n",
      "                                         Sega AM2       0.00      0.00      0.00         2\n",
      "                       Sega Studios San Francisco       0.00      0.00      0.00         1\n",
      "                                    Sensory Sweep       0.00      0.00      0.00         1\n",
      "                                 Seta Corporation       0.00      0.00      0.00         1\n",
      "                        Shift, Bandai Namco Games       0.00      0.00      0.00         1\n",
      "                                          Shin'en       0.00      0.00      0.00         3\n",
      "                              Shiny Entertainment       0.00      0.00      0.00         1\n",
      "                                Sidhe Interactive       0.00      0.00      0.00         1\n",
      "                                   Silicon Dreams       0.00      0.00      0.00         1\n",
      "                                  Silicon Knights       0.00      0.00      0.00         1\n",
      "                                   Silicon Studio       0.00      0.00      0.00         2\n",
      "                                   Sinister Games       0.00      0.00      0.00         1\n",
      "                                        Skip Ltd.       0.00      0.00      0.00         1\n",
      "                            Skyworks Technologies       0.00      0.00      0.00         1\n",
      "                                       Slam Games       0.00      0.00      0.00         2\n",
      "                           Smart Bomb Interactive       0.00      0.00      0.00         1\n",
      "                                         Smilebit       0.00      0.00      0.00         1\n",
      "                                Snap Dragon Games       0.00      0.00      0.00         1\n",
      "                                       Snapdragon       0.00      0.00      0.00         1\n",
      "                                Snowblind Studios       0.00      0.00      0.00         2\n",
      "                                  Societe Pollene       0.00      0.00      0.00         1\n",
      "                               Software Creations       0.00      0.00      0.00         2\n",
      "                                       Sonic Team       0.00      0.00      0.00        11\n",
      "                                        Sony Bend       0.00      0.00      0.00         1\n",
      "                        Sony Online Entertainment       0.00      0.00      0.00         1\n",
      " Sony Online Entertainment, Mind Control Software       0.00      0.00      0.00         1\n",
      "                                  SouthPeak Games       0.00      0.00      0.00         1\n",
      "                             Southend Interactive       0.00      0.00      0.00         1\n",
      "                                  Spark Unlimited       0.00      0.00      0.00         1\n",
      "                                       Spellbound       0.00      0.00      0.00         2\n",
      "                                          Spiders       0.00      0.00      0.00         1\n",
      "                              Spidersoft, Spiders       0.00      0.00      0.00         1\n",
      "                                            Spike       0.00      0.00      0.00         2\n",
      "                                   Spike Chunsoft       0.00      0.00      0.00         4\n",
      "                        Spike, Namco Bandai Games       0.00      0.00      0.00         1\n",
      "                     Splash Damage, The Coalition       0.00      0.00      0.00         1\n",
      "                               Sports Interactive       0.00      0.00      0.00         1\n",
      "                                      Square Enix       0.00      0.00      0.00        10\n",
      "                                Square Enix, TOSE       0.00      0.00      0.00         1\n",
      "                      Square Enix, Think and Feel       0.00      0.00      0.00         1\n",
      "                             Square Enix, Tri-Ace       0.00      0.00      0.00         1\n",
      "                                       SquareSoft       0.00      0.00      0.00         6\n",
      "                                  Stainless Games       0.00      0.00      0.00         1\n",
      "                          Stainless Steel Studios       0.00      0.00      0.00         1\n",
      "                                       Starbreeze       0.00      0.00      0.00         5\n",
      "                                         Starfish       0.00      0.00      0.00         2\n",
      "                           Starsphere Interactive       0.00      0.00      0.00         1\n",
      "                                  Stealth Studios       0.00      0.00      0.00         1\n",
      "                                            Sting       0.00      0.00      0.00         3\n",
      "                               Stormfront Studios       0.00      0.00      0.00         3\n",
      "                                      Stormregion       0.00      0.00      0.00         1\n",
      "                                        Studio 33       0.00      0.00      0.00         1\n",
      "                                   Studio Gigante       0.00      0.00      0.00         1\n",
      "                                          Success       0.00      0.00      0.00         1\n",
      "                                     Sucker Punch       0.00      0.00      0.00         2\n",
      "                                     Sumo Digital       0.00      0.00      0.00         2\n",
      "                                          SunSoft       0.00      0.00      0.00         1\n",
      "                           Sunflowers Interactive       0.00      0.00      0.00         1\n",
      "                                     Super Empire       0.00      0.00      0.00         1\n",
      "                               SuperMassive Games       0.00      0.00      0.00         1\n",
      "                             SuperVillain Studios       0.00      0.00      0.00         1\n",
      "                                 Surreal Software       0.00      0.00      0.00         2\n",
      "                                            Suzak       0.00      0.00      0.00         2\n",
      "                                Swordfish Studios       0.00      0.00      0.00         1\n",
      "                                         System 3       0.00      0.00      0.00         1\n",
      "                                    System Prisma       0.00      0.00      0.00         1\n",
      "                                              THQ       0.00      0.00      0.00        17\n",
      "                       THQ Digital Studio Phoenix       0.00      0.00      0.00         1\n",
      "                                             TOSE       0.00      0.00      0.00         9\n",
      "                                        TT Fusion       0.00      0.00      0.00         8\n",
      "                                         TT Games       0.00      0.00      0.00        24\n",
      "                                            Tabot       0.00      0.00      0.00         1\n",
      "                                Taito Corporation       0.00      0.00      0.00         2\n",
      "                                           Takara       0.00      0.00      0.00         1\n",
      "                                      Takara Tomy       0.00      0.00      0.00         2\n",
      "                             Take-Two Interactive       0.00      0.00      0.00         2\n",
      "                             Tamsoft, D3Publisher       0.00      0.00      0.00         1\n",
      "                             Tantalus Interactive       0.00      0.00      0.00         2\n",
      "         Tantalus Interactive, Tantatus, Nintendo       0.00      0.00      0.00         1\n",
      "                                         Tantatus       0.00      0.00      0.00         1\n",
      "                                     Targem Games       0.00      0.00      0.00         1\n",
      "                Targem Games, TopWare Interactive       0.00      0.00      0.00         1\n",
      "                   Tarsier Studios, Double Eleven       0.00      0.00      0.00         1\n",
      "                                          Team 17       0.00      0.00      0.00         5\n",
      "                              Team 17, Two Tribes       0.00      0.00      0.00         1\n",
      "                                       Team Ninja       0.00      0.00      0.00         1\n",
      "                               Team6 Game Studios       0.00      0.00      0.00         1\n",
      "                                         Techland       0.00      0.00      0.00         3\n",
      "                                            Tecmo       0.00      0.00      0.00         3\n",
      "                                   Telltale Games       0.00      0.00      0.00         2\n",
      "                                 Terminal Reality       0.00      0.00      0.00         8\n",
      "                                     The Behemoth       0.00      0.00      0.00         1\n",
      "                                  The Sims Studio       0.00      0.00      0.00         4\n",
      "                           Tiertex Design Studios       0.00      0.00      0.00         1\n",
      "                                   Titus Software       0.00      0.00      0.00         1\n",
      "                                             Toka       0.00      0.00      0.00         1\n",
      "                                   Toolbox Design       0.00      0.00      0.00         1\n",
      "                                      Torus Games       0.00      0.00      0.00         8\n",
      "                        Torus Games, Little Orbit       0.00      0.00      0.00         2\n",
      "                                    Totally Games       0.00      0.00      0.00         1\n",
      "                                     Toys for Bob       0.00      0.00      0.00         4\n",
      "                                Traveller's Tales       0.00      0.00      0.00        15\n",
      "                                         Treasure       0.00      0.00      0.00         1\n",
      "                                         Treyarch       0.00      0.00      0.00         9\n",
      "                            Treyarch, Shaba Games       0.00      0.00      0.00         1\n",
      "                                          Tri-Ace       0.00      0.00      0.00         2\n",
      "                                    Tri-Crescendo       0.00      0.00      0.00         2\n",
      "                             Tripwire Interactive       0.00      0.00      0.00         1\n",
      "                                     Turbine Inc.       0.00      0.00      0.00         1\n",
      "                                          Turn 10       0.00      0.00      0.00         1\n",
      "                                     Twelve Games       0.00      0.00      0.00         1\n",
      "                                       Two Tribes       0.00      0.00      0.00         2\n",
      "                               UBlart Montpellier       0.00      0.00      0.00         1\n",
      "                                              UDS       0.00      0.00      0.00         1\n",
      "                                           Uacari       0.00      0.00      0.00         1\n",
      "                                          Ubisoft       0.58      0.99      0.73      1355\n",
      "                                 Ubisoft Bulgaria       0.00      0.00      0.00         2\n",
      "                               Ubisoft Casablanca       0.00      0.00      0.00         1\n",
      "                              Ubisoft Montpellier       0.00      0.00      0.00         1\n",
      "                                 Ubisoft Montreal       0.13      0.48      0.20        21\n",
      "                                    Ubisoft Paris       0.00      0.00      0.00         4\n",
      "               Ubisoft Paris, Ubisoft Montpellier       0.00      0.00      0.00         2\n",
      "                                   Ubisoft Quebec       0.00      0.00      0.00         1\n",
      "                 Ubisoft Reflections, Ivory Tower       0.00      0.00      0.00         1\n",
      "                                  Ubisoft Romania       0.00      0.00      0.00         4\n",
      "                                Ubisoft Sao Paulo       0.00      0.00      0.00         1\n",
      "                                 Ubisoft Shanghai       0.00      0.00      0.00         2\n",
      "                                  Ubisoft Toronto       0.00      0.00      0.00         1\n",
      "                                Ubisoft Vancouver       0.00      0.00      0.00         2\n",
      "                        Ubisoft, Ubisoft Montreal       0.00      0.00      0.00         3\n",
      "                                      Urban Games       0.00      0.00      0.00         1\n",
      "                                VIS Entertainment       0.00      0.00      0.00         1\n",
      "                                            VSTEP       0.00      0.00      0.00         1\n",
      "                                     Valcon Games       0.00      0.00      0.00         1\n",
      "                               Valuewave Co.,Ltd.       0.00      0.00      0.00         1\n",
      "                                   Valve Software       0.00      0.00      0.00         4\n",
      "                                         Vanguard       0.00      0.00      0.00         1\n",
      "                                     Vanilla Ware       0.00      0.00      0.00         1\n",
      "                                Vicarious Visions       0.00      0.00      0.00        13\n",
      "                                    Vicious Cycle       0.00      0.00      0.00         3\n",
      "              Vicious Cycle, Infinite Interactive       0.00      0.00      0.00         1\n",
      "                      Vicious Cycle, Little Orbit       0.00      0.00      0.00         1\n",
      "                                      Vigil Games       0.00      0.00      0.00         3\n",
      "                                Virtual Play Inc.       0.00      0.00      0.00         1\n",
      "                                     Virtual Toys       0.00      0.00      0.00         3\n",
      "                                       Virtucraft       0.00      0.00      0.00         1\n",
      "                                          Virtuos       0.00      0.00      0.00         4\n",
      "                                   Visceral Games       0.00      0.00      0.00         3\n",
      "                                  Visual Concepts       0.04      0.19      0.06        16\n",
      "                                    Visual Impact       0.00      0.00      0.00         3\n",
      "                                    Vivendi Games       0.00      0.00      0.00         3\n",
      "                                    Volition Inc.       0.00      0.00      0.00         4\n",
      "                      Volition Inc., Reactor Zero       0.00      0.00      0.00         1\n",
      "                                             WBIE       0.00      0.00      0.00         1\n",
      "                                              WXP       0.00      0.00      0.00         2\n",
      "           Warner Bros. Interactive Entertainment       0.00      0.00      0.00         1\n",
      "                                          Warthog       0.00      0.00      0.00         2\n",
      "                                       WayForward       0.00      0.00      0.00        11\n",
      "                                 Westwood Studios       0.00      0.00      0.00         1\n",
      "                            Wicked Witch Software       0.00      0.00      0.00         2\n",
      "                                 WideScreen Games       0.00      0.00      0.00         1\n",
      "                                      WildTangent       0.00      0.00      0.00         1\n",
      "                                 Wildfire Studios       0.00      0.00      0.00         1\n",
      "                                             Will       0.00      0.00      0.00         1\n",
      "                                         Wizarbox       0.00      0.00      0.00         2\n",
      "                                Wow Entertainment       0.00      0.00      0.00         2\n",
      "                                             Xpec       0.00      0.00      0.00         2\n",
      "                                            Yager       0.00      0.00      0.00         1\n",
      "                                           Yuke's       0.00      0.00      0.00        14\n",
      "                                     Z-Axis, Ltd.       0.00      0.00      0.00         2\n",
      "                                  Zed Two Limited       0.00      0.00      0.00         1\n",
      "                                         ZeptoLab       0.00      0.00      0.00         1\n",
      "                               Zipper Interactive       0.00      0.00      0.00         2\n",
      "                                         Zoe Mode       0.00      0.00      0.00         2\n",
      "                  Zoe Mode, HB Studios Multimedia       0.00      0.00      0.00         1\n",
      "                                           Zombie       0.00      0.00      0.00         1\n",
      "                                        Zoo Games       0.00      0.00      0.00         2\n",
      "                                  Zushi Games Ltd       0.00      0.00      0.00         1\n",
      "                                           Zuxxez       0.00      0.00      0.00         1\n",
      "                       dtp Young Entertainment AG       0.00      0.00      0.00         1\n",
      "                                           eGames       0.00      0.00      0.00         1\n",
      "                                             iWin       0.00      0.00      0.00         1\n",
      "                                      id Software       0.00      0.00      0.00         2\n",
      "                      id Software, Nerve Software       0.00      0.00      0.00         1\n",
      "                      id Software, Raven Software       0.00      0.00      0.00         2\n",
      "                                          n-Space       0.00      0.00      0.00         2\n",
      "\n",
      "                                         accuracy                           0.42      3344\n",
      "                                        macro avg       0.00      0.00      0.00      3344\n",
      "                                     weighted avg       0.24      0.42      0.30      3344\n",
      "\n",
      "Confusion Matrix:\n",
      "[[0 0 0 ... 0 0 0]\n",
      " [0 0 0 ... 0 0 0]\n",
      " [0 0 0 ... 0 0 0]\n",
      " ...\n",
      " [0 0 0 ... 0 0 0]\n",
      " [0 0 0 ... 0 0 0]\n",
      " [0 0 0 ... 0 0 0]]\n"
     ]
    },
    {
     "name": "stderr",
     "output_type": "stream",
     "text": [
      "/usr/local/lib/python3.10/dist-packages/sklearn/metrics/_classification.py:1344: UndefinedMetricWarning: Precision and F-score are ill-defined and being set to 0.0 in labels with no predicted samples. Use `zero_division` parameter to control this behavior.\n",
      "  _warn_prf(average, modifier, msg_start, len(result))\n",
      "/usr/local/lib/python3.10/dist-packages/sklearn/metrics/_classification.py:1344: UndefinedMetricWarning: Recall and F-score are ill-defined and being set to 0.0 in labels with no true samples. Use `zero_division` parameter to control this behavior.\n",
      "  _warn_prf(average, modifier, msg_start, len(result))\n",
      "/usr/local/lib/python3.10/dist-packages/sklearn/metrics/_classification.py:1344: UndefinedMetricWarning: Precision and F-score are ill-defined and being set to 0.0 in labels with no predicted samples. Use `zero_division` parameter to control this behavior.\n",
      "  _warn_prf(average, modifier, msg_start, len(result))\n",
      "/usr/local/lib/python3.10/dist-packages/sklearn/metrics/_classification.py:1344: UndefinedMetricWarning: Recall and F-score are ill-defined and being set to 0.0 in labels with no true samples. Use `zero_division` parameter to control this behavior.\n",
      "  _warn_prf(average, modifier, msg_start, len(result))\n",
      "/usr/local/lib/python3.10/dist-packages/sklearn/metrics/_classification.py:1344: UndefinedMetricWarning: Precision and F-score are ill-defined and being set to 0.0 in labels with no predicted samples. Use `zero_division` parameter to control this behavior.\n",
      "  _warn_prf(average, modifier, msg_start, len(result))\n",
      "/usr/local/lib/python3.10/dist-packages/sklearn/metrics/_classification.py:1344: UndefinedMetricWarning: Recall and F-score are ill-defined and being set to 0.0 in labels with no true samples. Use `zero_division` parameter to control this behavior.\n",
      "  _warn_prf(average, modifier, msg_start, len(result))\n"
     ]
    }
   ],
   "source": [
    "print('Classification Report:')\n",
    "print(classification_report(y_test,y_pred_lr))\n",
    "print('Confusion Matrix:')\n",
    "print(confusion_matrix(y_test, y_pred_lr))"
   ]
  },
  {
   "cell_type": "code",
   "execution_count": null,
   "id": "6df55635",
   "metadata": {
    "colab": {
     "base_uri": "https://localhost:8080/"
    },
    "executionInfo": {
     "elapsed": 14046,
     "status": "ok",
     "timestamp": 1684268484760,
     "user": {
      "displayName": "Timilehin Osinuga",
      "userId": "02674228651306861961"
     },
     "user_tz": -60
    },
    "id": "6df55635",
    "outputId": "f5409e47-2e91-49f3-e977-74120d984a82"
   },
   "outputs": [
    {
     "name": "stderr",
     "output_type": "stream",
     "text": [
      "/usr/local/lib/python3.10/dist-packages/sklearn/model_selection/_split.py:700: UserWarning: The least populated class in y has only 1 members, which is less than n_splits=10.\n",
      "  warnings.warn(\n"
     ]
    },
    {
     "name": "stdout",
     "output_type": "stream",
     "text": [
      "Decision Tree Classifier:\n",
      "Cross-validation scores: [0.5470852  0.53886398 0.53961136 0.53886398 0.55530643 0.5407629\n",
      " 0.54899028 0.52655198 0.54450262 0.5407629 ]\n",
      "Mean score: 0.5421301622332309\n",
      "Standard deviation: 0.0072453771897346645\n"
     ]
    }
   ],
   "source": [
    "#Train and evaluate the Decision Tree Classifier using cross-validation\n",
    "from sklearn.model_selection import cross_val_score\n",
    "dtc = DecisionTreeClassifier(random_state=42)\n",
    "scores = cross_val_score(dtc, X_train, y_train, cv=10)\n",
    "print(\"Decision Tree Classifier:\")\n",
    "print(\"Cross-validation scores:\", scores)\n",
    "print(\"Mean score:\", scores.mean())\n",
    "print('Standard deviation:', scores.std())"
   ]
  },
  {
   "cell_type": "markdown",
   "id": "b4ea6ef5",
   "metadata": {
    "id": "b4ea6ef5"
   },
   "source": [
    "Platform"
   ]
  },
  {
   "cell_type": "code",
   "execution_count": null,
   "id": "d8d8dbcd",
   "metadata": {
    "id": "d8d8dbcd"
   },
   "outputs": [],
   "source": [
    "X = data_reg.drop(['Platform'], axis=1)\n",
    "y = data['Platform']"
   ]
  },
  {
   "cell_type": "code",
   "execution_count": null,
   "id": "c6b1ff87",
   "metadata": {
    "id": "c6b1ff87"
   },
   "outputs": [],
   "source": [
    "X_train, X_test, y_train, y_test = train_test_split(X, y, test_size=0.2, random_state=42)"
   ]
  },
  {
   "cell_type": "code",
   "execution_count": null,
   "id": "836720b3",
   "metadata": {
    "colab": {
     "base_uri": "https://localhost:8080/"
    },
    "executionInfo": {
     "elapsed": 4141,
     "status": "ok",
     "timestamp": 1684268581415,
     "user": {
      "displayName": "Timilehin Osinuga",
      "userId": "02674228651306861961"
     },
     "user_tz": -60
    },
    "id": "836720b3",
    "outputId": "ac1d7d66-8e10-46a8-864b-a5cbd5d5116d"
   },
   "outputs": [
    {
     "data": {
      "text/plain": [
       "0.992822429906542"
      ]
     },
     "execution_count": 138,
     "metadata": {},
     "output_type": "execute_result"
    }
   ],
   "source": [
    "#train the random forest classifier\n",
    "rfc = RandomForestClassifier()\n",
    "rfc.fit(X_train, y_train)\n",
    "y_pred_rfc = rfc.predict(X_test)\n",
    "#train accuracy\n",
    "y_train_pred = rfc.predict(X_train)\n",
    "train_accuracy = accuracy_score(y_train,y_train_pred)\n",
    "train_accuracy"
   ]
  },
  {
   "cell_type": "code",
   "execution_count": null,
   "id": "1c3a3ed2",
   "metadata": {
    "colab": {
     "base_uri": "https://localhost:8080/"
    },
    "executionInfo": {
     "elapsed": 793,
     "status": "ok",
     "timestamp": 1684268595598,
     "user": {
      "displayName": "Timilehin Osinuga",
      "userId": "02674228651306861961"
     },
     "user_tz": -60
    },
    "id": "1c3a3ed2",
    "outputId": "fa46dfdf-87de-4bb4-e617-a9618bd01e48"
   },
   "outputs": [
    {
     "data": {
      "text/plain": [
       "0.5795454545454546"
      ]
     },
     "execution_count": 139,
     "metadata": {},
     "output_type": "execute_result"
    }
   ],
   "source": [
    "#test accuracy for random forest classifier\n",
    "y_test_pred = rfc.predict(X_test)\n",
    "test_accuracy = accuracy_score(y_test,y_test_pred)\n",
    "test_accuracy"
   ]
  },
  {
   "cell_type": "code",
   "execution_count": null,
   "id": "f03b361b",
   "metadata": {
    "colab": {
     "base_uri": "https://localhost:8080/"
    },
    "executionInfo": {
     "elapsed": 514,
     "status": "ok",
     "timestamp": 1684268703623,
     "user": {
      "displayName": "Timilehin Osinuga",
      "userId": "02674228651306861961"
     },
     "user_tz": -60
    },
    "id": "f03b361b",
    "outputId": "5da60a2d-ce9e-4f40-ab5d-75e5685dcf91"
   },
   "outputs": [
    {
     "data": {
      "text/plain": [
       "0.992822429906542"
      ]
     },
     "execution_count": 140,
     "metadata": {},
     "output_type": "execute_result"
    }
   ],
   "source": [
    "#train the decision tree classifier\n",
    "dt = DecisionTreeClassifier()\n",
    "dt.fit(X_train, y_train)\n",
    "y_pred_dt = dt.predict(X_test)\n",
    "#train accuracy\n",
    "y_train_pred = dt.predict(X_train)\n",
    "train_accuracy = accuracy_score(y_train,y_train_pred)\n",
    "train_accuracy"
   ]
  },
  {
   "cell_type": "code",
   "execution_count": null,
   "id": "4af8a02b",
   "metadata": {
    "colab": {
     "base_uri": "https://localhost:8080/"
    },
    "executionInfo": {
     "elapsed": 233,
     "status": "ok",
     "timestamp": 1684268707139,
     "user": {
      "displayName": "Timilehin Osinuga",
      "userId": "02674228651306861961"
     },
     "user_tz": -60
    },
    "id": "4af8a02b",
    "outputId": "f8995652-1a77-49dd-a0b4-c6aa6d09f888"
   },
   "outputs": [
    {
     "data": {
      "text/plain": [
       "0.5059808612440191"
      ]
     },
     "execution_count": 141,
     "metadata": {},
     "output_type": "execute_result"
    }
   ],
   "source": [
    "#test accuracy for decision tree classifier\n",
    "y_test_pred = dt.predict(X_test)\n",
    "test_accuracy = accuracy_score(y_test,y_test_pred)\n",
    "test_accuracy"
   ]
  },
  {
   "cell_type": "code",
   "execution_count": null,
   "id": "ecf0e560",
   "metadata": {
    "colab": {
     "base_uri": "https://localhost:8080/"
    },
    "executionInfo": {
     "elapsed": 2059,
     "status": "ok",
     "timestamp": 1684268751898,
     "user": {
      "displayName": "Timilehin Osinuga",
      "userId": "02674228651306861961"
     },
     "user_tz": -60
    },
    "id": "ecf0e560",
    "outputId": "5ea197d3-4386-434b-f517-f38d3df12c3c"
   },
   "outputs": [
    {
     "name": "stderr",
     "output_type": "stream",
     "text": [
      "/usr/local/lib/python3.10/dist-packages/sklearn/linear_model/_logistic.py:458: ConvergenceWarning: lbfgs failed to converge (status=1):\n",
      "STOP: TOTAL NO. of ITERATIONS REACHED LIMIT.\n",
      "\n",
      "Increase the number of iterations (max_iter) or scale the data as shown in:\n",
      "    https://scikit-learn.org/stable/modules/preprocessing.html\n",
      "Please also refer to the documentation for alternative solver options:\n",
      "    https://scikit-learn.org/stable/modules/linear_model.html#logistic-regression\n",
      "  n_iter_i = _check_optimize_result(\n"
     ]
    },
    {
     "data": {
      "text/plain": [
       "0.18841121495327104"
      ]
     },
     "execution_count": 142,
     "metadata": {},
     "output_type": "execute_result"
    }
   ],
   "source": [
    "#train the logistic regression\n",
    "lr = LogisticRegression()\n",
    "lr.fit(X_train, y_train)\n",
    "y_pred_lr = lr.predict(X_test)\n",
    "#train accuracy\n",
    "y_train_pred = lr.predict(X_train)\n",
    "train_accuracy = accuracy_score(y_train,y_train_pred)\n",
    "train_accuracy"
   ]
  },
  {
   "cell_type": "code",
   "execution_count": null,
   "id": "c6ffb006",
   "metadata": {
    "colab": {
     "base_uri": "https://localhost:8080/"
    },
    "executionInfo": {
     "elapsed": 241,
     "status": "ok",
     "timestamp": 1684268789124,
     "user": {
      "displayName": "Timilehin Osinuga",
      "userId": "02674228651306861961"
     },
     "user_tz": -60
    },
    "id": "c6ffb006",
    "outputId": "92346802-e7ec-4cae-eb49-b2d5c842476f"
   },
   "outputs": [
    {
     "data": {
      "text/plain": [
       "0.19198564593301434"
      ]
     },
     "execution_count": 143,
     "metadata": {},
     "output_type": "execute_result"
    }
   ],
   "source": [
    "#test accuracy for logistic regression\n",
    "y_test_pred = lr.predict(X_test)\n",
    "test_accuracy = accuracy_score(y_test,y_test_pred)\n",
    "test_accuracy"
   ]
  },
  {
   "cell_type": "code",
   "execution_count": null,
   "id": "4371bc75",
   "metadata": {
    "colab": {
     "base_uri": "https://localhost:8080/"
    },
    "executionInfo": {
     "elapsed": 281,
     "status": "ok",
     "timestamp": 1684268817606,
     "user": {
      "displayName": "Timilehin Osinuga",
      "userId": "02674228651306861961"
     },
     "user_tz": -60
    },
    "id": "4371bc75",
    "outputId": "94681ca4-edc3-4dbc-c900-c979219ba16f"
   },
   "outputs": [
    {
     "data": {
      "text/plain": [
       "0.21958878504672896"
      ]
     },
     "execution_count": 144,
     "metadata": {},
     "output_type": "execute_result"
    }
   ],
   "source": [
    "# Train the Naive Bayes Classifier\n",
    "gnb = GaussianNB()\n",
    "gnb.fit(X_train, y_train)\n",
    "y_pred_gnb = gnb.predict(X_test)\n",
    "#train accuracy\n",
    "y_train_pred = gnb.predict(X_train)\n",
    "train_accuracy = accuracy_score(y_train,y_train_pred)\n",
    "train_accuracy"
   ]
  },
  {
   "cell_type": "code",
   "execution_count": null,
   "id": "1687ad2e",
   "metadata": {
    "colab": {
     "base_uri": "https://localhost:8080/"
    },
    "executionInfo": {
     "elapsed": 288,
     "status": "ok",
     "timestamp": 1684268836599,
     "user": {
      "displayName": "Timilehin Osinuga",
      "userId": "02674228651306861961"
     },
     "user_tz": -60
    },
    "id": "1687ad2e",
    "outputId": "51e7d369-9fb0-4850-9e42-d4ff406b6ef6"
   },
   "outputs": [
    {
     "data": {
      "text/plain": [
       "0.21052631578947367"
      ]
     },
     "execution_count": 145,
     "metadata": {},
     "output_type": "execute_result"
    }
   ],
   "source": [
    "#test accuracy for logistic regression\n",
    "y_test_pred = gnb.predict(X_test)\n",
    "test_accuracy = accuracy_score(y_test,y_test_pred)\n",
    "test_accuracy"
   ]
  },
  {
   "cell_type": "code",
   "execution_count": null,
   "id": "8397e9cf",
   "metadata": {
    "colab": {
     "base_uri": "https://localhost:8080/"
    },
    "executionInfo": {
     "elapsed": 228,
     "status": "ok",
     "timestamp": 1684268859388,
     "user": {
      "displayName": "Timilehin Osinuga",
      "userId": "02674228651306861961"
     },
     "user_tz": -60
    },
    "id": "8397e9cf",
    "outputId": "c1dc9282-5214-4817-ba8b-6f27836cf644"
   },
   "outputs": [
    {
     "name": "stdout",
     "output_type": "stream",
     "text": [
      "Classification Report:\n",
      "              precision    recall  f1-score   support\n",
      "\n",
      "        2600       0.96      1.00      0.98        25\n",
      "         3DO       0.00      0.00      0.00         1\n",
      "         3DS       0.49      0.31      0.38       119\n",
      "          DC       0.56      0.62      0.59         8\n",
      "          DS       0.51      0.62      0.56       425\n",
      "          GB       0.27      0.24      0.25        17\n",
      "         GBA       0.70      0.70      0.70       164\n",
      "          GC       0.52      0.30      0.38       110\n",
      "         GEN       0.50      0.33      0.40         6\n",
      "         N64       0.95      0.71      0.81        75\n",
      "         NES       1.00      0.78      0.88        18\n",
      "          NG       0.50      0.33      0.40         3\n",
      "          PC       0.72      0.88      0.79       176\n",
      "          PS       0.79      0.81      0.80       248\n",
      "         PS2       0.69      0.79      0.74       451\n",
      "         PS3       0.42      0.39      0.41       272\n",
      "         PS4       0.55      0.46      0.50        82\n",
      "         PSP       0.46      0.42      0.44       213\n",
      "         PSV       0.42      0.42      0.42        83\n",
      "         SAT       0.60      0.50      0.55        36\n",
      "         SCD       0.00      0.00      0.00         1\n",
      "        SNES       0.64      0.76      0.69        55\n",
      "        TG16       0.00      0.00      0.00         1\n",
      "          WS       0.00      0.00      0.00         1\n",
      "         Wii       0.45      0.34      0.39       268\n",
      "        WiiU       0.29      0.15      0.20        26\n",
      "        X360       0.43      0.50      0.46       252\n",
      "          XB       0.61      0.64      0.62       153\n",
      "        XOne       0.58      0.47      0.52        55\n",
      "\n",
      "    accuracy                           0.58      3344\n",
      "   macro avg       0.50      0.47      0.48      3344\n",
      "weighted avg       0.57      0.58      0.57      3344\n",
      "\n",
      "Confusion Matrix:\n",
      "[[ 25   0   0   0   0   0   0   0   0   0   0   0   0   0   0   0   0   0\n",
      "    0   0   0   0   0   0   0   0   0   0   0]\n",
      " [  0   0   0   0   0   0   0   0   0   0   0   0   0   0   0   0   0   0\n",
      "    0   0   0   1   0   0   0   0   0   0   0]\n",
      " [  0   0  37   0  10   0   0   0   0   0   0   0   2   0   0  20   8   6\n",
      "   14   0   0   0   0   0  10   3   8   0   1]\n",
      " [  0   0   0   5   0   0   0   0   0   0   0   0   0   0   3   0   0   0\n",
      "    0   0   0   0   0   0   0   0   0   0   0]\n",
      " [  1   0   4   0 265   0   4   2   0   0   0   0   8   0  31   9   0  41\n",
      "    0   0   0   0   0   0  45   0  14   1   0]\n",
      " [  0   0   0   0   0   4   0   0   0   1   0   0   0   6   0   0   0   0\n",
      "    0   0   0   6   0   0   0   0   0   0   0]\n",
      " [  0   0   0   0   8   1 115  11   0   0   0   0   0   2  15   0   0   1\n",
      "    0   0   0   0   0   0   0   0   0  11   0]\n",
      " [  0   0   0   0   5   0  13  33   0   0   0   0   0   2  12   0   0   3\n",
      "    0   0   0   0   0   0   1   0   0  41   0]\n",
      " [  0   0   0   0   0   0   0   0   2   0   0   0   0   0   0   0   0   0\n",
      "    0   0   0   4   0   0   0   0   0   0   0]\n",
      " [  0   0   0   0   1   1   3   0   0  53   0   0   0  12   0   0   0   0\n",
      "    0   1   0   3   0   0   0   0   1   0   0]\n",
      " [  0   0   0   0   0   2   0   0   0   0  14   0   0   0   0   0   0   0\n",
      "    0   0   0   2   0   0   0   0   0   0   0]\n",
      " [  0   0   0   0   0   0   0   0   0   0   0   1   0   0   0   0   0   0\n",
      "    0   2   0   0   0   0   0   0   0   0   0]\n",
      " [  0   0   1   0   3   0   0   0   0   0   0   0 154   3   4   2   1   0\n",
      "    0   0   0   0   0   0   1   0   5   0   2]\n",
      " [  0   0   0   2   0   4   4   0   0   2   0   0   0 202  22   1   0   0\n",
      "    0   6   0   5   0   0   0   0   0   0   0]\n",
      " [  0   0   0   2  28   0  14   1   0   0   0   0   1   9 355   6   0  18\n",
      "    0   0   0   0   0   0   7   0   5   5   0]\n",
      " [  0   0   8   0  17   0   0   0   0   0   0   0   8   0   6 106   2   9\n",
      "   15   0   0   0   0   0  19   3  78   0   1]\n",
      " [  0   0   2   0   0   0   0   0   0   0   0   0  11   0   0   6  38   0\n",
      "   11   0   0   0   0   0   0   1   3   0  10]\n",
      " [  0   0   5   0  56   0   1   0   0   0   0   0   1   0  24  14   0  89\n",
      "    4   0   0   0   0   0   8   0   8   3   0]\n",
      " [  0   0   9   0   0   0   0   0   0   0   0   0   2   0   0  20   9   3\n",
      "   35   0   0   0   0   0   0   1   3   0   1]\n",
      " [  0   0   0   0   0   0   0   0   1   0   0   0   0  14   0   0   0   0\n",
      "    0  18   0   3   0   0   0   0   0   0   0]\n",
      " [  0   0   0   0   0   0   0   0   1   0   0   0   0   0   0   0   0   0\n",
      "    0   0   0   0   0   0   0   0   0   0   0]\n",
      " [  0   0   0   0   1   3   0   0   0   0   0   1   0   6   0   0   0   0\n",
      "    0   2   0  42   0   0   0   0   0   0   0]\n",
      " [  0   0   0   0   0   0   0   0   0   0   0   0   0   0   0   0   0   0\n",
      "    0   1   0   0   0   0   0   0   0   0   0]\n",
      " [  0   0   0   0   0   0   0   0   0   0   0   0   0   1   0   0   0   0\n",
      "    0   0   0   0   0   0   0   0   0   0   0]\n",
      " [  0   0   2   0 104   0   1   0   0   0   0   0   6   0   9  17   0  11\n",
      "    1   0   0   0   0   0  91   0  26   0   0]\n",
      " [  0   0   6   0   1   0   0   0   0   0   0   0   1   0   0   4   1   0\n",
      "    1   0   0   0   0   0   0   4   7   0   1]\n",
      " [  0   0   0   0  20   0   0   0   0   0   0   0  15   0   7  41   1  14\n",
      "    2   0   0   0   0   0  20   1 126   2   3]\n",
      " [  0   0   0   0   2   0  10  17   0   0   0   0   0   0  24   0   0   0\n",
      "    0   0   0   0   0   0   1   0   1  98   0]\n",
      " [  0   0   1   0   0   0   0   0   0   0   0   0   6   0   1   4   9   0\n",
      "    1   0   0   0   0   0   0   1   6   0  26]]\n"
     ]
    },
    {
     "name": "stderr",
     "output_type": "stream",
     "text": [
      "/usr/local/lib/python3.10/dist-packages/sklearn/metrics/_classification.py:1344: UndefinedMetricWarning: Precision and F-score are ill-defined and being set to 0.0 in labels with no predicted samples. Use `zero_division` parameter to control this behavior.\n",
      "  _warn_prf(average, modifier, msg_start, len(result))\n",
      "/usr/local/lib/python3.10/dist-packages/sklearn/metrics/_classification.py:1344: UndefinedMetricWarning: Precision and F-score are ill-defined and being set to 0.0 in labels with no predicted samples. Use `zero_division` parameter to control this behavior.\n",
      "  _warn_prf(average, modifier, msg_start, len(result))\n",
      "/usr/local/lib/python3.10/dist-packages/sklearn/metrics/_classification.py:1344: UndefinedMetricWarning: Precision and F-score are ill-defined and being set to 0.0 in labels with no predicted samples. Use `zero_division` parameter to control this behavior.\n",
      "  _warn_prf(average, modifier, msg_start, len(result))\n"
     ]
    }
   ],
   "source": [
    "print('Classification Report:')\n",
    "print(classification_report(y_test,y_pred_rfc))\n",
    "print('Confusion Matrix:')\n",
    "print(confusion_matrix(y_test, y_pred_rfc))"
   ]
  },
  {
   "cell_type": "code",
   "execution_count": null,
   "id": "5a42da2d",
   "metadata": {
    "colab": {
     "base_uri": "https://localhost:8080/"
    },
    "executionInfo": {
     "elapsed": 220,
     "status": "ok",
     "timestamp": 1684268866760,
     "user": {
      "displayName": "Timilehin Osinuga",
      "userId": "02674228651306861961"
     },
     "user_tz": -60
    },
    "id": "5a42da2d",
    "outputId": "328516cc-36e6-4818-a931-857820cbf568"
   },
   "outputs": [
    {
     "name": "stdout",
     "output_type": "stream",
     "text": [
      "Classification Report:\n",
      "              precision    recall  f1-score   support\n",
      "\n",
      "        2600       0.93      1.00      0.96        25\n",
      "         3DO       0.00      0.00      0.00         1\n",
      "         3DS       0.30      0.28      0.29       119\n",
      "          DC       0.55      0.75      0.63         8\n",
      "          DS       0.47      0.45      0.46       425\n",
      "          GB       0.13      0.24      0.17        17\n",
      "         GBA       0.66      0.59      0.62       164\n",
      "          GC       0.41      0.48      0.44       110\n",
      "         GEN       0.44      0.67      0.53         6\n",
      "         N64       0.80      0.75      0.77        75\n",
      "         NES       0.81      0.72      0.76        18\n",
      "          NG       0.33      0.67      0.44         3\n",
      "          PC       0.71      0.73      0.72       176\n",
      "        PCFX       0.00      0.00      0.00         0\n",
      "          PS       0.83      0.81      0.82       248\n",
      "         PS2       0.71      0.69      0.70       451\n",
      "         PS3       0.32      0.31      0.31       272\n",
      "         PS4       0.47      0.43      0.45        82\n",
      "         PSP       0.31      0.38      0.34       213\n",
      "         PSV       0.33      0.39      0.36        83\n",
      "         SAT       0.62      0.42      0.50        36\n",
      "         SCD       0.00      0.00      0.00         1\n",
      "        SNES       0.71      0.67      0.69        55\n",
      "        TG16       0.00      0.00      0.00         1\n",
      "          WS       0.33      1.00      0.50         1\n",
      "         Wii       0.33      0.31      0.32       268\n",
      "        WiiU       0.17      0.23      0.20        26\n",
      "        X360       0.35      0.38      0.37       252\n",
      "          XB       0.53      0.51      0.52       153\n",
      "        XOne       0.45      0.36      0.40        55\n",
      "\n",
      "    accuracy                           0.51      3344\n",
      "   macro avg       0.43      0.47      0.44      3344\n",
      "weighted avg       0.51      0.51      0.51      3344\n",
      "\n",
      "Confusion Matrix:\n",
      "[[ 25   0   0   0   0   0   0   0   0   0   0   0   0   0   0   0   0   0\n",
      "    0   0   0   0   0   0   0   0   0   0   0   0]\n",
      " [  0   0   0   0   0   0   0   0   0   0   0   0   0   0   0   0   0   0\n",
      "    0   0   0   0   1   0   0   0   0   0   0   0]\n",
      " [  0   0  33   0   8   0   0   0   0   0   0   0   1   0   0   1  23   6\n",
      "   10  11   0   0   0   0   0   7   8   9   0   2]\n",
      " [  0   0   0   6   0   0   0   0   0   0   0   0   0   0   0   1   0   0\n",
      "    0   0   0   0   0   0   1   0   0   0   0   0]\n",
      " [  1   0   3   0 190   0   4   4   0   0   0   0   8   0   0  34  10   0\n",
      "   59   1   0   0   0   0   0  77   0  32   2   0]\n",
      " [  0   0   0   1   0   4   0   0   0   4   1   0   0   0   3   1   0   0\n",
      "    0   0   0   0   3   0   0   0   0   0   0   0]\n",
      " [  0   0   0   0   7   0  97  24   0   1   0   0   0   0   1  15   0   0\n",
      "    2   0   0   0   0   0   0   0   0   2  15   0]\n",
      " [  0   0   0   0   6   0   7  53   0   0   0   0   0   0   1   3   2   0\n",
      "    1   0   0   0   0   0   0   0   0   1  36   0]\n",
      " [  0   0   0   0   0   2   0   0   4   0   0   0   0   0   0   0   0   0\n",
      "    0   0   0   0   0   0   0   0   0   0   0   0]\n",
      " [  0   0   0   0   0   3   2   2   0  56   0   0   0   0   8   0   0   0\n",
      "    1   0   1   0   1   0   0   0   0   1   0   0]\n",
      " [  0   0   0   0   0   4   0   0   0   0  13   0   0   0   0   0   0   0\n",
      "    0   0   0   0   1   0   0   0   0   0   0   0]\n",
      " [  0   0   0   0   0   0   0   0   0   0   0   2   0   0   0   0   0   0\n",
      "    0   0   1   0   0   0   0   0   0   0   0   0]\n",
      " [  0   0   3   0   6   0   0   0   0   0   0   0 129   0   2   8   3   3\n",
      "    0   2   1   0   0   0   0   5   1   9   1   3]\n",
      " [  0   0   0   0   0   0   0   0   0   0   0   0   0   0   0   0   0   0\n",
      "    0   0   0   0   0   0   0   0   0   0   0   0]\n",
      " [  0   0   0   3   1   7   4   0   0   8   0   1   1   1 200  10   0   0\n",
      "    1   0   3   0   5   0   1   0   0   0   2   0]\n",
      " [  0   0   3   1  31   4  10   7   0   1   0   0   6   0  10 313   9   0\n",
      "   30   0   0   0   0   0   0  11   0   8   7   0]\n",
      " [  0   0  19   0  18   0   0   0   0   0   0   0   6   0   0   4  84   3\n",
      "   20  23   0   0   0   0   0  22   5  64   1   3]\n",
      " [  0   0   7   0   0   0   0   0   0   0   0   0   6   0   0   0   9  35\n",
      "    0  11   0   0   0   0   0   1   2   2   0   9]\n",
      " [  0   0   9   0  42   0   1   4   0   0   0   0   4   0   0  14  18   0\n",
      "   80   5   0   0   0   0   0  19   0  14   3   0]\n",
      " [  0   0  15   0   1   0   0   0   0   0   0   0   2   0   0   0  16   8\n",
      "    3  32   0   0   0   0   0   1   2   2   0   1]\n",
      " [  0   0   0   0   0   0   0   0   3   0   0   1   0   0  12   1   0   0\n",
      "    0   0  15   0   4   0   0   0   0   0   0   0]\n",
      " [  0   0   0   0   0   0   0   0   1   0   0   0   0   0   0   0   0   0\n",
      "    0   0   0   0   0   0   0   0   0   0   0   0]\n",
      " [  0   0   0   0   0   6   0   0   1   0   2   2   1   0   3   0   0   0\n",
      "    0   0   3   0  37   0   0   0   0   0   0   0]\n",
      " [  0   1   0   0   0   0   0   0   0   0   0   0   0   0   0   0   0   0\n",
      "    0   0   0   0   0   0   0   0   0   0   0   0]\n",
      " [  0   0   0   0   0   0   0   0   0   0   0   0   0   0   0   0   0   0\n",
      "    0   0   0   0   0   0   1   0   0   0   0   0]\n",
      " [  1   0   4   0  68   0   1   0   0   0   0   0   8   0   0  13  28   0\n",
      "   33   0   0   0   0   0   0  82   0  29   1   0]\n",
      " [  0   0   6   0   0   0   0   0   0   0   0   0   1   0   0   0   4   2\n",
      "    1   4   0   0   0   0   0   0   6   1   0   1]\n",
      " [  0   0   6   0  21   0   1   1   0   0   0   0   4   0   2   8  54   4\n",
      "   15   8   0   0   0   0   0  20   5  97   1   5]\n",
      " [  0   0   0   0   3   0  20  34   0   0   0   0   0   0   0  14   2   0\n",
      "    0   0   0   0   0   0   0   2   0   0  78   0]\n",
      " [  0   0   2   0   0   0   0   0   0   0   0   0   4   0   0   0   2  13\n",
      "    0   0   0   0   0   0   0   1   6   7   0  20]]\n"
     ]
    },
    {
     "name": "stderr",
     "output_type": "stream",
     "text": [
      "/usr/local/lib/python3.10/dist-packages/sklearn/metrics/_classification.py:1344: UndefinedMetricWarning: Precision and F-score are ill-defined and being set to 0.0 in labels with no predicted samples. Use `zero_division` parameter to control this behavior.\n",
      "  _warn_prf(average, modifier, msg_start, len(result))\n",
      "/usr/local/lib/python3.10/dist-packages/sklearn/metrics/_classification.py:1344: UndefinedMetricWarning: Recall and F-score are ill-defined and being set to 0.0 in labels with no true samples. Use `zero_division` parameter to control this behavior.\n",
      "  _warn_prf(average, modifier, msg_start, len(result))\n",
      "/usr/local/lib/python3.10/dist-packages/sklearn/metrics/_classification.py:1344: UndefinedMetricWarning: Precision and F-score are ill-defined and being set to 0.0 in labels with no predicted samples. Use `zero_division` parameter to control this behavior.\n",
      "  _warn_prf(average, modifier, msg_start, len(result))\n",
      "/usr/local/lib/python3.10/dist-packages/sklearn/metrics/_classification.py:1344: UndefinedMetricWarning: Recall and F-score are ill-defined and being set to 0.0 in labels with no true samples. Use `zero_division` parameter to control this behavior.\n",
      "  _warn_prf(average, modifier, msg_start, len(result))\n",
      "/usr/local/lib/python3.10/dist-packages/sklearn/metrics/_classification.py:1344: UndefinedMetricWarning: Precision and F-score are ill-defined and being set to 0.0 in labels with no predicted samples. Use `zero_division` parameter to control this behavior.\n",
      "  _warn_prf(average, modifier, msg_start, len(result))\n",
      "/usr/local/lib/python3.10/dist-packages/sklearn/metrics/_classification.py:1344: UndefinedMetricWarning: Recall and F-score are ill-defined and being set to 0.0 in labels with no true samples. Use `zero_division` parameter to control this behavior.\n",
      "  _warn_prf(average, modifier, msg_start, len(result))\n"
     ]
    }
   ],
   "source": [
    "print('Classification Report:')\n",
    "print(classification_report(y_test,y_pred_dt))\n",
    "print('Confusion Matrix:')\n",
    "print(confusion_matrix(y_test, y_pred_dt))"
   ]
  },
  {
   "cell_type": "code",
   "execution_count": null,
   "id": "55dc4c51",
   "metadata": {
    "colab": {
     "base_uri": "https://localhost:8080/"
    },
    "executionInfo": {
     "elapsed": 281,
     "status": "ok",
     "timestamp": 1684268880492,
     "user": {
      "displayName": "Timilehin Osinuga",
      "userId": "02674228651306861961"
     },
     "user_tz": -60
    },
    "id": "55dc4c51",
    "outputId": "27f5d4be-e672-47d1-e565-45df55468c66"
   },
   "outputs": [
    {
     "name": "stdout",
     "output_type": "stream",
     "text": [
      "Classification Report:\n",
      "              precision    recall  f1-score   support\n",
      "\n",
      "        2600       0.00      0.00      0.00        25\n",
      "         3DO       0.00      0.00      0.00         1\n",
      "         3DS       0.00      0.00      0.00       119\n",
      "          DC       0.00      0.00      0.00         8\n",
      "          DS       0.17      0.81      0.28       425\n",
      "          GB       0.00      0.00      0.00        17\n",
      "         GBA       0.00      0.00      0.00       164\n",
      "          GC       0.00      0.00      0.00       110\n",
      "         GEN       0.00      0.00      0.00         6\n",
      "         N64       0.00      0.00      0.00        75\n",
      "         NES       0.00      0.00      0.00        18\n",
      "          NG       0.00      0.00      0.00         3\n",
      "          PC       0.62      0.26      0.37       176\n",
      "          PS       0.16      0.15      0.15       248\n",
      "         PS2       0.21      0.39      0.27       451\n",
      "         PS3       0.15      0.01      0.03       272\n",
      "         PS4       0.00      0.00      0.00        82\n",
      "         PSP       0.00      0.00      0.00       213\n",
      "         PSV       0.00      0.00      0.00        83\n",
      "         SAT       0.00      0.00      0.00        36\n",
      "         SCD       0.00      0.00      0.00         1\n",
      "        SNES       0.00      0.00      0.00        55\n",
      "        TG16       0.00      0.00      0.00         1\n",
      "          WS       0.00      0.00      0.00         1\n",
      "         Wii       1.00      0.00      0.01       268\n",
      "        WiiU       0.00      0.00      0.00        26\n",
      "        X360       0.28      0.15      0.20       252\n",
      "          XB       0.00      0.00      0.00       153\n",
      "        XOne       0.00      0.00      0.00        55\n",
      "\n",
      "    accuracy                           0.19      3344\n",
      "   macro avg       0.09      0.06      0.04      3344\n",
      "weighted avg       0.21      0.19      0.12      3344\n",
      "\n",
      "Confusion Matrix:\n",
      "[[  0   0   0   0   8   0   0   0   0   0   0   0   0  17   0   0   0   0\n",
      "    0   0   0   0   0   0   0   0   0   0   0]\n",
      " [  0   0   0   0   1   0   0   0   0   0   0   0   0   0   0   0   0   0\n",
      "    0   0   0   0   0   0   0   0   0   0   0]\n",
      " [  1   0   0   0  90   0   0   0   0   0   0   0   0   5  21   0   0   0\n",
      "    0   0   0   0   0   0   0   0   2   0   0]\n",
      " [  0   0   0   0   8   0   0   0   0   0   0   0   0   0   0   0   0   0\n",
      "    0   0   0   0   0   0   0   0   0   0   0]\n",
      " [  0   0   0   0 343   0   0   0   0   3   0   0   0  22  51   0   0   0\n",
      "    0   0   0   0   0   0   0   0   6   0   0]\n",
      " [  0   0   0   0  15   0   0   0   0   0   0   0   0   2   0   0   0   0\n",
      "    0   0   0   0   0   0   0   0   0   0   0]\n",
      " [  0   0   0   0 127   0   0   0   0   0   0   0   0  15  20   1   0   0\n",
      "    0   0   0   0   0   0   0   0   1   0   0]\n",
      " [  1   0   0   0  64   0   0   0   0   1   0   0   0   1  42   1   0   0\n",
      "    0   0   0   0   0   0   0   0   0   0   0]\n",
      " [  0   0   0   0   3   0   0   0   0   0   0   0   0   3   0   0   0   0\n",
      "    0   0   0   0   0   0   0   0   0   0   0]\n",
      " [  0   0   0   0  63   0   0   0   0   0   0   0   0  12   0   0   0   0\n",
      "    0   0   0   0   0   0   0   0   0   0   0]\n",
      " [  0   0   0   0  15   0   0   0   0   0   0   0   0   3   0   0   0   0\n",
      "    0   0   0   0   0   0   0   0   0   0   0]\n",
      " [  0   0   0   0   3   0   0   0   0   0   0   0   0   0   0   0   0   0\n",
      "    0   0   0   0   0   0   0   0   0   0   0]\n",
      " [  0   0   0   0  36   0   0   0   0   0   0   0  46   4  54  11   0   0\n",
      "    0   0   0   0   0   0   0   0  25   0   0]\n",
      " [  1   0   0   0 191   0   0   0   0   0   0   0   0  36  17   3   0   0\n",
      "    0   0   0   0   0   0   0   0   0   0   0]\n",
      " [  0   0   0   0 243   0   0   0   0   2   0   0   0  25 174   0   0   0\n",
      "    0   0   0   0   0   0   0   0   7   0   0]\n",
      " [  1   0   0   0 108   0   0   0   0   0   0   0  10   7 120   4   0   0\n",
      "    0   0   0   0   0   0   0   0  22   0   0]\n",
      " [  1   0   0   0  28   0   0   0   0   0   0   0   7   7  23   3   0   0\n",
      "    0   0   0   0   0   0   0   0  13   0   0]\n",
      " [  0   0   0   0 152   0   0   0   0   0   0   0   0  15  44   0   0   0\n",
      "    0   0   0   0   0   0   0   0   2   0   0]\n",
      " [  0   0   0   0  60   0   0   0   0   0   0   0   0   3  19   0   0   0\n",
      "    0   0   0   0   0   0   0   0   1   0   0]\n",
      " [  0   0   0   0  34   0   0   0   0   0   0   0   0   2   0   0   0   0\n",
      "    0   0   0   0   0   0   0   0   0   0   0]\n",
      " [  0   0   0   0   1   0   0   0   0   0   0   0   0   0   0   0   0   0\n",
      "    0   0   0   0   0   0   0   0   0   0   0]\n",
      " [  0   0   0   0  46   0   0   0   0   0   0   0   0   9   0   0   0   0\n",
      "    0   0   0   0   0   0   0   0   0   0   0]\n",
      " [  0   0   0   0   1   0   0   0   0   0   0   0   0   0   0   0   0   0\n",
      "    0   0   0   0   0   0   0   0   0   0   0]\n",
      " [  0   0   0   0   1   0   0   0   0   0   0   0   0   0   0   0   0   0\n",
      "    0   0   0   0   0   0   0   0   0   0   0]\n",
      " [  1   0   0   0 201   0   0   0   0   1   0   0   0  10  46   0   0   0\n",
      "    0   0   0   0   0   0   1   0   8   0   0]\n",
      " [  0   0   0   0  14   0   0   0   0   0   0   0   0   1   4   0   0   0\n",
      "    0   0   0   0   0   0   0   0   7   0   0]\n",
      " [  0   0   0   0  86   0   0   0   0   2   0   0   7  15 102   2   0   0\n",
      "    0   0   0   0   0   0   0   0  38   0   0]\n",
      " [  2   0   0   0  59   0   0   0   0   0   0   0   0   4  87   0   0   0\n",
      "    0   0   0   0   0   0   0   0   1   0   0]\n",
      " [  0   0   0   0  24   0   0   0   0   1   0   0   4   4  17   2   0   0\n",
      "    0   0   0   0   0   0   0   0   3   0   0]]\n"
     ]
    },
    {
     "name": "stderr",
     "output_type": "stream",
     "text": [
      "/usr/local/lib/python3.10/dist-packages/sklearn/metrics/_classification.py:1344: UndefinedMetricWarning: Precision and F-score are ill-defined and being set to 0.0 in labels with no predicted samples. Use `zero_division` parameter to control this behavior.\n",
      "  _warn_prf(average, modifier, msg_start, len(result))\n",
      "/usr/local/lib/python3.10/dist-packages/sklearn/metrics/_classification.py:1344: UndefinedMetricWarning: Precision and F-score are ill-defined and being set to 0.0 in labels with no predicted samples. Use `zero_division` parameter to control this behavior.\n",
      "  _warn_prf(average, modifier, msg_start, len(result))\n",
      "/usr/local/lib/python3.10/dist-packages/sklearn/metrics/_classification.py:1344: UndefinedMetricWarning: Precision and F-score are ill-defined and being set to 0.0 in labels with no predicted samples. Use `zero_division` parameter to control this behavior.\n",
      "  _warn_prf(average, modifier, msg_start, len(result))\n"
     ]
    }
   ],
   "source": [
    "print('Classification Report:')\n",
    "print(classification_report(y_test,y_pred_lr))\n",
    "print('Confusion Matrix:')\n",
    "print(confusion_matrix(y_test, y_pred_lr))"
   ]
  },
  {
   "cell_type": "code",
   "execution_count": null,
   "id": "2293f5d4",
   "metadata": {
    "colab": {
     "base_uri": "https://localhost:8080/"
    },
    "executionInfo": {
     "elapsed": 237,
     "status": "ok",
     "timestamp": 1684268892075,
     "user": {
      "displayName": "Timilehin Osinuga",
      "userId": "02674228651306861961"
     },
     "user_tz": -60
    },
    "id": "2293f5d4",
    "outputId": "f11dff73-7bba-46ea-c147-001d5d4a4661"
   },
   "outputs": [
    {
     "name": "stdout",
     "output_type": "stream",
     "text": [
      "Classification Report:\n",
      "              precision    recall  f1-score   support\n",
      "\n",
      "        2600       0.04      1.00      0.07        25\n",
      "         3DO       0.00      0.00      0.00         1\n",
      "         3DS       0.08      0.01      0.02       119\n",
      "          DC       0.20      0.38      0.26         8\n",
      "          DS       0.44      0.29      0.35       425\n",
      "          GB       0.01      0.12      0.02        17\n",
      "         GBA       0.49      0.26      0.34       164\n",
      "          GC       0.00      0.00      0.00       110\n",
      "         GEN       0.50      0.17      0.25         6\n",
      "         N64       0.19      0.29      0.23        75\n",
      "         NES       0.92      0.67      0.77        18\n",
      "          NG       0.14      1.00      0.24         3\n",
      "          PC       0.56      0.47      0.51       176\n",
      "          PS       0.75      0.04      0.07       248\n",
      "         PS2       0.47      0.08      0.13       451\n",
      "         PS3       0.57      0.06      0.11       272\n",
      "         PS4       0.55      0.15      0.23        82\n",
      "         PSP       0.08      0.13      0.10       213\n",
      "         PSV       0.17      0.31      0.22        83\n",
      "         SAT       0.16      0.75      0.26        36\n",
      "         SCD       0.33      1.00      0.50         1\n",
      "        SNES       0.37      0.18      0.24        55\n",
      "        TG16       0.00      0.00      0.00         1\n",
      "          WS       0.02      1.00      0.04         1\n",
      "         Wii       0.36      0.05      0.09       268\n",
      "        WiiU       0.14      0.04      0.06        26\n",
      "        X360       0.47      0.27      0.34       252\n",
      "          XB       0.21      0.86      0.34       153\n",
      "        XOne       0.22      0.13      0.16        55\n",
      "\n",
      "    accuracy                           0.21      3344\n",
      "   macro avg       0.29      0.33      0.21      3344\n",
      "weighted avg       0.40      0.21      0.21      3344\n",
      "\n",
      "Confusion Matrix:\n",
      "[[ 25   0   0   0   0   0   0   0   0   0   0   0   0   0   0   0   0   0\n",
      "    0   0   0   0   0   0   0   0   0   0   0]\n",
      " [  0   0   0   0   0   0   0   0   0   0   0   1   0   0   0   0   0   0\n",
      "    0   0   0   0   0   0   0   0   0   0   0]\n",
      " [ 40   0   1   0   9  24   0   0   0   0   0   0   0   0   0   2   0  24\n",
      "   16   0   0   0   0   0   0   1   2   0   0]\n",
      " [  0   0   0   3   0   0   0   0   0   0   0   0   0   0   0   0   0   0\n",
      "    0   2   0   0   0   3   0   0   0   0   0]\n",
      " [111   0   2   0 124  50   3   2   0   2   0   0   1   0   4   2   0  67\n",
      "    1   0   0   0   0   0   8   0   1  47   0]\n",
      " [  0   0   0   0   0   2   0   0   0   1   0   0   0   0   0   0   0   0\n",
      "    0   6   0   6   0   2   0   0   0   0   0]\n",
      " [ 39   0   1   0   3   1  42   3   0  10   0   0   0   0   4   0   0   3\n",
      "    0   0   0   0   0   9   1   0   0  48   0]\n",
      " [  4   0   0   0   0   3  10   0   0   1   0   0   1   0   5   0   0   3\n",
      "    0   0   0   0   0   3   0   0   0  80   0]\n",
      " [  0   0   0   0   0   0   0   0   1   0   1   1   0   0   0   0   0   0\n",
      "    0   2   1   0   0   0   0   0   0   0   0]\n",
      " [ 28   0   0   0   0   4   0   0   0  22   0   0   0   0   0   0   0   0\n",
      "    0  19   0   0   0   2   0   0   0   0   0]\n",
      " [  0   0   0   0   0   0   0   0   0   0  12   1   0   0   0   0   0   0\n",
      "    0   1   0   4   0   0   0   0   0   0   0]\n",
      " [  0   0   0   0   0   0   0   0   0   0   0   3   0   0   0   0   0   0\n",
      "    0   0   0   0   0   0   0   0   0   0   0]\n",
      " [ 15   0   0   0   5   3   0   0   0   0   0   0  83   3   3   0   4  21\n",
      "   15   0   0   0   0   0   0   0   4  19   1]\n",
      " [ 32   2   1   8   1   2   8   1   0  67   0   3   0   9   6   0   0   0\n",
      "    0  72   0   6   0  12   0   0   1  17   0]\n",
      " [ 77   0   2   4  17  22  18  10   0  14   0   0   0   0  35   2   0  34\n",
      "    0   7   0   0   0  19   5   0   9 176   0]\n",
      " [ 47   0   2   0   9  18   0   0   0   0   0   0  23   0   5  17   4  56\n",
      "   27   0   0   0   0   0   5   4  37  10   8]\n",
      " [ 21   0   0   0   0   8   0   0   0   0   0   0   3   0   0   1  12   1\n",
      "   24   0   0   0   0   0   0   1   2   0   9]\n",
      " [ 96   0   0   0  15  28   1   0   0   0   0   0   1   0   4   0   0  28\n",
      "    2   0   0   0   0   0   2   0   1  35   0]\n",
      " [ 38   0   0   0   0  11   0   0   0   0   0   0   0   0   0   0   0   5\n",
      "   26   0   0   0   0   0   0   0   3   0   0]\n",
      " [  0   0   0   0   0   0   0   0   0   0   0   7   0   0   0   0   0   0\n",
      "    0  27   1   1   0   0   0   0   0   0   0]\n",
      " [  0   0   0   0   0   0   0   0   0   0   0   0   0   0   0   0   0   0\n",
      "    0   0   1   0   0   0   0   0   0   0   0]\n",
      " [  0   1   0   0   0   0   0   0   1   0   0   5   0   0   0   0   0   0\n",
      "    0  38   0  10   0   0   0   0   0   0   0]\n",
      " [  0   0   0   0   0   0   0   0   0   0   0   1   0   0   0   0   0   0\n",
      "    0   0   0   0   0   0   0   0   0   0   0]\n",
      " [  0   0   0   0   0   0   0   0   0   0   0   0   0   0   0   0   0   0\n",
      "    0   0   0   0   0   1   0   0   0   0   0]\n",
      " [ 49   0   3   0  90  16   0   0   0   0   0   0   2   0   4   0   0  61\n",
      "    0   0   0   0   0   0  13   0   6  23   1]\n",
      " [  5   0   0   0   0   3   0   0   0   0   0   0   2   0   0   2   2   4\n",
      "    5   0   0   0   0   0   0   1   1   0   1]\n",
      " [ 46   0   0   0   9   4   0   0   0   0   0   0  24   0   0   4   0  40\n",
      "   18   0   0   0   0   0   2   0  67  33   5]\n",
      " [  5   0   0   0   1   0   4   0   0   1   0   0   0   0   4   0   0   0\n",
      "    0   0   0   0   0   1   0   0   5 132   0]\n",
      " [ 14   0   1   0   0   1   0   0   0   0   0   0   7   0   0   0   0   3\n",
      "   18   0   0   0   0   0   0   0   4   0   7]]\n"
     ]
    },
    {
     "name": "stderr",
     "output_type": "stream",
     "text": [
      "/usr/local/lib/python3.10/dist-packages/sklearn/metrics/_classification.py:1344: UndefinedMetricWarning: Precision and F-score are ill-defined and being set to 0.0 in labels with no predicted samples. Use `zero_division` parameter to control this behavior.\n",
      "  _warn_prf(average, modifier, msg_start, len(result))\n",
      "/usr/local/lib/python3.10/dist-packages/sklearn/metrics/_classification.py:1344: UndefinedMetricWarning: Precision and F-score are ill-defined and being set to 0.0 in labels with no predicted samples. Use `zero_division` parameter to control this behavior.\n",
      "  _warn_prf(average, modifier, msg_start, len(result))\n",
      "/usr/local/lib/python3.10/dist-packages/sklearn/metrics/_classification.py:1344: UndefinedMetricWarning: Precision and F-score are ill-defined and being set to 0.0 in labels with no predicted samples. Use `zero_division` parameter to control this behavior.\n",
      "  _warn_prf(average, modifier, msg_start, len(result))\n"
     ]
    }
   ],
   "source": [
    "print('Classification Report:')\n",
    "print(classification_report(y_test,y_pred_gnb))\n",
    "print('Confusion Matrix:')\n",
    "print(confusion_matrix(y_test, y_pred_gnb))"
   ]
  },
  {
   "cell_type": "code",
   "execution_count": null,
   "id": "ed21d849",
   "metadata": {
    "colab": {
     "base_uri": "https://localhost:8080/"
    },
    "executionInfo": {
     "elapsed": 1246,
     "status": "ok",
     "timestamp": 1684268903422,
     "user": {
      "displayName": "Timilehin Osinuga",
      "userId": "02674228651306861961"
     },
     "user_tz": -60
    },
    "id": "ed21d849",
    "outputId": "49500cf1-c995-4256-e156-b62a665c5104"
   },
   "outputs": [
    {
     "name": "stderr",
     "output_type": "stream",
     "text": [
      "/usr/local/lib/python3.10/dist-packages/sklearn/model_selection/_split.py:700: UserWarning: The least populated class in y has only 1 members, which is less than n_splits=10.\n",
      "  warnings.warn(\n"
     ]
    },
    {
     "name": "stdout",
     "output_type": "stream",
     "text": [
      "Decision Tree Classifier:\n",
      "Cross-validation scores: [0.48654709 0.50373692 0.52541106 0.50597907 0.48804185 0.49139865\n",
      " 0.51084518 0.50486163 0.49364248 0.47045625]\n",
      "Mean score: 0.49809201825026017\n",
      "Standard deviation: 0.01453099472551679\n"
     ]
    }
   ],
   "source": [
    "#Train and evaluate the Decision Tree Classifier using cross-validation\n",
    "from sklearn.model_selection import cross_val_score\n",
    "dtc = DecisionTreeClassifier(random_state=42)\n",
    "scores = cross_val_score(dtc, X_train, y_train, cv=10)\n",
    "print(\"Decision Tree Classifier:\")\n",
    "print(\"Cross-validation scores:\", scores)\n",
    "print(\"Mean score:\", scores.mean())\n",
    "print('Standard deviation:', scores.std())"
   ]
  },
  {
   "cell_type": "code",
   "execution_count": null,
   "id": "19bbdae6",
   "metadata": {
    "colab": {
     "base_uri": "https://localhost:8080/"
    },
    "executionInfo": {
     "elapsed": 30808,
     "status": "ok",
     "timestamp": 1684268937873,
     "user": {
      "displayName": "Timilehin Osinuga",
      "userId": "02674228651306861961"
     },
     "user_tz": -60
    },
    "id": "19bbdae6",
    "outputId": "33db76ec-a4a9-4223-b0df-39cc25e25d85"
   },
   "outputs": [
    {
     "name": "stderr",
     "output_type": "stream",
     "text": [
      "/usr/local/lib/python3.10/dist-packages/sklearn/model_selection/_split.py:700: UserWarning: The least populated class in y has only 1 members, which is less than n_splits=10.\n",
      "  warnings.warn(\n"
     ]
    },
    {
     "name": "stdout",
     "output_type": "stream",
     "text": [
      "\n",
      "Random Forest Classifier:\n",
      "Cross-validation scores: [0.56801196 0.58893871 0.59267564 0.57698057 0.59566517 0.58040389\n",
      " 0.58339566 0.59087509 0.55422588 0.5684368 ]\n",
      "Mean score: 0.5799609370196086\n"
     ]
    }
   ],
   "source": [
    "#Train and evaluate the Random Forest Classifier using cross-validation\n",
    "rfc = RandomForestClassifier(random_state=42)\n",
    "from sklearn.model_selection import cross_val_score\n",
    "scores = cross_val_score(rfc, X_train, y_train, cv=10)\n",
    "print(\"\\nRandom Forest Classifier:\")\n",
    "print(\"Cross-validation scores:\", scores)\n",
    "print(\"Mean score:\", scores.mean())"
   ]
  },
  {
   "cell_type": "markdown",
   "id": "99dbaaff",
   "metadata": {
    "id": "99dbaaff"
   },
   "source": [
    "Clustering"
   ]
  },
  {
   "cell_type": "code",
   "execution_count": null,
   "id": "70ff5cbe",
   "metadata": {
    "id": "70ff5cbe"
   },
   "outputs": [],
   "source": [
    "#import libraries\n",
    "import pandas as pd\n",
    "from sklearn.metrics import v_measure_score\n",
    "from sklearn.metrics import adjusted_mutual_info_score\n",
    "from sklearn.metrics import adjusted_rand_score\n",
    "from sklearn.metrics import davies_bouldin_score\n",
    "from sklearn.metrics import silhouette_score\n",
    "%matplotlib inline\n",
    "import matplotlib.pyplot as plt\n",
    "import seaborn as sns\n"
   ]
  },
  {
   "cell_type": "code",
   "execution_count": null,
   "id": "dda3fda0",
   "metadata": {
    "colab": {
     "base_uri": "https://localhost:8080/"
    },
    "executionInfo": {
     "elapsed": 233,
     "status": "ok",
     "timestamp": 1684269016592,
     "user": {
      "displayName": "Timilehin Osinuga",
      "userId": "02674228651306861961"
     },
     "user_tz": -60
    },
    "id": "dda3fda0",
    "outputId": "c4772756-3a28-47ea-a9b2-e2e847b77245"
   },
   "outputs": [
    {
     "name": "stdout",
     "output_type": "stream",
     "text": [
      "<class 'pandas.core.frame.DataFrame'>\n",
      "RangeIndex: 16719 entries, 0 to 16718\n",
      "Data columns (total 16 columns):\n",
      " #   Column           Non-Null Count  Dtype  \n",
      "---  ------           --------------  -----  \n",
      " 0   Name             16719 non-null  object \n",
      " 1   Platform         16719 non-null  object \n",
      " 2   Year_of_Release  16719 non-null  float64\n",
      " 3   Genre            16719 non-null  object \n",
      " 4   Publisher        16719 non-null  object \n",
      " 5   NA_Sales         16719 non-null  float64\n",
      " 6   EU_Sales         16719 non-null  float64\n",
      " 7   JP_Sales         16719 non-null  float64\n",
      " 8   Other_Sales      16719 non-null  float64\n",
      " 9   Global_Sales     16719 non-null  float64\n",
      " 10  Critic_Score     16719 non-null  float64\n",
      " 11  Critic_Count     16719 non-null  float64\n",
      " 12  User_Score       16719 non-null  float64\n",
      " 13  User_Count       16719 non-null  float64\n",
      " 14  Developer        16719 non-null  object \n",
      " 15  Rating           16719 non-null  object \n",
      "dtypes: float64(10), object(6)\n",
      "memory usage: 2.0+ MB\n"
     ]
    }
   ],
   "source": [
    "# Load the data\n",
    "data.info()"
   ]
  },
  {
   "cell_type": "code",
   "execution_count": null,
   "id": "13bc1c69",
   "metadata": {
    "colab": {
     "base_uri": "https://localhost:8080/"
    },
    "executionInfo": {
     "elapsed": 258,
     "status": "ok",
     "timestamp": 1684269032420,
     "user": {
      "displayName": "Timilehin Osinuga",
      "userId": "02674228651306861961"
     },
     "user_tz": -60
    },
    "id": "13bc1c69",
    "outputId": "24037e0a-dbb0-4c0b-c164-fa2b50bdc916"
   },
   "outputs": [
    {
     "data": {
      "text/plain": [
       "Name               0\n",
       "Platform           0\n",
       "Year_of_Release    0\n",
       "Genre              0\n",
       "Publisher          0\n",
       "NA_Sales           0\n",
       "EU_Sales           0\n",
       "JP_Sales           0\n",
       "Other_Sales        0\n",
       "Global_Sales       0\n",
       "Critic_Score       0\n",
       "Critic_Count       0\n",
       "User_Score         0\n",
       "User_Count         0\n",
       "Developer          0\n",
       "Rating             0\n",
       "dtype: int64"
      ]
     },
     "execution_count": 154,
     "metadata": {},
     "output_type": "execute_result"
    }
   ],
   "source": [
    "data.isnull().sum()"
   ]
  },
  {
   "cell_type": "code",
   "execution_count": null,
   "id": "b63f3163",
   "metadata": {
    "id": "b63f3163"
   },
   "outputs": [],
   "source": [
    "data_num = data[['NA_Sales', 'EU_Sales', 'JP_Sales', 'Other_Sales', 'Critic_Count', 'User_Count', 'Critic_Score', 'User_Score', 'Global_Sales']]"
   ]
  },
  {
   "cell_type": "code",
   "execution_count": null,
   "id": "87ace605",
   "metadata": {
    "id": "87ace605"
   },
   "outputs": [],
   "source": [
    "from sklearn.preprocessing import StandardScaler\n"
   ]
  },
  {
   "cell_type": "code",
   "execution_count": null,
   "id": "33f8fd6d",
   "metadata": {
    "id": "33f8fd6d"
   },
   "outputs": [],
   "source": [
    "scaler = StandardScaler() "
   ]
  },
  {
   "cell_type": "code",
   "execution_count": null,
   "id": "f87017ef",
   "metadata": {
    "colab": {
     "base_uri": "https://localhost:8080/"
    },
    "executionInfo": {
     "elapsed": 198,
     "status": "ok",
     "timestamp": 1684269222456,
     "user": {
      "displayName": "Timilehin Osinuga",
      "userId": "02674228651306861961"
     },
     "user_tz": -60
    },
    "id": "f87017ef",
    "outputId": "28391c95-e07a-4e83-816c-5145e206c426"
   },
   "outputs": [
    {
     "data": {
      "text/plain": [
       "array([[ 5.05189918e+01,  5.72556991e+01,  1.19569045e+01, ...,\n",
       "         6.67818763e-01,  5.43074225e-01,  5.29730919e+01],\n",
       "       [ 3.54235297e+01,  6.82533662e+00,  2.18011821e+01, ...,\n",
       "         5.16003239e-02,  5.43074225e-01,  2.56520084e+01],\n",
       "       [ 1.89512828e+01,  2.50661060e+01,  1.20216695e+01, ...,\n",
       "         1.28403720e+00,  6.47674964e-01,  2.26026938e+01],\n",
       "       ...,\n",
       "       [-3.23704659e-01, -2.88166050e-01, -2.18912542e-01, ...,\n",
       "         5.16003239e-02,  5.43074225e-01, -3.38230153e-01],\n",
       "       [-3.11411937e-01, -2.88166050e-01, -2.51295034e-01, ...,\n",
       "         5.16003239e-02,  5.43074225e-01, -3.38230153e-01],\n",
       "       [-3.23704659e-01, -2.88166050e-01, -2.18912542e-01, ...,\n",
       "         5.16003239e-02,  5.43074225e-01, -3.38230153e-01]])"
      ]
     },
     "execution_count": 168,
     "metadata": {},
     "output_type": "execute_result"
    }
   ],
   "source": [
    "scaled_data_num=scaler.fit_transform(data_num)\n",
    "scaled_data_num\n"
   ]
  },
  {
   "cell_type": "code",
   "execution_count": null,
   "id": "a95065c7",
   "metadata": {
    "id": "a95065c7"
   },
   "outputs": [],
   "source": [
    "from sklearn.cluster import KMeans"
   ]
  },
  {
   "cell_type": "code",
   "execution_count": null,
   "id": "7cd76ce3",
   "metadata": {
    "colab": {
     "base_uri": "https://localhost:8080/",
     "height": 784
    },
    "executionInfo": {
     "elapsed": 9613,
     "status": "ok",
     "timestamp": 1684269241078,
     "user": {
      "displayName": "Timilehin Osinuga",
      "userId": "02674228651306861961"
     },
     "user_tz": -60
    },
    "id": "7cd76ce3",
    "outputId": "c977a5d5-8cff-4b02-d1a1-e16f3dba1474"
   },
   "outputs": [
    {
     "name": "stderr",
     "output_type": "stream",
     "text": [
      "/usr/local/lib/python3.10/dist-packages/sklearn/cluster/_kmeans.py:870: FutureWarning: The default value of `n_init` will change from 10 to 'auto' in 1.4. Set the value of `n_init` explicitly to suppress the warning\n",
      "  warnings.warn(\n",
      "/usr/local/lib/python3.10/dist-packages/sklearn/cluster/_kmeans.py:870: FutureWarning: The default value of `n_init` will change from 10 to 'auto' in 1.4. Set the value of `n_init` explicitly to suppress the warning\n",
      "  warnings.warn(\n",
      "/usr/local/lib/python3.10/dist-packages/sklearn/cluster/_kmeans.py:870: FutureWarning: The default value of `n_init` will change from 10 to 'auto' in 1.4. Set the value of `n_init` explicitly to suppress the warning\n",
      "  warnings.warn(\n",
      "/usr/local/lib/python3.10/dist-packages/sklearn/cluster/_kmeans.py:870: FutureWarning: The default value of `n_init` will change from 10 to 'auto' in 1.4. Set the value of `n_init` explicitly to suppress the warning\n",
      "  warnings.warn(\n",
      "/usr/local/lib/python3.10/dist-packages/sklearn/cluster/_kmeans.py:870: FutureWarning: The default value of `n_init` will change from 10 to 'auto' in 1.4. Set the value of `n_init` explicitly to suppress the warning\n",
      "  warnings.warn(\n",
      "/usr/local/lib/python3.10/dist-packages/sklearn/cluster/_kmeans.py:870: FutureWarning: The default value of `n_init` will change from 10 to 'auto' in 1.4. Set the value of `n_init` explicitly to suppress the warning\n",
      "  warnings.warn(\n",
      "/usr/local/lib/python3.10/dist-packages/sklearn/cluster/_kmeans.py:870: FutureWarning: The default value of `n_init` will change from 10 to 'auto' in 1.4. Set the value of `n_init` explicitly to suppress the warning\n",
      "  warnings.warn(\n",
      "/usr/local/lib/python3.10/dist-packages/sklearn/cluster/_kmeans.py:870: FutureWarning: The default value of `n_init` will change from 10 to 'auto' in 1.4. Set the value of `n_init` explicitly to suppress the warning\n",
      "  warnings.warn(\n",
      "/usr/local/lib/python3.10/dist-packages/sklearn/cluster/_kmeans.py:870: FutureWarning: The default value of `n_init` will change from 10 to 'auto' in 1.4. Set the value of `n_init` explicitly to suppress the warning\n",
      "  warnings.warn(\n"
     ]
    },
    {
     "data": {
      "image/png": "[encoded data removed]",
      "text/plain": [
       "<Figure size 640x480 with 1 Axes>"
      ]
     },
     "metadata": {},
     "output_type": "display_data"
    }
   ],
   "source": [
    "distortions = []\n",
    "K = range(1, 10)\n",
    "for k in K:\n",
    " kmeans = KMeans(n_clusters=k, random_state=42)\n",
    " kmeans.fit(data_num)\n",
    " distortions.append(kmeans.inertia_)\n",
    "plt.plot(K, distortions, 'bx-')\n",
    "plt.xlabel('Number of clusters')\n",
    "plt.ylabel('Distortion')\n",
    "plt.title('Elbow Method')\n",
    "plt.show()"
   ]
  },
  {
   "cell_type": "code",
   "execution_count": null,
   "id": "82ab4741",
   "metadata": {
    "colab": {
     "base_uri": "https://localhost:8080/"
    },
    "executionInfo": {
     "elapsed": 1669,
     "status": "ok",
     "timestamp": 1684269252650,
     "user": {
      "displayName": "Timilehin Osinuga",
      "userId": "02674228651306861961"
     },
     "user_tz": -60
    },
    "id": "82ab4741",
    "outputId": "ebe4c6c8-9d7c-4179-e280-eef057aee509"
   },
   "outputs": [
    {
     "name": "stderr",
     "output_type": "stream",
     "text": [
      "/usr/local/lib/python3.10/dist-packages/sklearn/cluster/_kmeans.py:870: FutureWarning: The default value of `n_init` will change from 10 to 'auto' in 1.4. Set the value of `n_init` explicitly to suppress the warning\n",
      "  warnings.warn(\n"
     ]
    }
   ],
   "source": [
    "# Fit the k-means algorithm\n",
    "kmeans = KMeans(n_clusters=3, random_state=42)\n",
    "C_labels = kmeans.fit_predict(scaled_data_num)"
   ]
  },
  {
   "cell_type": "code",
   "execution_count": null,
   "id": "5b99468f",
   "metadata": {
    "colab": {
     "base_uri": "https://localhost:8080/"
    },
    "executionInfo": {
     "elapsed": 199,
     "status": "ok",
     "timestamp": 1684269257641,
     "user": {
      "displayName": "Timilehin Osinuga",
      "userId": "02674228651306861961"
     },
     "user_tz": -60
    },
    "id": "5b99468f",
    "outputId": "81b1a927-38aa-44fd-d49c-ebe0e03d0cfe"
   },
   "outputs": [
    {
     "data": {
      "text/plain": [
       "array([1, 1, 1, ..., 0, 0, 0], dtype=int32)"
      ]
     },
     "execution_count": 172,
     "metadata": {},
     "output_type": "execute_result"
    }
   ],
   "source": [
    "C_labels"
   ]
  },
  {
   "cell_type": "code",
   "execution_count": null,
   "id": "56447464",
   "metadata": {
    "id": "56447464"
   },
   "outputs": [],
   "source": [
    "# intrinsic metrics\n",
    "from sklearn.metrics import davies_bouldin_score, silhouette_score, calinski_harabasz_score\n",
    "## extrinsic metrics\n",
    "from sklearn.metrics import adjusted_rand_score, v_measure_score, adjusted_mutual_info_score\n",
    "# Get the true class labels\n",
    "y_true = data['Rating']"
   ]
  },
  {
   "cell_type": "code",
   "execution_count": null,
   "id": "4c114407",
   "metadata": {
    "colab": {
     "base_uri": "https://localhost:8080/"
    },
    "executionInfo": {
     "elapsed": 4769,
     "status": "ok",
     "timestamp": 1684269271438,
     "user": {
      "displayName": "Timilehin Osinuga",
      "userId": "02674228651306861961"
     },
     "user_tz": -60
    },
    "id": "4c114407",
    "outputId": "b89772d1-fb38-4202-8a6e-4e55325f830f"
   },
   "outputs": [
    {
     "name": "stdout",
     "output_type": "stream",
     "text": [
      "External Evaluation Measures\n",
      "********************************\n",
      "V-measure Score: 0.081\n",
      "Rand Index Score: 0.186\n",
      "Mutual Information Score: 0.081\n",
      "\n",
      "Internal Evaluation Measures\n",
      "********************************\n",
      "Davies-Bouldin Index: 1.241\n",
      "Silhouette Coefficient: 0.462\n",
      "Calinski Harabasz Score: 4362.943\n"
     ]
    }
   ],
   "source": [
    "# Calculate the v-measure score\n",
    "v_measure = v_measure_score(y_true, C_labels)\n",
    "print(f'External Evaluation Measures')\n",
    "print(f'********************************')\n",
    "print(f'V-measure Score: {v_measure:.3f}')\n",
    "# Calculate the Rand index score\n",
    "rand_index = adjusted_rand_score(y_true, C_labels)\n",
    "print(f'Rand Index Score: {rand_index:.3f}')\n",
    "# Calculate the mutual information score\n",
    "mi_score = adjusted_mutual_info_score(y_true, C_labels)\n",
    "print(f'Mutual Information Score: {mi_score:.3f}\\n')\n",
    "# Calculate the Davies-Bouldin index\n",
    "db_score = davies_bouldin_score(scaled_data_num, C_labels)\n",
    "print(f'Internal Evaluation Measures')\n",
    "print(f'********************************')\n",
    "print(f'Davies-Bouldin Index: {db_score:.3f}')\n",
    "# Calculate the Silhouette coefficient\n",
    "s_score = silhouette_score(scaled_data_num, C_labels)\n",
    "print(f'Silhouette Coefficient: {s_score:.3f}')\n",
    "c_score = calinski_harabasz_score(scaled_data_num, C_labels)\n",
    "print(f'Calinski Harabasz Score: {c_score:.3f}')"
   ]
  },
  {
   "cell_type": "code",
   "execution_count": null,
   "id": "c30b9aff",
   "metadata": {
    "id": "c30b9aff"
   },
   "outputs": [],
   "source": [
    "# intrinsic metrics\n",
    "from sklearn.metrics import davies_bouldin_score, silhouette_score, calinski_harabasz_score\n",
    "## extrinsic metrics\n",
    "from sklearn.metrics import adjusted_rand_score, v_measure_score, adjusted_mutual_info_score\n",
    "# Get the true class labels\n",
    "y_true = data['Platform']"
   ]
  },
  {
   "cell_type": "code",
   "execution_count": null,
   "id": "6fd6b497",
   "metadata": {
    "colab": {
     "base_uri": "https://localhost:8080/"
    },
    "executionInfo": {
     "elapsed": 4832,
     "status": "ok",
     "timestamp": 1684269306629,
     "user": {
      "displayName": "Timilehin Osinuga",
      "userId": "02674228651306861961"
     },
     "user_tz": -60
    },
    "id": "6fd6b497",
    "outputId": "064d2651-9d32-4e7d-ea53-339c61bd8bdb"
   },
   "outputs": [
    {
     "name": "stdout",
     "output_type": "stream",
     "text": [
      "External Evaluation Measures\n",
      "********************************\n",
      "V-measure Score: 0.028\n",
      "Rand Index Score: 0.005\n",
      "Mutual Information Score: 0.027\n",
      "\n",
      "Internal Evaluation Measures\n",
      "********************************\n",
      "Davies-Bouldin Index: 1.241\n",
      "Silhouette Coefficient: 0.462\n",
      "Calinski Harabasz Score: 4362.943\n"
     ]
    }
   ],
   "source": [
    "# Calculate the v-measure score\n",
    "v_measure = v_measure_score(y_true, C_labels)\n",
    "print(f'External Evaluation Measures')\n",
    "print(f'********************************')\n",
    "print(f'V-measure Score: {v_measure:.3f}')\n",
    "# Calculate the Rand index score\n",
    "rand_index = adjusted_rand_score(y_true, C_labels)\n",
    "print(f'Rand Index Score: {rand_index:.3f}')\n",
    "# Calculate the mutual information score\n",
    "mi_score = adjusted_mutual_info_score(y_true, C_labels)\n",
    "print(f'Mutual Information Score: {mi_score:.3f}\\n')\n",
    "# Calculate the Davies-Bouldin index\n",
    "db_score = davies_bouldin_score(scaled_data_num, C_labels)\n",
    "print(f'Internal Evaluation Measures')\n",
    "print(f'********************************')\n",
    "print(f'Davies-Bouldin Index: {db_score:.3f}')\n",
    "# Calculate the Silhouette coefficient\n",
    "s_score = silhouette_score(scaled_data_num, C_labels)\n",
    "print(f'Silhouette Coefficient: {s_score:.3f}')\n",
    "c_score = calinski_harabasz_score(scaled_data_num, C_labels)\n",
    "print(f'Calinski Harabasz Score: {c_score:.3f}')"
   ]
  },
  {
   "cell_type": "code",
   "execution_count": null,
   "id": "b58cd811",
   "metadata": {
    "id": "b58cd811"
   },
   "outputs": [],
   "source": [
    "# intrinsic metrics\n",
    "from sklearn.metrics import davies_bouldin_score, silhouette_score, calinski_harabasz_score\n",
    "## extrinsic metrics\n",
    "from sklearn.metrics import adjusted_rand_score, v_measure_score, adjusted_mutual_info_score\n",
    "# Get the true class labels\n",
    "y_true = data['Genre']"
   ]
  },
  {
   "cell_type": "code",
   "execution_count": null,
   "id": "6f703b7e",
   "metadata": {
    "colab": {
     "base_uri": "https://localhost:8080/"
    },
    "executionInfo": {
     "elapsed": 5370,
     "status": "ok",
     "timestamp": 1684269333049,
     "user": {
      "displayName": "Timilehin Osinuga",
      "userId": "02674228651306861961"
     },
     "user_tz": -60
    },
    "id": "6f703b7e",
    "outputId": "e243158e-2ed7-4f7f-cc24-3529736f5a0f"
   },
   "outputs": [
    {
     "name": "stdout",
     "output_type": "stream",
     "text": [
      "External Evaluation Measures\n",
      "********************************\n",
      "V-measure Score: 0.014\n",
      "Rand Index Score: 0.001\n",
      "Mutual Information Score: 0.014\n",
      "\n",
      "Internal Evaluation Measures\n",
      "********************************\n",
      "Davies-Bouldin Index: 1.241\n",
      "Silhouette Coefficient: 0.462\n",
      "Calinski Harabasz Score: 4362.943\n"
     ]
    }
   ],
   "source": [
    "# Calculate the v-measure score\n",
    "v_measure = v_measure_score(y_true, C_labels)\n",
    "print(f'External Evaluation Measures')\n",
    "print(f'********************************')\n",
    "print(f'V-measure Score: {v_measure:.3f}')\n",
    "# Calculate the Rand index score\n",
    "rand_index = adjusted_rand_score(y_true, C_labels)\n",
    "print(f'Rand Index Score: {rand_index:.3f}')\n",
    "# Calculate the mutual information score\n",
    "mi_score = adjusted_mutual_info_score(y_true, C_labels)\n",
    "print(f'Mutual Information Score: {mi_score:.3f}\\n')\n",
    "# Calculate the Davies-Bouldin index\n",
    "db_score = davies_bouldin_score(scaled_data_num, C_labels)\n",
    "print(f'Internal Evaluation Measures')\n",
    "print(f'********************************')\n",
    "print(f'Davies-Bouldin Index: {db_score:.3f}')\n",
    "# Calculate the Silhouette coefficient\n",
    "s_score = silhouette_score(scaled_data_num, C_labels)\n",
    "print(f'Silhouette Coefficient: {s_score:.3f}')\n",
    "c_score = calinski_harabasz_score(scaled_data_num, C_labels)\n",
    "print(f'Calinski Harabasz Score: {c_score:.3f}')"
   ]
  },
  {
   "cell_type": "code",
   "execution_count": null,
   "id": "fa3605cf",
   "metadata": {
    "id": "fa3605cf"
   },
   "outputs": [],
   "source": [
    "# intrinsic metrics\n",
    "from sklearn.metrics import davies_bouldin_score, silhouette_score, calinski_harabasz_score\n",
    "## extrinsic metrics\n",
    "from sklearn.metrics import adjusted_rand_score, v_measure_score, adjusted_mutual_info_score\n",
    "# Get the true class labels\n",
    "y_true = data['Developer']"
   ]
  },
  {
   "cell_type": "code",
   "execution_count": null,
   "id": "bd7fe67c",
   "metadata": {
    "colab": {
     "base_uri": "https://localhost:8080/"
    },
    "executionInfo": {
     "elapsed": 5289,
     "status": "ok",
     "timestamp": 1684269348034,
     "user": {
      "displayName": "Timilehin Osinuga",
      "userId": "02674228651306861961"
     },
     "user_tz": -60
    },
    "id": "bd7fe67c",
    "outputId": "6c4f3f34-9808-4079-d66d-1fa096208ef5"
   },
   "outputs": [
    {
     "name": "stdout",
     "output_type": "stream",
     "text": [
      "External Evaluation Measures\n",
      "********************************\n",
      "V-measure Score: 0.084\n",
      "Rand Index Score: 0.112\n",
      "Mutual Information Score: 0.062\n",
      "\n",
      "Internal Evaluation Measures\n",
      "********************************\n",
      "Davies-Bouldin Index: 1.241\n",
      "Silhouette Coefficient: 0.462\n",
      "Calinski Harabasz Score: 4362.943\n"
     ]
    }
   ],
   "source": [
    "# Calculate the v-measure score\n",
    "v_measure = v_measure_score(y_true, C_labels)\n",
    "print(f'External Evaluation Measures')\n",
    "print(f'********************************')\n",
    "print(f'V-measure Score: {v_measure:.3f}')\n",
    "# Calculate the Rand index score\n",
    "rand_index = adjusted_rand_score(y_true, C_labels)\n",
    "print(f'Rand Index Score: {rand_index:.3f}')\n",
    "# Calculate the mutual information score\n",
    "mi_score = adjusted_mutual_info_score(y_true, C_labels)\n",
    "print(f'Mutual Information Score: {mi_score:.3f}\\n')\n",
    "# Calculate the Davies-Bouldin index\n",
    "db_score = davies_bouldin_score(scaled_data_num, C_labels)\n",
    "print(f'Internal Evaluation Measures')\n",
    "print(f'********************************')\n",
    "print(f'Davies-Bouldin Index: {db_score:.3f}')\n",
    "# Calculate the Silhouette coefficient\n",
    "s_score = silhouette_score(scaled_data_num, C_labels)\n",
    "print(f'Silhouette Coefficient: {s_score:.3f}')\n",
    "c_score = calinski_harabasz_score(scaled_data_num, C_labels)\n",
    "print(f'Calinski Harabasz Score: {c_score:.3f}')"
   ]
  },
  {
   "cell_type": "code",
   "execution_count": null,
   "id": "056a0356",
   "metadata": {
    "id": "056a0356"
   },
   "outputs": [],
   "source": [
    "# intrinsic metrics\n",
    "from sklearn.metrics import davies_bouldin_score, silhouette_score, calinski_harabasz_score\n",
    "## extrinsic metrics\n",
    "from sklearn.metrics import adjusted_rand_score, v_measure_score, adjusted_mutual_info_score\n",
    "# Get the true class labels\n",
    "y_true = data['Publisher']"
   ]
  },
  {
   "cell_type": "code",
   "execution_count": null,
   "id": "d13abf27",
   "metadata": {
    "colab": {
     "base_uri": "https://localhost:8080/"
    },
    "executionInfo": {
     "elapsed": 5242,
     "status": "ok",
     "timestamp": 1684269368738,
     "user": {
      "displayName": "Timilehin Osinuga",
      "userId": "02674228651306861961"
     },
     "user_tz": -60
    },
    "id": "d13abf27",
    "outputId": "3dd9d445-38ce-4e2d-9fc5-ab26ed9265bf"
   },
   "outputs": [
    {
     "name": "stdout",
     "output_type": "stream",
     "text": [
      "External Evaluation Measures\n",
      "********************************\n",
      "V-measure Score: 0.034\n",
      "Rand Index Score: -0.004\n",
      "Mutual Information Score: 0.025\n",
      "\n",
      "Internal Evaluation Measures\n",
      "********************************\n",
      "Davies-Bouldin Index: 1.241\n",
      "Silhouette Coefficient: 0.462\n",
      "Calinski Harabasz Score: 4362.943\n"
     ]
    }
   ],
   "source": [
    "# Calculate the v-measure score\n",
    "v_measure = v_measure_score(y_true, C_labels)\n",
    "print(f'External Evaluation Measures')\n",
    "print(f'********************************')\n",
    "print(f'V-measure Score: {v_measure:.3f}')\n",
    "# Calculate the Rand index score\n",
    "rand_index = adjusted_rand_score(y_true, C_labels)\n",
    "print(f'Rand Index Score: {rand_index:.3f}')\n",
    "# Calculate the mutual information score\n",
    "mi_score = adjusted_mutual_info_score(y_true, C_labels)\n",
    "print(f'Mutual Information Score: {mi_score:.3f}\\n')\n",
    "# Calculate the Davies-Bouldin index\n",
    "db_score = davies_bouldin_score(scaled_data_num, C_labels)\n",
    "print(f'Internal Evaluation Measures')\n",
    "print(f'********************************')\n",
    "print(f'Davies-Bouldin Index: {db_score:.3f}')\n",
    "# Calculate the Silhouette coefficient\n",
    "s_score = silhouette_score(scaled_data_num, C_labels)\n",
    "print(f'Silhouette Coefficient: {s_score:.3f}')\n",
    "c_score = calinski_harabasz_score(scaled_data_num, C_labels)\n",
    "print(f'Calinski Harabasz Score: {c_score:.3f}')"
   ]
  }
 ],
 "metadata": {
  "colab": {
   "provenance": []
  },
  "kernelspec": {
   "display_name": "Python 3 (ipykernel)",
   "language": "python",
   "name": "python3"
  },
  "language_info": {
   "codemirror_mode": {
    "name": "ipython",
    "version": 3
   },
   "file_extension": ".py",
   "mimetype": "text/x-python",
   "name": "python",
   "nbconvert_exporter": "python",
   "pygments_lexer": "ipython3",
   "version": "3.11.1"
  }
 },
 "nbformat": 4,
 "nbformat_minor": 5
}
